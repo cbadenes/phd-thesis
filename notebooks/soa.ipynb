{
  "nbformat": 4,
  "nbformat_minor": 0,
  "metadata": {
    "colab": {
      "name": "soa.ipynb",
      "provenance": [],
      "collapsed_sections": [],
      "toc_visible": true,
      "authorship_tag": "ABX9TyOaepWuTSgPJy8iB0qZTKsV",
      "include_colab_link": true
    },
    "kernelspec": {
      "name": "python3",
      "display_name": "Python 3"
    }
  },
  "cells": [
    {
      "cell_type": "markdown",
      "metadata": {
        "id": "view-in-github",
        "colab_type": "text"
      },
      "source": [
        "<a href=\"https://colab.research.google.com/github/cbadenes/phd-thesis/blob/master/notebooks/soa.ipynb\" target=\"_parent\"><img src=\"https://colab.research.google.com/assets/colab-badge.svg\" alt=\"Open In Colab\"/></a>"
      ]
    },
    {
      "cell_type": "markdown",
      "metadata": {
        "id": "7oKXrGgKqX7u"
      },
      "source": [
        "This notebook supports the state-of-the-art content of the thesis: *Semantically-enabled Browsing of Large Multilingual Document Collections, Badenes-Olmedo, C. 2021*"
      ]
    },
    {
      "cell_type": "markdown",
      "metadata": {
        "id": "JXRIfz2kq9ee"
      },
      "source": [
        "# 2.- Techniques for Document Retrieval"
      ]
    },
    {
      "cell_type": "markdown",
      "metadata": {
        "id": "PvHN9zQapir8"
      },
      "source": [
        "The analysis of human-readable documents is a well-known problem in Artificial Intelligence (AI) in general, and in the Information Retrieval (IR) and Natural Language Processing (NLP) fields in particular. As an academic field of study, information retrieval might be defined as finding documents of an unstructured nature, usually text, that satisfies an information need from within large collections (Manning et al., 2008). As defined in this way, hundreds of millions of people engage in information retrieval every day when they use a web search engine or search their email. Information retrieval is fast becoming the dominant form of information access, surpassing traditional database searching where identifiers are needed to have results."
      ]
    },
    {
      "cell_type": "markdown",
      "metadata": {
        "id": "YsFdYC8fo2Nl"
      },
      "source": [
        "There are two major categories of IR technology and research: semantic and statistical. Semantic approaches attempt to implement some degree of syntactic and semantic analysis. They try to reproduce to some degree the understanding of the natural language text that a human user would provide. In statistical approaches, the documents that are retrieved or that are highly ranked are those that match the query most closely in terms of some statistical measure. The work presented in this thesis follows this second approach."
      ]
    },
    {
      "cell_type": "markdown",
      "metadata": {
        "id": "Kw0G4p1geCAx"
      },
      "source": [
        "## 2.1.- Load Corpus"
      ]
    },
    {
      "cell_type": "markdown",
      "metadata": {
        "id": "jQhyR8L0rGQX"
      },
      "source": [
        "An illustrative example may help to better understand IR techniques, so the publications listed in Section 1.1 are used as a sample collection for applying each of them."
      ]
    },
    {
      "cell_type": "code",
      "metadata": {
        "colab": {
          "base_uri": "https://localhost:8080/",
          "height": 585
        },
        "id": "V0ngppsheGCe",
        "outputId": "d7fb878a-d3e0-4988-b6a0-7e5bade3247f"
      },
      "source": [
        "import requests\n",
        "import json\n",
        "import pandas as pd\n",
        "\n",
        "#increase the max column length\n",
        "pd.set_option('display.max_colwidth', 200)\n",
        "\n",
        "corpus_df = pd.read_csv('https://www.dropbox.com/s/pag5jseq2e9wcvb/corpus.csv?raw=1',usecols=['title','text'])\n",
        "corpus_df"
      ],
      "execution_count": 1,
      "outputs": [
        {
          "output_type": "execute_result",
          "data": {
            "text/html": [
              "<div>\n",
              "<style scoped>\n",
              "    .dataframe tbody tr th:only-of-type {\n",
              "        vertical-align: middle;\n",
              "    }\n",
              "\n",
              "    .dataframe tbody tr th {\n",
              "        vertical-align: top;\n",
              "    }\n",
              "\n",
              "    .dataframe thead th {\n",
              "        text-align: right;\n",
              "    }\n",
              "</style>\n",
              "<table border=\"1\" class=\"dataframe\">\n",
              "  <thead>\n",
              "    <tr style=\"text-align: right;\">\n",
              "      <th></th>\n",
              "      <th>title</th>\n",
              "      <th>text</th>\n",
              "    </tr>\n",
              "  </thead>\n",
              "  <tbody>\n",
              "    <tr>\n",
              "      <th>0</th>\n",
              "      <td>Cross-Evaluation of Term Extraction Tools by Measuring Terminological Saturation</td>\n",
              "      <td>Synopsis of the Refinements and Extensions  Compared to the Publication in the Conference Proceedings  This submission is a refined and extended paper based on the ICTERI 2017 PhD  Symposium paper...</td>\n",
              "    </tr>\n",
              "    <tr>\n",
              "      <th>1</th>\n",
              "      <td>Enhancing Public Procurement in the European Union through Constructing and Exploiting an Integrated Knowledge Graph</td>\n",
              "      <td>Enhancing Public Procurement in the European Union through Constructing and Exploiting an Integrated Knowledge Graph Ahmet Soylu1, Oscar Corcho2, Brian Elvesæter1, Carlos Badenes-Olmedo2, Francisc...</td>\n",
              "    </tr>\n",
              "    <tr>\n",
              "      <th>2</th>\n",
              "      <td>Drugs4Covid: Making drug information available from scientific publications</td>\n",
              "      <td>Drugs4Covid: Making drug information available from scientific publications Carlos Badenes-Olmedo1, David Chaves-Fraga1, Mar´ıa Poveda-Villal´on1, Ana Iglesias-Molina1, Pablo Calleja1, Socorro Ber...</td>\n",
              "    </tr>\n",
              "    <tr>\n",
              "      <th>3</th>\n",
              "      <td>Distributing Text Mining tasks with librAIry</td>\n",
              "      <td>Distributing Text Mining tasks with librAIry Carlos Badenes-Olmedo cbadenes@f.upm.es Universidad Polit´ecnica de Madrid Ontology Engineering Group Boadilla del Monte, Spain Jos´e Luis Redondo-Garc...</td>\n",
              "    </tr>\n",
              "    <tr>\n",
              "      <th>4</th>\n",
              "      <td>Large-Scale Semantic Exploration of Scientific Literature using Topic-based Hashing Algorithms</td>\n",
              "      <td>Semantic Web 0 (0) 1 1 IOS Press Large-Scale Semantic Exploration of Scientific Literature using Topic-based Hashing Algorithms Editor(s): Tomi Kauppinen, Aalto University, Finland; Daniel Garijo,...</td>\n",
              "    </tr>\n",
              "    <tr>\n",
              "      <th>5</th>\n",
              "      <td>An initial Analysis of Topic-based Similarity among Scientific Documents based on their Rhetorical Discourse Parts</td>\n",
              "      <td>An initial Analysis of Topic-based Similarity among Scientific Documents based on their Rhetorical Discourse Parts Carlos Badenes-Olmedo1, Jos´e Luis Redondo-Garc´ıa2, and Oscar Corcho1 1 Universi...</td>\n",
              "    </tr>\n",
              "    <tr>\n",
              "      <th>6</th>\n",
              "      <td>Efficient Clustering from Distributions over Topics</td>\n",
              "      <td>Efficient Clustering from Distributions over Topics Carlos Badenes-Olmedo cbadenes@￿.upm.es Ontology Engineering Group Universidad Polit´ecnica de Madrid Boadilla del Monte, Spain Jos´e Luis Redon...</td>\n",
              "    </tr>\n",
              "    <tr>\n",
              "      <th>7</th>\n",
              "      <td>Legal Documents Retrieval Across Languages: Topic Hierarchies based on synsets</td>\n",
              "      <td>Cross-lingual annotations of legislative texts enable us to explore major themes covered in multi- lingual legal data and are a key facilitator of semantic similarity when searching for similar do...</td>\n",
              "    </tr>\n",
              "    <tr>\n",
              "      <th>8</th>\n",
              "      <td>Scalable Cross-lingual Document Similarity through Language-specific Concept Hierarchies</td>\n",
              "      <td>Scalable Cross-lingual Document Similarity through Language-specific Concept Hierarchies Carlos Badenes-Olmedo cbadenes@fi.upm.es Ontology Engineering Group, Universidad Politécnica de Madrid Boad...</td>\n",
              "    </tr>\n",
              "    <tr>\n",
              "      <th>9</th>\n",
              "      <td>Potentially inappropriate medications in older adults living with HIV</td>\n",
              "      <td>Potentially inappropriate medications in older adults living with HIV B L�opez-Centeno,1,* C Badenes-Olmedo,2 A Mataix-Sanjuan,1 JM Bell�on,3 L P�erez-Latorre,3 JC L�opez,3 J Bened�ı,4,* S Khoo,5 ...</td>\n",
              "    </tr>\n",
              "    <tr>\n",
              "      <th>10</th>\n",
              "      <td>Semantic Saturation in Retrospective Text Document  Collections</td>\n",
              "      <td>Semantic Saturation in Retrospective Text Document  Collections      Victoria Kosa​1​, Eugene Yuschenko​2​, Carlos Badenes​3​, Vadim Ermolayev​1​,   and Aliaksandr Birukou​4    1​ Department of Co...</td>\n",
              "    </tr>\n",
              "  </tbody>\n",
              "</table>\n",
              "</div>"
            ],
            "text/plain": [
              "                                                                                                                   title                                                                                                                                                                                                     text\n",
              "0                                       Cross-Evaluation of Term Extraction Tools by Measuring Terminological Saturation  Synopsis of the Refinements and Extensions  Compared to the Publication in the Conference Proceedings  This submission is a refined and extended paper based on the ICTERI 2017 PhD  Symposium paper...\n",
              "1   Enhancing Public Procurement in the European Union through Constructing and Exploiting an Integrated Knowledge Graph  Enhancing Public Procurement in the European Union through Constructing and Exploiting an Integrated Knowledge Graph Ahmet Soylu1, Oscar Corcho2, Brian Elvesæter1, Carlos Badenes-Olmedo2, Francisc...\n",
              "2                                            Drugs4Covid: Making drug information available from scientific publications  Drugs4Covid: Making drug information available from scientific publications Carlos Badenes-Olmedo1, David Chaves-Fraga1, Mar´ıa Poveda-Villal´on1, Ana Iglesias-Molina1, Pablo Calleja1, Socorro Ber...\n",
              "3                                                                           Distributing Text Mining tasks with librAIry  Distributing Text Mining tasks with librAIry Carlos Badenes-Olmedo cbadenes@f.upm.es Universidad Polit´ecnica de Madrid Ontology Engineering Group Boadilla del Monte, Spain Jos´e Luis Redondo-Garc...\n",
              "4                         Large-Scale Semantic Exploration of Scientific Literature using Topic-based Hashing Algorithms  Semantic Web 0 (0) 1 1 IOS Press Large-Scale Semantic Exploration of Scientific Literature using Topic-based Hashing Algorithms Editor(s): Tomi Kauppinen, Aalto University, Finland; Daniel Garijo,...\n",
              "5     An initial Analysis of Topic-based Similarity among Scientific Documents based on their Rhetorical Discourse Parts  An initial Analysis of Topic-based Similarity among Scientific Documents based on their Rhetorical Discourse Parts Carlos Badenes-Olmedo1, Jos´e Luis Redondo-Garc´ıa2, and Oscar Corcho1 1 Universi...\n",
              "6                                                                    Efficient Clustering from Distributions over Topics  Efficient Clustering from Distributions over Topics Carlos Badenes-Olmedo cbadenes@￿.upm.es Ontology Engineering Group Universidad Polit´ecnica de Madrid Boadilla del Monte, Spain Jos´e Luis Redon...\n",
              "7                                         Legal Documents Retrieval Across Languages: Topic Hierarchies based on synsets  Cross-lingual annotations of legislative texts enable us to explore major themes covered in multi- lingual legal data and are a key facilitator of semantic similarity when searching for similar do...\n",
              "8                               Scalable Cross-lingual Document Similarity through Language-specific Concept Hierarchies  Scalable Cross-lingual Document Similarity through Language-specific Concept Hierarchies Carlos Badenes-Olmedo cbadenes@fi.upm.es Ontology Engineering Group, Universidad Politécnica de Madrid Boad...\n",
              "9                                                  Potentially inappropriate medications in older adults living with HIV  Potentially inappropriate medications in older adults living with HIV B L�opez-Centeno,1,* C Badenes-Olmedo,2 A Mataix-Sanjuan,1 JM Bell�on,3 L P�erez-Latorre,3 JC L�opez,3 J Bened�ı,4,* S Khoo,5 ...\n",
              "10                                                       Semantic Saturation in Retrospective Text Document  Collections  Semantic Saturation in Retrospective Text Document  Collections      Victoria Kosa​1​, Eugene Yuschenko​2​, Carlos Badenes​3​, Vadim Ermolayev​1​,   and Aliaksandr Birukou​4    1​ Department of Co..."
            ]
          },
          "metadata": {
            "tags": []
          },
          "execution_count": 1
        }
      ]
    },
    {
      "cell_type": "markdown",
      "metadata": {
        "id": "epKk9U8-hFBV"
      },
      "source": [
        "## 2.2. Text Pre-Processing"
      ]
    },
    {
      "cell_type": "markdown",
      "metadata": {
        "id": "0V9JzJsJsIWf"
      },
      "source": [
        "Documents must be pre-processed to transform their texts into terms. These terms are the population that is counted and measured statistically. Most commonly, the terms are words (or combination of adjacent words or characters) that occur in a given query or collection of documents and often require pre-processing. "
      ]
    },
    {
      "cell_type": "markdown",
      "metadata": {
        "id": "Yd1VTpW4iru1"
      },
      "source": [
        "### 2.2.1: Methods to transform texts into terms"
      ]
    },
    {
      "cell_type": "markdown",
      "metadata": {
        "id": "z_nSrGfgsnod"
      },
      "source": [
        "Words are reduced to a common base form by using a heuristic process that removes affixes, stemming, or by returning its dictionary form, lemma (Porter, 1997). The objective is to eliminate the variation that arises from the occurrence of different grammatical forms of the same word, e.g., ”program”, ”programming”, ”programs”, and ”programmed” should all be recognized as forms of the same word, ”program”."
      ]
    },
    {
      "cell_type": "markdown",
      "metadata": {
        "id": "elq65_4Qsvjd"
      },
      "source": [
        "Another common form of pre-processing is the elimination of common words that have little power to discriminate relevant from non-relevant documents,e.g., ”the”, ”a”, ”it”. Hence, IR engines are usually provided with a stop-list of such noise words. Note that both stemming/lemma and stopwords are language-dependent."
      ]
    },
    {
      "cell_type": "code",
      "metadata": {
        "colab": {
          "base_uri": "https://localhost:8080/"
        },
        "id": "EWhN4MhStpvQ",
        "outputId": "762c3c4a-573d-4f41-c712-91ec03ebeefb"
      },
      "source": [
        "import spacy\n",
        "from spacy.tokenizer import Tokenizer\n",
        "from spacy.lang.en import English\n",
        "\n",
        "nlp = spacy.load(\"en_core_web_sm\")\n",
        "\n",
        "def tokenize(text):\n",
        "  tokens = nlp(text)\n",
        "  return tokens\n",
        "\n",
        "def is_valid(token):\n",
        "  return len(token.text) > 1 and not token.is_stop\n",
        "\n",
        "def lemma(token):\n",
        "  return token.lemma_\n",
        "\n",
        "def preprocess(text):\n",
        "  tokens = []\n",
        "  for token in tokenize(text):\n",
        "    if is_valid(token): \n",
        "      tokens.append(lemma(token))\n",
        "  return tokens\n",
        "\n",
        "print(\"methods created succesfully\")"
      ],
      "execution_count": 2,
      "outputs": [
        {
          "output_type": "stream",
          "text": [
            "methods created succesfully\n"
          ],
          "name": "stdout"
        }
      ]
    },
    {
      "cell_type": "markdown",
      "metadata": {
        "id": "CcBhQ2lRUf6g"
      },
      "source": [
        "The following sentence taken from one of the documents can be used to see each of the steps: *”Probabilistic Topic Models reduce that feature space by annotating documents with thematic information”*."
      ]
    },
    {
      "cell_type": "code",
      "metadata": {
        "colab": {
          "base_uri": "https://localhost:8080/"
        },
        "id": "4SKih16gUj5w",
        "outputId": "7bf7360d-8e85-4153-9e05-73382b402eaf"
      },
      "source": [
        "tokens = preprocess(\"Probabilistic Topic Models reduce that feature space by annotating documents with thematic information\")\n",
        "print(tokens)"
      ],
      "execution_count": 3,
      "outputs": [
        {
          "output_type": "stream",
          "text": [
            "['Probabilistic', 'Topic', 'Models', 'reduce', 'feature', 'space', 'annotate', 'document', 'thematic', 'information']\n"
          ],
          "name": "stdout"
        }
      ]
    },
    {
      "cell_type": "markdown",
      "metadata": {
        "id": "ngevbE-2U2Gy"
      },
      "source": [
        "At this step ’annotating’ was transformed to ’annotate’ and ’documents’ was reduced to ’document’. However, ’Models’ remains unchanged. The reason is that since it starts with a capital letter, it is considered a proper noun. Finally, those words that appear in a stop-word list are removed (e.g. ’that’, ’by’ and ’with’). Each text is transformed into a normalized list of terms."
      ]
    },
    {
      "cell_type": "markdown",
      "metadata": {
        "id": "y562UNjCkYG9"
      },
      "source": [
        "### 2.2.2. Count words"
      ]
    },
    {
      "cell_type": "code",
      "metadata": {
        "colab": {
          "base_uri": "https://localhost:8080/",
          "height": 508
        },
        "id": "GhLgTKXSkak7",
        "outputId": "79e7bb02-ba28-4fde-f566-3fc47d0b8049"
      },
      "source": [
        "def count_words(text):\n",
        "  return len(text.split(\" \"))\n",
        "\n",
        "corpus_df['#words'] = corpus_df['text'].apply(count_words)\n",
        "corpus_df.head(3)"
      ],
      "execution_count": 15,
      "outputs": [
        {
          "output_type": "execute_result",
          "data": {
            "text/html": [
              "<div>\n",
              "<style scoped>\n",
              "    .dataframe tbody tr th:only-of-type {\n",
              "        vertical-align: middle;\n",
              "    }\n",
              "\n",
              "    .dataframe tbody tr th {\n",
              "        vertical-align: top;\n",
              "    }\n",
              "\n",
              "    .dataframe thead th {\n",
              "        text-align: right;\n",
              "    }\n",
              "</style>\n",
              "<table border=\"1\" class=\"dataframe\">\n",
              "  <thead>\n",
              "    <tr style=\"text-align: right;\">\n",
              "      <th></th>\n",
              "      <th>title</th>\n",
              "      <th>text</th>\n",
              "      <th>#words</th>\n",
              "      <th>tokens</th>\n",
              "      <th>#tokens</th>\n",
              "      <th>#uni_tokens</th>\n",
              "      <th>boolean</th>\n",
              "      <th>tf</th>\n",
              "      <th>tf_idf</th>\n",
              "    </tr>\n",
              "  </thead>\n",
              "  <tbody>\n",
              "    <tr>\n",
              "      <th>0</th>\n",
              "      <td>Cross-Evaluation of Term Extraction Tools by Measuring Terminological Saturation</td>\n",
              "      <td>Synopsis of the Refinements and Extensions  Compared to the Publication in the Conference Proceedings  This submission is a refined and extended paper based on the ICTERI 2017 PhD  Symposium paper...</td>\n",
              "      <td>12954</td>\n",
              "      <td>[synopsis, Refinements, Extensions, compare, publication, Conference, Proceedings, submission, refined, extended, paper, base, ICTERI, 2017, phd, symposium, paper, Kosa, et, al, fact, submission, ...</td>\n",
              "      <td>6495</td>\n",
              "      <td>1688</td>\n",
              "      <td>{'synopsis': True, 'Refinements': True, 'Extensions': True, 'compare': True, 'publication': True, 'Conference': True, 'Proceedings': True, 'submission': True, 'refined': True, 'extended': True, 'p...</td>\n",
              "      <td>{'synopsis': 1, 'Refinements': 1, 'Extensions': 1, 'compare': 21, 'publication': 3, 'Conference': 1, 'Proceedings': 1, 'submission': 2, 'refined': 2, 'extended': 1, 'paper': 44, 'base': 43, 'ICTER...</td>\n",
              "      <td>{'synopsis': 0.00036919095809058824, 'Refinements': 0.00036919095809058824, 'Extensions': 0.00036919095809058824, 'compare': 0.0003081622441710275, 'publication': 0.00027997034806942977, 'Conferen...</td>\n",
              "    </tr>\n",
              "    <tr>\n",
              "      <th>1</th>\n",
              "      <td>Enhancing Public Procurement in the European Union through Constructing and Exploiting an Integrated Knowledge Graph</td>\n",
              "      <td>Enhancing Public Procurement in the European Union through Constructing and Exploiting an Integrated Knowledge Graph Ahmet Soylu1, Oscar Corcho2, Brian Elvesæter1, Carlos Badenes-Olmedo2, Francisc...</td>\n",
              "      <td>5827</td>\n",
              "      <td>[enhance, Public, Procurement, European, Union, Constructing, exploit, Integrated, Knowledge, Graph, Ahmet, Soylu1, Oscar, Corcho2, Brian, Elvesæter1, Carlos, Badenes, Olmedo2, Francisco, Yedro2, ...</td>\n",
              "      <td>3511</td>\n",
              "      <td>1355</td>\n",
              "      <td>{'enhance': True, 'Public': True, 'Procurement': True, 'European': True, 'Union': True, 'Constructing': True, 'exploit': True, 'Integrated': True, 'Knowledge': True, 'Graph': True, 'Ahmet': True, ...</td>\n",
              "      <td>{'enhance': 9, 'Public': 9, 'Procurement': 9, 'European': 5, 'Union': 3, 'Constructing': 1, 'exploit': 1, 'Integrated': 8, 'Knowledge': 11, 'Graph': 11, 'Ahmet': 1, 'Soylu1': 1, 'Oscar': 1, 'Corch...</td>\n",
              "      <td>{'enhance': 0.004369903967572152, 'Public': 0.006146698221357259, 'Procurement': 0.006146698221357259, 'European': 0.00144061650765947, 'Union': 0.0011101819858703454, 'Constructing': 0.0006829664...</td>\n",
              "    </tr>\n",
              "    <tr>\n",
              "      <th>2</th>\n",
              "      <td>Drugs4Covid: Making drug information available from scientific publications</td>\n",
              "      <td>Drugs4Covid: Making drug information available from scientific publications Carlos Badenes-Olmedo1, David Chaves-Fraga1, Mar´ıa Poveda-Villal´on1, Ana Iglesias-Molina1, Pablo Calleja1, Socorro Ber...</td>\n",
              "      <td>5417</td>\n",
              "      <td>[Drugs4Covid, make, drug, information, available, scientific, publication, Carlos, Badenes, Olmedo1, David, Chaves, Fraga1, Mar´ıa, Poveda, Villal´on1, Ana, Iglesias, Molina1, Pablo, Calleja1, Soc...</td>\n",
              "      <td>3347</td>\n",
              "      <td>1413</td>\n",
              "      <td>{'Drugs4Covid': True, 'make': True, 'drug': True, 'information': True, 'available': True, 'scientific': True, 'publication': True, 'Carlos': True, 'Badenes': True, 'Olmedo1': True, 'David': True, ...</td>\n",
              "      <td>{'Drugs4Covid': 24, 'make': 2, 'drug': 71, 'information': 11, 'available': 12, 'scientific': 14, 'publication': 9, 'Carlos': 1, 'Badenes': 10, 'Olmedo1': 1, 'David': 1, 'Chaves': 1, 'Fraga1': 1, '...</td>\n",
              "      <td>{'Drugs4Covid': 0.017194349132704182, 'make': 0.00019029204130178342, 'drug': 0.03616286661157102, 'information': 0.0, 'available': 0.00034171561328111716, 'scientific': 0.004231375190767469, 'pub...</td>\n",
              "    </tr>\n",
              "  </tbody>\n",
              "</table>\n",
              "</div>"
            ],
            "text/plain": [
              "                                                                                                                  title  ...                                                                                                                                                                                                   tf_idf\n",
              "0                                      Cross-Evaluation of Term Extraction Tools by Measuring Terminological Saturation  ...  {'synopsis': 0.00036919095809058824, 'Refinements': 0.00036919095809058824, 'Extensions': 0.00036919095809058824, 'compare': 0.0003081622441710275, 'publication': 0.00027997034806942977, 'Conferen...\n",
              "1  Enhancing Public Procurement in the European Union through Constructing and Exploiting an Integrated Knowledge Graph  ...  {'enhance': 0.004369903967572152, 'Public': 0.006146698221357259, 'Procurement': 0.006146698221357259, 'European': 0.00144061650765947, 'Union': 0.0011101819858703454, 'Constructing': 0.0006829664...\n",
              "2                                           Drugs4Covid: Making drug information available from scientific publications  ...  {'Drugs4Covid': 0.017194349132704182, 'make': 0.00019029204130178342, 'drug': 0.03616286661157102, 'information': 0.0, 'available': 0.00034171561328111716, 'scientific': 0.004231375190767469, 'pub...\n",
              "\n",
              "[3 rows x 9 columns]"
            ]
          },
          "metadata": {
            "tags": []
          },
          "execution_count": 15
        }
      ]
    },
    {
      "cell_type": "markdown",
      "metadata": {
        "id": "RDhLJ7_QivyH"
      },
      "source": [
        "### 2.2.3. Tokenize Corpus"
      ]
    },
    {
      "cell_type": "code",
      "metadata": {
        "colab": {
          "base_uri": "https://localhost:8080/",
          "height": 508
        },
        "id": "YrnhZZipjBjc",
        "outputId": "17adee6e-8269-4030-ef42-44ded31a0579"
      },
      "source": [
        "corpus_df['tokens'] = corpus_df['text'].apply(preprocess)\n",
        "\n",
        "corpus_df.head(3)"
      ],
      "execution_count": 16,
      "outputs": [
        {
          "output_type": "execute_result",
          "data": {
            "text/html": [
              "<div>\n",
              "<style scoped>\n",
              "    .dataframe tbody tr th:only-of-type {\n",
              "        vertical-align: middle;\n",
              "    }\n",
              "\n",
              "    .dataframe tbody tr th {\n",
              "        vertical-align: top;\n",
              "    }\n",
              "\n",
              "    .dataframe thead th {\n",
              "        text-align: right;\n",
              "    }\n",
              "</style>\n",
              "<table border=\"1\" class=\"dataframe\">\n",
              "  <thead>\n",
              "    <tr style=\"text-align: right;\">\n",
              "      <th></th>\n",
              "      <th>title</th>\n",
              "      <th>text</th>\n",
              "      <th>#words</th>\n",
              "      <th>tokens</th>\n",
              "      <th>#tokens</th>\n",
              "      <th>#uni_tokens</th>\n",
              "      <th>boolean</th>\n",
              "      <th>tf</th>\n",
              "      <th>tf_idf</th>\n",
              "    </tr>\n",
              "  </thead>\n",
              "  <tbody>\n",
              "    <tr>\n",
              "      <th>0</th>\n",
              "      <td>Cross-Evaluation of Term Extraction Tools by Measuring Terminological Saturation</td>\n",
              "      <td>Synopsis of the Refinements and Extensions  Compared to the Publication in the Conference Proceedings  This submission is a refined and extended paper based on the ICTERI 2017 PhD  Symposium paper...</td>\n",
              "      <td>12954</td>\n",
              "      <td>[synopsis, Refinements, Extensions, compare, publication, Conference, Proceedings, submission, refined, extended, paper, base, ICTERI, 2017, phd, symposium, paper, Kosa, et, al, fact, submission, ...</td>\n",
              "      <td>6495</td>\n",
              "      <td>1688</td>\n",
              "      <td>{'synopsis': True, 'Refinements': True, 'Extensions': True, 'compare': True, 'publication': True, 'Conference': True, 'Proceedings': True, 'submission': True, 'refined': True, 'extended': True, 'p...</td>\n",
              "      <td>{'synopsis': 1, 'Refinements': 1, 'Extensions': 1, 'compare': 21, 'publication': 3, 'Conference': 1, 'Proceedings': 1, 'submission': 2, 'refined': 2, 'extended': 1, 'paper': 44, 'base': 43, 'ICTER...</td>\n",
              "      <td>{'synopsis': 0.00036919095809058824, 'Refinements': 0.00036919095809058824, 'Extensions': 0.00036919095809058824, 'compare': 0.0003081622441710275, 'publication': 0.00027997034806942977, 'Conferen...</td>\n",
              "    </tr>\n",
              "    <tr>\n",
              "      <th>1</th>\n",
              "      <td>Enhancing Public Procurement in the European Union through Constructing and Exploiting an Integrated Knowledge Graph</td>\n",
              "      <td>Enhancing Public Procurement in the European Union through Constructing and Exploiting an Integrated Knowledge Graph Ahmet Soylu1, Oscar Corcho2, Brian Elvesæter1, Carlos Badenes-Olmedo2, Francisc...</td>\n",
              "      <td>5827</td>\n",
              "      <td>[enhance, Public, Procurement, European, Union, Constructing, exploit, Integrated, Knowledge, Graph, Ahmet, Soylu1, Oscar, Corcho2, Brian, Elvesæter1, Carlos, Badenes, Olmedo2, Francisco, Yedro2, ...</td>\n",
              "      <td>3511</td>\n",
              "      <td>1355</td>\n",
              "      <td>{'enhance': True, 'Public': True, 'Procurement': True, 'European': True, 'Union': True, 'Constructing': True, 'exploit': True, 'Integrated': True, 'Knowledge': True, 'Graph': True, 'Ahmet': True, ...</td>\n",
              "      <td>{'enhance': 9, 'Public': 9, 'Procurement': 9, 'European': 5, 'Union': 3, 'Constructing': 1, 'exploit': 1, 'Integrated': 8, 'Knowledge': 11, 'Graph': 11, 'Ahmet': 1, 'Soylu1': 1, 'Oscar': 1, 'Corch...</td>\n",
              "      <td>{'enhance': 0.004369903967572152, 'Public': 0.006146698221357259, 'Procurement': 0.006146698221357259, 'European': 0.00144061650765947, 'Union': 0.0011101819858703454, 'Constructing': 0.0006829664...</td>\n",
              "    </tr>\n",
              "    <tr>\n",
              "      <th>2</th>\n",
              "      <td>Drugs4Covid: Making drug information available from scientific publications</td>\n",
              "      <td>Drugs4Covid: Making drug information available from scientific publications Carlos Badenes-Olmedo1, David Chaves-Fraga1, Mar´ıa Poveda-Villal´on1, Ana Iglesias-Molina1, Pablo Calleja1, Socorro Ber...</td>\n",
              "      <td>5417</td>\n",
              "      <td>[Drugs4Covid, make, drug, information, available, scientific, publication, Carlos, Badenes, Olmedo1, David, Chaves, Fraga1, Mar´ıa, Poveda, Villal´on1, Ana, Iglesias, Molina1, Pablo, Calleja1, Soc...</td>\n",
              "      <td>3347</td>\n",
              "      <td>1413</td>\n",
              "      <td>{'Drugs4Covid': True, 'make': True, 'drug': True, 'information': True, 'available': True, 'scientific': True, 'publication': True, 'Carlos': True, 'Badenes': True, 'Olmedo1': True, 'David': True, ...</td>\n",
              "      <td>{'Drugs4Covid': 24, 'make': 2, 'drug': 71, 'information': 11, 'available': 12, 'scientific': 14, 'publication': 9, 'Carlos': 1, 'Badenes': 10, 'Olmedo1': 1, 'David': 1, 'Chaves': 1, 'Fraga1': 1, '...</td>\n",
              "      <td>{'Drugs4Covid': 0.017194349132704182, 'make': 0.00019029204130178342, 'drug': 0.03616286661157102, 'information': 0.0, 'available': 0.00034171561328111716, 'scientific': 0.004231375190767469, 'pub...</td>\n",
              "    </tr>\n",
              "  </tbody>\n",
              "</table>\n",
              "</div>"
            ],
            "text/plain": [
              "                                                                                                                  title  ...                                                                                                                                                                                                   tf_idf\n",
              "0                                      Cross-Evaluation of Term Extraction Tools by Measuring Terminological Saturation  ...  {'synopsis': 0.00036919095809058824, 'Refinements': 0.00036919095809058824, 'Extensions': 0.00036919095809058824, 'compare': 0.0003081622441710275, 'publication': 0.00027997034806942977, 'Conferen...\n",
              "1  Enhancing Public Procurement in the European Union through Constructing and Exploiting an Integrated Knowledge Graph  ...  {'enhance': 0.004369903967572152, 'Public': 0.006146698221357259, 'Procurement': 0.006146698221357259, 'European': 0.00144061650765947, 'Union': 0.0011101819858703454, 'Constructing': 0.0006829664...\n",
              "2                                           Drugs4Covid: Making drug information available from scientific publications  ...  {'Drugs4Covid': 0.017194349132704182, 'make': 0.00019029204130178342, 'drug': 0.03616286661157102, 'information': 0.0, 'available': 0.00034171561328111716, 'scientific': 0.004231375190767469, 'pub...\n",
              "\n",
              "[3 rows x 9 columns]"
            ]
          },
          "metadata": {
            "tags": []
          },
          "execution_count": 16
        }
      ]
    },
    {
      "cell_type": "markdown",
      "metadata": {
        "id": "P4qWo8kujLZo"
      },
      "source": [
        "### 2.2.4. Count tokens"
      ]
    },
    {
      "cell_type": "code",
      "metadata": {
        "colab": {
          "base_uri": "https://localhost:8080/",
          "height": 776
        },
        "id": "yd0QX-rCjOZs",
        "outputId": "a320afb6-c8d8-4917-c7fa-bc790db0d4f0"
      },
      "source": [
        "def count_tokens(tokens):\n",
        "  return len(tokens)\n",
        "\n",
        "corpus_df['#tokens'] = corpus_df['tokens'].apply(count_tokens)\n",
        "\n",
        "corpus_df.head(3)"
      ],
      "execution_count": 6,
      "outputs": [
        {
          "output_type": "execute_result",
          "data": {
            "text/html": [
              "<div>\n",
              "<style scoped>\n",
              "    .dataframe tbody tr th:only-of-type {\n",
              "        vertical-align: middle;\n",
              "    }\n",
              "\n",
              "    .dataframe tbody tr th {\n",
              "        vertical-align: top;\n",
              "    }\n",
              "\n",
              "    .dataframe thead th {\n",
              "        text-align: right;\n",
              "    }\n",
              "</style>\n",
              "<table border=\"1\" class=\"dataframe\">\n",
              "  <thead>\n",
              "    <tr style=\"text-align: right;\">\n",
              "      <th></th>\n",
              "      <th>title</th>\n",
              "      <th>text</th>\n",
              "      <th>#words</th>\n",
              "      <th>tokens</th>\n",
              "      <th>#tokens</th>\n",
              "    </tr>\n",
              "  </thead>\n",
              "  <tbody>\n",
              "    <tr>\n",
              "      <th>0</th>\n",
              "      <td>Cross-Evaluation of Term Extraction Tools by Measuring Terminological Saturation</td>\n",
              "      <td>Synopsis of the Refinements and Extensions  Compared to the Publication in the Conference Proceedings  This submission is a refined and extended paper based on the ICTERI 2017 PhD  Symposium paper...</td>\n",
              "      <td>12954</td>\n",
              "      <td>[synopsis, Refinements, Extensions, compare, publication, Conference, Proceedings, submission, refined, extended, paper, base, ICTERI, 2017, phd, symposium, paper, Kosa, et, al, fact, submission, ...</td>\n",
              "      <td>6495</td>\n",
              "    </tr>\n",
              "    <tr>\n",
              "      <th>1</th>\n",
              "      <td>Enhancing Public Procurement in the European Union through Constructing and Exploiting an Integrated Knowledge Graph</td>\n",
              "      <td>Enhancing Public Procurement in the European Union through Constructing and Exploiting an Integrated Knowledge Graph Ahmet Soylu1, Oscar Corcho2, Brian Elvesæter1, Carlos Badenes-Olmedo2, Francisc...</td>\n",
              "      <td>5827</td>\n",
              "      <td>[enhance, Public, Procurement, European, Union, Constructing, exploit, Integrated, Knowledge, Graph, Ahmet, Soylu1, Oscar, Corcho2, Brian, Elvesæter1, Carlos, Badenes, Olmedo2, Francisco, Yedro2, ...</td>\n",
              "      <td>3511</td>\n",
              "    </tr>\n",
              "    <tr>\n",
              "      <th>2</th>\n",
              "      <td>Drugs4Covid: Making drug information available from scientific publications</td>\n",
              "      <td>Drugs4Covid: Making drug information available from scientific publications Carlos Badenes-Olmedo1, David Chaves-Fraga1, Mar´ıa Poveda-Villal´on1, Ana Iglesias-Molina1, Pablo Calleja1, Socorro Ber...</td>\n",
              "      <td>5417</td>\n",
              "      <td>[Drugs4Covid, make, drug, information, available, scientific, publication, Carlos, Badenes, Olmedo1, David, Chaves, Fraga1, Mar´ıa, Poveda, Villal´on1, Ana, Iglesias, Molina1, Pablo, Calleja1, Soc...</td>\n",
              "      <td>3347</td>\n",
              "    </tr>\n",
              "    <tr>\n",
              "      <th>3</th>\n",
              "      <td>Distributing Text Mining tasks with librAIry</td>\n",
              "      <td>Distributing Text Mining tasks with librAIry Carlos Badenes-Olmedo cbadenes@f.upm.es Universidad Polit´ecnica de Madrid Ontology Engineering Group Boadilla del Monte, Spain Jos´e Luis Redondo-Garc...</td>\n",
              "      <td>2448</td>\n",
              "      <td>[distribute, text, mining, task, librAIry, Carlos, Badenes, Olmedo, cbadenes@f.upm.es, Universidad, Polit´ecnica, de, Madrid, Ontology, Engineering, Group, Boadilla, del, Monte, Spain, jos´e, Luis...</td>\n",
              "      <td>1484</td>\n",
              "    </tr>\n",
              "    <tr>\n",
              "      <th>4</th>\n",
              "      <td>Large-Scale Semantic Exploration of Scientific Literature using Topic-based Hashing Algorithms</td>\n",
              "      <td>Semantic Web 0 (0) 1 1 IOS Press Large-Scale Semantic Exploration of Scientific Literature using Topic-based Hashing Algorithms Editor(s): Tomi Kauppinen, Aalto University, Finland; Daniel Garijo,...</td>\n",
              "      <td>9041</td>\n",
              "      <td>[semantic, web, IOS, Press, large, scale, semantic, Exploration, Scientific, Literature, Topic, base, Hashing, Algorithms, Editor(s, Tomi, Kauppinen, Aalto, University, Finland, Daniel, Garijo, Un...</td>\n",
              "      <td>5825</td>\n",
              "    </tr>\n",
              "    <tr>\n",
              "      <th>5</th>\n",
              "      <td>An initial Analysis of Topic-based Similarity among Scientific Documents based on their Rhetorical Discourse Parts</td>\n",
              "      <td>An initial Analysis of Topic-based Similarity among Scientific Documents based on their Rhetorical Discourse Parts Carlos Badenes-Olmedo1, Jos´e Luis Redondo-Garc´ıa2, and Oscar Corcho1 1 Universi...</td>\n",
              "      <td>2641</td>\n",
              "      <td>[initial, Analysis, Topic, base, Similarity, scientific, document, base, Rhetorical, Discourse, Parts, Carlos, Badenes, Olmedo1, Jos´e, Luis, Redondo, Garc´ıa2, Oscar, Corcho1, Universidad, Polit´...</td>\n",
              "      <td>1438</td>\n",
              "    </tr>\n",
              "    <tr>\n",
              "      <th>6</th>\n",
              "      <td>Efficient Clustering from Distributions over Topics</td>\n",
              "      <td>Efficient Clustering from Distributions over Topics Carlos Badenes-Olmedo cbadenes@￿.upm.es Ontology Engineering Group Universidad Polit´ecnica de Madrid Boadilla del Monte, Spain Jos´e Luis Redon...</td>\n",
              "      <td>5346</td>\n",
              "      <td>[efficient, clustering, distribution, Topics, Carlos, Badenes, Olmedo, cbadenes@￿.upm.es, Ontology, Engineering, Group, Universidad, Polit´ecnica, de, Madrid, Boadilla, del, Monte, Spain, jos´e, L...</td>\n",
              "      <td>3083</td>\n",
              "    </tr>\n",
              "    <tr>\n",
              "      <th>7</th>\n",
              "      <td>Legal Documents Retrieval Across Languages: Topic Hierarchies based on synsets</td>\n",
              "      <td>Cross-lingual annotations of legislative texts enable us to explore major themes covered in multi- lingual legal data and are a key facilitator of semantic similarity when searching for similar do...</td>\n",
              "      <td>1445</td>\n",
              "      <td>[cross, lingual, annotation, legislative, text, enable, explore, major, theme, cover, multi-, lingual, legal, datum, key, facilitator, semantic, similarity, search, similar, document, multilingual...</td>\n",
              "      <td>790</td>\n",
              "    </tr>\n",
              "    <tr>\n",
              "      <th>8</th>\n",
              "      <td>Scalable Cross-lingual Document Similarity through Language-specific Concept Hierarchies</td>\n",
              "      <td>Scalable Cross-lingual Document Similarity through Language-specific Concept Hierarchies Carlos Badenes-Olmedo cbadenes@fi.upm.es Ontology Engineering Group, Universidad Politécnica de Madrid Boad...</td>\n",
              "      <td>4602</td>\n",
              "      <td>[Scalable, Cross, lingual, document, Similarity, language, specific, Concept, Hierarchies, Carlos, Badenes, Olmedo, cbadenes@fi.upm.es, Ontology, Engineering, Group, Universidad, Politécnica, de, ...</td>\n",
              "      <td>3027</td>\n",
              "    </tr>\n",
              "    <tr>\n",
              "      <th>9</th>\n",
              "      <td>Potentially inappropriate medications in older adults living with HIV</td>\n",
              "      <td>Potentially inappropriate medications in older adults living with HIV B L�opez-Centeno,1,* C Badenes-Olmedo,2 A Mataix-Sanjuan,1 JM Bell�on,3 L P�erez-Latorre,3 JC L�opez,3 J Bened�ı,4,* S Khoo,5 ...</td>\n",
              "      <td>3087</td>\n",
              "      <td>[potentially, inappropriate, medication, old, adult, live, HIV, opez, Centeno,1, Badenes, Olmedo,2, Mataix, Sanjuan,1, JM, Bell, on,3, erez, Latorre,3, JC, opez,3, Bened, ı,4, khoo,5, Marzolini,6,...</td>\n",
              "      <td>2163</td>\n",
              "    </tr>\n",
              "    <tr>\n",
              "      <th>10</th>\n",
              "      <td>Semantic Saturation in Retrospective Text Document  Collections</td>\n",
              "      <td>Semantic Saturation in Retrospective Text Document  Collections      Victoria Kosa​1​, Eugene Yuschenko​2​, Carlos Badenes​3​, Vadim Ermolayev​1​,   and Aliaksandr Birukou​4    1​ Department of Co...</td>\n",
              "      <td>7700</td>\n",
              "      <td>[semantic, Saturation, Retrospective, Text, document, Collections,      , Victoria, Kosa​1​, Eugene, Yuschenko​2​, Carlos, Badenes​3​, Vadim, Ermolayev​1​,   , Aliaksandr, Birukou​4,    , 1​, Depa...</td>\n",
              "      <td>1761</td>\n",
              "    </tr>\n",
              "  </tbody>\n",
              "</table>\n",
              "</div>"
            ],
            "text/plain": [
              "                                                                                                                   title  ... #tokens\n",
              "0                                       Cross-Evaluation of Term Extraction Tools by Measuring Terminological Saturation  ...    6495\n",
              "1   Enhancing Public Procurement in the European Union through Constructing and Exploiting an Integrated Knowledge Graph  ...    3511\n",
              "2                                            Drugs4Covid: Making drug information available from scientific publications  ...    3347\n",
              "3                                                                           Distributing Text Mining tasks with librAIry  ...    1484\n",
              "4                         Large-Scale Semantic Exploration of Scientific Literature using Topic-based Hashing Algorithms  ...    5825\n",
              "5     An initial Analysis of Topic-based Similarity among Scientific Documents based on their Rhetorical Discourse Parts  ...    1438\n",
              "6                                                                    Efficient Clustering from Distributions over Topics  ...    3083\n",
              "7                                         Legal Documents Retrieval Across Languages: Topic Hierarchies based on synsets  ...     790\n",
              "8                               Scalable Cross-lingual Document Similarity through Language-specific Concept Hierarchies  ...    3027\n",
              "9                                                  Potentially inappropriate medications in older adults living with HIV  ...    2163\n",
              "10                                                       Semantic Saturation in Retrospective Text Document  Collections  ...    1761\n",
              "\n",
              "[11 rows x 5 columns]"
            ]
          },
          "metadata": {
            "tags": []
          },
          "execution_count": 6
        }
      ]
    },
    {
      "cell_type": "markdown",
      "metadata": {
        "id": "YL1zTSPXktuE"
      },
      "source": [
        "### 2.2.5 Some statistics"
      ]
    },
    {
      "cell_type": "code",
      "metadata": {
        "colab": {
          "base_uri": "https://localhost:8080/",
          "height": 794
        },
        "id": "k8ddmT6Gkzvr",
        "outputId": "5ff5fd2f-31bb-41ce-f3e5-7e3233350bcf"
      },
      "source": [
        "unique_tokens = []\n",
        "\n",
        "for pos in range(len(corpus_df.index)):\n",
        "  num_words = corpus_df['#words'][pos]\n",
        "  num_tokens = corpus_df['#tokens'][pos]\n",
        "  num_unique_tokens = len(set(corpus_df['tokens'][pos]))\n",
        "  unique_tokens.append(num_unique_tokens)  \n",
        "\n",
        "corpus_df['#uni_tokens']=unique_tokens\n",
        "corpus_df.head(3)"
      ],
      "execution_count": 7,
      "outputs": [
        {
          "output_type": "execute_result",
          "data": {
            "text/html": [
              "<div>\n",
              "<style scoped>\n",
              "    .dataframe tbody tr th:only-of-type {\n",
              "        vertical-align: middle;\n",
              "    }\n",
              "\n",
              "    .dataframe tbody tr th {\n",
              "        vertical-align: top;\n",
              "    }\n",
              "\n",
              "    .dataframe thead th {\n",
              "        text-align: right;\n",
              "    }\n",
              "</style>\n",
              "<table border=\"1\" class=\"dataframe\">\n",
              "  <thead>\n",
              "    <tr style=\"text-align: right;\">\n",
              "      <th></th>\n",
              "      <th>title</th>\n",
              "      <th>text</th>\n",
              "      <th>#words</th>\n",
              "      <th>tokens</th>\n",
              "      <th>#tokens</th>\n",
              "      <th>#uni_tokens</th>\n",
              "    </tr>\n",
              "  </thead>\n",
              "  <tbody>\n",
              "    <tr>\n",
              "      <th>0</th>\n",
              "      <td>Cross-Evaluation of Term Extraction Tools by Measuring Terminological Saturation</td>\n",
              "      <td>Synopsis of the Refinements and Extensions  Compared to the Publication in the Conference Proceedings  This submission is a refined and extended paper based on the ICTERI 2017 PhD  Symposium paper...</td>\n",
              "      <td>12954</td>\n",
              "      <td>[synopsis, Refinements, Extensions, compare, publication, Conference, Proceedings, submission, refined, extended, paper, base, ICTERI, 2017, phd, symposium, paper, Kosa, et, al, fact, submission, ...</td>\n",
              "      <td>6495</td>\n",
              "      <td>1688</td>\n",
              "    </tr>\n",
              "    <tr>\n",
              "      <th>1</th>\n",
              "      <td>Enhancing Public Procurement in the European Union through Constructing and Exploiting an Integrated Knowledge Graph</td>\n",
              "      <td>Enhancing Public Procurement in the European Union through Constructing and Exploiting an Integrated Knowledge Graph Ahmet Soylu1, Oscar Corcho2, Brian Elvesæter1, Carlos Badenes-Olmedo2, Francisc...</td>\n",
              "      <td>5827</td>\n",
              "      <td>[enhance, Public, Procurement, European, Union, Constructing, exploit, Integrated, Knowledge, Graph, Ahmet, Soylu1, Oscar, Corcho2, Brian, Elvesæter1, Carlos, Badenes, Olmedo2, Francisco, Yedro2, ...</td>\n",
              "      <td>3511</td>\n",
              "      <td>1355</td>\n",
              "    </tr>\n",
              "    <tr>\n",
              "      <th>2</th>\n",
              "      <td>Drugs4Covid: Making drug information available from scientific publications</td>\n",
              "      <td>Drugs4Covid: Making drug information available from scientific publications Carlos Badenes-Olmedo1, David Chaves-Fraga1, Mar´ıa Poveda-Villal´on1, Ana Iglesias-Molina1, Pablo Calleja1, Socorro Ber...</td>\n",
              "      <td>5417</td>\n",
              "      <td>[Drugs4Covid, make, drug, information, available, scientific, publication, Carlos, Badenes, Olmedo1, David, Chaves, Fraga1, Mar´ıa, Poveda, Villal´on1, Ana, Iglesias, Molina1, Pablo, Calleja1, Soc...</td>\n",
              "      <td>3347</td>\n",
              "      <td>1413</td>\n",
              "    </tr>\n",
              "    <tr>\n",
              "      <th>3</th>\n",
              "      <td>Distributing Text Mining tasks with librAIry</td>\n",
              "      <td>Distributing Text Mining tasks with librAIry Carlos Badenes-Olmedo cbadenes@f.upm.es Universidad Polit´ecnica de Madrid Ontology Engineering Group Boadilla del Monte, Spain Jos´e Luis Redondo-Garc...</td>\n",
              "      <td>2448</td>\n",
              "      <td>[distribute, text, mining, task, librAIry, Carlos, Badenes, Olmedo, cbadenes@f.upm.es, Universidad, Polit´ecnica, de, Madrid, Ontology, Engineering, Group, Boadilla, del, Monte, Spain, jos´e, Luis...</td>\n",
              "      <td>1484</td>\n",
              "      <td>742</td>\n",
              "    </tr>\n",
              "    <tr>\n",
              "      <th>4</th>\n",
              "      <td>Large-Scale Semantic Exploration of Scientific Literature using Topic-based Hashing Algorithms</td>\n",
              "      <td>Semantic Web 0 (0) 1 1 IOS Press Large-Scale Semantic Exploration of Scientific Literature using Topic-based Hashing Algorithms Editor(s): Tomi Kauppinen, Aalto University, Finland; Daniel Garijo,...</td>\n",
              "      <td>9041</td>\n",
              "      <td>[semantic, web, IOS, Press, large, scale, semantic, Exploration, Scientific, Literature, Topic, base, Hashing, Algorithms, Editor(s, Tomi, Kauppinen, Aalto, University, Finland, Daniel, Garijo, Un...</td>\n",
              "      <td>5825</td>\n",
              "      <td>1839</td>\n",
              "    </tr>\n",
              "    <tr>\n",
              "      <th>5</th>\n",
              "      <td>An initial Analysis of Topic-based Similarity among Scientific Documents based on their Rhetorical Discourse Parts</td>\n",
              "      <td>An initial Analysis of Topic-based Similarity among Scientific Documents based on their Rhetorical Discourse Parts Carlos Badenes-Olmedo1, Jos´e Luis Redondo-Garc´ıa2, and Oscar Corcho1 1 Universi...</td>\n",
              "      <td>2641</td>\n",
              "      <td>[initial, Analysis, Topic, base, Similarity, scientific, document, base, Rhetorical, Discourse, Parts, Carlos, Badenes, Olmedo1, Jos´e, Luis, Redondo, Garc´ıa2, Oscar, Corcho1, Universidad, Polit´...</td>\n",
              "      <td>1438</td>\n",
              "      <td>590</td>\n",
              "    </tr>\n",
              "    <tr>\n",
              "      <th>6</th>\n",
              "      <td>Efficient Clustering from Distributions over Topics</td>\n",
              "      <td>Efficient Clustering from Distributions over Topics Carlos Badenes-Olmedo cbadenes@￿.upm.es Ontology Engineering Group Universidad Polit´ecnica de Madrid Boadilla del Monte, Spain Jos´e Luis Redon...</td>\n",
              "      <td>5346</td>\n",
              "      <td>[efficient, clustering, distribution, Topics, Carlos, Badenes, Olmedo, cbadenes@￿.upm.es, Ontology, Engineering, Group, Universidad, Polit´ecnica, de, Madrid, Boadilla, del, Monte, Spain, jos´e, L...</td>\n",
              "      <td>3083</td>\n",
              "      <td>1013</td>\n",
              "    </tr>\n",
              "    <tr>\n",
              "      <th>7</th>\n",
              "      <td>Legal Documents Retrieval Across Languages: Topic Hierarchies based on synsets</td>\n",
              "      <td>Cross-lingual annotations of legislative texts enable us to explore major themes covered in multi- lingual legal data and are a key facilitator of semantic similarity when searching for similar do...</td>\n",
              "      <td>1445</td>\n",
              "      <td>[cross, lingual, annotation, legislative, text, enable, explore, major, theme, cover, multi-, lingual, legal, datum, key, facilitator, semantic, similarity, search, similar, document, multilingual...</td>\n",
              "      <td>790</td>\n",
              "      <td>364</td>\n",
              "    </tr>\n",
              "    <tr>\n",
              "      <th>8</th>\n",
              "      <td>Scalable Cross-lingual Document Similarity through Language-specific Concept Hierarchies</td>\n",
              "      <td>Scalable Cross-lingual Document Similarity through Language-specific Concept Hierarchies Carlos Badenes-Olmedo cbadenes@fi.upm.es Ontology Engineering Group, Universidad Politécnica de Madrid Boad...</td>\n",
              "      <td>4602</td>\n",
              "      <td>[Scalable, Cross, lingual, document, Similarity, language, specific, Concept, Hierarchies, Carlos, Badenes, Olmedo, cbadenes@fi.upm.es, Ontology, Engineering, Group, Universidad, Politécnica, de, ...</td>\n",
              "      <td>3027</td>\n",
              "      <td>1100</td>\n",
              "    </tr>\n",
              "    <tr>\n",
              "      <th>9</th>\n",
              "      <td>Potentially inappropriate medications in older adults living with HIV</td>\n",
              "      <td>Potentially inappropriate medications in older adults living with HIV B L�opez-Centeno,1,* C Badenes-Olmedo,2 A Mataix-Sanjuan,1 JM Bell�on,3 L P�erez-Latorre,3 JC L�opez,3 J Bened�ı,4,* S Khoo,5 ...</td>\n",
              "      <td>3087</td>\n",
              "      <td>[potentially, inappropriate, medication, old, adult, live, HIV, opez, Centeno,1, Badenes, Olmedo,2, Mataix, Sanjuan,1, JM, Bell, on,3, erez, Latorre,3, JC, opez,3, Bened, ı,4, khoo,5, Marzolini,6,...</td>\n",
              "      <td>2163</td>\n",
              "      <td>1056</td>\n",
              "    </tr>\n",
              "    <tr>\n",
              "      <th>10</th>\n",
              "      <td>Semantic Saturation in Retrospective Text Document  Collections</td>\n",
              "      <td>Semantic Saturation in Retrospective Text Document  Collections      Victoria Kosa​1​, Eugene Yuschenko​2​, Carlos Badenes​3​, Vadim Ermolayev​1​,   and Aliaksandr Birukou​4    1​ Department of Co...</td>\n",
              "      <td>7700</td>\n",
              "      <td>[semantic, Saturation, Retrospective, Text, document, Collections,      , Victoria, Kosa​1​, Eugene, Yuschenko​2​, Carlos, Badenes​3​, Vadim, Ermolayev​1​,   , Aliaksandr, Birukou​4,    , 1​, Depa...</td>\n",
              "      <td>1761</td>\n",
              "      <td>620</td>\n",
              "    </tr>\n",
              "  </tbody>\n",
              "</table>\n",
              "</div>"
            ],
            "text/plain": [
              "                                                                                                                   title  ... #uni_tokens\n",
              "0                                       Cross-Evaluation of Term Extraction Tools by Measuring Terminological Saturation  ...        1688\n",
              "1   Enhancing Public Procurement in the European Union through Constructing and Exploiting an Integrated Knowledge Graph  ...        1355\n",
              "2                                            Drugs4Covid: Making drug information available from scientific publications  ...        1413\n",
              "3                                                                           Distributing Text Mining tasks with librAIry  ...         742\n",
              "4                         Large-Scale Semantic Exploration of Scientific Literature using Topic-based Hashing Algorithms  ...        1839\n",
              "5     An initial Analysis of Topic-based Similarity among Scientific Documents based on their Rhetorical Discourse Parts  ...         590\n",
              "6                                                                    Efficient Clustering from Distributions over Topics  ...        1013\n",
              "7                                         Legal Documents Retrieval Across Languages: Topic Hierarchies based on synsets  ...         364\n",
              "8                               Scalable Cross-lingual Document Similarity through Language-specific Concept Hierarchies  ...        1100\n",
              "9                                                  Potentially inappropriate medications in older adults living with HIV  ...        1056\n",
              "10                                                       Semantic Saturation in Retrospective Text Document  Collections  ...         620\n",
              "\n",
              "[11 rows x 6 columns]"
            ]
          },
          "metadata": {
            "tags": []
          },
          "execution_count": 7
        }
      ]
    },
    {
      "cell_type": "markdown",
      "metadata": {
        "id": "SjqffNPFmnyJ"
      },
      "source": [
        "## 2.3. Text Vectorization"
      ]
    },
    {
      "cell_type": "markdown",
      "metadata": {
        "id": "ajYqcsxZs2_E"
      },
      "source": [
        "Once all terms have been pre-processed, numerical weights are assigned to each them. The same term may have a different weight in each distinct document in which it occurs. The weight is usually a measure of how effective the given term is likely to be in distinguishing the given document from other documents in the given collection, and is often normalized to be a fraction between zero and one. Statistical approaches fall into the following categories: boolean, vector space and probabilistic."
      ]
    },
    {
      "cell_type": "code",
      "metadata": {
        "colab": {
          "base_uri": "https://localhost:8080/"
        },
        "id": "-lPx4akLzb3a",
        "outputId": "86aa8400-433a-40e0-ba90-08dfec43f7d0"
      },
      "source": [
        "all_tokens = []\n",
        "for tokens in corpus_df['tokens']:\n",
        "  all_tokens.extend(tokens)\n",
        "\n",
        "vocabulary = list(set(all_tokens))\n",
        "print(\"Vocabulary size:\",len(vocabulary),\" unique words(tokens)\")\n",
        "print(\"Vocabulary words:\",vocabulary[1:10],\"...\")"
      ],
      "execution_count": 8,
      "outputs": [
        {
          "output_type": "stream",
          "text": [
            "Vocabulary size: 6400  unique words(tokens)\n",
            "Vocabulary words: ['t0', 'Fern´andez-', 'Recent', 'perceive', 'hand', 'rdf14', 'Rhetoric', 'Entity', 'bioinformatic'] ...\n"
          ],
          "name": "stdout"
        }
      ]
    },
    {
      "cell_type": "markdown",
      "metadata": {
        "id": "5DYxmE0Zx93U"
      },
      "source": [
        "To encode our documents, we’ll create a vectorize function that creates a dictionary whose keys are the tokens in the document and whose values will depend on the approach we use.\n"
      ]
    },
    {
      "cell_type": "markdown",
      "metadata": {
        "id": "EObcQrTJlMvl"
      },
      "source": [
        "\n",
        "The `defaultdic` object allows us to specify what the dictionary will return for a key that hasn’t been assigned to it yet. By setting `defaultdict(int)` we are specifying that a 0 should be returned, thus creating a simple counting dictionary. We can map this function to every item in the corpus creating an iterable of vectorized documents."
      ]
    },
    {
      "cell_type": "markdown",
      "metadata": {
        "id": "p397ElSvkItE"
      },
      "source": [
        "### 2.3.1. Boolean Approach"
      ]
    },
    {
      "cell_type": "markdown",
      "metadata": {
        "id": "rEmOhEO_0Ahv"
      },
      "source": [
        "The Boolean representation sets true or false for each vocabulary word depending on whether or not it appears in the document."
      ]
    },
    {
      "cell_type": "code",
      "metadata": {
        "colab": {
          "base_uri": "https://localhost:8080/",
          "height": 508
        },
        "id": "G9EkhRpqy8Yr",
        "outputId": "c4fac02f-15dc-452e-80ae-9379b3855abd"
      },
      "source": [
        "from collections import defaultdict\n",
        "\n",
        "def boolean_vectorize(tokens):\n",
        "    features = defaultdict(bool)\n",
        "    for token in tokens:\n",
        "        features[token] = True\n",
        "    return features\n",
        "\n",
        "corpus_df['boolean'] = corpus_df['tokens'].apply(boolean_vectorize)\n",
        "corpus_df.head(3)"
      ],
      "execution_count": 14,
      "outputs": [
        {
          "output_type": "execute_result",
          "data": {
            "text/html": [
              "<div>\n",
              "<style scoped>\n",
              "    .dataframe tbody tr th:only-of-type {\n",
              "        vertical-align: middle;\n",
              "    }\n",
              "\n",
              "    .dataframe tbody tr th {\n",
              "        vertical-align: top;\n",
              "    }\n",
              "\n",
              "    .dataframe thead th {\n",
              "        text-align: right;\n",
              "    }\n",
              "</style>\n",
              "<table border=\"1\" class=\"dataframe\">\n",
              "  <thead>\n",
              "    <tr style=\"text-align: right;\">\n",
              "      <th></th>\n",
              "      <th>title</th>\n",
              "      <th>text</th>\n",
              "      <th>#words</th>\n",
              "      <th>tokens</th>\n",
              "      <th>#tokens</th>\n",
              "      <th>#uni_tokens</th>\n",
              "      <th>boolean</th>\n",
              "      <th>tf</th>\n",
              "      <th>tf_idf</th>\n",
              "    </tr>\n",
              "  </thead>\n",
              "  <tbody>\n",
              "    <tr>\n",
              "      <th>0</th>\n",
              "      <td>Cross-Evaluation of Term Extraction Tools by Measuring Terminological Saturation</td>\n",
              "      <td>Synopsis of the Refinements and Extensions  Compared to the Publication in the Conference Proceedings  This submission is a refined and extended paper based on the ICTERI 2017 PhD  Symposium paper...</td>\n",
              "      <td>12954</td>\n",
              "      <td>[synopsis, Refinements, Extensions, compare, publication, Conference, Proceedings, submission, refined, extended, paper, base, ICTERI, 2017, phd, symposium, paper, Kosa, et, al, fact, submission, ...</td>\n",
              "      <td>6495</td>\n",
              "      <td>1688</td>\n",
              "      <td>{'synopsis': True, 'Refinements': True, 'Extensions': True, 'compare': True, 'publication': True, 'Conference': True, 'Proceedings': True, 'submission': True, 'refined': True, 'extended': True, 'p...</td>\n",
              "      <td>{'synopsis': 1, 'Refinements': 1, 'Extensions': 1, 'compare': 21, 'publication': 3, 'Conference': 1, 'Proceedings': 1, 'submission': 2, 'refined': 2, 'extended': 1, 'paper': 44, 'base': 43, 'ICTER...</td>\n",
              "      <td>{'synopsis': 0.00036919095809058824, 'Refinements': 0.00036919095809058824, 'Extensions': 0.00036919095809058824, 'compare': 0.0003081622441710275, 'publication': 0.00027997034806942977, 'Conferen...</td>\n",
              "    </tr>\n",
              "    <tr>\n",
              "      <th>1</th>\n",
              "      <td>Enhancing Public Procurement in the European Union through Constructing and Exploiting an Integrated Knowledge Graph</td>\n",
              "      <td>Enhancing Public Procurement in the European Union through Constructing and Exploiting an Integrated Knowledge Graph Ahmet Soylu1, Oscar Corcho2, Brian Elvesæter1, Carlos Badenes-Olmedo2, Francisc...</td>\n",
              "      <td>5827</td>\n",
              "      <td>[enhance, Public, Procurement, European, Union, Constructing, exploit, Integrated, Knowledge, Graph, Ahmet, Soylu1, Oscar, Corcho2, Brian, Elvesæter1, Carlos, Badenes, Olmedo2, Francisco, Yedro2, ...</td>\n",
              "      <td>3511</td>\n",
              "      <td>1355</td>\n",
              "      <td>{'enhance': True, 'Public': True, 'Procurement': True, 'European': True, 'Union': True, 'Constructing': True, 'exploit': True, 'Integrated': True, 'Knowledge': True, 'Graph': True, 'Ahmet': True, ...</td>\n",
              "      <td>{'enhance': 9, 'Public': 9, 'Procurement': 9, 'European': 5, 'Union': 3, 'Constructing': 1, 'exploit': 1, 'Integrated': 8, 'Knowledge': 11, 'Graph': 11, 'Ahmet': 1, 'Soylu1': 1, 'Oscar': 1, 'Corch...</td>\n",
              "      <td>{'enhance': 0.004369903967572152, 'Public': 0.006146698221357259, 'Procurement': 0.006146698221357259, 'European': 0.00144061650765947, 'Union': 0.0011101819858703454, 'Constructing': 0.0006829664...</td>\n",
              "    </tr>\n",
              "    <tr>\n",
              "      <th>2</th>\n",
              "      <td>Drugs4Covid: Making drug information available from scientific publications</td>\n",
              "      <td>Drugs4Covid: Making drug information available from scientific publications Carlos Badenes-Olmedo1, David Chaves-Fraga1, Mar´ıa Poveda-Villal´on1, Ana Iglesias-Molina1, Pablo Calleja1, Socorro Ber...</td>\n",
              "      <td>5417</td>\n",
              "      <td>[Drugs4Covid, make, drug, information, available, scientific, publication, Carlos, Badenes, Olmedo1, David, Chaves, Fraga1, Mar´ıa, Poveda, Villal´on1, Ana, Iglesias, Molina1, Pablo, Calleja1, Soc...</td>\n",
              "      <td>3347</td>\n",
              "      <td>1413</td>\n",
              "      <td>{'Drugs4Covid': True, 'make': True, 'drug': True, 'information': True, 'available': True, 'scientific': True, 'publication': True, 'Carlos': True, 'Badenes': True, 'Olmedo1': True, 'David': True, ...</td>\n",
              "      <td>{'Drugs4Covid': 24, 'make': 2, 'drug': 71, 'information': 11, 'available': 12, 'scientific': 14, 'publication': 9, 'Carlos': 1, 'Badenes': 10, 'Olmedo1': 1, 'David': 1, 'Chaves': 1, 'Fraga1': 1, '...</td>\n",
              "      <td>{'Drugs4Covid': 0.017194349132704182, 'make': 0.00019029204130178342, 'drug': 0.03616286661157102, 'information': 0.0, 'available': 0.00034171561328111716, 'scientific': 0.004231375190767469, 'pub...</td>\n",
              "    </tr>\n",
              "  </tbody>\n",
              "</table>\n",
              "</div>"
            ],
            "text/plain": [
              "                                                                                                                  title  ...                                                                                                                                                                                                   tf_idf\n",
              "0                                      Cross-Evaluation of Term Extraction Tools by Measuring Terminological Saturation  ...  {'synopsis': 0.00036919095809058824, 'Refinements': 0.00036919095809058824, 'Extensions': 0.00036919095809058824, 'compare': 0.0003081622441710275, 'publication': 0.00027997034806942977, 'Conferen...\n",
              "1  Enhancing Public Procurement in the European Union through Constructing and Exploiting an Integrated Knowledge Graph  ...  {'enhance': 0.004369903967572152, 'Public': 0.006146698221357259, 'Procurement': 0.006146698221357259, 'European': 0.00144061650765947, 'Union': 0.0011101819858703454, 'Constructing': 0.0006829664...\n",
              "2                                           Drugs4Covid: Making drug information available from scientific publications  ...  {'Drugs4Covid': 0.017194349132704182, 'make': 0.00019029204130178342, 'drug': 0.03616286661157102, 'information': 0.0, 'available': 0.00034171561328111716, 'scientific': 0.004231375190767469, 'pub...\n",
              "\n",
              "[3 rows x 9 columns]"
            ]
          },
          "metadata": {
            "tags": []
          },
          "execution_count": 14
        }
      ]
    },
    {
      "cell_type": "markdown",
      "metadata": {
        "id": "cacVm6aF0POJ"
      },
      "source": [
        "In the boolean approach, the query is formulated as a boolean combination of terms. A conventional boolean query uses the classical operators AND, OR, and NOT. The query ”t1 AND t2” is satisfied by a given document D1 if and only if D1 contains both terms t1 and t2. Similarly, the query ”t1 OR t2” is satisfied by D1 if and only if it contains t1 or t2 or both. The query ”t1 AND NOT t2” satisfies D1 if and only if it contains t1 and does not contain t2. More complex boolean queries can be built up out of these operators and evaluated according to the classical rules of boolean algebra. Such a boolean query is either true or false. Correspondingly, a document either satisfies such a query, i.e. is relevant, or does not satisfy it, i.e. is non-relevant. **No ranking is possible**, which is a significant limitation for this approach (Harmon, 1996)."
      ]
    },
    {
      "cell_type": "markdown",
      "metadata": {
        "id": "zrUgr3a53PLt"
      },
      "source": [
        "For example, we can search for documents about topic hierarchies and multilinguality."
      ]
    },
    {
      "cell_type": "code",
      "metadata": {
        "colab": {
          "base_uri": "https://localhost:8080/"
        },
        "id": "nhpXox-o0zaM",
        "outputId": "e191c0c5-6777-40f6-b33e-f2ae405f5299"
      },
      "source": [
        "def relevant(doc):\n",
        "  #return doc['HIV']\n",
        "  return doc['multilingual'] and doc['topic'] and doc['hierarchy']\n",
        "  #return doc['multilingual'] and doc['procurement']\n",
        "\n",
        "result = []\n",
        "pos = 0\n",
        "for vector in corpus_df['boolean']:\n",
        "  if relevant(vector):\n",
        "    result.append(corpus_df['title'][pos])\n",
        "  pos+=1 \n",
        "\n",
        "for paper in result:\n",
        "  print(\"-\",paper)"
      ],
      "execution_count": 26,
      "outputs": [
        {
          "output_type": "stream",
          "text": [
            "- Enhancing Public Procurement in the European Union through Constructing and Exploiting an Integrated Knowledge Graph\n",
            "- Legal Documents Retrieval Across Languages: Topic Hierarchies based on synsets\n",
            "- Scalable Cross-lingual Document Similarity through Language-specific Concept Hierarchies\n"
          ],
          "name": "stdout"
        }
      ]
    },
    {
      "cell_type": "markdown",
      "metadata": {
        "id": "FYdnZkrr45D1"
      },
      "source": [
        "### 2.3.2 Vector space models"
      ]
    },
    {
      "cell_type": "markdown",
      "metadata": {
        "id": "Y9FsGqw847uK"
      },
      "source": [
        "Vector space models (VSM) (Salton and McGill, 1983) were proposed to represent texts as vectors where each entry corresponds to a different term and the number at that entry corresponds to how many times that term is present in the text. The objective was twofold: on the one hand, making document collections manageable since we move from having lots of terms for each text to only one vector per document with a defined dimension; on the other hand, having representations based on metric spaces where calculations can be made, for example comparisons by measuring vector distances."
      ]
    },
    {
      "cell_type": "markdown",
      "metadata": {
        "id": "g0LgdiFxdLew"
      },
      "source": [
        "#### 2.3.2.1 Term-Frequency (TF)"
      ]
    },
    {
      "cell_type": "markdown",
      "metadata": {
        "id": "UUisxAH65FrB"
      },
      "source": [
        "The definition and number of dimensions for each vector are key aspects in a VSM. Based on the use of this type of model, traditional document retrieval tasks over collections of textual documents highly rely on individual features like term frequencies (TF) (Hearst and Hall, 1999). A representational space is created where each term in the vocabulary is projected by a separate and orthogonal dimension.\n",
        "\n",
        "Vectors are created with the frequency of each word as it appears in the document. In this encoding scheme, each document is represented as the multiset of the tokens that compose it and the value for each word position in the vector is its count. This representation can either be a straight count (integer) encoding or a normalized encoding where each word is weighted by the total number of words in the document."
      ]
    },
    {
      "cell_type": "code",
      "metadata": {
        "colab": {
          "base_uri": "https://localhost:8080/",
          "height": 508
        },
        "id": "BGMOd8vgkM6Y",
        "outputId": "451b2a29-b841-4d4c-db0a-95c31a986cf6"
      },
      "source": [
        "from collections import defaultdict\n",
        "\n",
        "def tf_vectorize(tokens):\n",
        "    features = defaultdict(int)\n",
        "    for token in tokens:\n",
        "        features[token] += 1\n",
        "    return features\n",
        "\n",
        "corpus_df['tf'] = corpus_df['tokens'].apply(tf_vectorize)\n",
        "corpus_df.head(3)"
      ],
      "execution_count": 23,
      "outputs": [
        {
          "output_type": "execute_result",
          "data": {
            "text/html": [
              "<div>\n",
              "<style scoped>\n",
              "    .dataframe tbody tr th:only-of-type {\n",
              "        vertical-align: middle;\n",
              "    }\n",
              "\n",
              "    .dataframe tbody tr th {\n",
              "        vertical-align: top;\n",
              "    }\n",
              "\n",
              "    .dataframe thead th {\n",
              "        text-align: right;\n",
              "    }\n",
              "</style>\n",
              "<table border=\"1\" class=\"dataframe\">\n",
              "  <thead>\n",
              "    <tr style=\"text-align: right;\">\n",
              "      <th></th>\n",
              "      <th>title</th>\n",
              "      <th>text</th>\n",
              "      <th>#words</th>\n",
              "      <th>tokens</th>\n",
              "      <th>#tokens</th>\n",
              "      <th>#uni_tokens</th>\n",
              "      <th>boolean</th>\n",
              "      <th>tf</th>\n",
              "      <th>tf_idf</th>\n",
              "    </tr>\n",
              "  </thead>\n",
              "  <tbody>\n",
              "    <tr>\n",
              "      <th>0</th>\n",
              "      <td>Cross-Evaluation of Term Extraction Tools by Measuring Terminological Saturation</td>\n",
              "      <td>Synopsis of the Refinements and Extensions  Compared to the Publication in the Conference Proceedings  This submission is a refined and extended paper based on the ICTERI 2017 PhD  Symposium paper...</td>\n",
              "      <td>12954</td>\n",
              "      <td>[synopsis, Refinements, Extensions, compare, publication, Conference, Proceedings, submission, refined, extended, paper, base, ICTERI, 2017, phd, symposium, paper, Kosa, et, al, fact, submission, ...</td>\n",
              "      <td>6495</td>\n",
              "      <td>1688</td>\n",
              "      <td>{'synopsis': True, 'Refinements': True, 'Extensions': True, 'compare': True, 'publication': True, 'Conference': True, 'Proceedings': True, 'submission': True, 'refined': True, 'extended': True, 'p...</td>\n",
              "      <td>{'synopsis': 1, 'Refinements': 1, 'Extensions': 1, 'compare': 21, 'publication': 3, 'Conference': 1, 'Proceedings': 1, 'submission': 2, 'refined': 2, 'extended': 1, 'paper': 44, 'base': 43, 'ICTER...</td>\n",
              "      <td>{'synopsis': 0.00036919095809058824, 'Refinements': 0.00036919095809058824, 'Extensions': 0.00036919095809058824, 'compare': 0.0003081622441710275, 'publication': 0.00027997034806942977, 'Conferen...</td>\n",
              "    </tr>\n",
              "    <tr>\n",
              "      <th>1</th>\n",
              "      <td>Enhancing Public Procurement in the European Union through Constructing and Exploiting an Integrated Knowledge Graph</td>\n",
              "      <td>Enhancing Public Procurement in the European Union through Constructing and Exploiting an Integrated Knowledge Graph Ahmet Soylu1, Oscar Corcho2, Brian Elvesæter1, Carlos Badenes-Olmedo2, Francisc...</td>\n",
              "      <td>5827</td>\n",
              "      <td>[enhance, Public, Procurement, European, Union, Constructing, exploit, Integrated, Knowledge, Graph, Ahmet, Soylu1, Oscar, Corcho2, Brian, Elvesæter1, Carlos, Badenes, Olmedo2, Francisco, Yedro2, ...</td>\n",
              "      <td>3511</td>\n",
              "      <td>1355</td>\n",
              "      <td>{'enhance': True, 'Public': True, 'Procurement': True, 'European': True, 'Union': True, 'Constructing': True, 'exploit': True, 'Integrated': True, 'Knowledge': True, 'Graph': True, 'Ahmet': True, ...</td>\n",
              "      <td>{'enhance': 9, 'Public': 9, 'Procurement': 9, 'European': 5, 'Union': 3, 'Constructing': 1, 'exploit': 1, 'Integrated': 8, 'Knowledge': 11, 'Graph': 11, 'Ahmet': 1, 'Soylu1': 1, 'Oscar': 1, 'Corch...</td>\n",
              "      <td>{'enhance': 0.004369903967572152, 'Public': 0.006146698221357259, 'Procurement': 0.006146698221357259, 'European': 0.00144061650765947, 'Union': 0.0011101819858703454, 'Constructing': 0.0006829664...</td>\n",
              "    </tr>\n",
              "    <tr>\n",
              "      <th>2</th>\n",
              "      <td>Drugs4Covid: Making drug information available from scientific publications</td>\n",
              "      <td>Drugs4Covid: Making drug information available from scientific publications Carlos Badenes-Olmedo1, David Chaves-Fraga1, Mar´ıa Poveda-Villal´on1, Ana Iglesias-Molina1, Pablo Calleja1, Socorro Ber...</td>\n",
              "      <td>5417</td>\n",
              "      <td>[Drugs4Covid, make, drug, information, available, scientific, publication, Carlos, Badenes, Olmedo1, David, Chaves, Fraga1, Mar´ıa, Poveda, Villal´on1, Ana, Iglesias, Molina1, Pablo, Calleja1, Soc...</td>\n",
              "      <td>3347</td>\n",
              "      <td>1413</td>\n",
              "      <td>{'Drugs4Covid': True, 'make': True, 'drug': True, 'information': True, 'available': True, 'scientific': True, 'publication': True, 'Carlos': True, 'Badenes': True, 'Olmedo1': True, 'David': True, ...</td>\n",
              "      <td>{'Drugs4Covid': 24, 'make': 2, 'drug': 71, 'information': 11, 'available': 12, 'scientific': 14, 'publication': 9, 'Carlos': 1, 'Badenes': 10, 'Olmedo1': 1, 'David': 1, 'Chaves': 1, 'Fraga1': 1, '...</td>\n",
              "      <td>{'Drugs4Covid': 0.017194349132704182, 'make': 0.00019029204130178342, 'drug': 0.03616286661157102, 'information': 0.0, 'available': 0.00034171561328111716, 'scientific': 0.004231375190767469, 'pub...</td>\n",
              "    </tr>\n",
              "  </tbody>\n",
              "</table>\n",
              "</div>"
            ],
            "text/plain": [
              "                                                                                                                  title  ...                                                                                                                                                                                                   tf_idf\n",
              "0                                      Cross-Evaluation of Term Extraction Tools by Measuring Terminological Saturation  ...  {'synopsis': 0.00036919095809058824, 'Refinements': 0.00036919095809058824, 'Extensions': 0.00036919095809058824, 'compare': 0.0003081622441710275, 'publication': 0.00027997034806942977, 'Conferen...\n",
              "1  Enhancing Public Procurement in the European Union through Constructing and Exploiting an Integrated Knowledge Graph  ...  {'enhance': 0.004369903967572152, 'Public': 0.006146698221357259, 'Procurement': 0.006146698221357259, 'European': 0.00144061650765947, 'Union': 0.0011101819858703454, 'Constructing': 0.0006829664...\n",
              "2                                           Drugs4Covid: Making drug information available from scientific publications  ...  {'Drugs4Covid': 0.017194349132704182, 'make': 0.00019029204130178342, 'drug': 0.03616286661157102, 'information': 0.0, 'available': 0.00034171561328111716, 'scientific': 0.004231375190767469, 'pub...\n",
              "\n",
              "[3 rows x 9 columns]"
            ]
          },
          "metadata": {
            "tags": []
          },
          "execution_count": 23
        }
      ]
    },
    {
      "cell_type": "markdown",
      "metadata": {
        "id": "onn58OYn24Ag"
      },
      "source": [
        "The relevant results can now be sorted according to the frequency of the terms they contain. But **all terms in a document are treated as equally descriptive**."
      ]
    },
    {
      "cell_type": "code",
      "metadata": {
        "colab": {
          "base_uri": "https://localhost:8080/"
        },
        "id": "fx5Iv4X83Ori",
        "outputId": "9c0c0be1-71d3-410e-b9d3-26e6e3c11b5a"
      },
      "source": [
        "def relevant(doc):\n",
        "  # multiple scores for OR queries, the max value should be returned\n",
        "  score = 0\n",
        "  score += doc['multilingual']\n",
        "  score += doc['topic'] \n",
        "  score += doc['hierarchy']\n",
        "  return score\n",
        "\n",
        "result = []\n",
        "pos = 0\n",
        "for vector in corpus_df['tf']:\n",
        "  result.append({ 'title': corpus_df['title'][pos],\n",
        "                 'score' : relevant(vector)})  \n",
        "  pos+=1 \n",
        "\n",
        "def sort_by_score(element):\n",
        "  return element['score']\n",
        "\n",
        "result.sort(reverse=True, key=sort_by_score)\n",
        "\n",
        "for paper in result:\n",
        "  print(paper)"
      ],
      "execution_count": 30,
      "outputs": [
        {
          "output_type": "stream",
          "text": [
            "{'title': 'Large-Scale Semantic Exploration of Scientific Literature using Topic-based Hashing Algorithms', 'score': 197}\n",
            "{'title': 'Scalable Cross-lingual Document Similarity through Language-specific Concept Hierarchies', 'score': 134}\n",
            "{'title': 'Efficient Clustering from Distributions over Topics', 'score': 85}\n",
            "{'title': 'Legal Documents Retrieval Across Languages: Topic Hierarchies based on synsets', 'score': 36}\n",
            "{'title': 'An initial Analysis of Topic-based Similarity among Scientific Documents based on their Rhetorical Discourse Parts', 'score': 27}\n",
            "{'title': 'Enhancing Public Procurement in the European Union through Constructing and Exploiting an Integrated Knowledge Graph', 'score': 14}\n",
            "{'title': 'Drugs4Covid: Making drug information available from scientific publications', 'score': 14}\n",
            "{'title': 'Cross-Evaluation of Term Extraction Tools by Measuring Terminological Saturation', 'score': 4}\n",
            "{'title': 'Distributing Text Mining tasks with librAIry', 'score': 2}\n",
            "{'title': 'Potentially inappropriate medications in older adults living with HIV', 'score': 0}\n",
            "{'title': 'Semantic Saturation in Retrospective Text Document  Collections', 'score': 0}\n"
          ],
          "name": "stdout"
        }
      ]
    },
    {
      "cell_type": "markdown",
      "metadata": {
        "id": "j2eYbhPgdQyO"
      },
      "source": [
        "#### 2.3.2.2 Term-Frequency Inverse-Document-Frequency (TF/IDF)"
      ]
    },
    {
      "cell_type": "markdown",
      "metadata": {
        "id": "e8VATDc-dZr9"
      },
      "source": [
        "To overcome this limitation, Term-Frequency Inverse-Document Frequency (TF-IDF) (Lee, 1995) relativizes the relevance of each term with respect to the entire corpus. TF-IDF calculates the importance of a term for a document, based on the number of times the term appears in the document itself (term frequency - TF) and the number of documents in the corpus, which contain the term (document frequency - DF)."
      ]
    },
    {
      "cell_type": "code",
      "metadata": {
        "colab": {
          "base_uri": "https://localhost:8080/",
          "height": 508
        },
        "id": "tDInLJMgdf3p",
        "outputId": "c30844b0-acc8-4a53-8e0d-b18045c1830b"
      },
      "source": [
        "# https://www.oreilly.com/library/view/applied-text-analysis/9781491963036/ch04.html\n",
        "from collections import defaultdict\n",
        "from nltk.text import TextCollection\n",
        "\n",
        "texts  = TextCollection(corpus_df['tokens'])\n",
        "\n",
        "vectors = []\n",
        "\n",
        "for doc in corpus_df['tokens']:\n",
        "  features = defaultdict(int)\n",
        "  for term in doc:\n",
        "    features[term]=texts.tf_idf(term, doc)\n",
        "  vectors.append(features)\n",
        "\n",
        "corpus_df['tf_idf'] = vectors\n",
        "corpus_df.head(3)"
      ],
      "execution_count": 35,
      "outputs": [
        {
          "output_type": "execute_result",
          "data": {
            "text/html": [
              "<div>\n",
              "<style scoped>\n",
              "    .dataframe tbody tr th:only-of-type {\n",
              "        vertical-align: middle;\n",
              "    }\n",
              "\n",
              "    .dataframe tbody tr th {\n",
              "        vertical-align: top;\n",
              "    }\n",
              "\n",
              "    .dataframe thead th {\n",
              "        text-align: right;\n",
              "    }\n",
              "</style>\n",
              "<table border=\"1\" class=\"dataframe\">\n",
              "  <thead>\n",
              "    <tr style=\"text-align: right;\">\n",
              "      <th></th>\n",
              "      <th>title</th>\n",
              "      <th>text</th>\n",
              "      <th>#words</th>\n",
              "      <th>tokens</th>\n",
              "      <th>#tokens</th>\n",
              "      <th>#uni_tokens</th>\n",
              "      <th>boolean</th>\n",
              "      <th>tf</th>\n",
              "      <th>tf_idf</th>\n",
              "    </tr>\n",
              "  </thead>\n",
              "  <tbody>\n",
              "    <tr>\n",
              "      <th>0</th>\n",
              "      <td>Cross-Evaluation of Term Extraction Tools by Measuring Terminological Saturation</td>\n",
              "      <td>Synopsis of the Refinements and Extensions  Compared to the Publication in the Conference Proceedings  This submission is a refined and extended paper based on the ICTERI 2017 PhD  Symposium paper...</td>\n",
              "      <td>12954</td>\n",
              "      <td>[synopsis, Refinements, Extensions, compare, publication, Conference, Proceedings, submission, refined, extended, paper, base, ICTERI, 2017, phd, symposium, paper, Kosa, et, al, fact, submission, ...</td>\n",
              "      <td>6495</td>\n",
              "      <td>1688</td>\n",
              "      <td>{'synopsis': True, 'Refinements': True, 'Extensions': True, 'compare': True, 'publication': True, 'Conference': True, 'Proceedings': True, 'submission': True, 'refined': True, 'extended': True, 'p...</td>\n",
              "      <td>{'synopsis': 1, 'Refinements': 1, 'Extensions': 1, 'compare': 21, 'publication': 3, 'Conference': 1, 'Proceedings': 1, 'submission': 2, 'refined': 2, 'extended': 1, 'paper': 44, 'base': 43, 'ICTER...</td>\n",
              "      <td>{'synopsis': 0.00036919095809058824, 'Refinements': 0.00036919095809058824, 'Extensions': 0.00036919095809058824, 'compare': 0.0003081622441710275, 'publication': 0.00027997034806942977, 'Conferen...</td>\n",
              "    </tr>\n",
              "    <tr>\n",
              "      <th>1</th>\n",
              "      <td>Enhancing Public Procurement in the European Union through Constructing and Exploiting an Integrated Knowledge Graph</td>\n",
              "      <td>Enhancing Public Procurement in the European Union through Constructing and Exploiting an Integrated Knowledge Graph Ahmet Soylu1, Oscar Corcho2, Brian Elvesæter1, Carlos Badenes-Olmedo2, Francisc...</td>\n",
              "      <td>5827</td>\n",
              "      <td>[enhance, Public, Procurement, European, Union, Constructing, exploit, Integrated, Knowledge, Graph, Ahmet, Soylu1, Oscar, Corcho2, Brian, Elvesæter1, Carlos, Badenes, Olmedo2, Francisco, Yedro2, ...</td>\n",
              "      <td>3511</td>\n",
              "      <td>1355</td>\n",
              "      <td>{'enhance': True, 'Public': True, 'Procurement': True, 'European': True, 'Union': True, 'Constructing': True, 'exploit': True, 'Integrated': True, 'Knowledge': True, 'Graph': True, 'Ahmet': True, ...</td>\n",
              "      <td>{'enhance': 9, 'Public': 9, 'Procurement': 9, 'European': 5, 'Union': 3, 'Constructing': 1, 'exploit': 1, 'Integrated': 8, 'Knowledge': 11, 'Graph': 11, 'Ahmet': 1, 'Soylu1': 1, 'Oscar': 1, 'Corch...</td>\n",
              "      <td>{'enhance': 0.004369903967572152, 'Public': 0.006146698221357259, 'Procurement': 0.006146698221357259, 'European': 0.00144061650765947, 'Union': 0.0011101819858703454, 'Constructing': 0.0006829664...</td>\n",
              "    </tr>\n",
              "    <tr>\n",
              "      <th>2</th>\n",
              "      <td>Drugs4Covid: Making drug information available from scientific publications</td>\n",
              "      <td>Drugs4Covid: Making drug information available from scientific publications Carlos Badenes-Olmedo1, David Chaves-Fraga1, Mar´ıa Poveda-Villal´on1, Ana Iglesias-Molina1, Pablo Calleja1, Socorro Ber...</td>\n",
              "      <td>5417</td>\n",
              "      <td>[Drugs4Covid, make, drug, information, available, scientific, publication, Carlos, Badenes, Olmedo1, David, Chaves, Fraga1, Mar´ıa, Poveda, Villal´on1, Ana, Iglesias, Molina1, Pablo, Calleja1, Soc...</td>\n",
              "      <td>3347</td>\n",
              "      <td>1413</td>\n",
              "      <td>{'Drugs4Covid': True, 'make': True, 'drug': True, 'information': True, 'available': True, 'scientific': True, 'publication': True, 'Carlos': True, 'Badenes': True, 'Olmedo1': True, 'David': True, ...</td>\n",
              "      <td>{'Drugs4Covid': 24, 'make': 2, 'drug': 71, 'information': 11, 'available': 12, 'scientific': 14, 'publication': 9, 'Carlos': 1, 'Badenes': 10, 'Olmedo1': 1, 'David': 1, 'Chaves': 1, 'Fraga1': 1, '...</td>\n",
              "      <td>{'Drugs4Covid': 0.017194349132704182, 'make': 0.00019029204130178342, 'drug': 0.03616286661157102, 'information': 0.0, 'available': 0.00034171561328111716, 'scientific': 0.004231375190767469, 'pub...</td>\n",
              "    </tr>\n",
              "  </tbody>\n",
              "</table>\n",
              "</div>"
            ],
            "text/plain": [
              "                                                                                                                  title  ...                                                                                                                                                                                                   tf_idf\n",
              "0                                      Cross-Evaluation of Term Extraction Tools by Measuring Terminological Saturation  ...  {'synopsis': 0.00036919095809058824, 'Refinements': 0.00036919095809058824, 'Extensions': 0.00036919095809058824, 'compare': 0.0003081622441710275, 'publication': 0.00027997034806942977, 'Conferen...\n",
              "1  Enhancing Public Procurement in the European Union through Constructing and Exploiting an Integrated Knowledge Graph  ...  {'enhance': 0.004369903967572152, 'Public': 0.006146698221357259, 'Procurement': 0.006146698221357259, 'European': 0.00144061650765947, 'Union': 0.0011101819858703454, 'Constructing': 0.0006829664...\n",
              "2                                           Drugs4Covid: Making drug information available from scientific publications  ...  {'Drugs4Covid': 0.017194349132704182, 'make': 0.00019029204130178342, 'drug': 0.03616286661157102, 'information': 0.0, 'available': 0.00034171561328111716, 'scientific': 0.004231375190767469, 'pub...\n",
              "\n",
              "[3 rows x 9 columns]"
            ]
          },
          "metadata": {
            "tags": []
          },
          "execution_count": 35
        }
      ]
    },
    {
      "cell_type": "markdown",
      "metadata": {
        "id": "qUT1MiuR5wr4"
      },
      "source": [
        "Relevance now depends not only on the document, but also on the corpus. Those documents that contain the key terms in a different proportion to the rest of the documents will be the most relevant."
      ]
    },
    {
      "cell_type": "code",
      "metadata": {
        "colab": {
          "base_uri": "https://localhost:8080/"
        },
        "id": "6gSOCAVg6KO2",
        "outputId": "4b9743c2-249c-432d-bdf7-a4cc9a4da83c"
      },
      "source": [
        "result = []\n",
        "pos = 0\n",
        "for vector in corpus_df['tf_idf']:\n",
        "  result.append({ 'title': corpus_df['title'][pos],\n",
        "                 'score' : relevant(vector)})  \n",
        "  pos+=1 \n",
        "\n",
        "result.sort(reverse=True, key=sort_by_score)\n",
        "\n",
        "for paper in result:\n",
        "  print(paper)"
      ],
      "execution_count": 36,
      "outputs": [
        {
          "output_type": "stream",
          "text": [
            "{'title': 'Legal Documents Retrieval Across Languages: Topic Hierarchies based on synsets', 'score': 0.016292567800316772}\n",
            "{'title': 'Scalable Cross-lingual Document Similarity through Language-specific Concept Hierarchies', 'score': 0.01377950453669197}\n",
            "{'title': 'Large-Scale Semantic Exploration of Scientific Literature using Topic-based Hashing Algorithms', 'score': 0.009309320794608889}\n",
            "{'title': 'Efficient Clustering from Distributions over Topics', 'score': 0.005723255199216663}\n",
            "{'title': 'An initial Analysis of Topic-based Similarity among Scientific Documents based on their Rhetorical Discourse Parts', 'score': 0.0037678086074256494}\n",
            "{'title': 'Enhancing Public Procurement in the European Union through Constructing and Exploiting an Integrated Knowledge Graph', 'score': 0.0012804866676275552}\n",
            "{'title': 'Drugs4Covid: Making drug information available from scientific publications', 'score': 0.0008393754814670205}\n",
            "{'title': 'Distributing Text Mining tasks with librAIry', 'score': 0.0002704456812158373}\n",
            "{'title': 'Cross-Evaluation of Term Extraction Tools by Measuring Terminological Saturation', 'score': 0.00012358472391818398}\n",
            "{'title': 'Potentially inappropriate medications in older adults living with HIV', 'score': 0}\n",
            "{'title': 'Semantic Saturation in Retrospective Text Document  Collections', 'score': 0}\n"
          ],
          "name": "stdout"
        }
      ]
    },
    {
      "cell_type": "markdown",
      "metadata": {
        "id": "8REaBnOO7ayR"
      },
      "source": [
        "However the **absence of semantic information, and the high-number of dimensions** are the main drawbacks of these approaches that lead to the emergence of other techniques. New ways of characterizing documents appeared based on the automatic generation of models discovering the main themes covered in the corpus."
      ]
    },
    {
      "cell_type": "markdown",
      "metadata": {
        "id": "Q3iy0fjH73ys"
      },
      "source": [
        "#### 2.3.2.3 Text embedding"
      ]
    },
    {
      "cell_type": "markdown",
      "metadata": {
        "id": "G7bKKfcv7lSR"
      },
      "source": [
        " Among them, text embedding proposes transforming texts into low-dimensional vectors by pre- diction methods based on (i) word sequences or (ii) bag-of-words."
      ]
    },
    {
      "cell_type": "markdown",
      "metadata": {
        "id": "0P-apJdx8DQn"
      },
      "source": [
        "##### 2.3.2.3.1 Word sequences"
      ]
    },
    {
      "cell_type": "markdown",
      "metadata": {
        "id": "5Lj6pi648HGb"
      },
      "source": [
        "This approach assumes words with similar meanings tend to occur in similar contexts. It considers that word order is relevant, and is based on Neural Models (NM) that learn word vectors from pairs of target and context words. Context words are taken as words observed to surround a target word. \n",
        "\n",
        "Document vectors are usually created by taking the word vectors they contain or by considering them as target and context items. Skip-gram with negative sampling (Word2Vec) (Mikolov et al., 2013) and Global Vectors (GloVe) (Pennington et al., 2014) are indeed the most popular methods to learn word embeddings due to its training efficiency and robustness (Levy et al., 2015).\n"
      ]
    },
    {
      "cell_type": "markdown",
      "metadata": {
        "id": "nGunwvB-8wrK"
      },
      "source": [
        "The Doc2Vec algorithm is an extension of Word2Vec. It proposes a paragraph vector, i.e. an unsupervised algorithm that learns fixed-length feature representations from variable length documents. It takes into consideration the ordering of words within a narrow context, similar to an n-gram model. The combined result generalizes and has a lower dimensionality but still is of a fixed length so it can be used in common machine learning algorithms."
      ]
    },
    {
      "cell_type": "code",
      "metadata": {
        "colab": {
          "base_uri": "https://localhost:8080/",
          "height": 595
        },
        "id": "0VanWTtt8TmV",
        "outputId": "1deda422-b360-4bec-95c7-4713b86136c7"
      },
      "source": [
        "from gensim.models.doc2vec import TaggedDocument, Doc2Vec\n",
        "\n",
        "documents = [TaggedDocument(doc, [i]) for i, doc in enumerate(corpus_df['tokens'])]\n",
        "model = Doc2Vec(documents, vector_size=5, min_count=0, window=2, workers=4)\n",
        "\n",
        "docvecs = []\n",
        "for pos in range(len(corpus_df['tokens'])):\n",
        "  docvecs.append(model.docvecs[pos])\n",
        "\n",
        "corpus_df['d2v'] = docvecs\n",
        "corpus_df.head(3)\n"
      ],
      "execution_count": 46,
      "outputs": [
        {
          "output_type": "execute_result",
          "data": {
            "text/html": [
              "<div>\n",
              "<style scoped>\n",
              "    .dataframe tbody tr th:only-of-type {\n",
              "        vertical-align: middle;\n",
              "    }\n",
              "\n",
              "    .dataframe tbody tr th {\n",
              "        vertical-align: top;\n",
              "    }\n",
              "\n",
              "    .dataframe thead th {\n",
              "        text-align: right;\n",
              "    }\n",
              "</style>\n",
              "<table border=\"1\" class=\"dataframe\">\n",
              "  <thead>\n",
              "    <tr style=\"text-align: right;\">\n",
              "      <th></th>\n",
              "      <th>title</th>\n",
              "      <th>text</th>\n",
              "      <th>#words</th>\n",
              "      <th>tokens</th>\n",
              "      <th>#tokens</th>\n",
              "      <th>#uni_tokens</th>\n",
              "      <th>boolean</th>\n",
              "      <th>tf</th>\n",
              "      <th>tf_idf</th>\n",
              "      <th>d2v</th>\n",
              "    </tr>\n",
              "  </thead>\n",
              "  <tbody>\n",
              "    <tr>\n",
              "      <th>0</th>\n",
              "      <td>Cross-Evaluation of Term Extraction Tools by Measuring Terminological Saturation</td>\n",
              "      <td>Synopsis of the Refinements and Extensions  Compared to the Publication in the Conference Proceedings  This submission is a refined and extended paper based on the ICTERI 2017 PhD  Symposium paper...</td>\n",
              "      <td>12954</td>\n",
              "      <td>[synopsis, Refinements, Extensions, compare, publication, Conference, Proceedings, submission, refined, extended, paper, base, ICTERI, 2017, phd, symposium, paper, Kosa, et, al, fact, submission, ...</td>\n",
              "      <td>6495</td>\n",
              "      <td>1688</td>\n",
              "      <td>{'synopsis': True, 'Refinements': True, 'Extensions': True, 'compare': True, 'publication': True, 'Conference': True, 'Proceedings': True, 'submission': True, 'refined': True, 'extended': True, 'p...</td>\n",
              "      <td>{'synopsis': 1, 'Refinements': 1, 'Extensions': 1, 'compare': 21, 'publication': 3, 'Conference': 1, 'Proceedings': 1, 'submission': 2, 'refined': 2, 'extended': 1, 'paper': 44, 'base': 43, 'ICTER...</td>\n",
              "      <td>{'synopsis': 0.00036919095809058824, 'Refinements': 0.00036919095809058824, 'Extensions': 0.00036919095809058824, 'compare': 0.0003081622441710275, 'publication': 0.00027997034806942977, 'Conferen...</td>\n",
              "      <td>[-15.740464, 4.3430924, -8.222287, -0.07739721, -9.146837]</td>\n",
              "    </tr>\n",
              "    <tr>\n",
              "      <th>1</th>\n",
              "      <td>Enhancing Public Procurement in the European Union through Constructing and Exploiting an Integrated Knowledge Graph</td>\n",
              "      <td>Enhancing Public Procurement in the European Union through Constructing and Exploiting an Integrated Knowledge Graph Ahmet Soylu1, Oscar Corcho2, Brian Elvesæter1, Carlos Badenes-Olmedo2, Francisc...</td>\n",
              "      <td>5827</td>\n",
              "      <td>[enhance, Public, Procurement, European, Union, Constructing, exploit, Integrated, Knowledge, Graph, Ahmet, Soylu1, Oscar, Corcho2, Brian, Elvesæter1, Carlos, Badenes, Olmedo2, Francisco, Yedro2, ...</td>\n",
              "      <td>3511</td>\n",
              "      <td>1355</td>\n",
              "      <td>{'enhance': True, 'Public': True, 'Procurement': True, 'European': True, 'Union': True, 'Constructing': True, 'exploit': True, 'Integrated': True, 'Knowledge': True, 'Graph': True, 'Ahmet': True, ...</td>\n",
              "      <td>{'enhance': 9, 'Public': 9, 'Procurement': 9, 'European': 5, 'Union': 3, 'Constructing': 1, 'exploit': 1, 'Integrated': 8, 'Knowledge': 11, 'Graph': 11, 'Ahmet': 1, 'Soylu1': 1, 'Oscar': 1, 'Corch...</td>\n",
              "      <td>{'enhance': 0.004369903967572152, 'Public': 0.006146698221357259, 'Procurement': 0.006146698221357259, 'European': 0.00144061650765947, 'Union': 0.0011101819858703454, 'Constructing': 0.0006829664...</td>\n",
              "      <td>[-6.1888537, 1.4815748, -11.119544, -5.824677, -7.810485]</td>\n",
              "    </tr>\n",
              "    <tr>\n",
              "      <th>2</th>\n",
              "      <td>Drugs4Covid: Making drug information available from scientific publications</td>\n",
              "      <td>Drugs4Covid: Making drug information available from scientific publications Carlos Badenes-Olmedo1, David Chaves-Fraga1, Mar´ıa Poveda-Villal´on1, Ana Iglesias-Molina1, Pablo Calleja1, Socorro Ber...</td>\n",
              "      <td>5417</td>\n",
              "      <td>[Drugs4Covid, make, drug, information, available, scientific, publication, Carlos, Badenes, Olmedo1, David, Chaves, Fraga1, Mar´ıa, Poveda, Villal´on1, Ana, Iglesias, Molina1, Pablo, Calleja1, Soc...</td>\n",
              "      <td>3347</td>\n",
              "      <td>1413</td>\n",
              "      <td>{'Drugs4Covid': True, 'make': True, 'drug': True, 'information': True, 'available': True, 'scientific': True, 'publication': True, 'Carlos': True, 'Badenes': True, 'Olmedo1': True, 'David': True, ...</td>\n",
              "      <td>{'Drugs4Covid': 24, 'make': 2, 'drug': 71, 'information': 11, 'available': 12, 'scientific': 14, 'publication': 9, 'Carlos': 1, 'Badenes': 10, 'Olmedo1': 1, 'David': 1, 'Chaves': 1, 'Fraga1': 1, '...</td>\n",
              "      <td>{'Drugs4Covid': 0.017194349132704182, 'make': 0.00019029204130178342, 'drug': 0.03616286661157102, 'information': 0.0, 'available': 0.00034171561328111716, 'scientific': 0.004231375190767469, 'pub...</td>\n",
              "      <td>[-8.049958, 3.3679776, -10.898428, -6.2801666, -8.267454]</td>\n",
              "    </tr>\n",
              "  </tbody>\n",
              "</table>\n",
              "</div>"
            ],
            "text/plain": [
              "                                                                                                                  title  ...                                                         d2v\n",
              "0                                      Cross-Evaluation of Term Extraction Tools by Measuring Terminological Saturation  ...  [-15.740464, 4.3430924, -8.222287, -0.07739721, -9.146837]\n",
              "1  Enhancing Public Procurement in the European Union through Constructing and Exploiting an Integrated Knowledge Graph  ...   [-6.1888537, 1.4815748, -11.119544, -5.824677, -7.810485]\n",
              "2                                           Drugs4Covid: Making drug information available from scientific publications  ...   [-8.049958, 3.3679776, -10.898428, -6.2801666, -8.267454]\n",
              "\n",
              "[3 rows x 10 columns]"
            ]
          },
          "metadata": {
            "tags": []
          },
          "execution_count": 46
        }
      ]
    },
    {
      "cell_type": "markdown",
      "metadata": {
        "id": "6p1Fg7JbAjqO"
      },
      "source": [
        "Now, a text or a reference document can be used in the query by  measuring its similarity to the corpus."
      ]
    },
    {
      "cell_type": "code",
      "metadata": {
        "colab": {
          "base_uri": "https://localhost:8080/"
        },
        "id": "6E5OwhdOBGM3",
        "outputId": "d9878946-9547-4632-8c02-e8ac79b76181"
      },
      "source": [
        "from scipy import spatial\n",
        "\n",
        "query_paper = 4\n",
        "query_vector = corpus_df['d2v'][query_paper]\n",
        "\n",
        "def relevant(vector):\n",
        "  distance = spatial.distance.cosine(query_vector, vector)\n",
        "  similarity = 1 - distance\n",
        "  return similarity\n",
        "\n",
        "pos = 0\n",
        "result = []\n",
        "for v1 in corpus_df['d2v']:\n",
        "  result.append({ 'title': corpus_df['title'][pos],\n",
        "                 'score' : relevant(v1)})    \n",
        "  pos+=1\n",
        "\n",
        "result.sort(reverse=True, key=sort_by_score)\n",
        "\n",
        "print(corpus_df['title'][query_paper],\":\")\n",
        "for paper in result:\n",
        "  print(paper)"
      ],
      "execution_count": 55,
      "outputs": [
        {
          "output_type": "stream",
          "text": [
            "Large-Scale Semantic Exploration of Scientific Literature using Topic-based Hashing Algorithms :\n",
            "{'title': 'Large-Scale Semantic Exploration of Scientific Literature using Topic-based Hashing Algorithms', 'score': 1.0}\n",
            "{'title': 'Enhancing Public Procurement in the European Union through Constructing and Exploiting an Integrated Knowledge Graph', 'score': 0.9779927134513855}\n",
            "{'title': 'Efficient Clustering from Distributions over Topics', 'score': 0.9757887125015259}\n",
            "{'title': 'Scalable Cross-lingual Document Similarity through Language-specific Concept Hierarchies', 'score': 0.9753336310386658}\n",
            "{'title': 'Legal Documents Retrieval Across Languages: Topic Hierarchies based on synsets', 'score': 0.9661298394203186}\n",
            "{'title': 'Distributing Text Mining tasks with librAIry', 'score': 0.952582061290741}\n",
            "{'title': 'Drugs4Covid: Making drug information available from scientific publications', 'score': 0.9510497450828552}\n",
            "{'title': 'An initial Analysis of Topic-based Similarity among Scientific Documents based on their Rhetorical Discourse Parts', 'score': 0.9453011751174927}\n",
            "{'title': 'Potentially inappropriate medications in older adults living with HIV', 'score': 0.9237378835678101}\n",
            "{'title': 'Semantic Saturation in Retrospective Text Document  Collections', 'score': 0.9019848704338074}\n",
            "{'title': 'Cross-Evaluation of Term Extraction Tools by Measuring Terminological Saturation', 'score': 0.6990377306938171}\n"
          ],
          "name": "stdout"
        }
      ]
    },
    {
      "cell_type": "markdown",
      "metadata": {
        "id": "TYO-DpTj8UTk"
      },
      "source": [
        "##### 2.3.2.3.2 Bag-of-words"
      ]
    },
    {
      "cell_type": "markdown",
      "metadata": {
        "id": "V3WVlqAj8YHq"
      },
      "source": [
        "This approach does not consider the order of the words to be relevant, but their frequency. It assumes words with similar meanings will occur in similar documents, although a recent proposal uses an embeddings based approach to model the topics (Dieng et al., 2020). Topic models (Blei et al., 2003; Deerwester et al., 1990; Hofmann, 2001) are the main methods based on this approach. This second approach is used in our work since we are not only interested in representing words and documents, but we also seek structures that allows considering knowledge about the collection"
      ]
    },
    {
      "cell_type": "code",
      "metadata": {
        "colab": {
          "base_uri": "https://localhost:8080/"
        },
        "id": "hiwx62ZSm_iN",
        "outputId": "624e3b4b-6bdd-4245-c5e2-5f2fcb616f11"
      },
      "source": [
        "import gensim\n",
        "\n",
        "# Create Dictionary\n",
        "dictionary = gensim.corpora.Dictionary(corpus_df['tokens'])\n",
        "\n",
        "# Create bag-of-words\n",
        "bows = [dictionary.doc2bow(text) for text in corpus_df['tokens']]\n",
        "\n",
        "print(\"->\",corpus_df['title'][0],\":\")\n",
        "for word in bows[0][200:210]:\n",
        "  id = word[0]\n",
        "  freq = word[1]\n",
        "  print(dictionary[id],freq)"
      ],
      "execution_count": 69,
      "outputs": [
        {
          "output_type": "stream",
          "text": [
            "- Cross-Evaluation of Term Extraction Tools by Measuring Terminological Saturation :\n",
            "Ananiadou 1\n",
            "Approaches 1\n",
            "Arenas 1\n",
            "Astrakhantsev 1\n",
            "Automated 2\n",
            "Automation 2\n",
            "Average 1\n",
            "B. 2\n",
            "B1 3\n",
            "B12 7\n"
          ],
          "name": "stdout"
        }
      ]
    },
    {
      "cell_type": "markdown",
      "metadata": {
        "id": "YnpL0grsEBFK"
      },
      "source": [
        "### 2.3.3 Probabilistic Topic Models"
      ]
    },
    {
      "cell_type": "markdown",
      "metadata": {
        "id": "QnROb8LdEKHv"
      },
      "source": [
        "Probabilistic Topic Models (PTM) (Blei et al., 2003; Hofmann, 2001) are statistical methods based on bag-of-words that analyze the words of the original texts to discover the themes that run through them, how those themes are connected to each other, or how they change over time. \n",
        "\n",
        "PTM do not require any prior annotations or labeling of the documents. The topics emerge, as hidden structures, from the analy- sis of the original texts. These structures are topic distributions, per-document topic distributions or per-document per-word topic assignments.\n",
        "\n",
        "In turn, a topic is a distribution over terms that is biased around those words associated to a single theme. This interpretable hidden structure annotates each document in the collection and these annotations can be used to perform deeper analysis about relationships between documents.\n",
        "\n",
        "Topic-based representations bring a lot of potential when applied over different IR tasks, as evidenced by recent works in different domains such as scholarly (Gatti et al., 2015), health (Hsin-Min et al., 2016; Nzali et al., 2017), legal (Greene and Cross, 2016; O’Neill et al., 2017), news (He et al., 2017) and social networks (Cheng et al.,2014). \n",
        "\n",
        "Topic modeling provides an algorithmic solution to organize and annotate large collections of textual documents according to their topics."
      ]
    },
    {
      "cell_type": "markdown",
      "metadata": {
        "id": "791k5zdJExA6"
      },
      "source": [
        "#### 2.3.3.1 LDA"
      ]
    },
    {
      "cell_type": "markdown",
      "metadata": {
        "id": "TWD8-A0NE0go"
      },
      "source": [
        "The simplest generative topic model proposed in the state of the art is Latent Dirichlet Allocation (LDA) (Blei et al., 2003). Along with Latent Semantic Analysis (LSA) (Deerwester et al., 1990) and Probabilistic Latent Semantic Analysis (pLSA) (Hofmann, 2001) are part of the field known as topic modeling. They are well-known latent variable models for high dimensional data, such as the bag-of-words representation for textual data or any other count-based data representation. They try to capture the intuition that documents can exhibit multiple themes."
      ]
    },
    {
      "cell_type": "code",
      "metadata": {
        "colab": {
          "base_uri": "https://localhost:8080/"
        },
        "id": "fqD61-w6E66U",
        "outputId": "b02e60a0-70a9-448c-fe6b-56273788a789"
      },
      "source": [
        "from pprint import pprint\n",
        "\n",
        "lda_model = gensim.models.ldamodel.LdaModel(corpus=bows,\n",
        "                                           id2word=dictionary,\n",
        "                                           num_topics=2, \n",
        "                                           random_state=100,\n",
        "                                           update_every=1,\n",
        "                                           chunksize=100,\n",
        "                                           passes=10,\n",
        "                                           alpha='auto',\n",
        "                                           per_word_topics=True)\n",
        "\n",
        "pprint(lda_model.print_topics())\n",
        "#doc_lda = lda_model[corpus]"
      ],
      "execution_count": 75,
      "outputs": [
        {
          "output_type": "stream",
          "text": [
            "[(0,\n",
            "  '0.021*\"topic\" + 0.016*\"document\" + 0.013*\"base\" + 0.007*\"model\" + '\n",
            "  '0.006*\"distribution\" + 0.006*\"similarity\" + 0.005*\"algorithm\" + '\n",
            "  '0.004*\"create\" + 0.004*\"set\" + 0.004*\"datum\"'),\n",
            " (1,\n",
            "  '0.016*\"term\" + 0.008*\"document\" + 0.008*\"collection\" + 0.007*\"datum\" + '\n",
            "  '0.007*\"  \" + 0.007*\"value\" + 0.007*\"saturation\" + 0.006*\"paper\" + '\n",
            "  '0.005*\"extract\" + 0.005*\"result\"')]\n"
          ],
          "name": "stdout"
        }
      ]
    },
    {
      "cell_type": "markdown",
      "metadata": {
        "id": "KPAWt_z5E7IF"
      },
      "source": [
        "Each document exhibits each topic in different proportion, and each word in each document is drawn from one of the topics, where the selected topic is chosen from the per-document distribution over topics. All the documents in a collection share the same set of topics, but each document exhibits these topics in a different proportion. Texts are described as a vector of counts with W components, where W is the number of words in the vocabulary. Each document in the corpus is modeled as a mixture over K topics, and each topic k is a distribution over the vocabulary of W words."
      ]
    },
    {
      "cell_type": "code",
      "metadata": {
        "colab": {
          "base_uri": "https://localhost:8080/",
          "height": 664
        },
        "id": "i_-6VfGcH5dm",
        "outputId": "1a4c929c-c2a7-42e5-c89b-ffb6283ab994"
      },
      "source": [
        "corpus_doc_lda = lda_model[bows]\n",
        "\n",
        "topic_vectors = []\n",
        "\n",
        "for doc_lda in corpus_doc_lda:\n",
        "  topic_vectors.append(doc_lda[0])\n",
        "\n",
        "corpus_df['topics'] = topic_vectors\n",
        "corpus_df.head(3)\n"
      ],
      "execution_count": 84,
      "outputs": [
        {
          "output_type": "execute_result",
          "data": {
            "text/html": [
              "<div>\n",
              "<style scoped>\n",
              "    .dataframe tbody tr th:only-of-type {\n",
              "        vertical-align: middle;\n",
              "    }\n",
              "\n",
              "    .dataframe tbody tr th {\n",
              "        vertical-align: top;\n",
              "    }\n",
              "\n",
              "    .dataframe thead th {\n",
              "        text-align: right;\n",
              "    }\n",
              "</style>\n",
              "<table border=\"1\" class=\"dataframe\">\n",
              "  <thead>\n",
              "    <tr style=\"text-align: right;\">\n",
              "      <th></th>\n",
              "      <th>title</th>\n",
              "      <th>text</th>\n",
              "      <th>#words</th>\n",
              "      <th>tokens</th>\n",
              "      <th>#tokens</th>\n",
              "      <th>#uni_tokens</th>\n",
              "      <th>boolean</th>\n",
              "      <th>tf</th>\n",
              "      <th>tf_idf</th>\n",
              "      <th>d2v</th>\n",
              "      <th>topics</th>\n",
              "    </tr>\n",
              "  </thead>\n",
              "  <tbody>\n",
              "    <tr>\n",
              "      <th>0</th>\n",
              "      <td>Cross-Evaluation of Term Extraction Tools by Measuring Terminological Saturation</td>\n",
              "      <td>Synopsis of the Refinements and Extensions  Compared to the Publication in the Conference Proceedings  This submission is a refined and extended paper based on the ICTERI 2017 PhD  Symposium paper...</td>\n",
              "      <td>12954</td>\n",
              "      <td>[synopsis, Refinements, Extensions, compare, publication, Conference, Proceedings, submission, refined, extended, paper, base, ICTERI, 2017, phd, symposium, paper, Kosa, et, al, fact, submission, ...</td>\n",
              "      <td>6495</td>\n",
              "      <td>1688</td>\n",
              "      <td>{'synopsis': True, 'Refinements': True, 'Extensions': True, 'compare': True, 'publication': True, 'Conference': True, 'Proceedings': True, 'submission': True, 'refined': True, 'extended': True, 'p...</td>\n",
              "      <td>{'synopsis': 1, 'Refinements': 1, 'Extensions': 1, 'compare': 21, 'publication': 3, 'Conference': 1, 'Proceedings': 1, 'submission': 2, 'refined': 2, 'extended': 1, 'paper': 44, 'base': 43, 'ICTER...</td>\n",
              "      <td>{'synopsis': 0.00036919095809058824, 'Refinements': 0.00036919095809058824, 'Extensions': 0.00036919095809058824, 'compare': 0.0003081622441710275, 'publication': 0.00027997034806942977, 'Conferen...</td>\n",
              "      <td>[-15.740464, 4.3430924, -8.222287, -0.07739721, -9.146837]</td>\n",
              "      <td>[(1, 0.99977225)]</td>\n",
              "    </tr>\n",
              "    <tr>\n",
              "      <th>1</th>\n",
              "      <td>Enhancing Public Procurement in the European Union through Constructing and Exploiting an Integrated Knowledge Graph</td>\n",
              "      <td>Enhancing Public Procurement in the European Union through Constructing and Exploiting an Integrated Knowledge Graph Ahmet Soylu1, Oscar Corcho2, Brian Elvesæter1, Carlos Badenes-Olmedo2, Francisc...</td>\n",
              "      <td>5827</td>\n",
              "      <td>[enhance, Public, Procurement, European, Union, Constructing, exploit, Integrated, Knowledge, Graph, Ahmet, Soylu1, Oscar, Corcho2, Brian, Elvesæter1, Carlos, Badenes, Olmedo2, Francisco, Yedro2, ...</td>\n",
              "      <td>3511</td>\n",
              "      <td>1355</td>\n",
              "      <td>{'enhance': True, 'Public': True, 'Procurement': True, 'European': True, 'Union': True, 'Constructing': True, 'exploit': True, 'Integrated': True, 'Knowledge': True, 'Graph': True, 'Ahmet': True, ...</td>\n",
              "      <td>{'enhance': 9, 'Public': 9, 'Procurement': 9, 'European': 5, 'Union': 3, 'Constructing': 1, 'exploit': 1, 'Integrated': 8, 'Knowledge': 11, 'Graph': 11, 'Ahmet': 1, 'Soylu1': 1, 'Oscar': 1, 'Corch...</td>\n",
              "      <td>{'enhance': 0.004369903967572152, 'Public': 0.006146698221357259, 'Procurement': 0.006146698221357259, 'European': 0.00144061650765947, 'Union': 0.0011101819858703454, 'Constructing': 0.0006829664...</td>\n",
              "      <td>[-6.1888537, 1.4815748, -11.119544, -5.824677, -7.810485]</td>\n",
              "      <td>[(0, 0.015344715), (1, 0.98465526)]</td>\n",
              "    </tr>\n",
              "    <tr>\n",
              "      <th>2</th>\n",
              "      <td>Drugs4Covid: Making drug information available from scientific publications</td>\n",
              "      <td>Drugs4Covid: Making drug information available from scientific publications Carlos Badenes-Olmedo1, David Chaves-Fraga1, Mar´ıa Poveda-Villal´on1, Ana Iglesias-Molina1, Pablo Calleja1, Socorro Ber...</td>\n",
              "      <td>5417</td>\n",
              "      <td>[Drugs4Covid, make, drug, information, available, scientific, publication, Carlos, Badenes, Olmedo1, David, Chaves, Fraga1, Mar´ıa, Poveda, Villal´on1, Ana, Iglesias, Molina1, Pablo, Calleja1, Soc...</td>\n",
              "      <td>3347</td>\n",
              "      <td>1413</td>\n",
              "      <td>{'Drugs4Covid': True, 'make': True, 'drug': True, 'information': True, 'available': True, 'scientific': True, 'publication': True, 'Carlos': True, 'Badenes': True, 'Olmedo1': True, 'David': True, ...</td>\n",
              "      <td>{'Drugs4Covid': 24, 'make': 2, 'drug': 71, 'information': 11, 'available': 12, 'scientific': 14, 'publication': 9, 'Carlos': 1, 'Badenes': 10, 'Olmedo1': 1, 'David': 1, 'Chaves': 1, 'Fraga1': 1, '...</td>\n",
              "      <td>{'Drugs4Covid': 0.017194349132704182, 'make': 0.00019029204130178342, 'drug': 0.03616286661157102, 'information': 0.0, 'available': 0.00034171561328111716, 'scientific': 0.004231375190767469, 'pub...</td>\n",
              "      <td>[-8.049958, 3.3679776, -10.898428, -6.2801666, -8.267454]</td>\n",
              "      <td>[(0, 0.9985377)]</td>\n",
              "    </tr>\n",
              "  </tbody>\n",
              "</table>\n",
              "</div>"
            ],
            "text/plain": [
              "                                                                                                                  title  ...                               topics\n",
              "0                                      Cross-Evaluation of Term Extraction Tools by Measuring Terminological Saturation  ...                    [(1, 0.99977225)]\n",
              "1  Enhancing Public Procurement in the European Union through Constructing and Exploiting an Integrated Knowledge Graph  ...  [(0, 0.015344715), (1, 0.98465526)]\n",
              "2                                           Drugs4Covid: Making drug information available from scientific publications  ...                     [(0, 0.9985377)]\n",
              "\n",
              "[3 rows x 11 columns]"
            ]
          },
          "metadata": {
            "tags": []
          },
          "execution_count": 84
        }
      ]
    },
    {
      "cell_type": "code",
      "metadata": {
        "colab": {
          "base_uri": "https://localhost:8080/"
        },
        "id": "I6PYFVgnHdUH",
        "outputId": "8d276038-e222-406a-fd49-74053b01aee6"
      },
      "source": [
        "from gensim.models import CoherenceModel\n",
        "\n",
        "# Compute Perplexity\n",
        "print('\\nPerplexity: ', lda_model.log_perplexity(bows))  # a measure of how good the model is. lower the better.\n",
        "\n",
        "# Compute Coherence Score\n",
        "coherence_model_lda = CoherenceModel(model=lda_model, texts=corpus_df['tokens'], dictionary=dictionary, coherence='c_v')\n",
        "coherence_lda = coherence_model_lda.get_coherence()\n",
        "print('\\nCoherence Score: ', coherence_lda)"
      ],
      "execution_count": 77,
      "outputs": [
        {
          "output_type": "stream",
          "text": [
            "\n",
            "Perplexity:  -7.7004409604324\n",
            "\n",
            "Coherence Score:  0.5219798593210265\n"
          ],
          "name": "stdout"
        }
      ]
    },
    {
      "cell_type": "markdown",
      "metadata": {
        "id": "bIPr9j43m2Pw"
      },
      "source": [
        "# References\n",
        "\n",
        "\n",
        "\n",
        "* [Text Vectorization and Transformation Pipelines](https://www.oreilly.com/library/view/applied-text-analysis/9781491963036/ch04.html)\n",
        "*   List item\n",
        "\n"
      ]
    }
  ]
}