{
  "nbformat": 4,
  "nbformat_minor": 0,
  "metadata": {
    "colab": {
      "name": "soa.ipynb",
      "provenance": [],
      "collapsed_sections": [],
      "authorship_tag": "ABX9TyMInIC1yhrA1T5yzLU2ulPT",
      "include_colab_link": true
    },
    "kernelspec": {
      "name": "python3",
      "display_name": "Python 3"
    }
  },
  "cells": [
    {
      "cell_type": "markdown",
      "metadata": {
        "id": "view-in-github",
        "colab_type": "text"
      },
      "source": [
        "<a href=\"https://colab.research.google.com/github/cbadenes/phd-thesis/blob/master/notebooks/soa.ipynb\" target=\"_parent\"><img src=\"https://colab.research.google.com/assets/colab-badge.svg\" alt=\"Open In Colab\"/></a>"
      ]
    },
    {
      "cell_type": "markdown",
      "metadata": {
        "id": "7oKXrGgKqX7u"
      },
      "source": [
        "This notebook supports the state-of-the-art content of the thesis: *Semantically-enabled Browsing of Large Multilingual Document Collections, Badenes-Olmedo, C. 2021*"
      ]
    },
    {
      "cell_type": "markdown",
      "metadata": {
        "id": "JXRIfz2kq9ee"
      },
      "source": [
        "# 2.- Techniques for Document Retrieval"
      ]
    },
    {
      "cell_type": "markdown",
      "metadata": {
        "id": "PvHN9zQapir8"
      },
      "source": [
        "The analysis of human-readable documents is a well-known problem in Artificial Intelligence (AI) in general, and in the Information Retrieval (IR) and Natural Language Processing (NLP) fields in particular. As an academic field of study, information retrieval might be defined as finding documents of an unstructured nature, usually text, that satisfies an information need from within large collections (Manning et al., 2008). As defined in this way, hundreds of millions of people engage in information retrieval every day when they use a web search engine or search their email. Information retrieval is fast becoming the dominant form of information access, surpassing traditional database searching where identifiers are needed to have results."
      ]
    },
    {
      "cell_type": "markdown",
      "metadata": {
        "id": "YsFdYC8fo2Nl"
      },
      "source": [
        "There are two major categories of IR technology and research: semantic and statistical. Semantic approaches attempt to implement some degree of syntactic and semantic analysis. They try to reproduce to some degree the understanding of the natural language text that a human user would provide. In statistical approaches, the documents that are retrieved or that are highly ranked are those that match the query most closely in terms of some statistical measure. The work presented in this thesis follows this second approach."
      ]
    },
    {
      "cell_type": "markdown",
      "metadata": {
        "id": "Kw0G4p1geCAx"
      },
      "source": [
        "## 2.1.- Load Corpus"
      ]
    },
    {
      "cell_type": "markdown",
      "metadata": {
        "id": "jQhyR8L0rGQX"
      },
      "source": [
        "An illustrative example may help to better understand IR techniques, so the publications listed in Section 1.1 are used as a sample collection for applying each of them."
      ]
    },
    {
      "cell_type": "code",
      "metadata": {
        "colab": {
          "base_uri": "https://localhost:8080/",
          "height": 968
        },
        "id": "V0ngppsheGCe",
        "outputId": "0c88d220-cf46-43c3-cc0b-c81db5bc228a"
      },
      "source": [
        "import requests\n",
        "import json\n",
        "import pandas as pd\n",
        "\n",
        "#increase the max column length\n",
        "pd.set_option('display.max_colwidth', 200)\n",
        "\n",
        "corpus_df = pd.read_csv('https://www.dropbox.com/s/pag5jseq2e9wcvb/corpus.csv?raw=1',usecols=['title','text'])\n",
        "corpus_df"
      ],
      "execution_count": 41,
      "outputs": [
        {
          "output_type": "execute_result",
          "data": {
            "text/html": [
              "<div>\n",
              "<style scoped>\n",
              "    .dataframe tbody tr th:only-of-type {\n",
              "        vertical-align: middle;\n",
              "    }\n",
              "\n",
              "    .dataframe tbody tr th {\n",
              "        vertical-align: top;\n",
              "    }\n",
              "\n",
              "    .dataframe thead th {\n",
              "        text-align: right;\n",
              "    }\n",
              "</style>\n",
              "<table border=\"1\" class=\"dataframe\">\n",
              "  <thead>\n",
              "    <tr style=\"text-align: right;\">\n",
              "      <th></th>\n",
              "      <th>title</th>\n",
              "      <th>text</th>\n",
              "    </tr>\n",
              "  </thead>\n",
              "  <tbody>\n",
              "    <tr>\n",
              "      <th>0</th>\n",
              "      <td>Cross-Evaluation of Term Extraction Tools by Measuring Terminological Saturation</td>\n",
              "      <td>Synopsis of the Refinements and Extensions  Compared to the Publication in the Conference Proceedings  This submission is a refined and extended paper based on the ICTERI 2017 PhD  Symposium paper...</td>\n",
              "    </tr>\n",
              "    <tr>\n",
              "      <th>1</th>\n",
              "      <td>Enhancing Public Procurement in the European Union through Constructing and Exploiting an Integrated Knowledge Graph</td>\n",
              "      <td>Enhancing Public Procurement in the European Union through Constructing and Exploiting an Integrated Knowledge Graph Ahmet Soylu1, Oscar Corcho2, Brian Elvesæter1, Carlos Badenes-Olmedo2, Francisc...</td>\n",
              "    </tr>\n",
              "    <tr>\n",
              "      <th>2</th>\n",
              "      <td>Drugs4Covid: Making drug information available from scientific publications</td>\n",
              "      <td>Drugs4Covid: Making drug information available from scientific publications Carlos Badenes-Olmedo1, David Chaves-Fraga1, Mar´ıa Poveda-Villal´on1, Ana Iglesias-Molina1, Pablo Calleja1, Socorro Ber...</td>\n",
              "    </tr>\n",
              "    <tr>\n",
              "      <th>3</th>\n",
              "      <td>Distributing Text Mining tasks with librAIry</td>\n",
              "      <td>Distributing Text Mining tasks with librAIry Carlos Badenes-Olmedo cbadenes@f.upm.es Universidad Polit´ecnica de Madrid Ontology Engineering Group Boadilla del Monte, Spain Jos´e Luis Redondo-Garc...</td>\n",
              "    </tr>\n",
              "    <tr>\n",
              "      <th>4</th>\n",
              "      <td>Large-Scale Semantic Exploration of Scientific Literature using Topic-based Hashing Algorithms</td>\n",
              "      <td>Semantic Web 0 (0) 1 1 IOS Press Large-Scale Semantic Exploration of Scientific Literature using Topic-based Hashing Algorithms Editor(s): Tomi Kauppinen, Aalto University, Finland; Daniel Garijo,...</td>\n",
              "    </tr>\n",
              "    <tr>\n",
              "      <th>5</th>\n",
              "      <td>An initial Analysis of Topic-based Similarity among Scientific Documents based on their Rhetorical Discourse Parts</td>\n",
              "      <td>An initial Analysis of Topic-based Similarity among Scientific Documents based on their Rhetorical Discourse Parts Carlos Badenes-Olmedo1, Jos´e Luis Redondo-Garc´ıa2, and Oscar Corcho1 1 Universi...</td>\n",
              "    </tr>\n",
              "    <tr>\n",
              "      <th>6</th>\n",
              "      <td>Efficient Clustering from Distributions over Topics</td>\n",
              "      <td>Efficient Clustering from Distributions over Topics Carlos Badenes-Olmedo cbadenes@￿.upm.es Ontology Engineering Group Universidad Polit´ecnica de Madrid Boadilla del Monte, Spain Jos´e Luis Redon...</td>\n",
              "    </tr>\n",
              "    <tr>\n",
              "      <th>7</th>\n",
              "      <td>Legal Documents Retrieval Across Languages: Topic Hierarchies based on synsets</td>\n",
              "      <td>Cross-lingual annotations of legislative texts enable us to explore major themes covered in multi- lingual legal data and are a key facilitator of semantic similarity when searching for similar do...</td>\n",
              "    </tr>\n",
              "    <tr>\n",
              "      <th>8</th>\n",
              "      <td>Scalable Cross-lingual Document Similarity through Language-specific Concept Hierarchies</td>\n",
              "      <td>Scalable Cross-lingual Document Similarity through Language-specific Concept Hierarchies Carlos Badenes-Olmedo cbadenes@fi.upm.es Ontology Engineering Group, Universidad Politécnica de Madrid Boad...</td>\n",
              "    </tr>\n",
              "    <tr>\n",
              "      <th>9</th>\n",
              "      <td>Potentially inappropriate medications in older adults living with HIV</td>\n",
              "      <td>Potentially inappropriate medications in older adults living with HIV B L�opez-Centeno,1,* C Badenes-Olmedo,2 A Mataix-Sanjuan,1 JM Bell�on,3 L P�erez-Latorre,3 JC L�opez,3 J Bened�ı,4,* S Khoo,5 ...</td>\n",
              "    </tr>\n",
              "    <tr>\n",
              "      <th>10</th>\n",
              "      <td>Semantic Saturation in Retrospective Text Document  Collections</td>\n",
              "      <td>Semantic Saturation in Retrospective Text Document  Collections      Victoria Kosa​1​, Eugene Yuschenko​2​, Carlos Badenes​3​, Vadim Ermolayev​1​,   and Aliaksandr Birukou​4    1​ Department of Co...</td>\n",
              "    </tr>\n",
              "  </tbody>\n",
              "</table>\n",
              "</div>"
            ],
            "text/plain": [
              "                                                                                                                   title                                                                                                                                                                                                     text\n",
              "0                                       Cross-Evaluation of Term Extraction Tools by Measuring Terminological Saturation  Synopsis of the Refinements and Extensions  Compared to the Publication in the Conference Proceedings  This submission is a refined and extended paper based on the ICTERI 2017 PhD  Symposium paper...\n",
              "1   Enhancing Public Procurement in the European Union through Constructing and Exploiting an Integrated Knowledge Graph  Enhancing Public Procurement in the European Union through Constructing and Exploiting an Integrated Knowledge Graph Ahmet Soylu1, Oscar Corcho2, Brian Elvesæter1, Carlos Badenes-Olmedo2, Francisc...\n",
              "2                                            Drugs4Covid: Making drug information available from scientific publications  Drugs4Covid: Making drug information available from scientific publications Carlos Badenes-Olmedo1, David Chaves-Fraga1, Mar´ıa Poveda-Villal´on1, Ana Iglesias-Molina1, Pablo Calleja1, Socorro Ber...\n",
              "3                                                                           Distributing Text Mining tasks with librAIry  Distributing Text Mining tasks with librAIry Carlos Badenes-Olmedo cbadenes@f.upm.es Universidad Polit´ecnica de Madrid Ontology Engineering Group Boadilla del Monte, Spain Jos´e Luis Redondo-Garc...\n",
              "4                         Large-Scale Semantic Exploration of Scientific Literature using Topic-based Hashing Algorithms  Semantic Web 0 (0) 1 1 IOS Press Large-Scale Semantic Exploration of Scientific Literature using Topic-based Hashing Algorithms Editor(s): Tomi Kauppinen, Aalto University, Finland; Daniel Garijo,...\n",
              "5     An initial Analysis of Topic-based Similarity among Scientific Documents based on their Rhetorical Discourse Parts  An initial Analysis of Topic-based Similarity among Scientific Documents based on their Rhetorical Discourse Parts Carlos Badenes-Olmedo1, Jos´e Luis Redondo-Garc´ıa2, and Oscar Corcho1 1 Universi...\n",
              "6                                                                    Efficient Clustering from Distributions over Topics  Efficient Clustering from Distributions over Topics Carlos Badenes-Olmedo cbadenes@￿.upm.es Ontology Engineering Group Universidad Polit´ecnica de Madrid Boadilla del Monte, Spain Jos´e Luis Redon...\n",
              "7                                         Legal Documents Retrieval Across Languages: Topic Hierarchies based on synsets  Cross-lingual annotations of legislative texts enable us to explore major themes covered in multi- lingual legal data and are a key facilitator of semantic similarity when searching for similar do...\n",
              "8                               Scalable Cross-lingual Document Similarity through Language-specific Concept Hierarchies  Scalable Cross-lingual Document Similarity through Language-specific Concept Hierarchies Carlos Badenes-Olmedo cbadenes@fi.upm.es Ontology Engineering Group, Universidad Politécnica de Madrid Boad...\n",
              "9                                                  Potentially inappropriate medications in older adults living with HIV  Potentially inappropriate medications in older adults living with HIV B L�opez-Centeno,1,* C Badenes-Olmedo,2 A Mataix-Sanjuan,1 JM Bell�on,3 L P�erez-Latorre,3 JC L�opez,3 J Bened�ı,4,* S Khoo,5 ...\n",
              "10                                                       Semantic Saturation in Retrospective Text Document  Collections  Semantic Saturation in Retrospective Text Document  Collections      Victoria Kosa​1​, Eugene Yuschenko​2​, Carlos Badenes​3​, Vadim Ermolayev​1​,   and Aliaksandr Birukou​4    1​ Department of Co..."
            ]
          },
          "metadata": {
            "tags": []
          },
          "execution_count": 41
        }
      ]
    },
    {
      "cell_type": "markdown",
      "metadata": {
        "id": "epKk9U8-hFBV"
      },
      "source": [
        "## 2.2. Text Pre-Processing"
      ]
    },
    {
      "cell_type": "markdown",
      "metadata": {
        "id": "0V9JzJsJsIWf"
      },
      "source": [
        "Documents must be pre-processed to transform their texts into terms. These terms are the population that is counted and measured statistically. Most commonly, the terms are words (or combination of adjacent words or characters) that occur in a given query or collection of documents and often require pre-processing. "
      ]
    },
    {
      "cell_type": "markdown",
      "metadata": {
        "id": "Yd1VTpW4iru1"
      },
      "source": [
        "### 2.2.1: Methods to transform texts into terms"
      ]
    },
    {
      "cell_type": "markdown",
      "metadata": {
        "id": "z_nSrGfgsnod"
      },
      "source": [
        "Words are reduced to a common base form by using a heuristic process that removes affixes, stemming, or by returning its dictionary form, lemma (Porter, 1997). The objective is to eliminate the variation that arises from the occurrence of different grammatical forms of the same word, e.g., ”program”, ”programming”, ”programs”, and ”programmed” should all be recognized as forms of the same word, ”program”."
      ]
    },
    {
      "cell_type": "markdown",
      "metadata": {
        "id": "elq65_4Qsvjd"
      },
      "source": [
        "Another common form of pre-processing is the elimination of common words that have little power to discriminate relevant from non-relevant documents,e.g., ”the”, ”a”, ”it”. Hence, IR engines are usually provided with a stop-list of such noise words. Note that both stemming/lemma and stopwords are language-dependent."
      ]
    },
    {
      "cell_type": "code",
      "metadata": {
        "colab": {
          "base_uri": "https://localhost:8080/"
        },
        "id": "EWhN4MhStpvQ",
        "outputId": "689165c7-7f3b-4cf8-b155-6257aacc38d3"
      },
      "source": [
        "import spacy\n",
        "from spacy.tokenizer import Tokenizer\n",
        "from spacy.lang.en import English\n",
        "\n",
        "nlp = spacy.load(\"en_core_web_sm\")\n",
        "\n",
        "def tokenize(text):\n",
        "  tokens = nlp(text)\n",
        "  return tokens\n",
        "\n",
        "def is_valid(token):\n",
        "  return len(token.text) > 1 and not token.is_digit and not token.is_stop\n",
        "\n",
        "def lemma(token):\n",
        "  return token.lemma_\n",
        "\n",
        "def preprocess(text):\n",
        "  tokens = []\n",
        "  for token in tokenize(text):\n",
        "    if is_valid(token): \n",
        "      tokens.append(lemma(token))\n",
        "  return tokens\n",
        "\n",
        "print(\"methods created succesfully\")"
      ],
      "execution_count": 42,
      "outputs": [
        {
          "output_type": "stream",
          "text": [
            "methods created succesfully\n"
          ],
          "name": "stdout"
        }
      ]
    },
    {
      "cell_type": "markdown",
      "metadata": {
        "id": "CcBhQ2lRUf6g"
      },
      "source": [
        "The following sentence taken from one of the documents can be used to see each of the steps: *”Probabilistic Topic Models reduce that feature space by annotating documents with thematic information”*."
      ]
    },
    {
      "cell_type": "code",
      "metadata": {
        "colab": {
          "base_uri": "https://localhost:8080/"
        },
        "id": "4SKih16gUj5w",
        "outputId": "7856dd71-525e-4b53-b2a5-d426e1709ade"
      },
      "source": [
        "tokens = preprocess(\"Probabilistic Topic Models reduce that feature space by annotating documents with thematic information\")\n",
        "print(tokens)"
      ],
      "execution_count": 43,
      "outputs": [
        {
          "output_type": "stream",
          "text": [
            "['Probabilistic', 'Topic', 'Models', 'reduce', 'feature', 'space', 'annotate', 'document', 'thematic', 'information']\n"
          ],
          "name": "stdout"
        }
      ]
    },
    {
      "cell_type": "markdown",
      "metadata": {
        "id": "ngevbE-2U2Gy"
      },
      "source": [
        "At this step ’annotating’ was transformed to ’annotate’ and ’documents’ was reduced to ’document’. However, ’Models’ remains unchanged. The reason is that since it starts with a capital letter, it is considered a proper noun. Finally, those words that appear in a stop-word list are removed (e.g. ’that’, ’by’ and ’with’). Each text is transformed into a normalized list of terms."
      ]
    },
    {
      "cell_type": "markdown",
      "metadata": {
        "id": "y562UNjCkYG9"
      },
      "source": [
        "### 2.2.2. Count words"
      ]
    },
    {
      "cell_type": "code",
      "metadata": {
        "colab": {
          "base_uri": "https://localhost:8080/",
          "height": 352
        },
        "id": "GhLgTKXSkak7",
        "outputId": "d9dca118-2c1e-4eb7-e821-169a63328f8f"
      },
      "source": [
        "def count_words(text):\n",
        "  return len(text.split(\" \"))\n",
        "\n",
        "corpus_df['#words'] = corpus_df['text'].apply(count_words)\n",
        "corpus_df.head(3)"
      ],
      "execution_count": 44,
      "outputs": [
        {
          "output_type": "execute_result",
          "data": {
            "text/html": [
              "<div>\n",
              "<style scoped>\n",
              "    .dataframe tbody tr th:only-of-type {\n",
              "        vertical-align: middle;\n",
              "    }\n",
              "\n",
              "    .dataframe tbody tr th {\n",
              "        vertical-align: top;\n",
              "    }\n",
              "\n",
              "    .dataframe thead th {\n",
              "        text-align: right;\n",
              "    }\n",
              "</style>\n",
              "<table border=\"1\" class=\"dataframe\">\n",
              "  <thead>\n",
              "    <tr style=\"text-align: right;\">\n",
              "      <th></th>\n",
              "      <th>title</th>\n",
              "      <th>text</th>\n",
              "      <th>#words</th>\n",
              "    </tr>\n",
              "  </thead>\n",
              "  <tbody>\n",
              "    <tr>\n",
              "      <th>0</th>\n",
              "      <td>Cross-Evaluation of Term Extraction Tools by Measuring Terminological Saturation</td>\n",
              "      <td>Synopsis of the Refinements and Extensions  Compared to the Publication in the Conference Proceedings  This submission is a refined and extended paper based on the ICTERI 2017 PhD  Symposium paper...</td>\n",
              "      <td>12954</td>\n",
              "    </tr>\n",
              "    <tr>\n",
              "      <th>1</th>\n",
              "      <td>Enhancing Public Procurement in the European Union through Constructing and Exploiting an Integrated Knowledge Graph</td>\n",
              "      <td>Enhancing Public Procurement in the European Union through Constructing and Exploiting an Integrated Knowledge Graph Ahmet Soylu1, Oscar Corcho2, Brian Elvesæter1, Carlos Badenes-Olmedo2, Francisc...</td>\n",
              "      <td>5827</td>\n",
              "    </tr>\n",
              "    <tr>\n",
              "      <th>2</th>\n",
              "      <td>Drugs4Covid: Making drug information available from scientific publications</td>\n",
              "      <td>Drugs4Covid: Making drug information available from scientific publications Carlos Badenes-Olmedo1, David Chaves-Fraga1, Mar´ıa Poveda-Villal´on1, Ana Iglesias-Molina1, Pablo Calleja1, Socorro Ber...</td>\n",
              "      <td>5417</td>\n",
              "    </tr>\n",
              "  </tbody>\n",
              "</table>\n",
              "</div>"
            ],
            "text/plain": [
              "                                                                                                                  title  ... #words\n",
              "0                                      Cross-Evaluation of Term Extraction Tools by Measuring Terminological Saturation  ...  12954\n",
              "1  Enhancing Public Procurement in the European Union through Constructing and Exploiting an Integrated Knowledge Graph  ...   5827\n",
              "2                                           Drugs4Covid: Making drug information available from scientific publications  ...   5417\n",
              "\n",
              "[3 rows x 3 columns]"
            ]
          },
          "metadata": {
            "tags": []
          },
          "execution_count": 44
        }
      ]
    },
    {
      "cell_type": "markdown",
      "metadata": {
        "id": "RDhLJ7_QivyH"
      },
      "source": [
        "### 2.2.3. Tokenize Corpus"
      ]
    },
    {
      "cell_type": "code",
      "metadata": {
        "colab": {
          "base_uri": "https://localhost:8080/",
          "height": 526
        },
        "id": "YrnhZZipjBjc",
        "outputId": "fa344116-fed9-4ab3-c443-41005f99b632"
      },
      "source": [
        "corpus_df['tokens'] = corpus_df['text'].apply(preprocess)\n",
        "\n",
        "corpus_df.head(3)"
      ],
      "execution_count": 45,
      "outputs": [
        {
          "output_type": "execute_result",
          "data": {
            "text/html": [
              "<div>\n",
              "<style scoped>\n",
              "    .dataframe tbody tr th:only-of-type {\n",
              "        vertical-align: middle;\n",
              "    }\n",
              "\n",
              "    .dataframe tbody tr th {\n",
              "        vertical-align: top;\n",
              "    }\n",
              "\n",
              "    .dataframe thead th {\n",
              "        text-align: right;\n",
              "    }\n",
              "</style>\n",
              "<table border=\"1\" class=\"dataframe\">\n",
              "  <thead>\n",
              "    <tr style=\"text-align: right;\">\n",
              "      <th></th>\n",
              "      <th>title</th>\n",
              "      <th>text</th>\n",
              "      <th>#words</th>\n",
              "      <th>tokens</th>\n",
              "    </tr>\n",
              "  </thead>\n",
              "  <tbody>\n",
              "    <tr>\n",
              "      <th>0</th>\n",
              "      <td>Cross-Evaluation of Term Extraction Tools by Measuring Terminological Saturation</td>\n",
              "      <td>Synopsis of the Refinements and Extensions  Compared to the Publication in the Conference Proceedings  This submission is a refined and extended paper based on the ICTERI 2017 PhD  Symposium paper...</td>\n",
              "      <td>12954</td>\n",
              "      <td>[synopsis, Refinements, Extensions, compare, publication, Conference, Proceedings, submission, refined, extended, paper, base, ICTERI, phd, symposium, paper, Kosa, et, al, fact, submission, totall...</td>\n",
              "    </tr>\n",
              "    <tr>\n",
              "      <th>1</th>\n",
              "      <td>Enhancing Public Procurement in the European Union through Constructing and Exploiting an Integrated Knowledge Graph</td>\n",
              "      <td>Enhancing Public Procurement in the European Union through Constructing and Exploiting an Integrated Knowledge Graph Ahmet Soylu1, Oscar Corcho2, Brian Elvesæter1, Carlos Badenes-Olmedo2, Francisc...</td>\n",
              "      <td>5827</td>\n",
              "      <td>[enhance, Public, Procurement, European, Union, Constructing, exploit, Integrated, Knowledge, Graph, Ahmet, Soylu1, Oscar, Corcho2, Brian, Elvesæter1, Carlos, Badenes, Olmedo2, Francisco, Yedro2, ...</td>\n",
              "    </tr>\n",
              "    <tr>\n",
              "      <th>2</th>\n",
              "      <td>Drugs4Covid: Making drug information available from scientific publications</td>\n",
              "      <td>Drugs4Covid: Making drug information available from scientific publications Carlos Badenes-Olmedo1, David Chaves-Fraga1, Mar´ıa Poveda-Villal´on1, Ana Iglesias-Molina1, Pablo Calleja1, Socorro Ber...</td>\n",
              "      <td>5417</td>\n",
              "      <td>[Drugs4Covid, make, drug, information, available, scientific, publication, Carlos, Badenes, Olmedo1, David, Chaves, Fraga1, Mar´ıa, Poveda, Villal´on1, Ana, Iglesias, Molina1, Pablo, Calleja1, Soc...</td>\n",
              "    </tr>\n",
              "  </tbody>\n",
              "</table>\n",
              "</div>"
            ],
            "text/plain": [
              "                                                                                                                  title  ...                                                                                                                                                                                                   tokens\n",
              "0                                      Cross-Evaluation of Term Extraction Tools by Measuring Terminological Saturation  ...  [synopsis, Refinements, Extensions, compare, publication, Conference, Proceedings, submission, refined, extended, paper, base, ICTERI, phd, symposium, paper, Kosa, et, al, fact, submission, totall...\n",
              "1  Enhancing Public Procurement in the European Union through Constructing and Exploiting an Integrated Knowledge Graph  ...  [enhance, Public, Procurement, European, Union, Constructing, exploit, Integrated, Knowledge, Graph, Ahmet, Soylu1, Oscar, Corcho2, Brian, Elvesæter1, Carlos, Badenes, Olmedo2, Francisco, Yedro2, ...\n",
              "2                                           Drugs4Covid: Making drug information available from scientific publications  ...  [Drugs4Covid, make, drug, information, available, scientific, publication, Carlos, Badenes, Olmedo1, David, Chaves, Fraga1, Mar´ıa, Poveda, Villal´on1, Ana, Iglesias, Molina1, Pablo, Calleja1, Soc...\n",
              "\n",
              "[3 rows x 4 columns]"
            ]
          },
          "metadata": {
            "tags": []
          },
          "execution_count": 45
        }
      ]
    },
    {
      "cell_type": "markdown",
      "metadata": {
        "id": "P4qWo8kujLZo"
      },
      "source": [
        "### 2.2.4. Count tokens"
      ]
    },
    {
      "cell_type": "code",
      "metadata": {
        "colab": {
          "base_uri": "https://localhost:8080/",
          "height": 647
        },
        "id": "yd0QX-rCjOZs",
        "outputId": "cb9f7639-cd19-4982-9dea-6c28f5020da3"
      },
      "source": [
        "def count_tokens(tokens):\n",
        "  return len(tokens)\n",
        "\n",
        "corpus_df['#tokens'] = corpus_df['tokens'].apply(count_tokens)\n",
        "\n",
        "corpus_df.head(3)"
      ],
      "execution_count": 46,
      "outputs": [
        {
          "output_type": "execute_result",
          "data": {
            "text/html": [
              "<div>\n",
              "<style scoped>\n",
              "    .dataframe tbody tr th:only-of-type {\n",
              "        vertical-align: middle;\n",
              "    }\n",
              "\n",
              "    .dataframe tbody tr th {\n",
              "        vertical-align: top;\n",
              "    }\n",
              "\n",
              "    .dataframe thead th {\n",
              "        text-align: right;\n",
              "    }\n",
              "</style>\n",
              "<table border=\"1\" class=\"dataframe\">\n",
              "  <thead>\n",
              "    <tr style=\"text-align: right;\">\n",
              "      <th></th>\n",
              "      <th>title</th>\n",
              "      <th>text</th>\n",
              "      <th>#words</th>\n",
              "      <th>tokens</th>\n",
              "      <th>#tokens</th>\n",
              "    </tr>\n",
              "  </thead>\n",
              "  <tbody>\n",
              "    <tr>\n",
              "      <th>0</th>\n",
              "      <td>Cross-Evaluation of Term Extraction Tools by Measuring Terminological Saturation</td>\n",
              "      <td>Synopsis of the Refinements and Extensions  Compared to the Publication in the Conference Proceedings  This submission is a refined and extended paper based on the ICTERI 2017 PhD  Symposium paper...</td>\n",
              "      <td>12954</td>\n",
              "      <td>[synopsis, Refinements, Extensions, compare, publication, Conference, Proceedings, submission, refined, extended, paper, base, ICTERI, phd, symposium, paper, Kosa, et, al, fact, submission, totall...</td>\n",
              "      <td>6342</td>\n",
              "    </tr>\n",
              "    <tr>\n",
              "      <th>1</th>\n",
              "      <td>Enhancing Public Procurement in the European Union through Constructing and Exploiting an Integrated Knowledge Graph</td>\n",
              "      <td>Enhancing Public Procurement in the European Union through Constructing and Exploiting an Integrated Knowledge Graph Ahmet Soylu1, Oscar Corcho2, Brian Elvesæter1, Carlos Badenes-Olmedo2, Francisc...</td>\n",
              "      <td>5827</td>\n",
              "      <td>[enhance, Public, Procurement, European, Union, Constructing, exploit, Integrated, Knowledge, Graph, Ahmet, Soylu1, Oscar, Corcho2, Brian, Elvesæter1, Carlos, Badenes, Olmedo2, Francisco, Yedro2, ...</td>\n",
              "      <td>3406</td>\n",
              "    </tr>\n",
              "    <tr>\n",
              "      <th>2</th>\n",
              "      <td>Drugs4Covid: Making drug information available from scientific publications</td>\n",
              "      <td>Drugs4Covid: Making drug information available from scientific publications Carlos Badenes-Olmedo1, David Chaves-Fraga1, Mar´ıa Poveda-Villal´on1, Ana Iglesias-Molina1, Pablo Calleja1, Socorro Ber...</td>\n",
              "      <td>5417</td>\n",
              "      <td>[Drugs4Covid, make, drug, information, available, scientific, publication, Carlos, Badenes, Olmedo1, David, Chaves, Fraga1, Mar´ıa, Poveda, Villal´on1, Ana, Iglesias, Molina1, Pablo, Calleja1, Soc...</td>\n",
              "      <td>3260</td>\n",
              "    </tr>\n",
              "  </tbody>\n",
              "</table>\n",
              "</div>"
            ],
            "text/plain": [
              "                                                                                                                  title  ... #tokens\n",
              "0                                      Cross-Evaluation of Term Extraction Tools by Measuring Terminological Saturation  ...    6342\n",
              "1  Enhancing Public Procurement in the European Union through Constructing and Exploiting an Integrated Knowledge Graph  ...    3406\n",
              "2                                           Drugs4Covid: Making drug information available from scientific publications  ...    3260\n",
              "\n",
              "[3 rows x 5 columns]"
            ]
          },
          "metadata": {
            "tags": []
          },
          "execution_count": 46
        }
      ]
    },
    {
      "cell_type": "markdown",
      "metadata": {
        "id": "YL1zTSPXktuE"
      },
      "source": [
        "### 2.2.5 Some statistics"
      ]
    },
    {
      "cell_type": "code",
      "metadata": {
        "colab": {
          "base_uri": "https://localhost:8080/",
          "height": 890
        },
        "id": "k8ddmT6Gkzvr",
        "outputId": "06522587-5391-4449-f186-305d1825efbe"
      },
      "source": [
        "unique_tokens = []\n",
        "\n",
        "for pos in range(len(corpus_df.index)):\n",
        "  num_words = corpus_df['#words'][pos]\n",
        "  num_tokens = corpus_df['#tokens'][pos]\n",
        "  num_unique_tokens = len(set(corpus_df['tokens'][pos]))\n",
        "  unique_tokens.append(num_unique_tokens)  \n",
        "\n",
        "corpus_df['#uni_tokens']=unique_tokens\n",
        "corpus_df.head(3)"
      ],
      "execution_count": 47,
      "outputs": [
        {
          "output_type": "execute_result",
          "data": {
            "text/html": [
              "<div>\n",
              "<style scoped>\n",
              "    .dataframe tbody tr th:only-of-type {\n",
              "        vertical-align: middle;\n",
              "    }\n",
              "\n",
              "    .dataframe tbody tr th {\n",
              "        vertical-align: top;\n",
              "    }\n",
              "\n",
              "    .dataframe thead th {\n",
              "        text-align: right;\n",
              "    }\n",
              "</style>\n",
              "<table border=\"1\" class=\"dataframe\">\n",
              "  <thead>\n",
              "    <tr style=\"text-align: right;\">\n",
              "      <th></th>\n",
              "      <th>title</th>\n",
              "      <th>text</th>\n",
              "      <th>#words</th>\n",
              "      <th>tokens</th>\n",
              "      <th>#tokens</th>\n",
              "      <th>#uni_tokens</th>\n",
              "    </tr>\n",
              "  </thead>\n",
              "  <tbody>\n",
              "    <tr>\n",
              "      <th>0</th>\n",
              "      <td>Cross-Evaluation of Term Extraction Tools by Measuring Terminological Saturation</td>\n",
              "      <td>Synopsis of the Refinements and Extensions  Compared to the Publication in the Conference Proceedings  This submission is a refined and extended paper based on the ICTERI 2017 PhD  Symposium paper...</td>\n",
              "      <td>12954</td>\n",
              "      <td>[synopsis, Refinements, Extensions, compare, publication, Conference, Proceedings, submission, refined, extended, paper, base, ICTERI, phd, symposium, paper, Kosa, et, al, fact, submission, totall...</td>\n",
              "      <td>6342</td>\n",
              "      <td>1618</td>\n",
              "    </tr>\n",
              "    <tr>\n",
              "      <th>1</th>\n",
              "      <td>Enhancing Public Procurement in the European Union through Constructing and Exploiting an Integrated Knowledge Graph</td>\n",
              "      <td>Enhancing Public Procurement in the European Union through Constructing and Exploiting an Integrated Knowledge Graph Ahmet Soylu1, Oscar Corcho2, Brian Elvesæter1, Carlos Badenes-Olmedo2, Francisc...</td>\n",
              "      <td>5827</td>\n",
              "      <td>[enhance, Public, Procurement, European, Union, Constructing, exploit, Integrated, Knowledge, Graph, Ahmet, Soylu1, Oscar, Corcho2, Brian, Elvesæter1, Carlos, Badenes, Olmedo2, Francisco, Yedro2, ...</td>\n",
              "      <td>3406</td>\n",
              "      <td>1290</td>\n",
              "    </tr>\n",
              "    <tr>\n",
              "      <th>2</th>\n",
              "      <td>Drugs4Covid: Making drug information available from scientific publications</td>\n",
              "      <td>Drugs4Covid: Making drug information available from scientific publications Carlos Badenes-Olmedo1, David Chaves-Fraga1, Mar´ıa Poveda-Villal´on1, Ana Iglesias-Molina1, Pablo Calleja1, Socorro Ber...</td>\n",
              "      <td>5417</td>\n",
              "      <td>[Drugs4Covid, make, drug, information, available, scientific, publication, Carlos, Badenes, Olmedo1, David, Chaves, Fraga1, Mar´ıa, Poveda, Villal´on1, Ana, Iglesias, Molina1, Pablo, Calleja1, Soc...</td>\n",
              "      <td>3260</td>\n",
              "      <td>1367</td>\n",
              "    </tr>\n",
              "  </tbody>\n",
              "</table>\n",
              "</div>"
            ],
            "text/plain": [
              "                                                                                                                  title  ... #uni_tokens\n",
              "0                                      Cross-Evaluation of Term Extraction Tools by Measuring Terminological Saturation  ...        1618\n",
              "1  Enhancing Public Procurement in the European Union through Constructing and Exploiting an Integrated Knowledge Graph  ...        1290\n",
              "2                                           Drugs4Covid: Making drug information available from scientific publications  ...        1367\n",
              "\n",
              "[3 rows x 6 columns]"
            ]
          },
          "metadata": {
            "tags": []
          },
          "execution_count": 47
        }
      ]
    },
    {
      "cell_type": "markdown",
      "metadata": {
        "id": "SjqffNPFmnyJ"
      },
      "source": [
        "## 2.3. Text Vectorization"
      ]
    },
    {
      "cell_type": "markdown",
      "metadata": {
        "id": "ajYqcsxZs2_E"
      },
      "source": [
        "Once all terms have been pre-processed, numerical weights are assigned to each them. The same term may have a different weight in each distinct document in which it occurs. The weight is usually a measure of how effective the given term is likely to be in distinguishing the given document from other documents in the given collection, and is often normalized to be a fraction between zero and one. Statistical approaches fall into the following categories: boolean, vector space and probabilistic."
      ]
    },
    {
      "cell_type": "code",
      "metadata": {
        "colab": {
          "base_uri": "https://localhost:8080/"
        },
        "id": "-lPx4akLzb3a",
        "outputId": "f0f2c4c7-9e33-4e99-d6a2-281c632b371d"
      },
      "source": [
        "all_tokens = []\n",
        "for tokens in corpus_df['tokens']:\n",
        "  all_tokens.extend(tokens)\n",
        "\n",
        "vocabulary = list(set(all_tokens))\n",
        "print(\"Vocabulary size:\",len(vocabulary),\" unique words(tokens)\")\n",
        "print(\"Vocabulary words:\",vocabulary[1:10],\"...\")"
      ],
      "execution_count": 48,
      "outputs": [
        {
          "output_type": "stream",
          "text": [
            "Vocabulary size: 6182  unique words(tokens)\n",
            "Vocabulary words: ['availability', 'Search', 'training', 'entry.n.03', 'emtricitabine', 'cal-', 'fnanced', 'Gatti', 'Vote'] ...\n"
          ],
          "name": "stdout"
        }
      ]
    },
    {
      "cell_type": "markdown",
      "metadata": {
        "id": "5DYxmE0Zx93U"
      },
      "source": [
        "To encode our documents, we’ll create a vectorize function that creates a dictionary whose keys are the tokens in the document and whose values will depend on the approach we use.\n"
      ]
    },
    {
      "cell_type": "markdown",
      "metadata": {
        "id": "EObcQrTJlMvl"
      },
      "source": [
        "\n",
        "The `defaultdic` object allows us to specify what the dictionary will return for a key that hasn’t been assigned to it yet. By setting `defaultdict(int)` we are specifying that a 0 should be returned, thus creating a simple counting dictionary. We can map this function to every item in the corpus creating an iterable of vectorized documents."
      ]
    },
    {
      "cell_type": "markdown",
      "metadata": {
        "id": "p397ElSvkItE"
      },
      "source": [
        "### 2.3.1. Boolean Approach"
      ]
    },
    {
      "cell_type": "markdown",
      "metadata": {
        "id": "rEmOhEO_0Ahv"
      },
      "source": [
        "The Boolean representation sets true or false for each vocabulary word depending on whether or not it appears in the document."
      ]
    },
    {
      "cell_type": "code",
      "metadata": {
        "colab": {
          "base_uri": "https://localhost:8080/",
          "height": 1000
        },
        "id": "G9EkhRpqy8Yr",
        "outputId": "22ec9904-c741-4b2f-a8bf-79cd7148cdca"
      },
      "source": [
        "from collections import defaultdict\n",
        "\n",
        "def boolean_vectorize(tokens):\n",
        "    features = defaultdict(bool)\n",
        "    for token in tokens:\n",
        "        features[token] = True\n",
        "    return features\n",
        "\n",
        "corpus_df['boolean'] = corpus_df['tokens'].apply(boolean_vectorize)\n",
        "corpus_df.head(3)"
      ],
      "execution_count": 49,
      "outputs": [
        {
          "output_type": "execute_result",
          "data": {
            "text/html": [
              "<div>\n",
              "<style scoped>\n",
              "    .dataframe tbody tr th:only-of-type {\n",
              "        vertical-align: middle;\n",
              "    }\n",
              "\n",
              "    .dataframe tbody tr th {\n",
              "        vertical-align: top;\n",
              "    }\n",
              "\n",
              "    .dataframe thead th {\n",
              "        text-align: right;\n",
              "    }\n",
              "</style>\n",
              "<table border=\"1\" class=\"dataframe\">\n",
              "  <thead>\n",
              "    <tr style=\"text-align: right;\">\n",
              "      <th></th>\n",
              "      <th>title</th>\n",
              "      <th>text</th>\n",
              "      <th>#words</th>\n",
              "      <th>tokens</th>\n",
              "      <th>#tokens</th>\n",
              "      <th>#uni_tokens</th>\n",
              "      <th>boolean</th>\n",
              "    </tr>\n",
              "  </thead>\n",
              "  <tbody>\n",
              "    <tr>\n",
              "      <th>0</th>\n",
              "      <td>Cross-Evaluation of Term Extraction Tools by Measuring Terminological Saturation</td>\n",
              "      <td>Synopsis of the Refinements and Extensions  Compared to the Publication in the Conference Proceedings  This submission is a refined and extended paper based on the ICTERI 2017 PhD  Symposium paper...</td>\n",
              "      <td>12954</td>\n",
              "      <td>[synopsis, Refinements, Extensions, compare, publication, Conference, Proceedings, submission, refined, extended, paper, base, ICTERI, phd, symposium, paper, Kosa, et, al, fact, submission, totall...</td>\n",
              "      <td>6342</td>\n",
              "      <td>1618</td>\n",
              "      <td>{'synopsis': True, 'Refinements': True, 'Extensions': True, 'compare': True, 'publication': True, 'Conference': True, 'Proceedings': True, 'submission': True, 'refined': True, 'extended': True, 'p...</td>\n",
              "    </tr>\n",
              "    <tr>\n",
              "      <th>1</th>\n",
              "      <td>Enhancing Public Procurement in the European Union through Constructing and Exploiting an Integrated Knowledge Graph</td>\n",
              "      <td>Enhancing Public Procurement in the European Union through Constructing and Exploiting an Integrated Knowledge Graph Ahmet Soylu1, Oscar Corcho2, Brian Elvesæter1, Carlos Badenes-Olmedo2, Francisc...</td>\n",
              "      <td>5827</td>\n",
              "      <td>[enhance, Public, Procurement, European, Union, Constructing, exploit, Integrated, Knowledge, Graph, Ahmet, Soylu1, Oscar, Corcho2, Brian, Elvesæter1, Carlos, Badenes, Olmedo2, Francisco, Yedro2, ...</td>\n",
              "      <td>3406</td>\n",
              "      <td>1290</td>\n",
              "      <td>{'enhance': True, 'Public': True, 'Procurement': True, 'European': True, 'Union': True, 'Constructing': True, 'exploit': True, 'Integrated': True, 'Knowledge': True, 'Graph': True, 'Ahmet': True, ...</td>\n",
              "    </tr>\n",
              "    <tr>\n",
              "      <th>2</th>\n",
              "      <td>Drugs4Covid: Making drug information available from scientific publications</td>\n",
              "      <td>Drugs4Covid: Making drug information available from scientific publications Carlos Badenes-Olmedo1, David Chaves-Fraga1, Mar´ıa Poveda-Villal´on1, Ana Iglesias-Molina1, Pablo Calleja1, Socorro Ber...</td>\n",
              "      <td>5417</td>\n",
              "      <td>[Drugs4Covid, make, drug, information, available, scientific, publication, Carlos, Badenes, Olmedo1, David, Chaves, Fraga1, Mar´ıa, Poveda, Villal´on1, Ana, Iglesias, Molina1, Pablo, Calleja1, Soc...</td>\n",
              "      <td>3260</td>\n",
              "      <td>1367</td>\n",
              "      <td>{'Drugs4Covid': True, 'make': True, 'drug': True, 'information': True, 'available': True, 'scientific': True, 'publication': True, 'Carlos': True, 'Badenes': True, 'Olmedo1': True, 'David': True, ...</td>\n",
              "    </tr>\n",
              "  </tbody>\n",
              "</table>\n",
              "</div>"
            ],
            "text/plain": [
              "                                                                                                                  title  ...                                                                                                                                                                                                  boolean\n",
              "0                                      Cross-Evaluation of Term Extraction Tools by Measuring Terminological Saturation  ...  {'synopsis': True, 'Refinements': True, 'Extensions': True, 'compare': True, 'publication': True, 'Conference': True, 'Proceedings': True, 'submission': True, 'refined': True, 'extended': True, 'p...\n",
              "1  Enhancing Public Procurement in the European Union through Constructing and Exploiting an Integrated Knowledge Graph  ...  {'enhance': True, 'Public': True, 'Procurement': True, 'European': True, 'Union': True, 'Constructing': True, 'exploit': True, 'Integrated': True, 'Knowledge': True, 'Graph': True, 'Ahmet': True, ...\n",
              "2                                           Drugs4Covid: Making drug information available from scientific publications  ...  {'Drugs4Covid': True, 'make': True, 'drug': True, 'information': True, 'available': True, 'scientific': True, 'publication': True, 'Carlos': True, 'Badenes': True, 'Olmedo1': True, 'David': True, ...\n",
              "\n",
              "[3 rows x 7 columns]"
            ]
          },
          "metadata": {
            "tags": []
          },
          "execution_count": 49
        }
      ]
    },
    {
      "cell_type": "markdown",
      "metadata": {
        "id": "cacVm6aF0POJ"
      },
      "source": [
        "In the boolean approach, the query is formulated as a boolean combination of terms. A conventional boolean query uses the classical operators AND, OR, and NOT. The query ”t1 AND t2” is satisfied by a given document D1 if and only if D1 contains both terms t1 and t2. Similarly, the query ”t1 OR t2” is satisfied by D1 if and only if it contains t1 or t2 or both. The query ”t1 AND NOT t2” satisfies D1 if and only if it contains t1 and does not contain t2. More complex boolean queries can be built up out of these operators and evaluated according to the classical rules of boolean algebra. Such a boolean query is either true or false. Correspondingly, a document either satisfies such a query, i.e. is relevant, or does not satisfy it, i.e. is non-relevant. **No ranking is possible**, which is a significant limitation for this approach (Harmon, 1996)."
      ]
    },
    {
      "cell_type": "markdown",
      "metadata": {
        "id": "zrUgr3a53PLt"
      },
      "source": [
        "For example, we can search for documents about topic hierarchies or multilinguality."
      ]
    },
    {
      "cell_type": "code",
      "metadata": {
        "colab": {
          "base_uri": "https://localhost:8080/"
        },
        "id": "nhpXox-o0zaM",
        "outputId": "8aaca2fb-ffe4-4db6-d085-639c3048d4b0"
      },
      "source": [
        "def relevant(doc):\n",
        "  #return doc['HIV']\n",
        "  return doc['multilingual'] or (doc['topic'] and doc['hierarchy'])\n",
        "  #return doc['multilingual'] and doc['procurement']\n",
        "\n",
        "result = []\n",
        "pos = 0\n",
        "for vector in corpus_df['boolean']:\n",
        "  if relevant(vector):\n",
        "    result.append(corpus_df['title'][pos])\n",
        "  pos+=1 \n",
        "\n",
        "for paper in result:\n",
        "  print(\"-\",paper)"
      ],
      "execution_count": 50,
      "outputs": [
        {
          "output_type": "stream",
          "text": [
            "- Enhancing Public Procurement in the European Union through Constructing and Exploiting an Integrated Knowledge Graph\n",
            "- Large-Scale Semantic Exploration of Scientific Literature using Topic-based Hashing Algorithms\n",
            "- Efficient Clustering from Distributions over Topics\n",
            "- Legal Documents Retrieval Across Languages: Topic Hierarchies based on synsets\n",
            "- Scalable Cross-lingual Document Similarity through Language-specific Concept Hierarchies\n"
          ],
          "name": "stdout"
        }
      ]
    },
    {
      "cell_type": "markdown",
      "metadata": {
        "id": "FYdnZkrr45D1"
      },
      "source": [
        "### 2.3.2 Vector space models"
      ]
    },
    {
      "cell_type": "markdown",
      "metadata": {
        "id": "Y9FsGqw847uK"
      },
      "source": [
        "Vector space models (VSM) (Salton and McGill, 1983) were proposed to represent texts as vectors where each entry corresponds to a different term and the number at that entry corresponds to how many times that term is present in the text. The objective was twofold: on the one hand, making document collections manageable since we move from having lots of terms for each text to only one vector per document with a defined dimension; on the other hand, having representations based on metric spaces where calculations can be made, for example comparisons by measuring vector distances."
      ]
    },
    {
      "cell_type": "markdown",
      "metadata": {
        "id": "g0LgdiFxdLew"
      },
      "source": [
        "#### 2.3.2.1 Term-Frequency (TF)"
      ]
    },
    {
      "cell_type": "markdown",
      "metadata": {
        "id": "UUisxAH65FrB"
      },
      "source": [
        "The definition and number of dimensions for each vector are key aspects in a VSM. Based on the use of this type of model, traditional document retrieval tasks over collections of textual documents highly rely on individual features like term frequencies (TF) (Hearst and Hall, 1999). A representational space is created where each term in the vocabulary is projected by a separate and orthogonal dimension.\n",
        "\n",
        "Vectors are created with the frequency of each word as it appears in the document. In this encoding scheme, each document is represented as the multiset of the tokens that compose it and the value for each word position in the vector is its count. This representation can either be a straight count (integer) encoding or a normalized encoding where each word is weighted by the total number of words in the document."
      ]
    },
    {
      "cell_type": "code",
      "metadata": {
        "colab": {
          "base_uri": "https://localhost:8080/",
          "height": 1000
        },
        "id": "BGMOd8vgkM6Y",
        "outputId": "3609bc78-2063-4fd7-a6ef-2d82afee2d30"
      },
      "source": [
        "from collections import defaultdict\n",
        "\n",
        "def tf_vectorize(tokens):\n",
        "    features = defaultdict(int)\n",
        "    for token in tokens:\n",
        "        features[token] += 1\n",
        "    return features\n",
        "\n",
        "corpus_df['tf'] = corpus_df['tokens'].apply(tf_vectorize)\n",
        "corpus_df.head(3)"
      ],
      "execution_count": 51,
      "outputs": [
        {
          "output_type": "execute_result",
          "data": {
            "text/html": [
              "<div>\n",
              "<style scoped>\n",
              "    .dataframe tbody tr th:only-of-type {\n",
              "        vertical-align: middle;\n",
              "    }\n",
              "\n",
              "    .dataframe tbody tr th {\n",
              "        vertical-align: top;\n",
              "    }\n",
              "\n",
              "    .dataframe thead th {\n",
              "        text-align: right;\n",
              "    }\n",
              "</style>\n",
              "<table border=\"1\" class=\"dataframe\">\n",
              "  <thead>\n",
              "    <tr style=\"text-align: right;\">\n",
              "      <th></th>\n",
              "      <th>title</th>\n",
              "      <th>text</th>\n",
              "      <th>#words</th>\n",
              "      <th>tokens</th>\n",
              "      <th>#tokens</th>\n",
              "      <th>#uni_tokens</th>\n",
              "      <th>boolean</th>\n",
              "      <th>tf</th>\n",
              "    </tr>\n",
              "  </thead>\n",
              "  <tbody>\n",
              "    <tr>\n",
              "      <th>0</th>\n",
              "      <td>Cross-Evaluation of Term Extraction Tools by Measuring Terminological Saturation</td>\n",
              "      <td>Synopsis of the Refinements and Extensions  Compared to the Publication in the Conference Proceedings  This submission is a refined and extended paper based on the ICTERI 2017 PhD  Symposium paper...</td>\n",
              "      <td>12954</td>\n",
              "      <td>[synopsis, Refinements, Extensions, compare, publication, Conference, Proceedings, submission, refined, extended, paper, base, ICTERI, phd, symposium, paper, Kosa, et, al, fact, submission, totall...</td>\n",
              "      <td>6342</td>\n",
              "      <td>1618</td>\n",
              "      <td>{'synopsis': True, 'Refinements': True, 'Extensions': True, 'compare': True, 'publication': True, 'Conference': True, 'Proceedings': True, 'submission': True, 'refined': True, 'extended': True, 'p...</td>\n",
              "      <td>{'synopsis': 1, 'Refinements': 1, 'Extensions': 1, 'compare': 21, 'publication': 3, 'Conference': 1, 'Proceedings': 1, 'submission': 2, 'refined': 2, 'extended': 1, 'paper': 44, 'base': 43, 'ICTER...</td>\n",
              "    </tr>\n",
              "    <tr>\n",
              "      <th>1</th>\n",
              "      <td>Enhancing Public Procurement in the European Union through Constructing and Exploiting an Integrated Knowledge Graph</td>\n",
              "      <td>Enhancing Public Procurement in the European Union through Constructing and Exploiting an Integrated Knowledge Graph Ahmet Soylu1, Oscar Corcho2, Brian Elvesæter1, Carlos Badenes-Olmedo2, Francisc...</td>\n",
              "      <td>5827</td>\n",
              "      <td>[enhance, Public, Procurement, European, Union, Constructing, exploit, Integrated, Knowledge, Graph, Ahmet, Soylu1, Oscar, Corcho2, Brian, Elvesæter1, Carlos, Badenes, Olmedo2, Francisco, Yedro2, ...</td>\n",
              "      <td>3406</td>\n",
              "      <td>1290</td>\n",
              "      <td>{'enhance': True, 'Public': True, 'Procurement': True, 'European': True, 'Union': True, 'Constructing': True, 'exploit': True, 'Integrated': True, 'Knowledge': True, 'Graph': True, 'Ahmet': True, ...</td>\n",
              "      <td>{'enhance': 9, 'Public': 9, 'Procurement': 9, 'European': 5, 'Union': 3, 'Constructing': 1, 'exploit': 1, 'Integrated': 8, 'Knowledge': 11, 'Graph': 11, 'Ahmet': 1, 'Soylu1': 1, 'Oscar': 1, 'Corch...</td>\n",
              "    </tr>\n",
              "    <tr>\n",
              "      <th>2</th>\n",
              "      <td>Drugs4Covid: Making drug information available from scientific publications</td>\n",
              "      <td>Drugs4Covid: Making drug information available from scientific publications Carlos Badenes-Olmedo1, David Chaves-Fraga1, Mar´ıa Poveda-Villal´on1, Ana Iglesias-Molina1, Pablo Calleja1, Socorro Ber...</td>\n",
              "      <td>5417</td>\n",
              "      <td>[Drugs4Covid, make, drug, information, available, scientific, publication, Carlos, Badenes, Olmedo1, David, Chaves, Fraga1, Mar´ıa, Poveda, Villal´on1, Ana, Iglesias, Molina1, Pablo, Calleja1, Soc...</td>\n",
              "      <td>3260</td>\n",
              "      <td>1367</td>\n",
              "      <td>{'Drugs4Covid': True, 'make': True, 'drug': True, 'information': True, 'available': True, 'scientific': True, 'publication': True, 'Carlos': True, 'Badenes': True, 'Olmedo1': True, 'David': True, ...</td>\n",
              "      <td>{'Drugs4Covid': 24, 'make': 2, 'drug': 71, 'information': 11, 'available': 12, 'scientific': 14, 'publication': 9, 'Carlos': 1, 'Badenes': 10, 'Olmedo1': 1, 'David': 1, 'Chaves': 1, 'Fraga1': 1, '...</td>\n",
              "    </tr>\n",
              "  </tbody>\n",
              "</table>\n",
              "</div>"
            ],
            "text/plain": [
              "                                                                                                                  title  ...                                                                                                                                                                                                       tf\n",
              "0                                      Cross-Evaluation of Term Extraction Tools by Measuring Terminological Saturation  ...  {'synopsis': 1, 'Refinements': 1, 'Extensions': 1, 'compare': 21, 'publication': 3, 'Conference': 1, 'Proceedings': 1, 'submission': 2, 'refined': 2, 'extended': 1, 'paper': 44, 'base': 43, 'ICTER...\n",
              "1  Enhancing Public Procurement in the European Union through Constructing and Exploiting an Integrated Knowledge Graph  ...  {'enhance': 9, 'Public': 9, 'Procurement': 9, 'European': 5, 'Union': 3, 'Constructing': 1, 'exploit': 1, 'Integrated': 8, 'Knowledge': 11, 'Graph': 11, 'Ahmet': 1, 'Soylu1': 1, 'Oscar': 1, 'Corch...\n",
              "2                                           Drugs4Covid: Making drug information available from scientific publications  ...  {'Drugs4Covid': 24, 'make': 2, 'drug': 71, 'information': 11, 'available': 12, 'scientific': 14, 'publication': 9, 'Carlos': 1, 'Badenes': 10, 'Olmedo1': 1, 'David': 1, 'Chaves': 1, 'Fraga1': 1, '...\n",
              "\n",
              "[3 rows x 8 columns]"
            ]
          },
          "metadata": {
            "tags": []
          },
          "execution_count": 51
        }
      ]
    },
    {
      "cell_type": "markdown",
      "metadata": {
        "id": "onn58OYn24Ag"
      },
      "source": [
        "The relevant results can now be sorted according to the frequency of the terms they contain. But **all terms in a document are treated as equally descriptive**."
      ]
    },
    {
      "cell_type": "code",
      "metadata": {
        "colab": {
          "base_uri": "https://localhost:8080/"
        },
        "id": "fx5Iv4X83Ori",
        "outputId": "7880de61-630a-4659-891c-a2d59ea2435d"
      },
      "source": [
        "def relevant(doc):\n",
        "  # multiple scores for OR queries, the max value should be returned\n",
        "  q1_score = 0\n",
        "  q2_score = 0\n",
        "  if doc['multilingual'] > 0:\n",
        "    q1_score = doc['multilingual']\n",
        "  if doc['topic'] > 0 and doc['hierarchy'] > 0:\n",
        "    q2_score = doc['topic'] + doc['hierarchy']\n",
        "  return max(q1_score, q2_score)\n",
        "\n",
        "result = []\n",
        "pos = 0\n",
        "for vector in corpus_df['tf']:\n",
        "  result.append({ 'title': corpus_df['title'][pos],\n",
        "                 'score' : relevant(vector)})  \n",
        "  pos+=1 \n",
        "\n",
        "def sort_by_score(element):\n",
        "  return element['score']\n",
        "\n",
        "result.sort(reverse=True, key=sort_by_score)\n",
        "\n",
        "for paper in result:\n",
        "  print(paper)"
      ],
      "execution_count": 52,
      "outputs": [
        {
          "output_type": "stream",
          "text": [
            "{'title': 'Large-Scale Semantic Exploration of Scientific Literature using Topic-based Hashing Algorithms', 'score': 197}\n",
            "{'title': 'Scalable Cross-lingual Document Similarity through Language-specific Concept Hierarchies', 'score': 128}\n",
            "{'title': 'Efficient Clustering from Distributions over Topics', 'score': 85}\n",
            "{'title': 'Legal Documents Retrieval Across Languages: Topic Hierarchies based on synsets', 'score': 33}\n",
            "{'title': 'Enhancing Public Procurement in the European Union through Constructing and Exploiting an Integrated Knowledge Graph', 'score': 13}\n",
            "{'title': 'Cross-Evaluation of Term Extraction Tools by Measuring Terminological Saturation', 'score': 0}\n",
            "{'title': 'Drugs4Covid: Making drug information available from scientific publications', 'score': 0}\n",
            "{'title': 'Distributing Text Mining tasks with librAIry', 'score': 0}\n",
            "{'title': 'An initial Analysis of Topic-based Similarity among Scientific Documents based on their Rhetorical Discourse Parts', 'score': 0}\n",
            "{'title': 'Potentially inappropriate medications in older adults living with HIV', 'score': 0}\n",
            "{'title': 'Semantic Saturation in Retrospective Text Document  Collections', 'score': 0}\n"
          ],
          "name": "stdout"
        }
      ]
    },
    {
      "cell_type": "markdown",
      "metadata": {
        "id": "j2eYbhPgdQyO"
      },
      "source": [
        "#### 2.3.2.2 Term-Frequency Inverse-Document-Frequency (TF/IDF)"
      ]
    },
    {
      "cell_type": "markdown",
      "metadata": {
        "id": "e8VATDc-dZr9"
      },
      "source": [
        "To overcome this limitation, Term-Frequency Inverse-Document Frequency (TF-IDF) (Lee, 1995) relativizes the relevance of each term with respect to the entire corpus. TF-IDF calculates the importance of a term for a document, based on the number of times the term appears in the document itself (term frequency - TF) and the number of documents in the corpus, which contain the term (document frequency - DF)."
      ]
    },
    {
      "cell_type": "code",
      "metadata": {
        "colab": {
          "base_uri": "https://localhost:8080/",
          "height": 1000
        },
        "id": "tDInLJMgdf3p",
        "outputId": "8d7277e8-07f7-47be-e96f-3486af9ea5c4"
      },
      "source": [
        "# https://www.oreilly.com/library/view/applied-text-analysis/9781491963036/ch04.html\n",
        "from collections import defaultdict\n",
        "from nltk.text import TextCollection\n",
        "\n",
        "texts  = TextCollection(corpus_df['tokens'])\n",
        "\n",
        "vectors = []\n",
        "\n",
        "for doc in corpus_df['tokens']:\n",
        "  features = defaultdict(int)\n",
        "  for term in doc:\n",
        "    features[term]=texts.tf_idf(term, doc)\n",
        "  vectors.append(features)\n",
        "\n",
        "corpus_df['tf_idf'] = vectors\n",
        "corpus_df.head(3)"
      ],
      "execution_count": 53,
      "outputs": [
        {
          "output_type": "execute_result",
          "data": {
            "text/html": [
              "<div>\n",
              "<style scoped>\n",
              "    .dataframe tbody tr th:only-of-type {\n",
              "        vertical-align: middle;\n",
              "    }\n",
              "\n",
              "    .dataframe tbody tr th {\n",
              "        vertical-align: top;\n",
              "    }\n",
              "\n",
              "    .dataframe thead th {\n",
              "        text-align: right;\n",
              "    }\n",
              "</style>\n",
              "<table border=\"1\" class=\"dataframe\">\n",
              "  <thead>\n",
              "    <tr style=\"text-align: right;\">\n",
              "      <th></th>\n",
              "      <th>title</th>\n",
              "      <th>text</th>\n",
              "      <th>#words</th>\n",
              "      <th>tokens</th>\n",
              "      <th>#tokens</th>\n",
              "      <th>#uni_tokens</th>\n",
              "      <th>boolean</th>\n",
              "      <th>tf</th>\n",
              "      <th>tf_idf</th>\n",
              "    </tr>\n",
              "  </thead>\n",
              "  <tbody>\n",
              "    <tr>\n",
              "      <th>0</th>\n",
              "      <td>Cross-Evaluation of Term Extraction Tools by Measuring Terminological Saturation</td>\n",
              "      <td>Synopsis of the Refinements and Extensions  Compared to the Publication in the Conference Proceedings  This submission is a refined and extended paper based on the ICTERI 2017 PhD  Symposium paper...</td>\n",
              "      <td>12954</td>\n",
              "      <td>[synopsis, Refinements, Extensions, compare, publication, Conference, Proceedings, submission, refined, extended, paper, base, ICTERI, phd, symposium, paper, Kosa, et, al, fact, submission, totall...</td>\n",
              "      <td>6342</td>\n",
              "      <td>1618</td>\n",
              "      <td>{'synopsis': True, 'Refinements': True, 'Extensions': True, 'compare': True, 'publication': True, 'Conference': True, 'Proceedings': True, 'submission': True, 'refined': True, 'extended': True, 'p...</td>\n",
              "      <td>{'synopsis': 1, 'Refinements': 1, 'Extensions': 1, 'compare': 21, 'publication': 3, 'Conference': 1, 'Proceedings': 1, 'submission': 2, 'refined': 2, 'extended': 1, 'paper': 44, 'base': 43, 'ICTER...</td>\n",
              "      <td>{'synopsis': 0.0003780976462942874, 'Refinements': 0.0003780976462942874, 'Extensions': 0.0003780976462942874, 'compare': 0.0003155966218686256, 'publication': 0.0002867245996075286, 'Conference':...</td>\n",
              "    </tr>\n",
              "    <tr>\n",
              "      <th>1</th>\n",
              "      <td>Enhancing Public Procurement in the European Union through Constructing and Exploiting an Integrated Knowledge Graph</td>\n",
              "      <td>Enhancing Public Procurement in the European Union through Constructing and Exploiting an Integrated Knowledge Graph Ahmet Soylu1, Oscar Corcho2, Brian Elvesæter1, Carlos Badenes-Olmedo2, Francisc...</td>\n",
              "      <td>5827</td>\n",
              "      <td>[enhance, Public, Procurement, European, Union, Constructing, exploit, Integrated, Knowledge, Graph, Ahmet, Soylu1, Oscar, Corcho2, Brian, Elvesæter1, Carlos, Badenes, Olmedo2, Francisco, Yedro2, ...</td>\n",
              "      <td>3406</td>\n",
              "      <td>1290</td>\n",
              "      <td>{'enhance': True, 'Public': True, 'Procurement': True, 'European': True, 'Union': True, 'Constructing': True, 'exploit': True, 'Integrated': True, 'Knowledge': True, 'Graph': True, 'Ahmet': True, ...</td>\n",
              "      <td>{'enhance': 9, 'Public': 9, 'Procurement': 9, 'European': 5, 'Union': 3, 'Constructing': 1, 'exploit': 1, 'Integrated': 8, 'Knowledge': 11, 'Graph': 11, 'Ahmet': 1, 'Soylu1': 1, 'Oscar': 1, 'Corch...</td>\n",
              "      <td>{'enhance': 0.004504619151540172, 'Public': 0.006336188330941086, 'Procurement': 0.006336188330941086, 'European': 0.0014850277622995888, 'Union': 0.0011444066213713397, 'Constructing': 0.00070402...</td>\n",
              "    </tr>\n",
              "    <tr>\n",
              "      <th>2</th>\n",
              "      <td>Drugs4Covid: Making drug information available from scientific publications</td>\n",
              "      <td>Drugs4Covid: Making drug information available from scientific publications Carlos Badenes-Olmedo1, David Chaves-Fraga1, Mar´ıa Poveda-Villal´on1, Ana Iglesias-Molina1, Pablo Calleja1, Socorro Ber...</td>\n",
              "      <td>5417</td>\n",
              "      <td>[Drugs4Covid, make, drug, information, available, scientific, publication, Carlos, Badenes, Olmedo1, David, Chaves, Fraga1, Mar´ıa, Poveda, Villal´on1, Ana, Iglesias, Molina1, Pablo, Calleja1, Soc...</td>\n",
              "      <td>3260</td>\n",
              "      <td>1367</td>\n",
              "      <td>{'Drugs4Covid': True, 'make': True, 'drug': True, 'information': True, 'available': True, 'scientific': True, 'publication': True, 'Carlos': True, 'Badenes': True, 'Olmedo1': True, 'David': True, ...</td>\n",
              "      <td>{'Drugs4Covid': 24, 'make': 2, 'drug': 71, 'information': 11, 'available': 12, 'scientific': 14, 'publication': 9, 'Carlos': 1, 'Badenes': 10, 'Olmedo1': 1, 'David': 1, 'Chaves': 1, 'Fraga1': 1, '...</td>\n",
              "      <td>{'Drugs4Covid': 0.017653216732257945, 'make': 0.00019537038718928502, 'drug': 0.03712794924813748, 'information': 0.0, 'available': 0.00035083501768463167, 'scientific': 0.004344298393711264, 'pub...</td>\n",
              "    </tr>\n",
              "  </tbody>\n",
              "</table>\n",
              "</div>"
            ],
            "text/plain": [
              "                                                                                                                  title  ...                                                                                                                                                                                                   tf_idf\n",
              "0                                      Cross-Evaluation of Term Extraction Tools by Measuring Terminological Saturation  ...  {'synopsis': 0.0003780976462942874, 'Refinements': 0.0003780976462942874, 'Extensions': 0.0003780976462942874, 'compare': 0.0003155966218686256, 'publication': 0.0002867245996075286, 'Conference':...\n",
              "1  Enhancing Public Procurement in the European Union through Constructing and Exploiting an Integrated Knowledge Graph  ...  {'enhance': 0.004504619151540172, 'Public': 0.006336188330941086, 'Procurement': 0.006336188330941086, 'European': 0.0014850277622995888, 'Union': 0.0011444066213713397, 'Constructing': 0.00070402...\n",
              "2                                           Drugs4Covid: Making drug information available from scientific publications  ...  {'Drugs4Covid': 0.017653216732257945, 'make': 0.00019537038718928502, 'drug': 0.03712794924813748, 'information': 0.0, 'available': 0.00035083501768463167, 'scientific': 0.004344298393711264, 'pub...\n",
              "\n",
              "[3 rows x 9 columns]"
            ]
          },
          "metadata": {
            "tags": []
          },
          "execution_count": 53
        }
      ]
    },
    {
      "cell_type": "markdown",
      "metadata": {
        "id": "qUT1MiuR5wr4"
      },
      "source": [
        "Relevance now depends not only on the document, but also on the corpus. Those documents that contain the key terms in a different proportion to the rest of the documents will be the most relevant."
      ]
    },
    {
      "cell_type": "code",
      "metadata": {
        "colab": {
          "base_uri": "https://localhost:8080/"
        },
        "id": "6gSOCAVg6KO2",
        "outputId": "5c7486c2-247a-4391-ac0c-7da2065f6c03"
      },
      "source": [
        "result = []\n",
        "pos = 0\n",
        "for vector in corpus_df['tf_idf']:\n",
        "  result.append({ 'title': corpus_df['title'][pos],\n",
        "                 'score' : relevant(vector)})  \n",
        "  pos+=1 \n",
        "\n",
        "result.sort(reverse=True, key=sort_by_score)\n",
        "\n",
        "for paper in result:\n",
        "  print(paper)"
      ],
      "execution_count": 54,
      "outputs": [
        {
          "output_type": "stream",
          "text": [
            "{'title': 'Scalable Cross-lingual Document Similarity through Language-specific Concept Hierarchies', 'score': 0.01144612295909046}\n",
            "{'title': 'Legal Documents Retrieval Across Languages: Topic Hierarchies based on synsets', 'score': 0.011401880063353832}\n",
            "{'title': 'Large-Scale Semantic Exploration of Scientific Literature using Topic-based Hashing Algorithms', 'score': 0.009676444259207134}\n",
            "{'title': 'Efficient Clustering from Distributions over Topics', 'score': 0.005909174741856991}\n",
            "{'title': 'Enhancing Public Procurement in the European Union through Constructing and Exploiting an Integrated Knowledge Graph', 'score': 0.0009384925736670831}\n",
            "{'title': 'Cross-Evaluation of Term Extraction Tools by Measuring Terminological Saturation', 'score': 0}\n",
            "{'title': 'Drugs4Covid: Making drug information available from scientific publications', 'score': 0}\n",
            "{'title': 'Distributing Text Mining tasks with librAIry', 'score': 0}\n",
            "{'title': 'An initial Analysis of Topic-based Similarity among Scientific Documents based on their Rhetorical Discourse Parts', 'score': 0}\n",
            "{'title': 'Potentially inappropriate medications in older adults living with HIV', 'score': 0}\n",
            "{'title': 'Semantic Saturation in Retrospective Text Document  Collections', 'score': 0}\n"
          ],
          "name": "stdout"
        }
      ]
    },
    {
      "cell_type": "markdown",
      "metadata": {
        "id": "8REaBnOO7ayR"
      },
      "source": [
        "However the **absence of semantic information, and the high-number of dimensions** are the main drawbacks of these approaches that lead to the emergence of other techniques. New ways of characterizing documents appeared based on the automatic generation of models discovering the main themes covered in the corpus."
      ]
    },
    {
      "cell_type": "markdown",
      "metadata": {
        "id": "Q3iy0fjH73ys"
      },
      "source": [
        "#### 2.3.2.3 Text embedding"
      ]
    },
    {
      "cell_type": "markdown",
      "metadata": {
        "id": "G7bKKfcv7lSR"
      },
      "source": [
        " Among them, text embedding proposes transforming texts into low-dimensional vectors by pre- diction methods based on (i) word sequences or (ii) bag-of-words."
      ]
    },
    {
      "cell_type": "markdown",
      "metadata": {
        "id": "0P-apJdx8DQn"
      },
      "source": [
        "##### 2.3.2.3.1 Word sequences"
      ]
    },
    {
      "cell_type": "markdown",
      "metadata": {
        "id": "5Lj6pi648HGb"
      },
      "source": [
        "This approach assumes words with similar meanings tend to occur in similar contexts. It considers that word order is relevant, and is based on Neural Models (NM) that learn word vectors from pairs of target and context words. Context words are taken as words observed to surround a target word. \n",
        "\n",
        "Document vectors are usually created by taking the word vectors they contain or by considering them as target and context items. Skip-gram with negative sampling (Word2Vec) (Mikolov et al., 2013) and Global Vectors (GloVe) (Pennington et al., 2014) are indeed the most popular methods to learn word embeddings due to its training efficiency and robustness (Levy et al., 2015).\n"
      ]
    },
    {
      "cell_type": "markdown",
      "metadata": {
        "id": "nGunwvB-8wrK"
      },
      "source": [
        "The Doc2Vec algorithm is an extension of Word2Vec. It proposes a paragraph vector, i.e. an unsupervised algorithm that learns fixed-length feature representations from variable length documents. It takes into consideration the ordering of words within a narrow context, similar to an n-gram model. The combined result generalizes and has a lower dimensionality but still is of a fixed length so it can be used in common machine learning algorithms."
      ]
    },
    {
      "cell_type": "code",
      "metadata": {
        "colab": {
          "base_uri": "https://localhost:8080/",
          "height": 1000
        },
        "id": "0VanWTtt8TmV",
        "outputId": "c877dd53-bf4b-4591-f43a-9f2ac2f78f3b"
      },
      "source": [
        "from gensim.models.doc2vec import TaggedDocument, Doc2Vec\n",
        "\n",
        "documents = [TaggedDocument(doc, [i]) for i, doc in enumerate(corpus_df['tokens'])]\n",
        "model = Doc2Vec(documents, vector_size=5, min_count=0, window=2, workers=4)\n",
        "\n",
        "docvecs = []\n",
        "for pos in range(len(corpus_df['tokens'])):\n",
        "  docvecs.append(model.docvecs[pos])\n",
        "\n",
        "corpus_df['d2v'] = docvecs\n",
        "corpus_df.head(3)\n"
      ],
      "execution_count": 55,
      "outputs": [
        {
          "output_type": "execute_result",
          "data": {
            "text/html": [
              "<div>\n",
              "<style scoped>\n",
              "    .dataframe tbody tr th:only-of-type {\n",
              "        vertical-align: middle;\n",
              "    }\n",
              "\n",
              "    .dataframe tbody tr th {\n",
              "        vertical-align: top;\n",
              "    }\n",
              "\n",
              "    .dataframe thead th {\n",
              "        text-align: right;\n",
              "    }\n",
              "</style>\n",
              "<table border=\"1\" class=\"dataframe\">\n",
              "  <thead>\n",
              "    <tr style=\"text-align: right;\">\n",
              "      <th></th>\n",
              "      <th>title</th>\n",
              "      <th>text</th>\n",
              "      <th>#words</th>\n",
              "      <th>tokens</th>\n",
              "      <th>#tokens</th>\n",
              "      <th>#uni_tokens</th>\n",
              "      <th>boolean</th>\n",
              "      <th>tf</th>\n",
              "      <th>tf_idf</th>\n",
              "      <th>d2v</th>\n",
              "    </tr>\n",
              "  </thead>\n",
              "  <tbody>\n",
              "    <tr>\n",
              "      <th>0</th>\n",
              "      <td>Cross-Evaluation of Term Extraction Tools by Measuring Terminological Saturation</td>\n",
              "      <td>Synopsis of the Refinements and Extensions  Compared to the Publication in the Conference Proceedings  This submission is a refined and extended paper based on the ICTERI 2017 PhD  Symposium paper...</td>\n",
              "      <td>12954</td>\n",
              "      <td>[synopsis, Refinements, Extensions, compare, publication, Conference, Proceedings, submission, refined, extended, paper, base, ICTERI, phd, symposium, paper, Kosa, et, al, fact, submission, totall...</td>\n",
              "      <td>6342</td>\n",
              "      <td>1618</td>\n",
              "      <td>{'synopsis': True, 'Refinements': True, 'Extensions': True, 'compare': True, 'publication': True, 'Conference': True, 'Proceedings': True, 'submission': True, 'refined': True, 'extended': True, 'p...</td>\n",
              "      <td>{'synopsis': 1, 'Refinements': 1, 'Extensions': 1, 'compare': 21, 'publication': 3, 'Conference': 1, 'Proceedings': 1, 'submission': 2, 'refined': 2, 'extended': 1, 'paper': 44, 'base': 43, 'ICTER...</td>\n",
              "      <td>{'synopsis': 0.0003780976462942874, 'Refinements': 0.0003780976462942874, 'Extensions': 0.0003780976462942874, 'compare': 0.0003155966218686256, 'publication': 0.0002867245996075286, 'Conference':...</td>\n",
              "      <td>[1.8876443, -0.8634335, -16.34512, 13.771379, -1.2340014]</td>\n",
              "    </tr>\n",
              "    <tr>\n",
              "      <th>1</th>\n",
              "      <td>Enhancing Public Procurement in the European Union through Constructing and Exploiting an Integrated Knowledge Graph</td>\n",
              "      <td>Enhancing Public Procurement in the European Union through Constructing and Exploiting an Integrated Knowledge Graph Ahmet Soylu1, Oscar Corcho2, Brian Elvesæter1, Carlos Badenes-Olmedo2, Francisc...</td>\n",
              "      <td>5827</td>\n",
              "      <td>[enhance, Public, Procurement, European, Union, Constructing, exploit, Integrated, Knowledge, Graph, Ahmet, Soylu1, Oscar, Corcho2, Brian, Elvesæter1, Carlos, Badenes, Olmedo2, Francisco, Yedro2, ...</td>\n",
              "      <td>3406</td>\n",
              "      <td>1290</td>\n",
              "      <td>{'enhance': True, 'Public': True, 'Procurement': True, 'European': True, 'Union': True, 'Constructing': True, 'exploit': True, 'Integrated': True, 'Knowledge': True, 'Graph': True, 'Ahmet': True, ...</td>\n",
              "      <td>{'enhance': 9, 'Public': 9, 'Procurement': 9, 'European': 5, 'Union': 3, 'Constructing': 1, 'exploit': 1, 'Integrated': 8, 'Knowledge': 11, 'Graph': 11, 'Ahmet': 1, 'Soylu1': 1, 'Oscar': 1, 'Corch...</td>\n",
              "      <td>{'enhance': 0.004504619151540172, 'Public': 0.006336188330941086, 'Procurement': 0.006336188330941086, 'European': 0.0014850277622995888, 'Union': 0.0011444066213713397, 'Constructing': 0.00070402...</td>\n",
              "      <td>[1.6595398, -9.840459, -12.158843, 6.647979, -4.024708]</td>\n",
              "    </tr>\n",
              "    <tr>\n",
              "      <th>2</th>\n",
              "      <td>Drugs4Covid: Making drug information available from scientific publications</td>\n",
              "      <td>Drugs4Covid: Making drug information available from scientific publications Carlos Badenes-Olmedo1, David Chaves-Fraga1, Mar´ıa Poveda-Villal´on1, Ana Iglesias-Molina1, Pablo Calleja1, Socorro Ber...</td>\n",
              "      <td>5417</td>\n",
              "      <td>[Drugs4Covid, make, drug, information, available, scientific, publication, Carlos, Badenes, Olmedo1, David, Chaves, Fraga1, Mar´ıa, Poveda, Villal´on1, Ana, Iglesias, Molina1, Pablo, Calleja1, Soc...</td>\n",
              "      <td>3260</td>\n",
              "      <td>1367</td>\n",
              "      <td>{'Drugs4Covid': True, 'make': True, 'drug': True, 'information': True, 'available': True, 'scientific': True, 'publication': True, 'Carlos': True, 'Badenes': True, 'Olmedo1': True, 'David': True, ...</td>\n",
              "      <td>{'Drugs4Covid': 24, 'make': 2, 'drug': 71, 'information': 11, 'available': 12, 'scientific': 14, 'publication': 9, 'Carlos': 1, 'Badenes': 10, 'Olmedo1': 1, 'David': 1, 'Chaves': 1, 'Fraga1': 1, '...</td>\n",
              "      <td>{'Drugs4Covid': 0.017653216732257945, 'make': 0.00019537038718928502, 'drug': 0.03712794924813748, 'information': 0.0, 'available': 0.00035083501768463167, 'scientific': 0.004344298393711264, 'pub...</td>\n",
              "      <td>[1.2999653, -9.134557, -10.952589, 5.944156, -3.9267771]</td>\n",
              "    </tr>\n",
              "  </tbody>\n",
              "</table>\n",
              "</div>"
            ],
            "text/plain": [
              "                                                                                                                  title  ...                                                        d2v\n",
              "0                                      Cross-Evaluation of Term Extraction Tools by Measuring Terminological Saturation  ...  [1.8876443, -0.8634335, -16.34512, 13.771379, -1.2340014]\n",
              "1  Enhancing Public Procurement in the European Union through Constructing and Exploiting an Integrated Knowledge Graph  ...    [1.6595398, -9.840459, -12.158843, 6.647979, -4.024708]\n",
              "2                                           Drugs4Covid: Making drug information available from scientific publications  ...   [1.2999653, -9.134557, -10.952589, 5.944156, -3.9267771]\n",
              "\n",
              "[3 rows x 10 columns]"
            ]
          },
          "metadata": {
            "tags": []
          },
          "execution_count": 55
        }
      ]
    },
    {
      "cell_type": "markdown",
      "metadata": {
        "id": "6p1Fg7JbAjqO"
      },
      "source": [
        "Now, a text or a reference document can be used in the query by  measuring its similarity to the corpus."
      ]
    },
    {
      "cell_type": "code",
      "metadata": {
        "colab": {
          "base_uri": "https://localhost:8080/"
        },
        "id": "6E5OwhdOBGM3",
        "outputId": "74dfdca4-60e8-4517-a8ac-5ab6e5da035d"
      },
      "source": [
        "from scipy import spatial\n",
        "\n",
        "query_paper = 4\n",
        "query_vector = corpus_df['d2v'][query_paper]\n",
        "\n",
        "def relevant(vector):\n",
        "  distance = spatial.distance.cosine(query_vector, vector)\n",
        "  similarity = 1 - distance\n",
        "  return similarity\n",
        "\n",
        "pos = 0\n",
        "result = []\n",
        "for v1 in corpus_df['d2v']:\n",
        "  result.append({ 'title': corpus_df['title'][pos],\n",
        "                 'score' : relevant(v1)})    \n",
        "  pos+=1\n",
        "\n",
        "result.sort(reverse=True, key=sort_by_score)\n",
        "\n",
        "print(corpus_df['title'][query_paper],\":\")\n",
        "for paper in result:\n",
        "  print(paper)"
      ],
      "execution_count": 56,
      "outputs": [
        {
          "output_type": "stream",
          "text": [
            "Large-Scale Semantic Exploration of Scientific Literature using Topic-based Hashing Algorithms :\n",
            "{'title': 'Large-Scale Semantic Exploration of Scientific Literature using Topic-based Hashing Algorithms', 'score': 1.0}\n",
            "{'title': 'Efficient Clustering from Distributions over Topics', 'score': 0.9861946702003479}\n",
            "{'title': 'Drugs4Covid: Making drug information available from scientific publications', 'score': 0.9829981923103333}\n",
            "{'title': 'Scalable Cross-lingual Document Similarity through Language-specific Concept Hierarchies', 'score': 0.9792618155479431}\n",
            "{'title': 'Enhancing Public Procurement in the European Union through Constructing and Exploiting an Integrated Knowledge Graph', 'score': 0.9790343642234802}\n",
            "{'title': 'Legal Documents Retrieval Across Languages: Topic Hierarchies based on synsets', 'score': 0.9713021516799927}\n",
            "{'title': 'Distributing Text Mining tasks with librAIry', 'score': 0.961406946182251}\n",
            "{'title': 'An initial Analysis of Topic-based Similarity among Scientific Documents based on their Rhetorical Discourse Parts', 'score': 0.9529688954353333}\n",
            "{'title': 'Potentially inappropriate medications in older adults living with HIV', 'score': 0.9393362402915955}\n",
            "{'title': 'Semantic Saturation in Retrospective Text Document  Collections', 'score': 0.8930673003196716}\n",
            "{'title': 'Cross-Evaluation of Term Extraction Tools by Measuring Terminological Saturation', 'score': 0.6838582158088684}\n"
          ],
          "name": "stdout"
        }
      ]
    },
    {
      "cell_type": "code",
      "metadata": {
        "colab": {
          "base_uri": "https://localhost:8080/",
          "height": 639
        },
        "id": "scg_Q0GApnT2",
        "outputId": "47fc58f9-c864-41c0-dbb4-0d8dcbd8fdf7"
      },
      "source": [
        "import numpy as np\n",
        "import matplotlib.pyplot as plt\n",
        "from sklearn.decomposition import PCA\n",
        "\n",
        "def show_points(representation):\n",
        "  pos = 0\n",
        "  for title in corpus_df['title']:\n",
        "    print(pos,title)\n",
        "    pos+=1\n",
        "  pca = PCA(n_components=2)\n",
        "  ranking = np.random.normal(size=len(corpus_df[representation]))\n",
        "  X = pca.fit_transform(corpus_df[representation].tolist())\n",
        "  fig, ax = plt.subplots(figsize=(15, 10))\n",
        "  #scatter = ax.scatter(X[:,0], X[:,1], cmap=\"Spectral\")\n",
        "  colors = ['o', '.', 'o', 'x', 'P', 'v', '*', '<', '.', '.', 'd']\n",
        "  markers = ['o', '.', 'o', '>', '<', 'v', 'P', '<', '.', '.', 'd']\n",
        "  for i, txt in enumerate(corpus_df['title'].tolist()):\n",
        "    plt.plot(X[:,0][i], X[:,1][i], markers[i], markersize=20, label=\"D{0}\".format(i))\n",
        "    #plt.annotate(\"D\"+str(i), (X[:,0][i], X[:,1][i]))\n",
        "  plt.legend(numpoints=1,fontsize='xx-large')\n",
        "  plt.show()\n",
        "\n",
        "\n",
        "show_points('d2v')\n"
      ],
      "execution_count": 57,
      "outputs": [
        {
          "output_type": "stream",
          "text": [
            "0 Cross-Evaluation of Term Extraction Tools by Measuring Terminological Saturation\n",
            "1 Enhancing Public Procurement in the European Union through Constructing and Exploiting an Integrated Knowledge Graph\n",
            "2 Drugs4Covid: Making drug information available from scientific publications\n",
            "3 Distributing Text Mining tasks with librAIry\n",
            "4 Large-Scale Semantic Exploration of Scientific Literature using Topic-based Hashing Algorithms\n",
            "5 An initial Analysis of Topic-based Similarity among Scientific Documents based on their Rhetorical Discourse Parts\n",
            "6 Efficient Clustering from Distributions over Topics\n",
            "7 Legal Documents Retrieval Across Languages: Topic Hierarchies based on synsets\n",
            "8 Scalable Cross-lingual Document Similarity through Language-specific Concept Hierarchies\n",
            "9 Potentially inappropriate medications in older adults living with HIV\n",
            "10 Semantic Saturation in Retrospective Text Document  Collections\n"
          ],
          "name": "stdout"
        },
        {
          "output_type": "display_data",
          "data": {
            "image/png": "[encoded data removed]",
            "text/plain": [
              "<Figure size 1080x720 with 1 Axes>"
            ]
          },
          "metadata": {
            "tags": [],
            "needs_background": "light"
          }
        }
      ]
    },
    {
      "cell_type": "markdown",
      "metadata": {
        "id": "TYO-DpTj8UTk"
      },
      "source": [
        "##### 2.3.2.3.2 Bag-of-words"
      ]
    },
    {
      "cell_type": "markdown",
      "metadata": {
        "id": "V3WVlqAj8YHq"
      },
      "source": [
        "This approach does not consider the order of the words to be relevant, but their frequency. It assumes words with similar meanings will occur in similar documents, although a recent proposal uses an embeddings based approach to model the topics (Dieng et al., 2020). Topic models (Blei et al., 2003; Deerwester et al., 1990; Hofmann, 2001) are the main methods based on this approach. This second approach is used in our work since we are not only interested in representing words and documents, but we also seek structures that allows considering knowledge about the collection"
      ]
    },
    {
      "cell_type": "code",
      "metadata": {
        "colab": {
          "base_uri": "https://localhost:8080/"
        },
        "id": "hiwx62ZSm_iN",
        "outputId": "64a51bf7-ee25-433f-cdff-aaec087ef1a1"
      },
      "source": [
        "import gensim\n",
        "\n",
        "# Create Dictionary\n",
        "dictionary = gensim.corpora.Dictionary(corpus_df['tokens'])\n",
        "\n",
        "# Create bag-of-words\n",
        "bows = [dictionary.doc2bow(text) for text in corpus_df['tokens']]\n",
        "\n",
        "print(\"->\",corpus_df['title'][0],\":\")\n",
        "for word in bows[0][250:270]:\n",
        "  id = word[0]\n",
        "  freq = word[1]\n",
        "  print(dictionary[id],\"(\",freq,\")\")"
      ],
      "execution_count": 58,
      "outputs": [
        {
          "output_type": "stream",
          "text": [
            "-> Cross-Evaluation of Term Extraction Tools by Measuring Terminological Saturation :\n",
            "Ermolayev ( 3 )\n",
            "Ermolayev1 ( 1 )\n",
            "Eugene ( 1 )\n",
            "Evaluation ( 3 )\n",
            "Excel ( 1 )\n",
            "Experiment ( 2 )\n",
            "Experimental ( 2 )\n",
            "Experiments ( 1 )\n",
            "Extensions ( 1 )\n",
            "Extrac- ( 1 )\n",
            "Extraction ( 5 )\n",
            "Extractor ( 53 )\n",
            "Extractor2 ( 1 )\n",
            "Extracts ( 2 )\n",
            "F. ( 3 )\n",
            "FP7 ( 1 )\n",
            "Fahmi ( 1 )\n",
            "Fig ( 47 )\n",
            "Finder ( 1 )\n",
            "Fitness ( 2 )\n"
          ],
          "name": "stdout"
        }
      ]
    },
    {
      "cell_type": "markdown",
      "metadata": {
        "id": "YnpL0grsEBFK"
      },
      "source": [
        "### 2.3.3 Probabilistic Topic Models"
      ]
    },
    {
      "cell_type": "markdown",
      "metadata": {
        "id": "QnROb8LdEKHv"
      },
      "source": [
        "Probabilistic Topic Models (PTM) (Blei et al., 2003; Hofmann, 2001) are statistical methods based on bag-of-words that analyze the words of the original texts to discover the themes that run through them, how those themes are connected to each other, or how they change over time. \n",
        "\n",
        "PTM do not require any prior annotations or labeling of the documents. The topics emerge, as hidden structures, from the analy- sis of the original texts. These structures are topic distributions, per-document topic distributions or per-document per-word topic assignments.\n",
        "\n",
        "In turn, a topic is a distribution over terms that is biased around those words associated to a single theme. This interpretable hidden structure annotates each document in the collection and these annotations can be used to perform deeper analysis about relationships between documents.\n",
        "\n",
        "Topic-based representations bring a lot of potential when applied over different IR tasks, as evidenced by recent works in different domains such as scholarly (Gatti et al., 2015), health (Hsin-Min et al., 2016; Nzali et al., 2017), legal (Greene and Cross, 2016; O’Neill et al., 2017), news (He et al., 2017) and social networks (Cheng et al.,2014). \n",
        "\n",
        "Topic modeling provides an algorithmic solution to organize and annotate large collections of textual documents according to their topics."
      ]
    },
    {
      "cell_type": "markdown",
      "metadata": {
        "id": "791k5zdJExA6"
      },
      "source": [
        "#### 2.3.3.1 LDA"
      ]
    },
    {
      "cell_type": "markdown",
      "metadata": {
        "id": "TWD8-A0NE0go"
      },
      "source": [
        "The simplest generative topic model proposed in the state of the art is Latent Dirichlet Allocation (LDA) (Blei et al., 2003). Along with Latent Semantic Analysis (LSA) (Deerwester et al., 1990) and Probabilistic Latent Semantic Analysis (pLSA) (Hofmann, 2001) are part of the field known as topic modeling. They are well-known latent variable models for high dimensional data, such as the bag-of-words representation for textual data or any other count-based data representation. They try to capture the intuition that documents can exhibit multiple themes."
      ]
    },
    {
      "cell_type": "code",
      "metadata": {
        "colab": {
          "base_uri": "https://localhost:8080/"
        },
        "id": "fqD61-w6E66U",
        "outputId": "9f931669-01dc-446f-930b-2c2c4728daec"
      },
      "source": [
        "from pprint import pprint\n",
        "import warnings\n",
        "warnings.filterwarnings('ignore')\n",
        "\n",
        "number_of_topics = 5\n",
        "\n",
        "lda_model = gensim.models.ldamodel.LdaModel(corpus=bows,\n",
        "                                           id2word=dictionary,\n",
        "                                           num_topics=number_of_topics, \n",
        "                                           random_state=100,\n",
        "                                           update_every=1,\n",
        "                                           chunksize=100,\n",
        "                                           passes=10,\n",
        "                                           alpha='asymmetric',\n",
        "                                           per_word_topics=True)\n",
        "\n",
        "for idx, topic in lda_model.print_topics(-1):\n",
        "    print(\"Topic: {} \\nWords: {}\".format(idx, topic))\n",
        "    print(\"\\n\")\n",
        "\n",
        "\n"
      ],
      "execution_count": 59,
      "outputs": [
        {
          "output_type": "stream",
          "text": [
            "Topic: 0 \n",
            "Words: 0.027*\"topic\" + 0.020*\"document\" + 0.017*\"base\" + 0.008*\"distribution\" + 0.008*\"model\" + 0.007*\"similarity\" + 0.007*\"algorithm\" + 0.006*\"set\" + 0.005*\"datum\" + 0.005*\"mean\"\n",
            "\n",
            "\n",
            "Topic: 1 \n",
            "Words: 0.015*\"drug\" + 0.009*\"disease\" + 0.006*\"old\" + 0.005*\"PLWH\" + 0.005*\"medication\" + 0.005*\"knowledge\" + 0.005*\"document\" + 0.004*\"text\" + 0.004*\"create\" + 0.004*\"study\"\n",
            "\n",
            "\n",
            "Topic: 2 \n",
            "Words: 0.021*\"term\" + 0.011*\"collection\" + 0.010*\"document\" + 0.010*\"  \" + 0.009*\"value\" + 0.009*\"saturation\" + 0.009*\"datum\" + 0.009*\"paper\" + 0.007*\"extract\" + 0.007*\"result\"\n",
            "\n",
            "\n",
            "Topic: 3 \n",
            "Words: 0.009*\"synset\" + 0.008*\"topic\" + 0.008*\"document\" + 0.007*\"lingual\" + 0.006*\"category\" + 0.006*\"   \" + 0.004*\"model\" + 0.004*\"language\" + 0.003*\"algorithm\" + 0.003*\"base\"\n",
            "\n",
            "\n",
            "Topic: 4 \n",
            "Words: 0.001*\"document\" + 0.001*\"topic\" + 0.001*\"term\" + 0.001*\"base\" + 0.001*\"collection\" + 0.000*\"datum\" + 0.000*\"text\" + 0.000*\"  \" + 0.000*\"dataset\" + 0.000*\"set\"\n",
            "\n",
            "\n"
          ],
          "name": "stdout"
        }
      ]
    },
    {
      "cell_type": "markdown",
      "metadata": {
        "id": "Kbff9TZDxfX-"
      },
      "source": [
        "Visualize topics:"
      ]
    },
    {
      "cell_type": "code",
      "metadata": {
        "colab": {
          "base_uri": "https://localhost:8080/",
          "height": 1000
        },
        "id": "AwxHt0BrxhB0",
        "outputId": "9fdf5f57-b529-473a-a4ef-39eaf99641bc"
      },
      "source": [
        "!pip install pyLDAvis==2.1.2\n",
        "import pyLDAvis\n",
        "import pyLDAvis.gensim\n",
        "\n",
        "# Visualize the topics\n",
        "pyLDAvis.enable_notebook()\n",
        "vis = pyLDAvis.gensim.prepare(lda_model, bows, dictionary)\n",
        "vis"
      ],
      "execution_count": 60,
      "outputs": [
        {
          "output_type": "stream",
          "text": [
            "Requirement already satisfied: pyLDAvis==2.1.2 in /usr/local/lib/python3.7/dist-packages (2.1.2)\n",
            "Requirement already satisfied: joblib>=0.8.4 in /usr/local/lib/python3.7/dist-packages (from pyLDAvis==2.1.2) (1.0.1)\n",
            "Requirement already satisfied: future in /usr/local/lib/python3.7/dist-packages (from pyLDAvis==2.1.2) (0.16.0)\n",
            "Requirement already satisfied: numexpr in /usr/local/lib/python3.7/dist-packages (from pyLDAvis==2.1.2) (2.7.2)\n",
            "Requirement already satisfied: pandas>=0.17.0 in /usr/local/lib/python3.7/dist-packages (from pyLDAvis==2.1.2) (1.1.5)\n",
            "Requirement already satisfied: wheel>=0.23.0 in /usr/local/lib/python3.7/dist-packages (from pyLDAvis==2.1.2) (0.36.2)\n",
            "Requirement already satisfied: scipy>=0.18.0 in /usr/local/lib/python3.7/dist-packages (from pyLDAvis==2.1.2) (1.4.1)\n",
            "Requirement already satisfied: jinja2>=2.7.2 in /usr/local/lib/python3.7/dist-packages (from pyLDAvis==2.1.2) (2.11.3)\n",
            "Requirement already satisfied: funcy in /usr/local/lib/python3.7/dist-packages (from pyLDAvis==2.1.2) (1.15)\n",
            "Requirement already satisfied: numpy>=1.9.2 in /usr/local/lib/python3.7/dist-packages (from pyLDAvis==2.1.2) (1.19.5)\n",
            "Requirement already satisfied: pytest in /usr/local/lib/python3.7/dist-packages (from pyLDAvis==2.1.2) (3.6.4)\n",
            "Requirement already satisfied: pytz>=2017.2 in /usr/local/lib/python3.7/dist-packages (from pandas>=0.17.0->pyLDAvis==2.1.2) (2018.9)\n",
            "Requirement already satisfied: python-dateutil>=2.7.3 in /usr/local/lib/python3.7/dist-packages (from pandas>=0.17.0->pyLDAvis==2.1.2) (2.8.1)\n",
            "Requirement already satisfied: MarkupSafe>=0.23 in /usr/local/lib/python3.7/dist-packages (from jinja2>=2.7.2->pyLDAvis==2.1.2) (1.1.1)\n",
            "Requirement already satisfied: more-itertools>=4.0.0 in /usr/local/lib/python3.7/dist-packages (from pytest->pyLDAvis==2.1.2) (8.7.0)\n",
            "Requirement already satisfied: py>=1.5.0 in /usr/local/lib/python3.7/dist-packages (from pytest->pyLDAvis==2.1.2) (1.10.0)\n",
            "Requirement already satisfied: pluggy<0.8,>=0.5 in /usr/local/lib/python3.7/dist-packages (from pytest->pyLDAvis==2.1.2) (0.7.1)\n",
            "Requirement already satisfied: six>=1.10.0 in /usr/local/lib/python3.7/dist-packages (from pytest->pyLDAvis==2.1.2) (1.15.0)\n",
            "Requirement already satisfied: setuptools in /usr/local/lib/python3.7/dist-packages (from pytest->pyLDAvis==2.1.2) (53.0.0)\n",
            "Requirement already satisfied: attrs>=17.4.0 in /usr/local/lib/python3.7/dist-packages (from pytest->pyLDAvis==2.1.2) (20.3.0)\n",
            "Requirement already satisfied: atomicwrites>=1.0 in /usr/local/lib/python3.7/dist-packages (from pytest->pyLDAvis==2.1.2) (1.4.0)\n"
          ],
          "name": "stdout"
        },
        {
          "output_type": "execute_result",
          "data": {
            "text/html": [
              "\n",
              "<link rel=\"stylesheet\" type=\"text/css\" href=\"https://cdn.rawgit.com/bmabey/pyLDAvis/files/ldavis.v1.0.0.css\">\n",
              "\n",
              "\n",
              "<div id=\"ldavis_el651399680184297764010212299\"></div>\n",
              "<script type=\"text/javascript\">\n",
              "\n",
              "var ldavis_el651399680184297764010212299_data = {\"mdsDat\": {\"x\": [0.142936349652493, 0.040573498472559213, -0.13009771830661132, 0.002584013625993721, -0.05599614344443459], \"y\": [-0.06477661327591179, 0.17152670291176278, 0.0006071914106918899, -0.06201938417296847, -0.04533789687357443], \"topics\": [1, 2, 3, 4, 5], \"cluster\": [1, 1, 1, 1, 1], \"Freq\": [43.24749737877827, 36.759206595772675, 18.53246284391118, 1.45673521850594, 0.004097963031933528]}, \"tinfo\": {\"Term\": [\"topic\", \"document\", \"term\", \"drug\", \"lingual\", \"  \", \"synset\", \"saturation\", \"algorithm\", \"model\", \"base\", \"collection\", \"category\", \"disease\", \"set\", \"similarity\", \"language\", \"bag\", \"distribution\", \"   \", \"TerMine\", \"extract\", \"UPM\", \"cross\", \"annotation\", \"value\", \"old\", \"word\", \"thd\", \"hash\", \"99.9\", \"0.02\", \"0.23\", \"\\uffffe\", \"Hashing\", \"0.01\", \"0.20\", \"CHHM\", \"0.92\", \"dhhm\", \"syn\", \"cat\", \"divergence\", \"CRDC\", \"calculate\", \"AIES\", \"0.15\", \"thhm\", \"Dirichlet\", \"diferent\", \"h1\", \"0.96\", \"t1\", \"0.25\", \"\\uffffis\", \"New\", \"framework\", \"0.08\", \"York\", \"t0\", \"1.00\", \"hash\", \"Topic\", \"median\", \"topic\", \"hierarchy\", \"mean\", \"distribution\", \"hashing\", \"centroid\", \"similarity\", \"density\", \"probability\", \"level\", \"algorithm\", \"distance\", \"cluster\", \"base\", \"page\", \"document\", \"model\", \"hierarchical\", \"space\", \"propose\", \"lingual\", \"set\", \"similar\", \"consider\", \"language\", \"create\", \"number\", \"group\", \"word\", \"method\", \"datum\", \"metric\", \"corpus\", \"approach\", \"text\", \"value\", \"high\", \"dataset\", \"collection\", \"saturation\", \"TerMine\", \"Extractor\", \"thd\", \"measurement\", \"thdr\", \"significance\", \"DMKD\", \"stop\", \"retained\", \"procurement\", \"  \", \"ep\", \"NaCTeM\", \"return\", \"ATE\", \"cut\", \"tender\", \"representativeness\", \"noise\", \"DAC\", \"extractor\", \"contract\", \"plain\", \"picture\", \"UPM\", \"Term\", \"THD\", \"TIME\", \"contracting\", \"bag\", \"terminological\", \"award\", \"term\", \"extract\", \"company\", \"public\", \"software\", \"extraction\", \"summary\", \"collection\", \"paper\", \"value\", \"case\", \"result\", \"datum\", \"tool\", \"ontology\", \"measure\", \"process\", \"dataset\", \"text\", \"Fig\", \"document\", \"domain\", \"base\", \"set\", \"method\", \"high\", \"drug\", \"disease\", \"PLWH\", \"medication\", \"old\", \"Drugs4Covid\", \"ATC\", \"covid-19\", \"cord-19\", \"substance\", \"HIV\", \"inappropriate\", \"polypharmacy\", \"risk\", \"pim\", \"PIM\", \"treat\", \"elderly\", \"Beers\", \"d4covid\", \"adult\", \"chemical\", \"prescribe\", \"disorder\", \"AGS\", \"PIMs\", \"embedding\", \"dc\", \"prescription\", \"anticholinergic\", \"paragraph\", \"                      \", \"                          \", \"patient\", \"                        \", \"                         \", \"                     \", \"                            \", \"                           \", \"study\", \"Madrid\", \"mention\", \"knowledge\", \"vocabulary\", \"accord\", \"KG\", \"relate\", \"create\", \"corpus\", \"text\", \"document\", \"model\", \"domain\", \"base\", \"different\", \"paper\", \"result\", \"work\", \"term\", \"pt\", \"Languages\", \"P\\u00e1gina\", \"Communication\", \"portuguese\", \"classifying\", \"Sistema\", \"rede\", \"theybuyforyou1\", \"topic26@fr\", \"Systeme\", \"Acquis3\", \"http://librairy.linkeddata.es/jrc-{es|en|fr|pt}-model\", \"comunica\\u00e7\\u00e3o\", \"https://theybuyforyou.eu\", \"Topic3@ES\", \"Comunicaci\\u00f3n\", \"20,000\", \"topic3@en\", \"models6\", \"telecommunication\", \"models5\", \"http://eurovoc.europa.eu/\", \"eurovoc4\", \"wordnet2\", \"0.69\", \"acesso\", \"librAIry7\", \"topic10@pt\", \"accross\", \"Legal\", \"french\", \"language-\", \"synset\", \"   \", \"0.78\", \"category\", \"edition\", \"0.75\", \"Retrieval\", \"semi\", \"lingual\", \"0.77\", \"align\", \"Document\", \"multi\", \"supervised\", \"multi-\", \"0.72\", \"theme\", \"0.79\", \"p@3\", \"p@10\", \"topic\", \"document\", \"language\", \"filter\", \"model\", \"algorithm\", \"cross\", \"annotation\", \"set\", \"base\", \"word\", \"collection\", \"text\", \"table\", \"perform\", \"create\", \"http://librairy.linkeddata.es/jrc-{es|en|fr|pt}-model\", \"topic26@fr\", \"theybuyforyou1\", \"Sistema\", \"Systeme\", \"classifying\", \"http://librairy.linkeddata.es/jrc-{en|es|fr|pt}-model-unsupervised\", \"Comunicaci\\u00f3n\", \"0.69\", \"eurovoc4\", \"Topic3@ES\", \"comunica\\u00e7\\u00e3o\", \"telecommunication\", \"models6\", \"Acquis3\", \"rede\", \"facilitator\", \"http://eurovoc.europa.eu/\", \"topic3@en\", \"librAIry7\", \"utilizador\", \"wordnet2\", \"https://theybuyforyou.eu\", \"models5\", \"accross\", \"labeledlda\", \"electronique\", \"topic10@pt\", \"acesso\", \"Comunicacion\", \"document\", \"topic\", \"term\", \"collection\", \"datum\", \"base\", \"  \", \"text\", \"dataset\", \"set\", \"number\", \"value\", \"result\", \"distribution\", \"saturation\", \"extract\", \"mean\", \"synset\", \"create\", \"lingual\", \"similarity\", \"model\", \"measure\", \"bag\", \"high\", \"method\", \"language\", \"domain\", \"tool\", \"word\", \"paper\", \"algorithm\", \"Fig\"], \"Freq\": [415.0, 433.0, 288.0, 90.0, 65.0, 114.0, 41.0, 109.0, 117.0, 152.0, 326.0, 177.0, 38.0, 56.0, 132.0, 117.0, 72.0, 81.0, 128.0, 26.0, 64.0, 97.0, 70.0, 56.0, 49.0, 161.0, 35.0, 79.0, 52.0, 61.0, 41.812951216846685, 27.042826303222874, 25.133785098039446, 24.25545722235707, 24.202435151637328, 22.34260650173958, 23.261541264748693, 22.37811415194489, 17.79405958284269, 17.759141980309355, 17.727173003983758, 17.730598827215825, 22.293092474009477, 15.933756960224839, 25.86641956330848, 15.00252308877458, 14.98298541736309, 14.97561788222401, 17.687470533990293, 14.028218961574721, 14.04049711203845, 13.151296076455518, 13.132288803087954, 13.115783589793883, 13.14037858237196, 12.215618307716227, 12.210477154639962, 12.22318574971685, 12.197852391472756, 12.197275241017659, 58.3478990444205, 58.47247326220322, 41.300470631458985, 45.50871319807949, 378.89178048782685, 38.97955519326299, 72.43661885034957, 116.89604027802152, 35.316935835091286, 25.1960705947787, 103.51193412155132, 30.71019183720409, 33.066874482094974, 65.05139517832676, 99.17530298525772, 53.8336313158217, 42.89634645297243, 238.06918458785623, 22.352211704006244, 279.9174290386777, 110.72786892489043, 31.914340490613736, 53.82963317859086, 35.28516354132301, 49.774622445646365, 80.22446783873445, 62.93236310015844, 46.27214460509072, 48.29073638255116, 57.301992793442274, 58.90509750501341, 38.51885048501462, 48.11808456456764, 55.60578307326016, 72.6837682172996, 39.19787605619616, 43.24869841796093, 46.811338550928, 50.86591722710723, 47.78874768309019, 44.79728981811131, 45.73563650466739, 44.243947625363624, 108.86148005597325, 64.08985189242904, 47.948548140935316, 51.53159891105871, 41.513387203827854, 29.029058401921734, 25.404942906318556, 23.620734847540298, 23.628652359013277, 20.888258854432973, 46.51643502382922, 112.17799927165115, 19.105860943224084, 19.108028735392697, 24.365553705473374, 18.196706447365887, 17.301408281728314, 31.38058671511269, 24.323269425613017, 16.396048107308104, 14.598823703517414, 13.69811290888741, 21.538924003328354, 16.270764244991916, 12.784063752077072, 67.7527738824792, 37.11808855109808, 11.894105590283424, 11.891104664335721, 15.371449771613376, 78.45405936855481, 49.91235956225481, 17.111182463503706, 248.52056146514232, 87.1883214833468, 33.16524696821183, 29.592237652583766, 34.02889427195899, 39.53589210830116, 36.13506468720851, 123.71441367296998, 106.26581888036472, 110.08481642541182, 52.02338901102513, 85.59380757189464, 108.64707965529688, 53.1637079842922, 43.20741127159147, 63.74063729155234, 51.56742914470277, 75.34714455318024, 82.41694240593638, 55.478509896912236, 121.91862669900539, 50.311781435608125, 65.86839518962383, 47.521594484869105, 44.94491998959453, 41.811002321833925, 88.69673078275989, 55.46179643819835, 31.04967680115273, 30.998794971772224, 34.20417613078454, 19.70031384374053, 17.249148794006388, 16.43927576160039, 17.22801458279137, 15.633719104445152, 18.78033870038454, 16.364687028713917, 14.783683333310197, 13.95727570979475, 12.336758666304798, 12.312966098501281, 9.109712730105544, 8.293863922104295, 8.285408717767847, 7.500475740247874, 8.269242344969644, 7.4881746234560795, 7.4677264174625755, 7.465593100117126, 7.452894749687497, 7.458707486780957, 6.676358255009682, 6.6716335926633334, 6.6629441931908415, 6.655721449393345, 14.821895136746553, 15.511780121928803, 21.843956500408677, 13.95203637082199, 14.248876978656341, 11.447856865203, 10.71275702025965, 11.182949005962783, 8.668985117713097, 22.36253914245226, 20.619816451777773, 14.00789501955373, 30.654092891887128, 15.627004128862977, 18.88545155684333, 18.163055589058484, 16.71048754596276, 23.98608897841194, 20.469486663034555, 24.624274178340297, 28.242139983515575, 21.405574984423335, 18.977782471098266, 20.63491823842658, 16.931388135700892, 17.503099222412352, 17.292803043701632, 16.46999470236552, 16.96720133880584, 1.050542774940958, 0.799147279430726, 0.7976172859528463, 0.5503778337730864, 1.0437988569279009, 0.30133209328614935, 0.3011803972158581, 0.3012361123288414, 0.30108631687156606, 0.30107442446440885, 0.3010735013095153, 0.3011401042199189, 0.30087238930080806, 0.30094569865999665, 0.3009539255991944, 0.3008761090719965, 0.3007004924293182, 0.3008927801633083, 0.3007630769007736, 0.300685016009045, 0.3006720103856927, 0.30073855899286717, 0.3004271571260029, 0.30026014754512553, 0.3002408427472059, 0.30005672764918456, 0.3001936532411801, 0.3000852639960391, 0.3000412240772969, 0.2999601222047427, 0.7971881275338336, 0.7806403588551889, 0.547890365760975, 4.302749368441374, 2.796663430173749, 1.4240792653113932, 2.8877768632445284, 0.7768289238161321, 1.4092259202881265, 0.9746993012665521, 1.2024959167184677, 3.3378509311628126, 1.1897587685304443, 1.1569419153445293, 0.9661894422454862, 1.3408535934699284, 1.1518576126170432, 0.5374959131764728, 0.7218400622178553, 1.092329978530101, 0.7100855852623328, 0.5216710833858853, 0.5206481191574452, 3.655041305028631, 3.5032985339603777, 1.686425658593983, 0.7586146433418299, 1.9007596347180533, 1.5948135046678051, 1.1943400061442098, 1.151070215796129, 1.4045295598288203, 1.5438447111145128, 1.191786776921745, 1.270119402008362, 1.007409720123571, 0.9323994751953795, 0.9263890852000402, 0.9325142722215458, 0.00020633772728255575, 0.0002061582137733623, 0.00020609271740738703, 0.0002060207095951151, 0.00020595061129788616, 0.00020572996683466626, 0.00020661714661879954, 0.00020603407620041616, 0.00020626898474100736, 0.0002061000499451522, 0.00020565095110218647, 0.00020561111861838927, 0.00020569952916488067, 0.00020562691030779495, 0.0002053777567849829, 0.00020530664644478118, 0.00020616863972549714, 0.00020569385790520292, 0.00020541854402630162, 0.00020576324968186595, 0.00020619119109815511, 0.00020564117438516625, 0.00020522520562819675, 0.00020522495739124118, 0.00020561904310581775, 0.00020575100969044024, 0.00020560735687375452, 0.00020548121431001324, 0.00020534751006670161, 0.00020560666944833904, 0.0009730657989766283, 0.0009285462959354484, 0.0008324240583719423, 0.0006621170850068615, 0.00065149170312093, 0.0007030308126020231, 0.0005225754160184541, 0.0005314162033354885, 0.0004856094962038149, 0.00047823514005921117, 0.00044871625253171276, 0.0004773374388471909, 0.0004526011608867184, 0.0004415704271474566, 0.00042045924892523766, 0.0004098962318006109, 0.00039681968183456805, 0.00036222629627056906, 0.0004074619820237806, 0.000382966990384143, 0.0004136810815673628, 0.0004258787963300103, 0.0004002120498793795, 0.0003851659115270726, 0.000390136913848242, 0.00039494427073022534, 0.00037432601472120924, 0.0003819925648576945, 0.0003636045460383135, 0.00036670578941966743, 0.0003922913814809703, 0.0003722906244465631, 0.0003671987498231711], \"Total\": [415.0, 433.0, 288.0, 90.0, 65.0, 114.0, 41.0, 109.0, 117.0, 152.0, 326.0, 177.0, 38.0, 56.0, 132.0, 117.0, 72.0, 81.0, 128.0, 26.0, 64.0, 97.0, 70.0, 56.0, 49.0, 161.0, 35.0, 79.0, 52.0, 61.0, 42.36942415749892, 27.529715604073385, 25.62170992222288, 24.74307791118772, 24.702089208645678, 22.82043271602217, 23.76609521971164, 22.869913813183288, 18.24572035151569, 18.220320561570908, 18.191588842424043, 18.199238212524378, 22.88437162883644, 16.384410119589788, 26.609672458852767, 15.45725666753284, 15.43871693307995, 15.431414648211183, 18.240227617800855, 14.483225566917287, 14.503924024461371, 13.593728669457235, 13.57919763825309, 13.565024902997244, 13.591326350123744, 12.65157842924013, 12.650469676441523, 12.666041892227069, 12.642696611077115, 12.642789072493358, 60.83393987759807, 61.03220028234019, 43.18025825942501, 47.717054750872634, 415.03328426293785, 40.90144530094757, 78.18449827456928, 128.39103862293226, 37.5005525510212, 26.56810074799624, 117.1502152523587, 32.85219614070978, 35.62500344884181, 74.60368943002037, 117.66476304372537, 61.499730446819164, 48.39633845197137, 326.1170457578337, 23.72752399409, 433.582467320958, 152.35773377488258, 35.94331959051473, 72.09970694794231, 41.63091526551596, 65.8303559345783, 132.01649562154097, 98.95298040358203, 67.201978410116, 72.25921897454867, 99.64601156882843, 104.76538468445906, 51.42797118293233, 79.07976934812767, 107.12210487626022, 197.67492715407397, 53.54548505108976, 71.10237107096205, 92.2162599261748, 158.91507494771082, 161.95495748383928, 95.7549456727486, 133.71494641712837, 177.74290560966094, 109.8929621878555, 64.74478174516484, 48.48547120566385, 52.10917415028982, 42.17489796210229, 29.511201744380337, 25.890151069743865, 24.076385217928113, 24.091531499044212, 21.360341234618243, 47.58487074808364, 114.7915781886952, 19.55967260686141, 19.56918459093837, 24.98232940743333, 18.659339878358374, 17.75640857086547, 32.22163983307812, 24.984047451714428, 16.854508880998907, 15.043329241465411, 14.140901704583298, 22.279479710614513, 16.83427204538578, 13.231636238456332, 70.14279666280058, 38.45845019190476, 12.334165083370923, 12.333249862495952, 15.952733773860897, 81.86506164487044, 51.929758085550745, 17.764529474196824, 288.28129145655043, 97.56840240776027, 35.89301427075694, 32.18656357924994, 37.561449445380624, 44.51968877347457, 41.32151959077898, 177.74290560966094, 154.92123314655404, 161.95495748383928, 67.88141401923117, 136.55671623964216, 197.67492715407397, 73.31711583690536, 56.25140781483665, 101.21172512865851, 74.44982668147242, 133.71494641712837, 158.91507494771082, 86.67158929295319, 433.582467320958, 100.09546744830911, 326.1170457578337, 132.01649562154097, 107.12210487626022, 95.7549456727486, 90.01189356270694, 56.34042132582795, 31.7140121198819, 31.718923486920822, 35.00567720351308, 20.26841514735001, 17.79836159207114, 16.985772866081263, 17.80696328085924, 16.1623827464337, 19.42406981630947, 16.976298628904836, 15.33859331591965, 14.510575144561399, 12.871032285515565, 12.870493800700364, 9.602626332533328, 8.775385347529548, 8.776790616836914, 7.963429976519508, 8.782585348980083, 7.963622259814049, 7.95092631255608, 7.965589521112686, 7.9530146126196035, 7.959670661290163, 7.1451333116101, 7.1428752706967655, 7.137659283364661, 7.1385065544755175, 16.247542879869226, 17.06012937914013, 24.525251071750986, 15.446329767923839, 16.289454045198376, 12.967612567585743, 12.141030725733295, 12.992000716985721, 9.640661402336274, 36.40224439645056, 35.74891110093925, 19.9989078438873, 68.1060874797926, 25.37228230125862, 41.207748956144705, 39.427339118410295, 37.04029244794363, 99.64601156882843, 71.10237107096205, 158.91507494771082, 433.582467320958, 152.35773377488258, 100.09546744830911, 326.1170457578337, 77.12272517332056, 154.92123314655404, 136.55671623964216, 72.46958791380158, 288.28129145655043, 1.6276703265372299, 1.3718287734713437, 1.3721170854880307, 1.1059130559594446, 2.548320509164919, 0.8420242401143504, 0.8421528879688351, 0.8426813617667926, 0.8423686380509798, 0.8423439511473165, 0.8425240794708833, 0.8428554253884504, 0.8426872177868622, 0.8431852506649266, 0.8435000531377315, 0.8433242126887261, 0.8434463000120861, 0.8440439945873719, 0.843852802272071, 0.8438516526580725, 0.8438315576233427, 0.8440630271360385, 0.8444794937007546, 0.8445793194616478, 0.8450439022233256, 0.8449264947229658, 0.8454095304981978, 0.8453545432337334, 0.8457214716338186, 0.8458305885386722, 2.281224780878896, 3.2539413469158696, 2.017809611058103, 41.12669185252529, 26.035704813268204, 10.837136637300517, 38.358444518012746, 4.171099107940081, 11.810830360588273, 6.479199360243102, 9.540047367129466, 65.8303559345783, 10.507296789830578, 14.120506215806296, 10.040523549564078, 20.177650627119352, 15.239351291694684, 2.9747096311963315, 6.227854240490767, 16.377046538157902, 6.258477155427281, 3.0420644790637734, 3.0441503098768634, 415.03328426293785, 433.582467320958, 72.25921897454867, 8.768083798352523, 152.35773377488258, 117.66476304372537, 56.13014566295494, 49.599319120671694, 132.01649562154097, 326.1170457578337, 79.07976934812767, 177.74290560966094, 158.91507494771082, 44.63587686426569, 47.559016301309605, 99.64601156882843, 0.8426872177868622, 0.8423439511473165, 0.8423686380509798, 0.8421528879688351, 0.8425240794708833, 0.8420242401143504, 0.8456734035158636, 0.8434463000120861, 0.8449264947229658, 0.8445793194616478, 0.8433242126887261, 0.8431852506649266, 0.8438315576233427, 0.8438516526580725, 0.8428554253884504, 0.8426813617667926, 0.8463853770349918, 0.8444794937007546, 0.843852802272071, 0.8453545432337334, 0.8471320962611647, 0.8450439022233256, 0.8435000531377315, 0.8440630271360385, 0.8458305885386722, 0.8466270135696097, 0.8462026074904078, 0.8457214716338186, 0.8454095304981978, 0.846686249769461, 433.582467320958, 415.03328426293785, 288.28129145655043, 177.74290560966094, 197.67492715407397, 326.1170457578337, 114.7915781886952, 158.91507494771082, 133.71494641712837, 132.01649562154097, 104.76538468445906, 161.95495748383928, 136.55671623964216, 128.39103862293226, 109.8929621878555, 97.56840240776027, 78.18449827456928, 41.12669185252529, 99.64601156882843, 65.8303559345783, 117.1502152523587, 152.35773377488258, 101.21172512865851, 81.86506164487044, 95.7549456727486, 107.12210487626022, 72.25921897454867, 100.09546744830911, 73.31711583690536, 79.07976934812767, 154.92123314655404, 117.66476304372537, 86.67158929295319], \"Category\": [\"Default\", \"Default\", \"Default\", \"Default\", \"Default\", \"Default\", \"Default\", \"Default\", \"Default\", \"Default\", \"Default\", \"Default\", \"Default\", \"Default\", \"Default\", \"Default\", \"Default\", \"Default\", \"Default\", \"Default\", \"Default\", \"Default\", \"Default\", \"Default\", \"Default\", \"Default\", \"Default\", \"Default\", \"Default\", \"Default\", \"Topic1\", \"Topic1\", \"Topic1\", \"Topic1\", \"Topic1\", \"Topic1\", \"Topic1\", \"Topic1\", \"Topic1\", \"Topic1\", \"Topic1\", \"Topic1\", \"Topic1\", \"Topic1\", \"Topic1\", \"Topic1\", \"Topic1\", \"Topic1\", \"Topic1\", \"Topic1\", \"Topic1\", \"Topic1\", \"Topic1\", \"Topic1\", \"Topic1\", \"Topic1\", \"Topic1\", \"Topic1\", \"Topic1\", \"Topic1\", \"Topic1\", \"Topic1\", \"Topic1\", \"Topic1\", \"Topic1\", \"Topic1\", \"Topic1\", \"Topic1\", \"Topic1\", \"Topic1\", \"Topic1\", \"Topic1\", \"Topic1\", \"Topic1\", \"Topic1\", \"Topic1\", \"Topic1\", \"Topic1\", \"Topic1\", \"Topic1\", \"Topic1\", \"Topic1\", \"Topic1\", \"Topic1\", \"Topic1\", \"Topic1\", \"Topic1\", \"Topic1\", \"Topic1\", \"Topic1\", \"Topic1\", \"Topic1\", \"Topic1\", \"Topic1\", \"Topic1\", \"Topic1\", \"Topic1\", \"Topic1\", \"Topic1\", \"Topic1\", \"Topic1\", \"Topic1\", \"Topic1\", \"Topic2\", \"Topic2\", \"Topic2\", \"Topic2\", \"Topic2\", \"Topic2\", \"Topic2\", \"Topic2\", \"Topic2\", \"Topic2\", \"Topic2\", \"Topic2\", \"Topic2\", \"Topic2\", \"Topic2\", \"Topic2\", \"Topic2\", \"Topic2\", \"Topic2\", \"Topic2\", \"Topic2\", \"Topic2\", \"Topic2\", \"Topic2\", \"Topic2\", \"Topic2\", \"Topic2\", \"Topic2\", \"Topic2\", \"Topic2\", \"Topic2\", \"Topic2\", \"Topic2\", \"Topic2\", \"Topic2\", \"Topic2\", \"Topic2\", \"Topic2\", \"Topic2\", \"Topic2\", \"Topic2\", \"Topic2\", \"Topic2\", \"Topic2\", \"Topic2\", \"Topic2\", \"Topic2\", \"Topic2\", \"Topic2\", \"Topic2\", \"Topic2\", \"Topic2\", \"Topic2\", \"Topic2\", \"Topic2\", \"Topic2\", \"Topic2\", \"Topic2\", \"Topic2\", \"Topic3\", \"Topic3\", \"Topic3\", \"Topic3\", \"Topic3\", \"Topic3\", \"Topic3\", \"Topic3\", \"Topic3\", \"Topic3\", \"Topic3\", \"Topic3\", \"Topic3\", \"Topic3\", \"Topic3\", \"Topic3\", \"Topic3\", \"Topic3\", \"Topic3\", \"Topic3\", \"Topic3\", \"Topic3\", \"Topic3\", \"Topic3\", \"Topic3\", \"Topic3\", \"Topic3\", \"Topic3\", \"Topic3\", \"Topic3\", \"Topic3\", \"Topic3\", \"Topic3\", \"Topic3\", \"Topic3\", \"Topic3\", \"Topic3\", \"Topic3\", \"Topic3\", \"Topic3\", \"Topic3\", \"Topic3\", \"Topic3\", \"Topic3\", \"Topic3\", \"Topic3\", \"Topic3\", \"Topic3\", \"Topic3\", \"Topic3\", \"Topic3\", \"Topic3\", \"Topic3\", \"Topic3\", \"Topic3\", \"Topic3\", \"Topic3\", \"Topic3\", \"Topic3\", \"Topic4\", \"Topic4\", \"Topic4\", \"Topic4\", \"Topic4\", \"Topic4\", \"Topic4\", \"Topic4\", \"Topic4\", \"Topic4\", \"Topic4\", \"Topic4\", \"Topic4\", \"Topic4\", \"Topic4\", \"Topic4\", \"Topic4\", \"Topic4\", \"Topic4\", \"Topic4\", \"Topic4\", \"Topic4\", \"Topic4\", \"Topic4\", \"Topic4\", \"Topic4\", \"Topic4\", \"Topic4\", \"Topic4\", \"Topic4\", \"Topic4\", \"Topic4\", \"Topic4\", \"Topic4\", \"Topic4\", \"Topic4\", \"Topic4\", \"Topic4\", \"Topic4\", \"Topic4\", \"Topic4\", \"Topic4\", \"Topic4\", \"Topic4\", \"Topic4\", \"Topic4\", \"Topic4\", \"Topic4\", \"Topic4\", \"Topic4\", \"Topic4\", \"Topic4\", \"Topic4\", \"Topic4\", \"Topic4\", \"Topic4\", \"Topic4\", \"Topic4\", \"Topic4\", \"Topic4\", \"Topic4\", \"Topic4\", \"Topic4\", \"Topic4\", \"Topic4\", \"Topic4\", \"Topic4\", \"Topic4\", \"Topic4\", \"Topic5\", \"Topic5\", \"Topic5\", \"Topic5\", \"Topic5\", \"Topic5\", \"Topic5\", \"Topic5\", \"Topic5\", \"Topic5\", \"Topic5\", \"Topic5\", \"Topic5\", \"Topic5\", \"Topic5\", \"Topic5\", \"Topic5\", \"Topic5\", \"Topic5\", \"Topic5\", \"Topic5\", \"Topic5\", \"Topic5\", \"Topic5\", \"Topic5\", \"Topic5\", \"Topic5\", \"Topic5\", \"Topic5\", \"Topic5\", \"Topic5\", \"Topic5\", \"Topic5\", \"Topic5\", \"Topic5\", \"Topic5\", \"Topic5\", \"Topic5\", \"Topic5\", \"Topic5\", \"Topic5\", \"Topic5\", \"Topic5\", \"Topic5\", \"Topic5\", \"Topic5\", \"Topic5\", \"Topic5\", \"Topic5\", \"Topic5\", \"Topic5\", \"Topic5\", \"Topic5\", \"Topic5\", \"Topic5\", \"Topic5\", \"Topic5\", \"Topic5\", \"Topic5\", \"Topic5\", \"Topic5\", \"Topic5\", \"Topic5\"], \"logprob\": [30.0, 29.0, 28.0, 27.0, 26.0, 25.0, 24.0, 23.0, 22.0, 21.0, 20.0, 19.0, 18.0, 17.0, 16.0, 15.0, 14.0, 13.0, 12.0, 11.0, 10.0, 9.0, 8.0, 7.0, 6.0, 5.0, 4.0, 3.0, 2.0, 1.0, -5.802700042724609, -6.238500118255615, -6.311699867248535, -6.347300052642822, -6.3495001792907715, -6.4293999671936035, -6.389100074768066, -6.427800178527832, -6.657100200653076, -6.658999919891357, -6.660799980163574, -6.660600185394287, -6.431600093841553, -6.767499923706055, -6.2829999923706055, -6.827700138092041, -6.828999996185303, -6.829500198364258, -6.663099765777588, -6.894800186157227, -6.894000053405762, -6.959400177001953, -6.9608001708984375, -6.962100028991699, -6.96019983291626, -7.033199787139893, -7.033599853515625, -7.032599925994873, -7.0346999168396, -7.0346999168396, -5.4695000648498535, -5.467400074005127, -5.815000057220459, -5.7179999351501465, -3.5987000465393066, -5.872900009155273, -5.253200054168701, -4.774600028991699, -5.97160005569458, -6.309199810028076, -4.896200180053711, -6.111299991607666, -6.037399768829346, -5.3607001304626465, -4.939000129699707, -5.550000190734863, -5.777100086212158, -4.063399791717529, -6.428999900817871, -3.901400089263916, -4.828800201416016, -6.07289981842041, -5.550099849700928, -5.972499847412109, -5.628399848937988, -5.151100158691406, -5.393899917602539, -5.701399803161621, -5.658699989318848, -5.487599849700928, -5.460000038146973, -5.884799957275391, -5.662300109863281, -5.517600059509277, -5.249800205230713, -5.867300033569336, -5.768899917602539, -5.689799785614014, -5.6066999435424805, -5.669099807739258, -5.733799934387207, -5.7129998207092285, -5.746200084686279, -4.683300018310547, -5.213099956512451, -5.503200054168701, -5.43120002746582, -5.64739990234375, -6.005099773406982, -6.138400077819824, -6.21120023727417, -6.210899829864502, -6.334199905395508, -5.533599853515625, -4.653299808502197, -6.423399925231934, -6.423299789428711, -6.180200099945068, -6.472099781036377, -6.522600173950195, -5.927199840545654, -6.1819000244140625, -6.576300144195557, -6.692399978637695, -6.756100177764893, -6.303500175476074, -6.584000110626221, -6.825200080871582, -5.15749979019165, -5.759300231933594, -6.897299766540527, -6.897600173950195, -6.640900135040283, -5.010900020599365, -5.463099956512451, -6.533599853515625, -3.857800006866455, -4.905300140380859, -5.8719000816345215, -5.985899925231934, -5.846199989318848, -5.696199893951416, -5.786099910736084, -4.5553998947143555, -4.707399845123291, -4.672100067138672, -5.4217000007629395, -4.923799991607666, -4.685299873352051, -5.400000095367432, -5.607399940490723, -5.218500137329102, -5.430500030517578, -5.051300048828125, -4.961599826812744, -5.357399940490723, -4.570000171661377, -5.455100059509277, -5.185699939727783, -5.512199878692627, -5.56790018081665, -5.640200138092041, -4.2032999992370605, -4.672800064086914, -5.252900123596191, -5.2546000480651855, -5.156199932098389, -5.707900047302246, -5.840700149536133, -5.888800144195557, -5.8420000076293945, -5.9390997886657715, -5.75570011138916, -5.893400192260742, -5.994999885559082, -6.052499771118164, -6.175899982452393, -6.177800178527832, -6.4791998863220215, -6.572999954223633, -6.573999881744385, -6.673500061035156, -6.576000213623047, -6.67519998550415, -6.6778998374938965, -6.678199768066406, -6.679900169372559, -6.679100036621094, -6.789899826049805, -6.790599822998047, -6.791900157928467, -6.793000221252441, -5.992400169372559, -5.946899890899658, -5.604599952697754, -6.0528998374938965, -6.031799793243408, -6.250699996948242, -6.3171000480651855, -6.274099826812744, -6.52869987487793, -5.581099987030029, -5.662199974060059, -6.048900127410889, -5.265699863433838, -5.939499855041504, -5.750100135803223, -5.789100170135498, -5.872499942779541, -5.511000156402588, -5.669600009918213, -5.484799861907959, -5.347700119018555, -5.624800205230713, -5.745200157165527, -5.661499977111816, -5.859300136566162, -5.826099872589111, -5.838200092315674, -5.88700008392334, -5.8572001457214355, -6.095900058746338, -6.3694000244140625, -6.371300220489502, -6.742300033569336, -6.10230016708374, -7.344699859619141, -7.345200061798096, -7.34499979019165, -7.3454999923706055, -7.345600128173828, -7.345600128173828, -7.345399856567383, -7.346199989318848, -7.3460001945495605, -7.3460001945495605, -7.346199989318848, -7.346799850463867, -7.346199989318848, -7.34660005569458, -7.34689998626709, -7.34689998626709, -7.346700191497803, -7.347700119018555, -7.348299980163574, -7.348299980163574, -7.348999977111816, -7.348499774932861, -7.348899841308594, -7.348999977111816, -7.349299907684326, -6.371799945831299, -6.3927998542785645, -6.7469000816345215, -4.6859002113342285, -5.116700172424316, -5.791600227355957, -5.084700107574463, -6.39769983291626, -5.80210018157959, -6.17080020904541, -5.9608001708984375, -4.939799785614014, -5.971399784088135, -5.9994001388549805, -6.179599761962891, -5.851900100708008, -6.003799915313721, -6.765999794006348, -6.471099853515625, -6.0569000244140625, -6.487500190734863, -6.795899868011475, -6.797900199890137, -4.849100112915039, -4.891499996185303, -5.622600078582764, -6.42140007019043, -5.502900123596191, -5.678400039672852, -5.967599868774414, -6.004499912261963, -5.805500030517578, -5.710899829864502, -5.969699859619141, -5.906099796295166, -6.137800216674805, -6.215199947357178, -6.22160005569458, -6.215000152587891, -8.757699966430664, -8.758600234985352, -8.758899688720703, -8.759200096130371, -8.759599685668945, -8.760700225830078, -8.756400108337402, -8.759200096130371, -8.758000373840332, -8.758899688720703, -8.76099967956543, -8.761199951171875, -8.7608003616333, -8.761199951171875, -8.762399673461914, -8.762700080871582, -8.758500099182129, -8.7608003616333, -8.762200355529785, -8.760499954223633, -8.758399963378906, -8.761099815368652, -8.763099670410156, -8.763099670410156, -8.761199951171875, -8.760600090026855, -8.761300086975098, -8.761899948120117, -8.762499809265137, -8.761300086975098, -7.2067999839782715, -7.253600120544434, -7.3628997802734375, -7.591800212860107, -7.607999801635742, -7.531799793243408, -7.828499794006348, -7.811699867248535, -7.901800155639648, -7.917099952697754, -7.980800151824951, -7.919000148773193, -7.9721999168396, -7.9969000816345215, -8.045900344848633, -8.07129955291748, -8.103699684143066, -8.194999694824219, -8.077300071716309, -8.139300346374512, -8.062100410461426, -8.033100128173828, -8.095199584960938, -8.133500099182129, -8.120699882507324, -8.108499526977539, -8.162099838256836, -8.141799926757812, -8.191200256347656, -8.182700157165527, -8.11520004272461, -8.167499542236328, -8.181300163269043], \"loglift\": [30.0, 29.0, 28.0, 27.0, 26.0, 25.0, 24.0, 23.0, 22.0, 21.0, 20.0, 19.0, 18.0, 17.0, 16.0, 15.0, 14.0, 13.0, 12.0, 11.0, 10.0, 9.0, 8.0, 7.0, 6.0, 5.0, 4.0, 3.0, 2.0, 1.0, 0.825, 0.8204, 0.819, 0.8183, 0.8178, 0.8171, 0.8168, 0.8165, 0.8132, 0.8126, 0.8124, 0.8121, 0.8121, 0.8103, 0.8099, 0.8084, 0.8083, 0.8082, 0.8075, 0.8063, 0.8058, 0.8051, 0.8048, 0.8046, 0.8045, 0.8032, 0.8028, 0.8026, 0.8024, 0.8024, 0.7965, 0.7954, 0.7937, 0.7908, 0.7471, 0.7901, 0.7619, 0.7444, 0.7782, 0.7852, 0.7145, 0.7708, 0.7637, 0.7012, 0.6673, 0.7051, 0.7176, 0.5235, 0.7785, 0.4006, 0.5191, 0.7193, 0.546, 0.6729, 0.5587, 0.3401, 0.3856, 0.4651, 0.4352, 0.2849, 0.2624, 0.5492, 0.3414, 0.1825, -0.1623, 0.5263, 0.3411, 0.1602, -0.3009, -0.3823, 0.0786, -0.2346, -0.5524, 0.9914, 0.9906, 0.9896, 0.9896, 0.985, 0.9843, 0.9819, 0.9817, 0.9814, 0.9784, 0.9781, 0.9778, 0.9773, 0.9769, 0.9758, 0.9757, 0.9748, 0.9743, 0.974, 0.9732, 0.9708, 0.969, 0.967, 0.9667, 0.9664, 0.9661, 0.9653, 0.9645, 0.9643, 0.9637, 0.9582, 0.9612, 0.9633, 0.8524, 0.8883, 0.9217, 0.9167, 0.902, 0.8821, 0.8667, 0.6384, 0.6238, 0.6147, 0.7347, 0.5337, 0.4023, 0.6794, 0.737, 0.5384, 0.6335, 0.4272, 0.3442, 0.5547, -0.2679, 0.3129, -0.5988, -0.021, 0.1322, 0.1721, 1.6709, 1.6699, 1.6645, 1.6627, 1.6625, 1.6572, 1.6543, 1.6529, 1.6526, 1.6524, 1.6519, 1.649, 1.6488, 1.6468, 1.6433, 1.6414, 1.633, 1.6292, 1.628, 1.6258, 1.6254, 1.6241, 1.6229, 1.6208, 1.6207, 1.6206, 1.6178, 1.6174, 1.6168, 1.6156, 1.5938, 1.5905, 1.5699, 1.5839, 1.5518, 1.561, 1.5605, 1.5357, 1.5794, 1.1984, 1.1354, 1.3296, 0.8873, 1.201, 0.9054, 0.9106, 0.8897, 0.2615, 0.4405, -0.179, -1.0456, -0.2769, 0.0228, -1.0746, 0.1694, -0.4949, -0.3808, 0.204, -1.147, 3.7911, 3.6886, 3.6865, 3.5312, 3.3364, 3.2014, 3.2007, 3.2003, 3.2002, 3.2001, 3.1999, 3.1998, 3.1991, 3.1987, 3.1984, 3.1983, 3.1976, 3.1975, 3.1973, 3.1971, 3.197, 3.197, 3.1955, 3.1948, 3.1942, 3.1937, 3.1936, 3.1933, 3.1927, 3.1923, 3.1776, 2.8015, 2.9253, 1.9716, 1.9979, 2.1995, 1.6425, 2.5483, 2.103, 2.3347, 2.1579, 1.2472, 2.0507, 1.7271, 1.8879, 1.5177, 1.6465, 2.518, 2.074, 1.5214, 2.0527, 2.4657, 2.4631, -0.5033, -0.5894, 0.4713, 1.7816, -0.155, -0.0721, 0.3789, 0.4657, -0.3143, -1.124, 0.034, -0.7123, -0.832, 0.3604, 0.2905, -0.4425, 1.7876, 1.7871, 1.7868, 1.7867, 1.7859, 1.7854, 1.7854, 1.7852, 1.7846, 1.7842, 1.7835, 1.7835, 1.7831, 1.7828, 1.7827, 1.7826, 1.7824, 1.7823, 1.7818, 1.7817, 1.7816, 1.7814, 1.7812, 1.7806, 1.7804, 1.7801, 1.7799, 1.7798, 1.7796, 1.7793, -2.9047, -2.9078, -2.6527, -2.398, -2.5204, -2.9449, -2.1974, -2.5059, -2.4234, -2.4259, -2.2584, -2.6322, -2.5148, -2.4778, -2.3712, -2.2777, -2.0887, -1.5375, -2.3048, -1.9522, -2.4514, -2.6852, -2.3383, -2.1645, -2.3084, -2.4083, -2.0682, -2.3738, -2.1118, -2.179, -2.784, -2.5612, -2.2693]}, \"token.table\": {\"Topic\": [2, 3, 4, 2, 3, 4, 2, 3, 2, 3, 2, 3, 2, 3, 2, 3, 2, 3, 2, 3, 1, 1, 1, 1, 1, 1, 1, 1, 4, 1, 2, 4, 1, 2, 4, 1, 2, 4, 1, 4, 1, 1, 1, 2, 1, 3, 1, 3, 2, 3, 1, 1, 4, 2, 2, 1, 1, 2, 3, 4, 3, 2, 1, 2, 3, 3, 1, 1, 2, 3, 4, 2, 4, 1, 2, 3, 2, 1, 3, 3, 3, 4, 1, 4, 2, 2, 2, 2, 3, 1, 2, 3, 1, 2, 3, 1, 1, 2, 3, 4, 3, 1, 2, 3, 4, 1, 2, 3, 4, 1, 2, 3, 4, 3, 1, 2, 3, 2, 1, 2, 3, 1, 2, 3, 4, 1, 1, 2, 3, 1, 1, 2, 3, 4, 1, 2, 3, 1, 2, 3, 1, 2, 3, 4, 1, 2, 1, 2, 3, 2, 2, 3, 1, 2, 3, 3, 1, 2, 3, 4, 1, 2, 3, 4, 2, 3, 1, 2, 3, 1, 2, 3, 4, 3, 1, 3, 1, 1, 1, 2, 3, 1, 3, 3, 1, 2, 3, 1, 2, 3, 1, 1, 2, 3, 4, 1, 2, 3, 1, 2, 3, 1, 2, 4, 3, 3, 2, 1, 2, 3, 1, 2, 3, 2, 1, 2, 4, 1, 1, 2, 4, 1, 2, 3, 1, 1, 2, 3, 1, 3, 1, 2, 3, 1, 2, 4, 1, 2, 3, 3, 1, 2, 3, 1, 2, 3, 4, 2, 4, 1, 2, 3, 1, 2, 4, 1, 2, 3, 1, 2, 3, 2, 1, 3, 3, 1, 2, 3, 1, 2, 3, 1, 2, 1, 2, 3, 4, 1, 2, 3, 4, 1, 2, 4, 2, 1, 2, 3, 2, 3, 2, 3, 1, 4, 1, 4, 1, 2, 1, 2, 3, 2, 3, 1, 3, 1, 2, 3, 4, 2, 3, 2, 3, 2, 4, 3, 3, 1, 2, 3, 1, 2, 3, 4, 1, 2, 1, 2, 3, 4, 1, 2, 3, 1, 2, 3, 2, 1, 2, 3, 2, 2, 3, 2, 3, 1, 2, 4, 1, 2, 3, 4, 2, 1, 2, 3, 4, 1, 2, 3, 4, 1, 2, 3, 1, 2, 3, 2, 1, 2, 3, 3, 1, 2, 3, 1, 2, 4, 1, 1, 2, 4, 1, 1, 1, 2, 3, 4, 1, 2, 1, 2, 3, 2, 3, 1, 2, 3, 4, 2, 2, 1, 2, 4, 1, 1, 2, 3, 1, 2, 3, 4, 3, 1, 2, 3, 1, 2, 3, 1, 2, 3, 4, 1, 2, 3, 4, 1, 1], \"Freq\": [0.9756813327881391, 0.01742288094264534, 0.00871144047132267, 0.8449934487192547, 0.038408793123602486, 0.11522637937080747, 0.08236532981342916, 0.9060186279477208, 0.05861620259590331, 0.937859241534453, 0.12277882330804928, 0.859451763156345, 0.07711519717204011, 0.8482671688924414, 0.08154860450353014, 0.8970346495388316, 0.10372732308155377, 0.9335459077339839, 0.15394087820401697, 0.8466748301220933, 0.964048327819562, 0.9807584062366773, 0.947415151639771, 0.9715833294319991, 0.9677652044801941, 0.9757350339181055, 0.9583469321259853, 0.8028447370351415, 0.1605689474070283, 0.7620124686603093, 0.0846680520733677, 0.0846680520733677, 0.666203700153869, 0.19034391432967684, 0.09517195716483842, 0.7382023746443013, 0.09227529683053766, 0.09227529683053766, 0.7989163938489503, 0.15978327876979007, 0.9865327130537065, 0.9563233396888934, 0.9534151514220491, 0.0328763845317948, 0.9912808784909215, 0.880169387453735, 0.9704179934791868, 0.9551440963854338, 0.9646643513298616, 0.9114949130327022, 0.9619625233269646, 0.976538055579421, 0.9042302146731067, 0.9971197039717792, 0.9968273801388078, 0.986829790568709, 0.49798200017339544, 0.29878920010403726, 0.0995964000346791, 0.0995964000346791, 0.9867569740703134, 0.9899872849826581, 0.2307561239289066, 0.6345793408044932, 0.13845367435734396, 0.9781678185715026, 0.9715777397322349, 0.025363111545436696, 0.5326253424541706, 0.4565360078178605, 0.7289539477070088, 0.43836101044576864, 0.43836101044576864, 0.2517559199100623, 0.16783727994004155, 0.5874304797901454, 0.9709142407904959, 0.9484982500101163, 0.9323651590855826, 0.8794333707853922, 0.9774859101023589, 0.7288007784294318, 0.7717002861002255, 0.1543400572200451, 0.9729073608864334, 0.9729795580069023, 0.9884966521611533, 0.9620772500028679, 0.02600208783791535, 0.9495079847293613, 0.02315873133486247, 0.02315873133486247, 0.014256631437256884, 0.9694509377334681, 0.014256631437256884, 0.9491645943228595, 0.4610783282586177, 0.07280184130399227, 0.4610783282586177, 0.02426728043466409, 0.9108935105229619, 0.841373385192733, 0.11898209487574002, 0.025496163187658575, 0.016997442125105715, 0.7081899081497617, 0.07081899081497617, 0.14163798162995234, 0.07081899081497617, 0.6451701468350044, 0.020161567088593887, 0.30242350632890835, 0.020161567088593887, 0.9805972645092439, 0.5096715051947086, 0.43376298314443285, 0.054220372893054106, 0.9569631452773736, 0.024430446393309685, 0.9527874093390777, 0.012215223196654842, 0.7297993254137743, 0.2023813255349122, 0.06439405812474479, 0.006132767440451885, 0.9770883140408617, 0.1620473020329783, 0.7660417914286246, 0.07365786456044468, 0.9890523872374358, 0.782096364358891, 0.13034939405981516, 0.026069878811963033, 0.0782096364358891, 0.9409780637739223, 0.037639122550956895, 0.8789969905181628, 0.8884969684777557, 0.04132544039431422, 0.06198816059147133, 0.2475485581215144, 0.697636845615177, 0.05063493234303704, 0.005626103593670782, 0.055721149104756486, 0.919398960228482, 0.684503657307142, 0.23808822862857115, 0.07440257144642848, 0.9874557344137008, 0.9402777111831463, 0.9546827121429151, 0.6047618293500348, 0.09844960012674984, 0.28128457179071387, 0.9419647917199138, 0.5720249019764171, 0.17060391813331735, 0.24085259030585981, 0.010035524596077492, 0.46320920234418017, 0.49884067944757865, 0.017815738551699236, 0.017815738551699236, 0.9574008129038787, 1.0045922452496374, 0.3440153941841432, 0.5608946644306683, 0.08974314630890691, 0.3692931675806388, 0.5514103461135565, 0.08094096823685233, 0.005058810514803271, 0.9799975128667159, 0.9436203250225158, 0.06087873064661392, 0.9879079755580374, 0.9666355008637665, 0.27229328259350244, 0.5186538716066713, 0.2204278954328353, 0.01774924603805853, 0.9762085320932191, 0.8787799046695284, 0.8780526289736436, 0.01626023386988229, 0.11382163708917602, 0.9112785538219201, 0.03115482235288616, 0.05452093911755078, 0.9613547776980667, 0.6457825698766803, 0.2813766911605535, 0.06457825698766803, 0.009225465283952575, 0.29971387081530415, 0.499523118025507, 0.18981878484969264, 0.011109642964052837, 0.011109642964052837, 0.9887582238007024, 0.23974496268774953, 0.47948992537549906, 0.23974496268774953, 0.9116408776569754, 0.9796878091309684, 0.9713864021085362, 0.030747659344285725, 0.891682120984286, 0.07174453847000002, 0.022461971939835606, 0.8984788775934242, 0.08984788775934242, 0.9900358755384299, 0.2281000097622002, 0.5702500244055005, 0.1140500048811001, 0.9485813813179707, 0.3073196143955741, 0.3073196143955741, 0.3073196143955741, 0.7583421842808984, 0.07777868556727162, 0.15555737113454324, 0.9652560215006997, 0.950318024447538, 0.01638479352495755, 0.01638479352495755, 0.9333195811549954, 0.05333254749457116, 0.8902906121237796, 0.027821581628868112, 0.08346474488660434, 0.9535115376252115, 0.024449013785261833, 0.024449013785261833, 0.4699496165325149, 0.4386196420970139, 0.09398992330650298, 0.942490489225812, 0.24961058003873707, 0.29365950592792595, 0.45517223418828523, 0.6642751012421915, 0.23526409835660947, 0.0691953230460616, 0.027678129218424642, 0.4955868950765965, 0.4955868950765965, 0.871270583219228, 0.09382913973130147, 0.04021248845627206, 0.7595280215359859, 0.18228672516863662, 0.045571681292159154, 0.9208986639160811, 0.05116103688422673, 0.025580518442113363, 0.31616890196587577, 0.6323378039317515, 0.04940139093216809, 0.9958530317664442, 0.9640159108763678, 0.04191373525549426, 0.9773345559089587, 0.10000546107878104, 0.20001092215756208, 0.7000382275514673, 0.5227679204463652, 0.42008136464440066, 0.05601084861925342, 0.7283527259635174, 0.2614599529099806, 0.7285485104681917, 0.1181430016975446, 0.1378335019804687, 0.013127000188616067, 0.7433967550136665, 0.1486793510027333, 0.04955978366757777, 0.04955978366757777, 0.3361672647013391, 0.3361672647013391, 0.3361672647013391, 0.9493008733133573, 0.563163111343513, 0.39135063669633957, 0.047725687401992636, 0.02856679487119428, 0.9712710256206055, 0.7644253125458398, 0.23110532704874226, 0.6569977814534724, 0.3284988907267362, 0.6574482604706395, 0.32872413023531977, 0.9271932463530418, 0.0421451475615019, 0.20010168632387718, 0.6842186693655155, 0.1161880759299932, 0.061547768015987464, 0.9232165202398119, 0.06474029850616166, 0.9063641790862632, 0.6307952168298718, 0.2523180867319487, 0.10513253613831197, 0.021026507227662392, 0.9824937570621004, 0.932326151765171, 0.9504420480353083, 0.9779253997452145, 0.3924153168345761, 0.3924153168345761, 0.8804005627552629, 0.9807136656571019, 0.9263156997974368, 0.028070172721134448, 0.056140345442268896, 0.1746142412878871, 0.6984569651515484, 0.13431864714452854, 0.013431864714452854, 0.021015082825254338, 0.9877088927869538, 0.8407213672045176, 0.12010305245778823, 0.024020610491557647, 0.6143750265002615, 0.03106886504170581, 0.9320659512511743, 0.03106886504170581, 0.18898338909817705, 0.35096915118232885, 0.45895965923843, 0.9606129689908629, 0.2416578320621638, 0.6297749562832148, 0.12449039833505408, 0.9831303615115359, 0.9606790307095605, 0.9648135832332764, 0.9918742550016166, 0.009099763807354281, 0.6289276949161897, 0.20964256497206324, 0.10482128248603162, 0.6059848780514554, 0.36359092683087324, 0.022724432926929578, 0.0075748109756431925, 0.9656181585288575, 0.6366660179718997, 0.2829626746541777, 0.08084647847262219, 0.010105809809077774, 0.887749115748262, 0.08536049189887135, 0.025608147569661406, 0.008536049189887134, 0.053246081541881596, 0.9051833862119871, 0.026623040770940798, 0.7489628222620832, 0.055478727574969126, 0.19417554651239194, 0.9962006774435306, 0.19229583549201548, 0.19229583549201548, 0.604358340117763, 0.9899530441160026, 0.09680186110320617, 0.8712167499288556, 0.024200465275801542, 0.7218155018183029, 0.19685877322317352, 0.06561959107439116, 0.9894682732726872, 0.7780834917320274, 0.12157554558312927, 0.09726043646650342, 0.9491576527293444, 0.957346696492474, 0.6272980832245297, 0.22403502972304634, 0.1344210178338278, 0.022403502972304635, 0.031035043690526856, 0.9620863544063325, 0.0763143521691758, 0.8637397131874898, 0.058970181221635845, 0.9628390703771121, 0.03851356281508449, 0.32092612998975056, 0.5159988756697951, 0.15731673038713265, 0.006292669215485306, 0.9979048957871614, 0.9826777049335959, 0.8548549927717752, 0.06106107091226966, 0.06106107091226966, 0.9720430914439078, 0.16367255944292894, 0.7228871375396029, 0.1091150396286193, 0.9131797722514479, 0.050598351496782074, 0.028913343712446898, 0.0096377812374823, 0.937243592360597, 0.2963787014966164, 0.6792011909297458, 0.024698225124718032, 0.2758916173517728, 0.1182392645793312, 0.6306094110897664, 0.6069820435197877, 0.2149728070799248, 0.1643909701199425, 0.012645459239995577, 0.4691623200678477, 0.28977672710072944, 0.22078226826722244, 0.013798891766701403, 0.9699682507627019, 0.9564923735262703], \"Term\": [\"  \", \"  \", \"  \", \"   \", \"   \", \"   \", \"                     \", \"                     \", \"                      \", \"                      \", \"                        \", \"                        \", \"                         \", \"                         \", \"                          \", \"                          \", \"                           \", \"                           \", \"                            \", \"                            \", \"0.01\", \"0.02\", \"0.08\", \"0.15\", \"0.20\", \"0.23\", \"0.25\", \"0.72\", \"0.72\", \"0.75\", \"0.75\", \"0.75\", \"0.77\", \"0.77\", \"0.77\", \"0.78\", \"0.78\", \"0.78\", \"0.79\", \"0.79\", \"0.92\", \"0.96\", \"1.00\", \"1.00\", \"99.9\", \"AGS\", \"AIES\", \"ATC\", \"ATE\", \"Beers\", \"CHHM\", \"CRDC\", \"Communication\", \"DAC\", \"DMKD\", \"Dirichlet\", \"Document\", \"Document\", \"Document\", \"Document\", \"Drugs4Covid\", \"Extractor\", \"Fig\", \"Fig\", \"Fig\", \"HIV\", \"Hashing\", \"KG\", \"KG\", \"KG\", \"Languages\", \"Legal\", \"Legal\", \"Madrid\", \"Madrid\", \"Madrid\", \"NaCTeM\", \"New\", \"PIM\", \"PIMs\", \"PLWH\", \"P\\u00e1gina\", \"Retrieval\", \"Retrieval\", \"THD\", \"TIME\", \"TerMine\", \"Term\", \"Term\", \"Topic\", \"Topic\", \"Topic\", \"UPM\", \"UPM\", \"UPM\", \"York\", \"accord\", \"accord\", \"accord\", \"accord\", \"adult\", \"algorithm\", \"algorithm\", \"algorithm\", \"algorithm\", \"align\", \"align\", \"align\", \"align\", \"annotation\", \"annotation\", \"annotation\", \"annotation\", \"anticholinergic\", \"approach\", \"approach\", \"approach\", \"award\", \"bag\", \"bag\", \"bag\", \"base\", \"base\", \"base\", \"base\", \"calculate\", \"case\", \"case\", \"case\", \"cat\", \"category\", \"category\", \"category\", \"category\", \"centroid\", \"centroid\", \"chemical\", \"cluster\", \"cluster\", \"cluster\", \"collection\", \"collection\", \"collection\", \"collection\", \"company\", \"company\", \"consider\", \"consider\", \"consider\", \"contract\", \"contracting\", \"cord-19\", \"corpus\", \"corpus\", \"corpus\", \"covid-19\", \"create\", \"create\", \"create\", \"create\", \"cross\", \"cross\", \"cross\", \"cross\", \"cut\", \"d4covid\", \"dataset\", \"dataset\", \"dataset\", \"datum\", \"datum\", \"datum\", \"datum\", \"dc\", \"density\", \"density\", \"dhhm\", \"diferent\", \"different\", \"different\", \"different\", \"disease\", \"disease\", \"disorder\", \"distance\", \"distance\", \"distance\", \"distribution\", \"distribution\", \"distribution\", \"divergence\", \"document\", \"document\", \"document\", \"document\", \"domain\", \"domain\", \"domain\", \"drug\", \"drug\", \"drug\", \"edition\", \"edition\", \"edition\", \"elderly\", \"embedding\", \"ep\", \"extract\", \"extract\", \"extract\", \"extraction\", \"extraction\", \"extraction\", \"extractor\", \"filter\", \"filter\", \"filter\", \"framework\", \"french\", \"french\", \"french\", \"group\", \"group\", \"group\", \"h1\", \"hash\", \"hash\", \"hash\", \"hashing\", \"hashing\", \"hierarchical\", \"hierarchical\", \"hierarchical\", \"hierarchy\", \"hierarchy\", \"hierarchy\", \"high\", \"high\", \"high\", \"inappropriate\", \"knowledge\", \"knowledge\", \"knowledge\", \"language\", \"language\", \"language\", \"language\", \"language-\", \"language-\", \"level\", \"level\", \"level\", \"lingual\", \"lingual\", \"lingual\", \"mean\", \"mean\", \"mean\", \"measure\", \"measure\", \"measure\", \"measurement\", \"median\", \"median\", \"medication\", \"mention\", \"mention\", \"mention\", \"method\", \"method\", \"method\", \"metric\", \"metric\", \"model\", \"model\", \"model\", \"model\", \"multi\", \"multi\", \"multi\", \"multi\", \"multi-\", \"multi-\", \"multi-\", \"noise\", \"number\", \"number\", \"number\", \"old\", \"old\", \"ontology\", \"ontology\", \"p@10\", \"p@10\", \"p@3\", \"p@3\", \"page\", \"page\", \"paper\", \"paper\", \"paper\", \"paragraph\", \"paragraph\", \"patient\", \"patient\", \"perform\", \"perform\", \"perform\", \"perform\", \"picture\", \"pim\", \"plain\", \"polypharmacy\", \"portuguese\", \"portuguese\", \"prescribe\", \"prescription\", \"probability\", \"probability\", \"probability\", \"process\", \"process\", \"process\", \"process\", \"procurement\", \"procurement\", \"propose\", \"propose\", \"propose\", \"pt\", \"public\", \"public\", \"public\", \"relate\", \"relate\", \"relate\", \"representativeness\", \"result\", \"result\", \"result\", \"retained\", \"return\", \"risk\", \"saturation\", \"saturation\", \"semi\", \"semi\", \"semi\", \"set\", \"set\", \"set\", \"set\", \"significance\", \"similar\", \"similar\", \"similar\", \"similar\", \"similarity\", \"similarity\", \"similarity\", \"similarity\", \"software\", \"software\", \"software\", \"space\", \"space\", \"space\", \"stop\", \"study\", \"study\", \"study\", \"substance\", \"summary\", \"summary\", \"summary\", \"supervised\", \"supervised\", \"supervised\", \"syn\", \"synset\", \"synset\", \"synset\", \"t0\", \"t1\", \"table\", \"table\", \"table\", \"table\", \"tender\", \"tender\", \"term\", \"term\", \"term\", \"terminological\", \"terminological\", \"text\", \"text\", \"text\", \"text\", \"thd\", \"thdr\", \"theme\", \"theme\", \"theme\", \"thhm\", \"tool\", \"tool\", \"tool\", \"topic\", \"topic\", \"topic\", \"topic\", \"treat\", \"value\", \"value\", \"value\", \"vocabulary\", \"vocabulary\", \"vocabulary\", \"word\", \"word\", \"word\", \"word\", \"work\", \"work\", \"work\", \"work\", \"\\uffffe\", \"\\uffffis\"]}, \"R\": 30, \"lambda.step\": 0.01, \"plot.opts\": {\"xlab\": \"PC1\", \"ylab\": \"PC2\"}, \"topic.order\": [1, 3, 2, 4, 5]};\n",
              "\n",
              "function LDAvis_load_lib(url, callback){\n",
              "  var s = document.createElement('script');\n",
              "  s.src = url;\n",
              "  s.async = true;\n",
              "  s.onreadystatechange = s.onload = callback;\n",
              "  s.onerror = function(){console.warn(\"failed to load library \" + url);};\n",
              "  document.getElementsByTagName(\"head\")[0].appendChild(s);\n",
              "}\n",
              "\n",
              "if(typeof(LDAvis) !== \"undefined\"){\n",
              "   // already loaded: just create the visualization\n",
              "   !function(LDAvis){\n",
              "       new LDAvis(\"#\" + \"ldavis_el651399680184297764010212299\", ldavis_el651399680184297764010212299_data);\n",
              "   }(LDAvis);\n",
              "}else if(typeof define === \"function\" && define.amd){\n",
              "   // require.js is available: use it to load d3/LDAvis\n",
              "   require.config({paths: {d3: \"https://cdnjs.cloudflare.com/ajax/libs/d3/3.5.5/d3.min\"}});\n",
              "   require([\"d3\"], function(d3){\n",
              "      window.d3 = d3;\n",
              "      LDAvis_load_lib(\"https://cdn.rawgit.com/bmabey/pyLDAvis/files/ldavis.v1.0.0.js\", function(){\n",
              "        new LDAvis(\"#\" + \"ldavis_el651399680184297764010212299\", ldavis_el651399680184297764010212299_data);\n",
              "      });\n",
              "    });\n",
              "}else{\n",
              "    // require.js not available: dynamically load d3 & LDAvis\n",
              "    LDAvis_load_lib(\"https://cdnjs.cloudflare.com/ajax/libs/d3/3.5.5/d3.min.js\", function(){\n",
              "         LDAvis_load_lib(\"https://cdn.rawgit.com/bmabey/pyLDAvis/files/ldavis.v1.0.0.js\", function(){\n",
              "                 new LDAvis(\"#\" + \"ldavis_el651399680184297764010212299\", ldavis_el651399680184297764010212299_data);\n",
              "            })\n",
              "         });\n",
              "}\n",
              "</script>"
            ],
            "text/plain": [
              "PreparedData(topic_coordinates=              x         y  topics  cluster       Freq\n",
              "topic                                                \n",
              "0      0.142936 -0.064777       1        1  43.247497\n",
              "2      0.040573  0.171527       2        1  36.759207\n",
              "1     -0.130098  0.000607       3        1  18.532463\n",
              "3      0.002584 -0.062019       4        1   1.456735\n",
              "4     -0.055996 -0.045338       5        1   0.004098, topic_info=           Term        Freq       Total Category  logprob  loglift\n",
              "1535      topic  415.000000  415.000000  Default  30.0000  30.0000\n",
              "777    document  433.000000  433.000000  Default  29.0000  29.0000\n",
              "1502       term  288.000000  288.000000  Default  28.0000  28.0000\n",
              "2970       drug   90.000000   90.000000  Default  27.0000  27.0000\n",
              "1049    lingual   65.000000   65.000000  Default  26.0000  26.0000\n",
              "...         ...         ...         ...      ...      ...      ...\n",
              "1533       tool    0.000364   73.317116   Topic5  -8.1912  -2.1118\n",
              "1601       word    0.000367   79.079769   Topic5  -8.1827  -2.1790\n",
              "1180      paper    0.000392  154.921233   Topic5  -8.1152  -2.7840\n",
              "544   algorithm    0.000372  117.664763   Topic5  -8.1675  -2.5612\n",
              "267         Fig    0.000367   86.671589   Topic5  -8.1813  -2.2693\n",
              "\n",
              "[353 rows x 6 columns], token_table=      Topic      Freq  Term\n",
              "term                       \n",
              "0         2  0.975681      \n",
              "0         3  0.017423      \n",
              "0         4  0.008711      \n",
              "1         2  0.844993      \n",
              "1         3  0.038409      \n",
              "...     ...       ...   ...\n",
              "1602      2  0.289777  work\n",
              "1602      3  0.220782  work\n",
              "1602      4  0.013799  work\n",
              "5066      1  0.969968    ￿e\n",
              "5072      1  0.956492   ￿is\n",
              "\n",
              "[429 rows x 3 columns], R=30, lambda_step=0.01, plot_opts={'xlab': 'PC1', 'ylab': 'PC2'}, topic_order=[1, 3, 2, 4, 5])"
            ]
          },
          "metadata": {
            "tags": []
          },
          "execution_count": 60
        }
      ]
    },
    {
      "cell_type": "markdown",
      "metadata": {
        "id": "KPAWt_z5E7IF"
      },
      "source": [
        "Each document exhibits each topic in different proportion, and each word in each document is drawn from one of the topics, where the selected topic is chosen from the per-document distribution over topics. All the documents in a collection share the same set of topics, but each document exhibits these topics in a different proportion. Texts are described as a vector of counts with W components, where W is the number of words in the vocabulary. Each document in the corpus is modeled as a mixture over K topics, and each topic k is a distribution over the vocabulary of W words."
      ]
    },
    {
      "cell_type": "code",
      "metadata": {
        "colab": {
          "base_uri": "https://localhost:8080/",
          "height": 1000
        },
        "id": "djrjiJbEEa3L",
        "outputId": "477d677a-890e-405e-d00f-999c06688d07"
      },
      "source": [
        "topic_vectors = []\n",
        "for bow in bows:\n",
        "  top_topics = (lda_model.get_document_topics(bow,minimum_probability=0.0))\n",
        "  topic_vec = [top_topics[i][1] for i in range(number_of_topics)]\n",
        "  topic_vectors.append(topic_vec)\n",
        "\n",
        "corpus_df['topics'] = topic_vectors\n",
        "corpus_df.head(3)"
      ],
      "execution_count": 61,
      "outputs": [
        {
          "output_type": "execute_result",
          "data": {
            "text/html": [
              "<div>\n",
              "<style scoped>\n",
              "    .dataframe tbody tr th:only-of-type {\n",
              "        vertical-align: middle;\n",
              "    }\n",
              "\n",
              "    .dataframe tbody tr th {\n",
              "        vertical-align: top;\n",
              "    }\n",
              "\n",
              "    .dataframe thead th {\n",
              "        text-align: right;\n",
              "    }\n",
              "</style>\n",
              "<table border=\"1\" class=\"dataframe\">\n",
              "  <thead>\n",
              "    <tr style=\"text-align: right;\">\n",
              "      <th></th>\n",
              "      <th>title</th>\n",
              "      <th>text</th>\n",
              "      <th>#words</th>\n",
              "      <th>tokens</th>\n",
              "      <th>#tokens</th>\n",
              "      <th>#uni_tokens</th>\n",
              "      <th>boolean</th>\n",
              "      <th>tf</th>\n",
              "      <th>tf_idf</th>\n",
              "      <th>d2v</th>\n",
              "      <th>topics</th>\n",
              "    </tr>\n",
              "  </thead>\n",
              "  <tbody>\n",
              "    <tr>\n",
              "      <th>0</th>\n",
              "      <td>Cross-Evaluation of Term Extraction Tools by Measuring Terminological Saturation</td>\n",
              "      <td>Synopsis of the Refinements and Extensions  Compared to the Publication in the Conference Proceedings  This submission is a refined and extended paper based on the ICTERI 2017 PhD  Symposium paper...</td>\n",
              "      <td>12954</td>\n",
              "      <td>[synopsis, Refinements, Extensions, compare, publication, Conference, Proceedings, submission, refined, extended, paper, base, ICTERI, phd, symposium, paper, Kosa, et, al, fact, submission, totall...</td>\n",
              "      <td>6342</td>\n",
              "      <td>1618</td>\n",
              "      <td>{'synopsis': True, 'Refinements': True, 'Extensions': True, 'compare': True, 'publication': True, 'Conference': True, 'Proceedings': True, 'submission': True, 'refined': True, 'extended': True, 'p...</td>\n",
              "      <td>{'synopsis': 1, 'Refinements': 1, 'Extensions': 1, 'compare': 21, 'publication': 3, 'Conference': 1, 'Proceedings': 1, 'submission': 2, 'refined': 2, 'extended': 1, 'paper': 44, 'base': 43, 'ICTER...</td>\n",
              "      <td>{'synopsis': 0.0003780976462942874, 'Refinements': 0.0003780976462942874, 'Extensions': 0.0003780976462942874, 'compare': 0.0003155966218686256, 'publication': 0.0002867245996075286, 'Conference':...</td>\n",
              "      <td>[1.8876443, -0.8634335, -16.34512, 13.771379, -1.2340014]</td>\n",
              "      <td>[5.7201378e-05, 3.681213e-05, 0.99986476, 2.242519e-05, 1.8815845e-05]</td>\n",
              "    </tr>\n",
              "    <tr>\n",
              "      <th>1</th>\n",
              "      <td>Enhancing Public Procurement in the European Union through Constructing and Exploiting an Integrated Knowledge Graph</td>\n",
              "      <td>Enhancing Public Procurement in the European Union through Constructing and Exploiting an Integrated Knowledge Graph Ahmet Soylu1, Oscar Corcho2, Brian Elvesæter1, Carlos Badenes-Olmedo2, Francisc...</td>\n",
              "      <td>5827</td>\n",
              "      <td>[enhance, Public, Procurement, European, Union, Constructing, exploit, Integrated, Knowledge, Graph, Ahmet, Soylu1, Oscar, Corcho2, Brian, Elvesæter1, Carlos, Badenes, Olmedo2, Francisco, Yedro2, ...</td>\n",
              "      <td>3406</td>\n",
              "      <td>1290</td>\n",
              "      <td>{'enhance': True, 'Public': True, 'Procurement': True, 'European': True, 'Union': True, 'Constructing': True, 'exploit': True, 'Integrated': True, 'Knowledge': True, 'Graph': True, 'Ahmet': True, ...</td>\n",
              "      <td>{'enhance': 9, 'Public': 9, 'Procurement': 9, 'European': 5, 'Union': 3, 'Constructing': 1, 'exploit': 1, 'Integrated': 8, 'Knowledge': 11, 'Graph': 11, 'Ahmet': 1, 'Soylu1': 1, 'Oscar': 1, 'Corch...</td>\n",
              "      <td>{'enhance': 0.004504619151540172, 'Public': 0.006336188330941086, 'Procurement': 0.006336188330941086, 'European': 0.0014850277622995888, 'Union': 0.0011444066213713397, 'Constructing': 0.00070402...</td>\n",
              "      <td>[1.6595398, -9.840459, -12.158843, 6.647979, -4.024708]</td>\n",
              "      <td>[0.000119926975, 6.964687e-05, 0.99973357, 4.1799685e-05, 3.503087e-05]</td>\n",
              "    </tr>\n",
              "    <tr>\n",
              "      <th>2</th>\n",
              "      <td>Drugs4Covid: Making drug information available from scientific publications</td>\n",
              "      <td>Drugs4Covid: Making drug information available from scientific publications Carlos Badenes-Olmedo1, David Chaves-Fraga1, Mar´ıa Poveda-Villal´on1, Ana Iglesias-Molina1, Pablo Calleja1, Socorro Ber...</td>\n",
              "      <td>5417</td>\n",
              "      <td>[Drugs4Covid, make, drug, information, available, scientific, publication, Carlos, Badenes, Olmedo1, David, Chaves, Fraga1, Mar´ıa, Poveda, Villal´on1, Ana, Iglesias, Molina1, Pablo, Calleja1, Soc...</td>\n",
              "      <td>3260</td>\n",
              "      <td>1367</td>\n",
              "      <td>{'Drugs4Covid': True, 'make': True, 'drug': True, 'information': True, 'available': True, 'scientific': True, 'publication': True, 'Carlos': True, 'Badenes': True, 'Olmedo1': True, 'David': True, ...</td>\n",
              "      <td>{'Drugs4Covid': 24, 'make': 2, 'drug': 71, 'information': 11, 'available': 12, 'scientific': 14, 'publication': 9, 'Carlos': 1, 'Badenes': 10, 'Olmedo1': 1, 'David': 1, 'Chaves': 1, 'Fraga1': 1, '...</td>\n",
              "      <td>{'Drugs4Covid': 0.017653216732257945, 'make': 0.00019537038718928502, 'drug': 0.03712794924813748, 'information': 0.0, 'available': 0.00035083501768463167, 'scientific': 0.004344298393711264, 'pub...</td>\n",
              "      <td>[1.2999653, -9.134557, -10.952589, 5.944156, -3.9267771]</td>\n",
              "      <td>[0.002306211, 0.9975591, 5.4518772e-05, 4.3636315e-05, 3.6599005e-05]</td>\n",
              "    </tr>\n",
              "  </tbody>\n",
              "</table>\n",
              "</div>"
            ],
            "text/plain": [
              "                                                                                                                  title  ...                                                                   topics\n",
              "0                                      Cross-Evaluation of Term Extraction Tools by Measuring Terminological Saturation  ...   [5.7201378e-05, 3.681213e-05, 0.99986476, 2.242519e-05, 1.8815845e-05]\n",
              "1  Enhancing Public Procurement in the European Union through Constructing and Exploiting an Integrated Knowledge Graph  ...  [0.000119926975, 6.964687e-05, 0.99973357, 4.1799685e-05, 3.503087e-05]\n",
              "2                                           Drugs4Covid: Making drug information available from scientific publications  ...    [0.002306211, 0.9975591, 5.4518772e-05, 4.3636315e-05, 3.6599005e-05]\n",
              "\n",
              "[3 rows x 11 columns]"
            ]
          },
          "metadata": {
            "tags": []
          },
          "execution_count": 61
        }
      ]
    },
    {
      "cell_type": "code",
      "metadata": {
        "colab": {
          "base_uri": "https://localhost:8080/",
          "height": 638
        },
        "id": "VDaLBSl01ZvF",
        "outputId": "53aa0597-9fd6-4ed8-99f6-c24758f57357"
      },
      "source": [
        "show_points('topics')"
      ],
      "execution_count": 62,
      "outputs": [
        {
          "output_type": "stream",
          "text": [
            "0 Cross-Evaluation of Term Extraction Tools by Measuring Terminological Saturation\n",
            "1 Enhancing Public Procurement in the European Union through Constructing and Exploiting an Integrated Knowledge Graph\n",
            "2 Drugs4Covid: Making drug information available from scientific publications\n",
            "3 Distributing Text Mining tasks with librAIry\n",
            "4 Large-Scale Semantic Exploration of Scientific Literature using Topic-based Hashing Algorithms\n",
            "5 An initial Analysis of Topic-based Similarity among Scientific Documents based on their Rhetorical Discourse Parts\n",
            "6 Efficient Clustering from Distributions over Topics\n",
            "7 Legal Documents Retrieval Across Languages: Topic Hierarchies based on synsets\n",
            "8 Scalable Cross-lingual Document Similarity through Language-specific Concept Hierarchies\n",
            "9 Potentially inappropriate medications in older adults living with HIV\n",
            "10 Semantic Saturation in Retrospective Text Document  Collections\n"
          ],
          "name": "stdout"
        },
        {
          "output_type": "display_data",
          "data": {
            "image/png": "[encoded data removed]",
            "text/plain": [
              "<Figure size 1080x720 with 1 Axes>"
            ]
          },
          "metadata": {
            "tags": [],
            "needs_background": "light"
          }
        }
      ]
    },
    {
      "cell_type": "code",
      "metadata": {
        "colab": {
          "base_uri": "https://localhost:8080/"
        },
        "id": "I6PYFVgnHdUH",
        "outputId": "41351e48-4c71-4fbd-c8d9-dc7f775e171b"
      },
      "source": [
        "from gensim.models import CoherenceModel\n",
        "\n",
        "with warnings.catch_warnings():\n",
        "  warnings.simplefilter('ignore')\n",
        "  # Compute Perplexity\n",
        "  print('\\nPerplexity: ', lda_model.log_perplexity(bows))  # a measure of how good the model is. lower the better.\n",
        "\n",
        "  # Compute Coherence Score\n",
        "  coherence_model_lda = CoherenceModel(model=lda_model, texts=corpus_df['tokens'], dictionary=dictionary, coherence='c_v')\n",
        "  coherence_lda = coherence_model_lda.get_coherence()\n",
        "  print('\\nCoherence Score: ', coherence_lda)"
      ],
      "execution_count": 63,
      "outputs": [
        {
          "output_type": "stream",
          "text": [
            "\n",
            "Perplexity:  -7.595129924140884\n",
            "\n",
            "Coherence Score:  0.4451044016999169\n"
          ],
          "name": "stdout"
        }
      ]
    },
    {
      "cell_type": "markdown",
      "metadata": {
        "id": "D1HwzMV8TBbh"
      },
      "source": [
        "# 3.- Techniques for Probabilistic Topic Models"
      ]
    },
    {
      "cell_type": "markdown",
      "metadata": {
        "id": "FpcMtMktTIQs"
      },
      "source": [
        "In order to train a LDA model it is necessary to provide a fixed number of topics across the corpus. Each topic is drawn from a Dirichlet distribution with parameter β, while each document’s mixture is sampled from a Dirichlet distribution with parameter α. These two priors, α and β, set the probability that a document or a word, respec- tively, contains more than one topic. Along with the number of topics they are also known as hyper-parameters of a LDA model and they have to be tuned when training a model. There are other parameters common to learning models, such as the number of iterations through the corpus when inferring the topic distribution, or related to the online learning mode of LDA (Hoffman et al., 2010), for example the number of docu- ments to be iterated through for each update, that can also be fine-tuned. However α, β and the number of topics are the ones that mainly define the behavior of the model for distributing the topics and therefore crucial when creating the model. The following code shows the topic distributions of the example corpus. An LDA model was trained with 5 topics to reflect the four research areas of this thesis and the experiments performed; α equals to 1.0 (higher than usual) because the documents are likely to contain more than one topic; and β equals to 0.01 to force to distribute the words among topics in a non-homogeneous way. Given the topics of the model, it can be seen how documents present strongly unbalanced distributions with respect to some of the topics. The small size of the corpus and the specialization of the articles causes this behavior."
      ]
    },
    {
      "cell_type": "code",
      "metadata": {
        "colab": {
          "base_uri": "https://localhost:8080/"
        },
        "id": "cWQRY4ofTIqB",
        "outputId": "f210a773-91f2-4ce8-c207-8b529bb0766d"
      },
      "source": [
        "pos = 0\n",
        "for topic_distribution in corpus_df['topics']:\n",
        "  print(corpus_df['title'][pos])\n",
        "  pos += 1\n",
        "  for value in topic_distribution:\n",
        "    print(\"%.5f\" % value)\n",
        "  "
      ],
      "execution_count": 64,
      "outputs": [
        {
          "output_type": "stream",
          "text": [
            "Cross-Evaluation of Term Extraction Tools by Measuring Terminological Saturation\n",
            "0.00006\n",
            "0.00004\n",
            "0.99986\n",
            "0.00002\n",
            "0.00002\n",
            "Enhancing Public Procurement in the European Union through Constructing and Exploiting an Integrated Knowledge Graph\n",
            "0.00012\n",
            "0.00007\n",
            "0.99973\n",
            "0.00004\n",
            "0.00004\n",
            "Drugs4Covid: Making drug information available from scientific publications\n",
            "0.00231\n",
            "0.99756\n",
            "0.00005\n",
            "0.00004\n",
            "0.00004\n",
            "Distributing Text Mining tasks with librAIry\n",
            "0.99954\n",
            "0.00016\n",
            "0.00012\n",
            "0.00010\n",
            "0.00008\n",
            "Large-Scale Semantic Exploration of Scientific Literature using Topic-based Hashing Algorithms\n",
            "0.99988\n",
            "0.00004\n",
            "0.00003\n",
            "0.00003\n",
            "0.00002\n",
            "An initial Analysis of Topic-based Similarity among Scientific Documents based on their Rhetorical Discourse Parts\n",
            "0.34434\n",
            "0.00017\n",
            "0.65531\n",
            "0.00010\n",
            "0.00008\n",
            "Efficient Clustering from Distributions over Topics\n",
            "0.99977\n",
            "0.00008\n",
            "0.00006\n",
            "0.00005\n",
            "0.00004\n",
            "Legal Documents Retrieval Across Languages: Topic Hierarchies based on synsets\n",
            "0.40842\n",
            "0.00030\n",
            "0.00023\n",
            "0.59090\n",
            "0.00015\n",
            "Scalable Cross-lingual Document Similarity through Language-specific Concept Hierarchies\n",
            "0.99977\n",
            "0.00008\n",
            "0.00006\n",
            "0.00005\n",
            "0.00004\n",
            "Potentially inappropriate medications in older adults living with HIV\n",
            "0.00017\n",
            "0.99961\n",
            "0.00009\n",
            "0.00007\n",
            "0.00006\n",
            "Semantic Saturation in Retrospective Text Document  Collections\n",
            "0.00021\n",
            "0.37821\n",
            "0.62143\n",
            "0.00008\n",
            "0.00007\n"
          ],
          "name": "stdout"
        }
      ]
    },
    {
      "cell_type": "markdown",
      "metadata": {
        "id": "l8DM0-qSI7Qu"
      },
      "source": [
        "## 3.1 Document Similarity Calculation based on LDA"
      ]
    },
    {
      "cell_type": "markdown",
      "metadata": {
        "id": "qYXsGS0MJBxD"
      },
      "source": [
        "Since documents are described by topic distributions, the semantic similarity between two texts is based on the distance of their vector representations of the topics, which can be also seen as two probability mass functions."
      ]
    },
    {
      "cell_type": "code",
      "metadata": {
        "colab": {
          "base_uri": "https://localhost:8080/"
        },
        "id": "4KOSXx5lLYQf",
        "outputId": "002aebaf-9775-4a73-b940-9ee9d84a478c"
      },
      "source": [
        "def compare(metric,bidirectional=False):\n",
        "  print(\"\\t\"+\"\\t\".join([\"D\"+str(id) for id,v in enumerate(corpus_df['topics'])]))\n",
        "  for id1, v1 in enumerate(corpus_df['topics']):\n",
        "    l1 = []\n",
        "    l2 = []\n",
        "    for id2, v2 in enumerate(corpus_df['topics']):\n",
        "      d1 = metric(np.array(v1),np.array(v2))\n",
        "      d2 = metric(np.array(v2),np.array(v1))\n",
        "      l1.append(d1)\n",
        "      l2.append(d2)      \n",
        "    print(\"D\"+str(id1)+\"\\t&\"+\"\\t&\".join([str(round(elem, 2) ) for elem in l1]))    \n",
        "    if (bidirectional):\n",
        "      print(\"D\"+str(id1)+\"\\t&\"+\"\\t&\".join([str(round(elem, 2) ) for elem in l2]))\n",
        "\n",
        "print(\"comparison ready!\")"
      ],
      "execution_count": 96,
      "outputs": [
        {
          "output_type": "stream",
          "text": [
            "comparison ready!\n"
          ],
          "name": "stdout"
        }
      ]
    },
    {
      "cell_type": "markdown",
      "metadata": {
        "id": "eNk2bBOxLWCY"
      },
      "source": [
        "### 3.1.1 Kullback-Liebler (KL) divergence:"
      ]
    },
    {
      "cell_type": "code",
      "metadata": {
        "colab": {
          "base_uri": "https://localhost:8080/"
        },
        "id": "fhLcxxOQLZOH",
        "outputId": "8633062c-e5cd-47fb-82ec-28770795e883"
      },
      "source": [
        "import numpy as np\n",
        "\n",
        "def kl_divergence(p, q):\n",
        "  return np.sum(np.where(p != 0, p * np.log(p / q), 0))\n",
        "\n",
        "compare(kl_divergence,True)"
      ],
      "execution_count": 91,
      "outputs": [
        {
          "output_type": "stream",
          "text": [
            "\tD0\tD1\tD2\tD3\tD4\tD5\tD6\tD7\tD8\tD9\tD10\n",
            "D0\t&0.0\t&0.0\t&9.81\t&9.02\t&10.36\t&0.42\t&9.73\t&8.4\t&9.72\t&9.34\t&0.48\n",
            "D0\t&0.0\t&0.0\t&10.19\t&9.76\t&9.77\t&2.72\t&9.77\t&9.64\t&9.77\t&10.2\t&3.2\n",
            "D1\t&0.0\t&0.0\t&9.81\t&9.02\t&10.36\t&0.42\t&9.73\t&8.39\t&9.72\t&9.34\t&0.47\n",
            "D1\t&0.0\t&0.0\t&9.55\t&9.02\t&9.03\t&2.47\t&9.03\t&8.97\t&9.03\t&9.57\t&2.96\n",
            "D2\t&10.19\t&9.55\t&0.0\t&8.69\t&10.04\t&8.66\t&9.41\t&8.08\t&9.41\t&0.0\t&0.97\n",
            "D2\t&9.81\t&9.81\t&0.0\t&6.07\t&6.07\t&7.88\t&6.07\t&7.73\t&6.07\t&0.0\t&5.44\n",
            "D3\t&9.76\t&9.02\t&6.07\t&0.0\t&0.0\t&1.06\t&0.0\t&0.89\t&0.0\t&8.66\t&8.47\n",
            "D3\t&9.02\t&9.02\t&8.69\t&0.0\t&0.0\t&5.27\t&0.0\t&4.79\t&0.0\t&8.72\t&8.24\n",
            "D4\t&9.77\t&9.03\t&6.07\t&0.0\t&0.0\t&1.07\t&0.0\t&0.89\t&0.0\t&8.67\t&8.48\n",
            "D4\t&10.36\t&10.36\t&10.04\t&0.0\t&0.0\t&6.15\t&0.0\t&5.58\t&0.0\t&10.08\t&9.59\n",
            "D5\t&2.72\t&2.47\t&7.88\t&5.27\t&6.15\t&0.0\t&5.73\t&5.17\t&5.73\t&8.46\t&2.59\n",
            "D5\t&0.42\t&0.42\t&8.66\t&1.06\t&1.07\t&0.0\t&1.06\t&5.2\t&1.06\t&8.69\t&2.89\n",
            "D6\t&9.77\t&9.03\t&6.07\t&0.0\t&0.0\t&1.06\t&0.0\t&0.89\t&0.0\t&8.67\t&8.47\n",
            "D6\t&9.73\t&9.73\t&9.41\t&0.0\t&0.0\t&5.73\t&0.0\t&5.21\t&0.0\t&9.45\t&8.96\n",
            "D7\t&9.64\t&8.97\t&7.73\t&4.79\t&5.58\t&5.2\t&5.21\t&0.0\t&5.2\t&8.51\t&8.35\n",
            "D7\t&8.4\t&8.39\t&8.08\t&0.89\t&0.89\t&5.17\t&0.89\t&0.0\t&0.89\t&8.11\t&7.62\n",
            "D8\t&9.77\t&9.03\t&6.07\t&0.0\t&0.0\t&1.06\t&0.0\t&0.89\t&0.0\t&8.67\t&8.47\n",
            "D8\t&9.72\t&9.72\t&9.41\t&0.0\t&0.0\t&5.73\t&0.0\t&5.2\t&0.0\t&9.44\t&8.95\n",
            "D9\t&10.2\t&9.57\t&0.0\t&8.72\t&10.08\t&8.69\t&9.45\t&8.11\t&9.44\t&0.0\t&0.97\n",
            "D9\t&9.34\t&9.34\t&0.0\t&8.66\t&8.67\t&8.46\t&8.67\t&8.51\t&8.67\t&0.0\t&5.14\n",
            "D10\t&3.2\t&2.96\t&5.44\t&8.24\t&9.59\t&2.89\t&8.96\t&7.62\t&8.95\t&5.14\t&0.0\n",
            "D10\t&0.48\t&0.47\t&0.97\t&8.47\t&8.48\t&2.59\t&8.47\t&8.35\t&8.47\t&0.97\t&0.0\n"
          ],
          "name": "stdout"
        }
      ]
    },
    {
      "cell_type": "markdown",
      "metadata": {
        "id": "iPLfN_2iLgzz"
      },
      "source": [
        "### 3.1.2 Jensen-Shannon (JS) Divergence"
      ]
    },
    {
      "cell_type": "code",
      "metadata": {
        "colab": {
          "base_uri": "https://localhost:8080/"
        },
        "id": "AhhOWGElLkt9",
        "outputId": "f6a8241b-79ab-4f89-af68-bab82a41de71"
      },
      "source": [
        "import numpy as np\n",
        "import scipy as sp\n",
        "\n",
        "def js_divergence(p,q,base=np.e):\n",
        "  p, q = np.asarray(p), np.asarray(q)\n",
        "  p, q = p/p.sum(), q/q.sum()\n",
        "  m = 1./2*(p + q)\n",
        "  return sp.stats.entropy(p,m, base=base)/2. +  sp.stats.entropy(q, m, base=base)/2.\n",
        "\n",
        "compare(js_divergence)"
      ],
      "execution_count": 92,
      "outputs": [
        {
          "output_type": "stream",
          "text": [
            "\tD0\tD1\tD2\tD3\tD4\tD5\tD6\tD7\tD8\tD9\tD10\n",
            "D0\t&0.0\t&0.0\t&0.69\t&0.69\t&0.69\t&0.14\t&0.69\t&0.69\t&0.69\t&0.69\t&0.15\n",
            "D1\t&0.0\t&0.0\t&0.69\t&0.69\t&0.69\t&0.14\t&0.69\t&0.69\t&0.69\t&0.69\t&0.15\n",
            "D2\t&0.69\t&0.69\t&0.0\t&0.68\t&0.68\t&0.69\t&0.68\t&0.68\t&0.68\t&0.0\t&0.29\n",
            "D3\t&0.69\t&0.69\t&0.68\t&0.0\t&0.0\t&0.31\t&0.0\t&0.27\t&0.0\t&0.69\t&0.69\n",
            "D4\t&0.69\t&0.69\t&0.68\t&0.0\t&0.0\t&0.31\t&0.0\t&0.27\t&0.0\t&0.69\t&0.69\n",
            "D5\t&0.14\t&0.14\t&0.69\t&0.31\t&0.31\t&0.0\t&0.31\t&0.43\t&0.31\t&0.69\t&0.25\n",
            "D6\t&0.69\t&0.69\t&0.68\t&0.0\t&0.0\t&0.31\t&0.0\t&0.27\t&0.0\t&0.69\t&0.69\n",
            "D7\t&0.69\t&0.69\t&0.68\t&0.27\t&0.27\t&0.43\t&0.27\t&0.0\t&0.27\t&0.69\t&0.69\n",
            "D8\t&0.69\t&0.69\t&0.68\t&0.0\t&0.0\t&0.31\t&0.0\t&0.27\t&0.0\t&0.69\t&0.69\n",
            "D9\t&0.69\t&0.69\t&0.0\t&0.69\t&0.69\t&0.69\t&0.69\t&0.69\t&0.69\t&0.0\t&0.29\n",
            "D10\t&0.15\t&0.15\t&0.29\t&0.69\t&0.69\t&0.25\t&0.69\t&0.69\t&0.69\t&0.29\t&0.0\n"
          ],
          "name": "stdout"
        }
      ]
    },
    {
      "cell_type": "markdown",
      "metadata": {
        "id": "rTZRQlqgObQf"
      },
      "source": [
        "### 3.1.3 Hellinger (He) distance"
      ]
    },
    {
      "cell_type": "code",
      "metadata": {
        "colab": {
          "base_uri": "https://localhost:8080/"
        },
        "id": "KOsRoIzEOenk",
        "outputId": "d0910bcd-1607-44f1-c3b0-e903e2422d5d"
      },
      "source": [
        "import numpy as np\n",
        "from scipy.linalg import norm\n",
        "\n",
        "def hellinger_distance(p, q):\n",
        "    return norm(np.sqrt(p) - np.sqrt(q)) / np.sqrt(2)\n",
        "\n",
        "compare(hellinger_distance)"
      ],
      "execution_count": 93,
      "outputs": [
        {
          "output_type": "stream",
          "text": [
            "\tD0\tD1\tD2\tD3\tD4\tD5\tD6\tD7\tD8\tD9\tD10\n",
            "D0\t&0.0\t&0.0\t&0.99\t&0.99\t&0.99\t&0.43\t&0.99\t&0.99\t&0.99\t&0.99\t&0.46\n",
            "D1\t&0.0\t&0.0\t&0.99\t&0.99\t&0.99\t&0.43\t&0.99\t&0.99\t&0.99\t&0.99\t&0.45\n",
            "D2\t&0.99\t&0.99\t&0.0\t&0.97\t&0.97\t&0.98\t&0.97\t&0.97\t&0.97\t&0.02\t&0.62\n",
            "D3\t&0.99\t&0.99\t&0.97\t&0.0\t&0.01\t&0.64\t&0.0\t&0.59\t&0.0\t&0.99\t&0.98\n",
            "D4\t&0.99\t&0.99\t&0.97\t&0.01\t&0.0\t&0.64\t&0.0\t&0.6\t&0.0\t&0.99\t&0.99\n",
            "D5\t&0.43\t&0.43\t&0.98\t&0.64\t&0.64\t&0.0\t&0.64\t&0.78\t&0.64\t&0.99\t&0.59\n",
            "D6\t&0.99\t&0.99\t&0.97\t&0.0\t&0.0\t&0.64\t&0.0\t&0.6\t&0.0\t&0.99\t&0.99\n",
            "D7\t&0.99\t&0.99\t&0.97\t&0.59\t&0.6\t&0.78\t&0.6\t&0.0\t&0.6\t&0.98\t&0.98\n",
            "D8\t&0.99\t&0.99\t&0.97\t&0.0\t&0.0\t&0.64\t&0.0\t&0.6\t&0.0\t&0.99\t&0.99\n",
            "D9\t&0.99\t&0.99\t&0.02\t&0.99\t&0.99\t&0.99\t&0.99\t&0.98\t&0.99\t&0.0\t&0.61\n",
            "D10\t&0.46\t&0.45\t&0.62\t&0.98\t&0.99\t&0.59\t&0.99\t&0.98\t&0.99\t&0.61\t&0.0\n"
          ],
          "name": "stdout"
        }
      ]
    },
    {
      "cell_type": "markdown",
      "metadata": {
        "id": "hbjnfyqWlKed"
      },
      "source": [
        "### 3.1.4 S2JSD distance"
      ]
    },
    {
      "cell_type": "code",
      "metadata": {
        "colab": {
          "base_uri": "https://localhost:8080/"
        },
        "id": "YJjYx-sjlH2U",
        "outputId": "640f9ddb-012d-4e69-8b18-fdbe2e6c9d64"
      },
      "source": [
        "def s2jsd_distance(p,q):\n",
        "  return np.sqrt(2*js_divergence(p,q))\n",
        "\n",
        "compare(s2jsd_distance)"
      ],
      "execution_count": 97,
      "outputs": [
        {
          "output_type": "stream",
          "text": [
            "\tD0\tD1\tD2\tD3\tD4\tD5\tD6\tD7\tD8\tD9\tD10\n",
            "&0.0&0.0&1.18&1.18&1.18&0.52&1.18&1.18&1.18&1.18&0.55\n",
            "&0.0&0.0&1.18&1.18&1.18&0.52&1.18&1.18&1.18&1.18&0.55\n",
            "&1.18&1.18&0.0&1.17&1.17&1.17&1.17&1.17&1.17&0.03&0.76\n",
            "&1.18&1.18&1.17&0.0&0.01&0.79&0.01&0.73&0.01&1.18&1.18\n",
            "&1.18&1.18&1.17&0.01&0.0&0.79&0.0&0.73&0.0&1.18&1.18\n",
            "&0.52&0.52&1.17&0.79&0.79&0.0&0.79&0.93&0.79&1.18&0.71\n",
            "&1.18&1.18&1.17&0.01&0.0&0.79&0.0&0.73&0.0&1.18&1.18\n",
            "&1.18&1.18&1.17&0.73&0.73&0.93&0.73&0.0&0.73&1.18&1.17\n",
            "&1.18&1.18&1.17&0.01&0.0&0.79&0.0&0.73&0.0&1.18&1.18\n",
            "&1.18&1.18&0.03&1.18&1.18&1.18&1.18&1.18&1.18&0.0&0.76\n",
            "&0.55&0.55&0.76&1.18&1.18&0.71&1.18&1.17&1.18&0.76&0.0\n"
          ],
          "name": "stdout"
        }
      ]
    },
    {
      "cell_type": "markdown",
      "metadata": {
        "id": "bIPr9j43m2Pw"
      },
      "source": [
        "# References\n",
        "\n",
        "* Manning, C. D., Raghavan, P., and Schutze, H. (2008). Introduction to Information Retrieval. Cambridge University Press.\n",
        "* Porter, M. F. (1997). An Algorithm for Suffix Stripping, page 313–316. Morgan Kauf- mann Publishers Inc.\n",
        "* Harmon, D. K. (1996). Overview of the Third Text Retrieval Conference (TREC-3). DIANE Publishing Company.\n",
        "* Salton, G. and McGill, M. J. (1983). Introduction to Modern Information Retrieval. McGraw-Hill, Inc\n",
        "* Hearst, M. a. and Hall, S. (1999). Untangling Text Data Mining. In the 37th Annual Meeting of the Association for Computational Linguistics, pages 1–13\n",
        "* Lee, J. H. (1995). Combining multiple evidence from different properties of weighting schemes. In Proceedings of the 18th Annual International ACM SIGIR Conference on Research and Development in Information Retrieval, SIGIR ’95, page 180–188. Association for Computing Machinery.\n",
        "* Mikolov, T., Sutskever, I., Chen, K., Corrado, G., and Dean, J. (2013). Distributed Representations of Words and Phrases and their Compositionality. Proceedings of the 26th International Conference on Neural Information Processing Systems, 2:3111– 3119.\n",
        "* Pennington, J., Socher, R., and Manning, C. (2014). GloVe: Global vectors for word representation. In Proceedings of the 2014 Conference on Empirical Methods in Natu- ral Language Processing (EMNLP), pages 1532–1543. Association for Computational Linguistics.\n",
        "* Dieng, A. B., Ruiz, F., and Blei, D. (2020). Topic modeling in embedding spaces. Transactions of the Association for Computational Linguistics, 8:439–453\n",
        "* Blei, D., Ng, A., and Jordan, M. (2003). Latent Dirichlet Allocation. Journal of Machine Learning Research, 3(4-5):993–1022\n",
        "* Deerwester, S., Dumais, S. T., Furnas, G. W., Landauer, T. K., and Harshman, R. (1990). Indexing by Latent Semantic Analysis. Journal of the American Society for Information Science, 41(6):391–407.\n",
        "* Hofmann, T. (2001). Unsupervised Learning by Probabilistic Latent Semantic Analysis. Machine Learning, 42(1-2):177–196.\n",
        "* Gatti, C., Brooks, J., and Nurre, S. (2015). A Historical Analysis of the Field of OR/MS using Topic Models. CoRR, abs/1510.0.\n",
        "* Hsin-Min, L., Chih-Ping, W., and Fei-Yuan, C. (2016). Modeling healthcare data using multiple-channel latent Dirichlet allocation. Journal of Biomedical Informatics, 60:210–223.\n",
        "* Nzali, T., Donald, M., Bringay, S., Lavergne, C., Mollevi, C., and Opitz, T. (2017). What Patients Can Tell Us: Topic Analysis for Social Media on Breast Cancer. JMIR medical informatics, 5(3):e23.\n",
        "* Greene, D. and Cross, J. (2016). Exploring the political agenda of the european par- liament using a dynamic topic modeling approach. Political Analysis, 25(1):77–94.\n",
        "* O’Neill, J., Robin, C., O’Brien, L., and Buitelaar, P. (2017). An analysis of topic modelling for legislative texts. CEUR Workshop Proceedings, 2143.\n",
        "* He, J., Li, L., and Wu, X. (2017). A self-adaptive sliding window based topic model for non-uniform texts. In Proceedings - IEEE International Conference on Data Mining, ICDM, volume 2017-Novem, pages 147–156.\n",
        "* Cheng, X., Yan, X., Lan, Y., and Guo, J. (2014). BTM : Topic Modeling over Short Texts. IEEE Transactions on Knowledge and Data Engineering, 26(12):2928–2941. \n",
        "\n",
        "\n",
        "\n"
      ]
    }
  ]
}