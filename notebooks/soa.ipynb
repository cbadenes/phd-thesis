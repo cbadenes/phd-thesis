{
  "nbformat": 4,
  "nbformat_minor": 0,
  "metadata": {
    "colab": {
      "name": "soa.ipynb",
      "provenance": [],
      "collapsed_sections": [],
      "authorship_tag": "ABX9TyNEA2qJgLu689LI+FkzDCab",
      "include_colab_link": true
    },
    "kernelspec": {
      "name": "python3",
      "display_name": "Python 3"
    }
  },
  "cells": [
    {
      "cell_type": "markdown",
      "metadata": {
        "id": "view-in-github",
        "colab_type": "text"
      },
      "source": [
        "<a href=\"https://colab.research.google.com/github/cbadenes/phd-thesis/blob/master/notebooks/soa.ipynb\" target=\"_parent\"><img src=\"https://colab.research.google.com/assets/colab-badge.svg\" alt=\"Open In Colab\"/></a>"
      ]
    },
    {
      "cell_type": "markdown",
      "metadata": {
        "id": "7oKXrGgKqX7u"
      },
      "source": [
        "This notebook supports the state-of-the-art content of the thesis: *Semantically-enabled Browsing of Large Multilingual Document Collections, Badenes-Olmedo, C. 2021*"
      ]
    },
    {
      "cell_type": "markdown",
      "metadata": {
        "id": "JXRIfz2kq9ee"
      },
      "source": [
        "# 2.- Techniques for Document Retrieval"
      ]
    },
    {
      "cell_type": "markdown",
      "metadata": {
        "id": "PvHN9zQapir8"
      },
      "source": [
        "The analysis of human-readable documents is a well-known problem in Artificial Intelligence (AI) in general, and in the Information Retrieval (IR) and Natural Language Processing (NLP) fields in particular. As an academic field of study, information retrieval might be defined as finding documents of an unstructured nature, usually text, that satisfies an information need from within large collections (Manning et al., 2008). As defined in this way, hundreds of millions of people engage in information retrieval every day when they use a web search engine or search their email. Information retrieval is fast becoming the dominant form of information access, surpassing traditional database searching where identifiers are needed to have results."
      ]
    },
    {
      "cell_type": "markdown",
      "metadata": {
        "id": "YsFdYC8fo2Nl"
      },
      "source": [
        "There are two major categories of IR technology and research: semantic and statistical. Semantic approaches attempt to implement some degree of syntactic and semantic analysis. They try to reproduce to some degree the understanding of the natural language text that a human user would provide. In statistical approaches, the documents that are retrieved or that are highly ranked are those that match the query most closely in terms of some statistical measure. The work presented in this thesis follows this second approach."
      ]
    },
    {
      "cell_type": "markdown",
      "metadata": {
        "id": "Kw0G4p1geCAx"
      },
      "source": [
        "## 2.1.- Load Corpus"
      ]
    },
    {
      "cell_type": "markdown",
      "metadata": {
        "id": "jQhyR8L0rGQX"
      },
      "source": [
        "An illustrative example may help to better understand IR techniques, so the publications listed in Section 1.1 are used as a sample collection for applying each of them."
      ]
    },
    {
      "cell_type": "code",
      "metadata": {
        "colab": {
          "base_uri": "https://localhost:8080/",
          "height": 585
        },
        "id": "V0ngppsheGCe",
        "outputId": "368d711d-9b77-4fc5-9d1e-fa8646213dcb"
      },
      "source": [
        "import requests\n",
        "import json\n",
        "import pandas as pd\n",
        "\n",
        "#increase the max column length\n",
        "pd.set_option('display.max_colwidth', 200)\n",
        "\n",
        "corpus_df = pd.read_csv('https://www.dropbox.com/s/pag5jseq2e9wcvb/corpus.csv?raw=1',usecols=['title','text'])\n",
        "corpus_df"
      ],
      "execution_count": 1,
      "outputs": [
        {
          "output_type": "execute_result",
          "data": {
            "text/html": [
              "<div>\n",
              "<style scoped>\n",
              "    .dataframe tbody tr th:only-of-type {\n",
              "        vertical-align: middle;\n",
              "    }\n",
              "\n",
              "    .dataframe tbody tr th {\n",
              "        vertical-align: top;\n",
              "    }\n",
              "\n",
              "    .dataframe thead th {\n",
              "        text-align: right;\n",
              "    }\n",
              "</style>\n",
              "<table border=\"1\" class=\"dataframe\">\n",
              "  <thead>\n",
              "    <tr style=\"text-align: right;\">\n",
              "      <th></th>\n",
              "      <th>title</th>\n",
              "      <th>text</th>\n",
              "    </tr>\n",
              "  </thead>\n",
              "  <tbody>\n",
              "    <tr>\n",
              "      <th>0</th>\n",
              "      <td>Cross-Evaluation of Term Extraction Tools by Measuring Terminological Saturation</td>\n",
              "      <td>Synopsis of the Refinements and Extensions  Compared to the Publication in the Conference Proceedings  This submission is a refined and extended paper based on the ICTERI 2017 PhD  Symposium paper...</td>\n",
              "    </tr>\n",
              "    <tr>\n",
              "      <th>1</th>\n",
              "      <td>Enhancing Public Procurement in the European Union through Constructing and Exploiting an Integrated Knowledge Graph</td>\n",
              "      <td>Enhancing Public Procurement in the European Union through Constructing and Exploiting an Integrated Knowledge Graph Ahmet Soylu1, Oscar Corcho2, Brian Elvesæter1, Carlos Badenes-Olmedo2, Francisc...</td>\n",
              "    </tr>\n",
              "    <tr>\n",
              "      <th>2</th>\n",
              "      <td>Drugs4Covid: Making drug information available from scientific publications</td>\n",
              "      <td>Drugs4Covid: Making drug information available from scientific publications Carlos Badenes-Olmedo1, David Chaves-Fraga1, Mar´ıa Poveda-Villal´on1, Ana Iglesias-Molina1, Pablo Calleja1, Socorro Ber...</td>\n",
              "    </tr>\n",
              "    <tr>\n",
              "      <th>3</th>\n",
              "      <td>Distributing Text Mining tasks with librAIry</td>\n",
              "      <td>Distributing Text Mining tasks with librAIry Carlos Badenes-Olmedo cbadenes@f.upm.es Universidad Polit´ecnica de Madrid Ontology Engineering Group Boadilla del Monte, Spain Jos´e Luis Redondo-Garc...</td>\n",
              "    </tr>\n",
              "    <tr>\n",
              "      <th>4</th>\n",
              "      <td>Large-Scale Semantic Exploration of Scientific Literature using Topic-based Hashing Algorithms</td>\n",
              "      <td>Semantic Web 0 (0) 1 1 IOS Press Large-Scale Semantic Exploration of Scientific Literature using Topic-based Hashing Algorithms Editor(s): Tomi Kauppinen, Aalto University, Finland; Daniel Garijo,...</td>\n",
              "    </tr>\n",
              "    <tr>\n",
              "      <th>5</th>\n",
              "      <td>An initial Analysis of Topic-based Similarity among Scientific Documents based on their Rhetorical Discourse Parts</td>\n",
              "      <td>An initial Analysis of Topic-based Similarity among Scientific Documents based on their Rhetorical Discourse Parts Carlos Badenes-Olmedo1, Jos´e Luis Redondo-Garc´ıa2, and Oscar Corcho1 1 Universi...</td>\n",
              "    </tr>\n",
              "    <tr>\n",
              "      <th>6</th>\n",
              "      <td>Efficient Clustering from Distributions over Topics</td>\n",
              "      <td>Efficient Clustering from Distributions over Topics Carlos Badenes-Olmedo cbadenes@￿.upm.es Ontology Engineering Group Universidad Polit´ecnica de Madrid Boadilla del Monte, Spain Jos´e Luis Redon...</td>\n",
              "    </tr>\n",
              "    <tr>\n",
              "      <th>7</th>\n",
              "      <td>Legal Documents Retrieval Across Languages: Topic Hierarchies based on synsets</td>\n",
              "      <td>Cross-lingual annotations of legislative texts enable us to explore major themes covered in multi- lingual legal data and are a key facilitator of semantic similarity when searching for similar do...</td>\n",
              "    </tr>\n",
              "    <tr>\n",
              "      <th>8</th>\n",
              "      <td>Scalable Cross-lingual Document Similarity through Language-specific Concept Hierarchies</td>\n",
              "      <td>Scalable Cross-lingual Document Similarity through Language-specific Concept Hierarchies Carlos Badenes-Olmedo cbadenes@fi.upm.es Ontology Engineering Group, Universidad Politécnica de Madrid Boad...</td>\n",
              "    </tr>\n",
              "    <tr>\n",
              "      <th>9</th>\n",
              "      <td>Potentially inappropriate medications in older adults living with HIV</td>\n",
              "      <td>Potentially inappropriate medications in older adults living with HIV B L�opez-Centeno,1,* C Badenes-Olmedo,2 A Mataix-Sanjuan,1 JM Bell�on,3 L P�erez-Latorre,3 JC L�opez,3 J Bened�ı,4,* S Khoo,5 ...</td>\n",
              "    </tr>\n",
              "    <tr>\n",
              "      <th>10</th>\n",
              "      <td>Semantic Saturation in Retrospective Text Document  Collections</td>\n",
              "      <td>Semantic Saturation in Retrospective Text Document  Collections      Victoria Kosa​1​, Eugene Yuschenko​2​, Carlos Badenes​3​, Vadim Ermolayev​1​,   and Aliaksandr Birukou​4    1​ Department of Co...</td>\n",
              "    </tr>\n",
              "  </tbody>\n",
              "</table>\n",
              "</div>"
            ],
            "text/plain": [
              "                                                                                                                   title                                                                                                                                                                                                     text\n",
              "0                                       Cross-Evaluation of Term Extraction Tools by Measuring Terminological Saturation  Synopsis of the Refinements and Extensions  Compared to the Publication in the Conference Proceedings  This submission is a refined and extended paper based on the ICTERI 2017 PhD  Symposium paper...\n",
              "1   Enhancing Public Procurement in the European Union through Constructing and Exploiting an Integrated Knowledge Graph  Enhancing Public Procurement in the European Union through Constructing and Exploiting an Integrated Knowledge Graph Ahmet Soylu1, Oscar Corcho2, Brian Elvesæter1, Carlos Badenes-Olmedo2, Francisc...\n",
              "2                                            Drugs4Covid: Making drug information available from scientific publications  Drugs4Covid: Making drug information available from scientific publications Carlos Badenes-Olmedo1, David Chaves-Fraga1, Mar´ıa Poveda-Villal´on1, Ana Iglesias-Molina1, Pablo Calleja1, Socorro Ber...\n",
              "3                                                                           Distributing Text Mining tasks with librAIry  Distributing Text Mining tasks with librAIry Carlos Badenes-Olmedo cbadenes@f.upm.es Universidad Polit´ecnica de Madrid Ontology Engineering Group Boadilla del Monte, Spain Jos´e Luis Redondo-Garc...\n",
              "4                         Large-Scale Semantic Exploration of Scientific Literature using Topic-based Hashing Algorithms  Semantic Web 0 (0) 1 1 IOS Press Large-Scale Semantic Exploration of Scientific Literature using Topic-based Hashing Algorithms Editor(s): Tomi Kauppinen, Aalto University, Finland; Daniel Garijo,...\n",
              "5     An initial Analysis of Topic-based Similarity among Scientific Documents based on their Rhetorical Discourse Parts  An initial Analysis of Topic-based Similarity among Scientific Documents based on their Rhetorical Discourse Parts Carlos Badenes-Olmedo1, Jos´e Luis Redondo-Garc´ıa2, and Oscar Corcho1 1 Universi...\n",
              "6                                                                    Efficient Clustering from Distributions over Topics  Efficient Clustering from Distributions over Topics Carlos Badenes-Olmedo cbadenes@￿.upm.es Ontology Engineering Group Universidad Polit´ecnica de Madrid Boadilla del Monte, Spain Jos´e Luis Redon...\n",
              "7                                         Legal Documents Retrieval Across Languages: Topic Hierarchies based on synsets  Cross-lingual annotations of legislative texts enable us to explore major themes covered in multi- lingual legal data and are a key facilitator of semantic similarity when searching for similar do...\n",
              "8                               Scalable Cross-lingual Document Similarity through Language-specific Concept Hierarchies  Scalable Cross-lingual Document Similarity through Language-specific Concept Hierarchies Carlos Badenes-Olmedo cbadenes@fi.upm.es Ontology Engineering Group, Universidad Politécnica de Madrid Boad...\n",
              "9                                                  Potentially inappropriate medications in older adults living with HIV  Potentially inappropriate medications in older adults living with HIV B L�opez-Centeno,1,* C Badenes-Olmedo,2 A Mataix-Sanjuan,1 JM Bell�on,3 L P�erez-Latorre,3 JC L�opez,3 J Bened�ı,4,* S Khoo,5 ...\n",
              "10                                                       Semantic Saturation in Retrospective Text Document  Collections  Semantic Saturation in Retrospective Text Document  Collections      Victoria Kosa​1​, Eugene Yuschenko​2​, Carlos Badenes​3​, Vadim Ermolayev​1​,   and Aliaksandr Birukou​4    1​ Department of Co..."
            ]
          },
          "metadata": {
            "tags": []
          },
          "execution_count": 1
        }
      ]
    },
    {
      "cell_type": "markdown",
      "metadata": {
        "id": "epKk9U8-hFBV"
      },
      "source": [
        "## 2.2. Text Pre-Processing"
      ]
    },
    {
      "cell_type": "markdown",
      "metadata": {
        "id": "0V9JzJsJsIWf"
      },
      "source": [
        "Documents must be pre-processed to transform their texts into terms. These terms are the population that is counted and measured statistically. Most commonly, the terms are words (or combination of adjacent words or characters) that occur in a given query or collection of documents and often require pre-processing. "
      ]
    },
    {
      "cell_type": "markdown",
      "metadata": {
        "id": "Yd1VTpW4iru1"
      },
      "source": [
        "### 2.2.1: Methods to transform texts into terms"
      ]
    },
    {
      "cell_type": "markdown",
      "metadata": {
        "id": "z_nSrGfgsnod"
      },
      "source": [
        "Words are reduced to a common base form by using a heuristic process that removes affixes, stemming, or by returning its dictionary form, lemma (Porter, 1997). The objective is to eliminate the variation that arises from the occurrence of different grammatical forms of the same word, e.g., ”program”, ”programming”, ”programs”, and ”programmed” should all be recognized as forms of the same word, ”program”."
      ]
    },
    {
      "cell_type": "markdown",
      "metadata": {
        "id": "elq65_4Qsvjd"
      },
      "source": [
        "Another common form of pre-processing is the elimination of common words that have little power to discriminate relevant from non-relevant documents,e.g., ”the”, ”a”, ”it”. Hence, IR engines are usually provided with a stop-list of such noise words. Note that both stemming/lemma and stopwords are language-dependent."
      ]
    },
    {
      "cell_type": "code",
      "metadata": {
        "colab": {
          "base_uri": "https://localhost:8080/"
        },
        "id": "EWhN4MhStpvQ",
        "outputId": "a6de5da7-aaf3-40a8-a5c5-e85a0fb49aa3"
      },
      "source": [
        "import spacy\n",
        "from spacy.tokenizer import Tokenizer\n",
        "from spacy.lang.en import English\n",
        "\n",
        "nlp = spacy.load(\"en_core_web_sm\")\n",
        "\n",
        "def tokenize(text):\n",
        "  tokens = nlp(text)\n",
        "  return tokens\n",
        "\n",
        "def is_valid(token):\n",
        "  return len(token.text) > 1 and not token.is_stop\n",
        "\n",
        "def lemma(token):\n",
        "  return token.lemma_\n",
        "\n",
        "def preprocess(text):\n",
        "  tokens = []\n",
        "  for token in tokenize(text):\n",
        "    if is_valid(token): \n",
        "      tokens.append(lemma(token))\n",
        "  return tokens\n",
        "\n",
        "print(\"methods created succesfully\")"
      ],
      "execution_count": 12,
      "outputs": [
        {
          "output_type": "stream",
          "text": [
            "methods created succesfully\n"
          ],
          "name": "stdout"
        }
      ]
    },
    {
      "cell_type": "markdown",
      "metadata": {
        "id": "CcBhQ2lRUf6g"
      },
      "source": [
        "The following sentence taken from one of the documents can be used to see each of the steps: *”Probabilistic Topic Models reduce that feature space by annotating documents with thematic information”*."
      ]
    },
    {
      "cell_type": "code",
      "metadata": {
        "colab": {
          "base_uri": "https://localhost:8080/"
        },
        "id": "4SKih16gUj5w",
        "outputId": "33f46c66-59d3-495a-b6cb-bdd0732c70a4"
      },
      "source": [
        "tokens = preprocess(\"Probabilistic Topic Models reduce that feature space by annotating documents with thematic information\")\n",
        "print(tokens)"
      ],
      "execution_count": 13,
      "outputs": [
        {
          "output_type": "stream",
          "text": [
            "['Probabilistic', 'Topic', 'Models', 'reduce', 'feature', 'space', 'annotate', 'document', 'thematic', 'information']\n"
          ],
          "name": "stdout"
        }
      ]
    },
    {
      "cell_type": "markdown",
      "metadata": {
        "id": "ngevbE-2U2Gy"
      },
      "source": [
        "At this step ’annotating’ was transformed to ’annotate’ and ’documents’ was reduced to ’document’. However, ’Models’ remains unchanged. The reason is that since it starts with a capital letter, it is considered a proper noun. Finally, those words that appear in a stop-word list are removed (e.g. ’that’, ’by’ and ’with’). Each text is transformed into a normalized list of terms."
      ]
    },
    {
      "cell_type": "markdown",
      "metadata": {
        "id": "y562UNjCkYG9"
      },
      "source": [
        "### 2.2.2. Count words"
      ]
    },
    {
      "cell_type": "code",
      "metadata": {
        "colab": {
          "base_uri": "https://localhost:8080/",
          "height": 585
        },
        "id": "GhLgTKXSkak7",
        "outputId": "8a9424ea-a138-44a4-dccb-5cd478c0cd43"
      },
      "source": [
        "def count_words(text):\n",
        "  return len(text.split(\" \"))\n",
        "\n",
        "corpus_df['#words'] = corpus_df['text'].apply(count_words)\n",
        "corpus_df"
      ],
      "execution_count": 3,
      "outputs": [
        {
          "output_type": "execute_result",
          "data": {
            "text/html": [
              "<div>\n",
              "<style scoped>\n",
              "    .dataframe tbody tr th:only-of-type {\n",
              "        vertical-align: middle;\n",
              "    }\n",
              "\n",
              "    .dataframe tbody tr th {\n",
              "        vertical-align: top;\n",
              "    }\n",
              "\n",
              "    .dataframe thead th {\n",
              "        text-align: right;\n",
              "    }\n",
              "</style>\n",
              "<table border=\"1\" class=\"dataframe\">\n",
              "  <thead>\n",
              "    <tr style=\"text-align: right;\">\n",
              "      <th></th>\n",
              "      <th>title</th>\n",
              "      <th>text</th>\n",
              "      <th>#words</th>\n",
              "    </tr>\n",
              "  </thead>\n",
              "  <tbody>\n",
              "    <tr>\n",
              "      <th>0</th>\n",
              "      <td>Cross-Evaluation of Term Extraction Tools by Measuring Terminological Saturation</td>\n",
              "      <td>Synopsis of the Refinements and Extensions  Compared to the Publication in the Conference Proceedings  This submission is a refined and extended paper based on the ICTERI 2017 PhD  Symposium paper...</td>\n",
              "      <td>12954</td>\n",
              "    </tr>\n",
              "    <tr>\n",
              "      <th>1</th>\n",
              "      <td>Enhancing Public Procurement in the European Union through Constructing and Exploiting an Integrated Knowledge Graph</td>\n",
              "      <td>Enhancing Public Procurement in the European Union through Constructing and Exploiting an Integrated Knowledge Graph Ahmet Soylu1, Oscar Corcho2, Brian Elvesæter1, Carlos Badenes-Olmedo2, Francisc...</td>\n",
              "      <td>5827</td>\n",
              "    </tr>\n",
              "    <tr>\n",
              "      <th>2</th>\n",
              "      <td>Drugs4Covid: Making drug information available from scientific publications</td>\n",
              "      <td>Drugs4Covid: Making drug information available from scientific publications Carlos Badenes-Olmedo1, David Chaves-Fraga1, Mar´ıa Poveda-Villal´on1, Ana Iglesias-Molina1, Pablo Calleja1, Socorro Ber...</td>\n",
              "      <td>5417</td>\n",
              "    </tr>\n",
              "    <tr>\n",
              "      <th>3</th>\n",
              "      <td>Distributing Text Mining tasks with librAIry</td>\n",
              "      <td>Distributing Text Mining tasks with librAIry Carlos Badenes-Olmedo cbadenes@f.upm.es Universidad Polit´ecnica de Madrid Ontology Engineering Group Boadilla del Monte, Spain Jos´e Luis Redondo-Garc...</td>\n",
              "      <td>2448</td>\n",
              "    </tr>\n",
              "    <tr>\n",
              "      <th>4</th>\n",
              "      <td>Large-Scale Semantic Exploration of Scientific Literature using Topic-based Hashing Algorithms</td>\n",
              "      <td>Semantic Web 0 (0) 1 1 IOS Press Large-Scale Semantic Exploration of Scientific Literature using Topic-based Hashing Algorithms Editor(s): Tomi Kauppinen, Aalto University, Finland; Daniel Garijo,...</td>\n",
              "      <td>9041</td>\n",
              "    </tr>\n",
              "    <tr>\n",
              "      <th>5</th>\n",
              "      <td>An initial Analysis of Topic-based Similarity among Scientific Documents based on their Rhetorical Discourse Parts</td>\n",
              "      <td>An initial Analysis of Topic-based Similarity among Scientific Documents based on their Rhetorical Discourse Parts Carlos Badenes-Olmedo1, Jos´e Luis Redondo-Garc´ıa2, and Oscar Corcho1 1 Universi...</td>\n",
              "      <td>2641</td>\n",
              "    </tr>\n",
              "    <tr>\n",
              "      <th>6</th>\n",
              "      <td>Efficient Clustering from Distributions over Topics</td>\n",
              "      <td>Efficient Clustering from Distributions over Topics Carlos Badenes-Olmedo cbadenes@￿.upm.es Ontology Engineering Group Universidad Polit´ecnica de Madrid Boadilla del Monte, Spain Jos´e Luis Redon...</td>\n",
              "      <td>5346</td>\n",
              "    </tr>\n",
              "    <tr>\n",
              "      <th>7</th>\n",
              "      <td>Legal Documents Retrieval Across Languages: Topic Hierarchies based on synsets</td>\n",
              "      <td>Cross-lingual annotations of legislative texts enable us to explore major themes covered in multi- lingual legal data and are a key facilitator of semantic similarity when searching for similar do...</td>\n",
              "      <td>1445</td>\n",
              "    </tr>\n",
              "    <tr>\n",
              "      <th>8</th>\n",
              "      <td>Scalable Cross-lingual Document Similarity through Language-specific Concept Hierarchies</td>\n",
              "      <td>Scalable Cross-lingual Document Similarity through Language-specific Concept Hierarchies Carlos Badenes-Olmedo cbadenes@fi.upm.es Ontology Engineering Group, Universidad Politécnica de Madrid Boad...</td>\n",
              "      <td>4602</td>\n",
              "    </tr>\n",
              "    <tr>\n",
              "      <th>9</th>\n",
              "      <td>Potentially inappropriate medications in older adults living with HIV</td>\n",
              "      <td>Potentially inappropriate medications in older adults living with HIV B L�opez-Centeno,1,* C Badenes-Olmedo,2 A Mataix-Sanjuan,1 JM Bell�on,3 L P�erez-Latorre,3 JC L�opez,3 J Bened�ı,4,* S Khoo,5 ...</td>\n",
              "      <td>3087</td>\n",
              "    </tr>\n",
              "    <tr>\n",
              "      <th>10</th>\n",
              "      <td>Semantic Saturation in Retrospective Text Document  Collections</td>\n",
              "      <td>Semantic Saturation in Retrospective Text Document  Collections      Victoria Kosa​1​, Eugene Yuschenko​2​, Carlos Badenes​3​, Vadim Ermolayev​1​,   and Aliaksandr Birukou​4    1​ Department of Co...</td>\n",
              "      <td>7700</td>\n",
              "    </tr>\n",
              "  </tbody>\n",
              "</table>\n",
              "</div>"
            ],
            "text/plain": [
              "                                                                                                                   title  ... #words\n",
              "0                                       Cross-Evaluation of Term Extraction Tools by Measuring Terminological Saturation  ...  12954\n",
              "1   Enhancing Public Procurement in the European Union through Constructing and Exploiting an Integrated Knowledge Graph  ...   5827\n",
              "2                                            Drugs4Covid: Making drug information available from scientific publications  ...   5417\n",
              "3                                                                           Distributing Text Mining tasks with librAIry  ...   2448\n",
              "4                         Large-Scale Semantic Exploration of Scientific Literature using Topic-based Hashing Algorithms  ...   9041\n",
              "5     An initial Analysis of Topic-based Similarity among Scientific Documents based on their Rhetorical Discourse Parts  ...   2641\n",
              "6                                                                    Efficient Clustering from Distributions over Topics  ...   5346\n",
              "7                                         Legal Documents Retrieval Across Languages: Topic Hierarchies based on synsets  ...   1445\n",
              "8                               Scalable Cross-lingual Document Similarity through Language-specific Concept Hierarchies  ...   4602\n",
              "9                                                  Potentially inappropriate medications in older adults living with HIV  ...   3087\n",
              "10                                                       Semantic Saturation in Retrospective Text Document  Collections  ...   7700\n",
              "\n",
              "[11 rows x 3 columns]"
            ]
          },
          "metadata": {
            "tags": []
          },
          "execution_count": 3
        }
      ]
    },
    {
      "cell_type": "markdown",
      "metadata": {
        "id": "RDhLJ7_QivyH"
      },
      "source": [
        "### 2.2.3. Tokenize Corpus"
      ]
    },
    {
      "cell_type": "code",
      "metadata": {
        "colab": {
          "base_uri": "https://localhost:8080/",
          "height": 794
        },
        "id": "YrnhZZipjBjc",
        "outputId": "3787c8d9-335a-45ed-874f-52e8a9fe516f"
      },
      "source": [
        "corpus_df['tokens'] = corpus_df['text'].apply(preprocess)\n",
        "\n",
        "corpus_df"
      ],
      "execution_count": 4,
      "outputs": [
        {
          "output_type": "execute_result",
          "data": {
            "text/html": [
              "<div>\n",
              "<style scoped>\n",
              "    .dataframe tbody tr th:only-of-type {\n",
              "        vertical-align: middle;\n",
              "    }\n",
              "\n",
              "    .dataframe tbody tr th {\n",
              "        vertical-align: top;\n",
              "    }\n",
              "\n",
              "    .dataframe thead th {\n",
              "        text-align: right;\n",
              "    }\n",
              "</style>\n",
              "<table border=\"1\" class=\"dataframe\">\n",
              "  <thead>\n",
              "    <tr style=\"text-align: right;\">\n",
              "      <th></th>\n",
              "      <th>title</th>\n",
              "      <th>text</th>\n",
              "      <th>#words</th>\n",
              "      <th>tokens</th>\n",
              "    </tr>\n",
              "  </thead>\n",
              "  <tbody>\n",
              "    <tr>\n",
              "      <th>0</th>\n",
              "      <td>Cross-Evaluation of Term Extraction Tools by Measuring Terminological Saturation</td>\n",
              "      <td>Synopsis of the Refinements and Extensions  Compared to the Publication in the Conference Proceedings  This submission is a refined and extended paper based on the ICTERI 2017 PhD  Symposium paper...</td>\n",
              "      <td>12954</td>\n",
              "      <td>[synopsis, Refinements, Extensions, compare, publication, Conference, Proceedings, submission, refined, extended, paper, base, ICTERI, 2017, phd, symposium, paper, Kosa, et, al, fact, submission, ...</td>\n",
              "    </tr>\n",
              "    <tr>\n",
              "      <th>1</th>\n",
              "      <td>Enhancing Public Procurement in the European Union through Constructing and Exploiting an Integrated Knowledge Graph</td>\n",
              "      <td>Enhancing Public Procurement in the European Union through Constructing and Exploiting an Integrated Knowledge Graph Ahmet Soylu1, Oscar Corcho2, Brian Elvesæter1, Carlos Badenes-Olmedo2, Francisc...</td>\n",
              "      <td>5827</td>\n",
              "      <td>[enhance, Public, Procurement, European, Union, Constructing, exploit, Integrated, Knowledge, Graph, Ahmet, Soylu1, Oscar, Corcho2, Brian, Elvesæter1, Carlos, Badenes, Olmedo2, Francisco, Yedro2, ...</td>\n",
              "    </tr>\n",
              "    <tr>\n",
              "      <th>2</th>\n",
              "      <td>Drugs4Covid: Making drug information available from scientific publications</td>\n",
              "      <td>Drugs4Covid: Making drug information available from scientific publications Carlos Badenes-Olmedo1, David Chaves-Fraga1, Mar´ıa Poveda-Villal´on1, Ana Iglesias-Molina1, Pablo Calleja1, Socorro Ber...</td>\n",
              "      <td>5417</td>\n",
              "      <td>[Drugs4Covid, make, drug, information, available, scientific, publication, Carlos, Badenes, Olmedo1, David, Chaves, Fraga1, Mar´ıa, Poveda, Villal´on1, Ana, Iglesias, Molina1, Pablo, Calleja1, Soc...</td>\n",
              "    </tr>\n",
              "    <tr>\n",
              "      <th>3</th>\n",
              "      <td>Distributing Text Mining tasks with librAIry</td>\n",
              "      <td>Distributing Text Mining tasks with librAIry Carlos Badenes-Olmedo cbadenes@f.upm.es Universidad Polit´ecnica de Madrid Ontology Engineering Group Boadilla del Monte, Spain Jos´e Luis Redondo-Garc...</td>\n",
              "      <td>2448</td>\n",
              "      <td>[distribute, text, mining, task, librAIry, Carlos, Badenes, Olmedo, cbadenes@f.upm.es, Universidad, Polit´ecnica, de, Madrid, Ontology, Engineering, Group, Boadilla, del, Monte, Spain, jos´e, Luis...</td>\n",
              "    </tr>\n",
              "    <tr>\n",
              "      <th>4</th>\n",
              "      <td>Large-Scale Semantic Exploration of Scientific Literature using Topic-based Hashing Algorithms</td>\n",
              "      <td>Semantic Web 0 (0) 1 1 IOS Press Large-Scale Semantic Exploration of Scientific Literature using Topic-based Hashing Algorithms Editor(s): Tomi Kauppinen, Aalto University, Finland; Daniel Garijo,...</td>\n",
              "      <td>9041</td>\n",
              "      <td>[semantic, web, IOS, Press, large, scale, semantic, Exploration, Scientific, Literature, Topic, base, Hashing, Algorithms, Editor(s, Tomi, Kauppinen, Aalto, University, Finland, Daniel, Garijo, Un...</td>\n",
              "    </tr>\n",
              "    <tr>\n",
              "      <th>5</th>\n",
              "      <td>An initial Analysis of Topic-based Similarity among Scientific Documents based on their Rhetorical Discourse Parts</td>\n",
              "      <td>An initial Analysis of Topic-based Similarity among Scientific Documents based on their Rhetorical Discourse Parts Carlos Badenes-Olmedo1, Jos´e Luis Redondo-Garc´ıa2, and Oscar Corcho1 1 Universi...</td>\n",
              "      <td>2641</td>\n",
              "      <td>[initial, Analysis, Topic, base, Similarity, scientific, document, base, Rhetorical, Discourse, Parts, Carlos, Badenes, Olmedo1, Jos´e, Luis, Redondo, Garc´ıa2, Oscar, Corcho1, Universidad, Polit´...</td>\n",
              "    </tr>\n",
              "    <tr>\n",
              "      <th>6</th>\n",
              "      <td>Efficient Clustering from Distributions over Topics</td>\n",
              "      <td>Efficient Clustering from Distributions over Topics Carlos Badenes-Olmedo cbadenes@￿.upm.es Ontology Engineering Group Universidad Polit´ecnica de Madrid Boadilla del Monte, Spain Jos´e Luis Redon...</td>\n",
              "      <td>5346</td>\n",
              "      <td>[efficient, clustering, distribution, Topics, Carlos, Badenes, Olmedo, cbadenes@￿.upm.es, Ontology, Engineering, Group, Universidad, Polit´ecnica, de, Madrid, Boadilla, del, Monte, Spain, jos´e, L...</td>\n",
              "    </tr>\n",
              "    <tr>\n",
              "      <th>7</th>\n",
              "      <td>Legal Documents Retrieval Across Languages: Topic Hierarchies based on synsets</td>\n",
              "      <td>Cross-lingual annotations of legislative texts enable us to explore major themes covered in multi- lingual legal data and are a key facilitator of semantic similarity when searching for similar do...</td>\n",
              "      <td>1445</td>\n",
              "      <td>[cross, lingual, annotation, legislative, text, enable, explore, major, theme, cover, multi-, lingual, legal, datum, key, facilitator, semantic, similarity, search, similar, document, multilingual...</td>\n",
              "    </tr>\n",
              "    <tr>\n",
              "      <th>8</th>\n",
              "      <td>Scalable Cross-lingual Document Similarity through Language-specific Concept Hierarchies</td>\n",
              "      <td>Scalable Cross-lingual Document Similarity through Language-specific Concept Hierarchies Carlos Badenes-Olmedo cbadenes@fi.upm.es Ontology Engineering Group, Universidad Politécnica de Madrid Boad...</td>\n",
              "      <td>4602</td>\n",
              "      <td>[Scalable, Cross, lingual, document, Similarity, language, specific, Concept, Hierarchies, Carlos, Badenes, Olmedo, cbadenes@fi.upm.es, Ontology, Engineering, Group, Universidad, Politécnica, de, ...</td>\n",
              "    </tr>\n",
              "    <tr>\n",
              "      <th>9</th>\n",
              "      <td>Potentially inappropriate medications in older adults living with HIV</td>\n",
              "      <td>Potentially inappropriate medications in older adults living with HIV B L�opez-Centeno,1,* C Badenes-Olmedo,2 A Mataix-Sanjuan,1 JM Bell�on,3 L P�erez-Latorre,3 JC L�opez,3 J Bened�ı,4,* S Khoo,5 ...</td>\n",
              "      <td>3087</td>\n",
              "      <td>[potentially, inappropriate, medication, old, adult, live, HIV, opez, Centeno,1, Badenes, Olmedo,2, Mataix, Sanjuan,1, JM, Bell, on,3, erez, Latorre,3, JC, opez,3, Bened, ı,4, khoo,5, Marzolini,6,...</td>\n",
              "    </tr>\n",
              "    <tr>\n",
              "      <th>10</th>\n",
              "      <td>Semantic Saturation in Retrospective Text Document  Collections</td>\n",
              "      <td>Semantic Saturation in Retrospective Text Document  Collections      Victoria Kosa​1​, Eugene Yuschenko​2​, Carlos Badenes​3​, Vadim Ermolayev​1​,   and Aliaksandr Birukou​4    1​ Department of Co...</td>\n",
              "      <td>7700</td>\n",
              "      <td>[semantic, Saturation, Retrospective, Text, document, Collections,      , Victoria, Kosa​1​, Eugene, Yuschenko​2​, Carlos, Badenes​3​, Vadim, Ermolayev​1​,   , Aliaksandr, Birukou​4,    , 1​, Depa...</td>\n",
              "    </tr>\n",
              "  </tbody>\n",
              "</table>\n",
              "</div>"
            ],
            "text/plain": [
              "                                                                                                                   title  ...                                                                                                                                                                                                   tokens\n",
              "0                                       Cross-Evaluation of Term Extraction Tools by Measuring Terminological Saturation  ...  [synopsis, Refinements, Extensions, compare, publication, Conference, Proceedings, submission, refined, extended, paper, base, ICTERI, 2017, phd, symposium, paper, Kosa, et, al, fact, submission, ...\n",
              "1   Enhancing Public Procurement in the European Union through Constructing and Exploiting an Integrated Knowledge Graph  ...  [enhance, Public, Procurement, European, Union, Constructing, exploit, Integrated, Knowledge, Graph, Ahmet, Soylu1, Oscar, Corcho2, Brian, Elvesæter1, Carlos, Badenes, Olmedo2, Francisco, Yedro2, ...\n",
              "2                                            Drugs4Covid: Making drug information available from scientific publications  ...  [Drugs4Covid, make, drug, information, available, scientific, publication, Carlos, Badenes, Olmedo1, David, Chaves, Fraga1, Mar´ıa, Poveda, Villal´on1, Ana, Iglesias, Molina1, Pablo, Calleja1, Soc...\n",
              "3                                                                           Distributing Text Mining tasks with librAIry  ...  [distribute, text, mining, task, librAIry, Carlos, Badenes, Olmedo, cbadenes@f.upm.es, Universidad, Polit´ecnica, de, Madrid, Ontology, Engineering, Group, Boadilla, del, Monte, Spain, jos´e, Luis...\n",
              "4                         Large-Scale Semantic Exploration of Scientific Literature using Topic-based Hashing Algorithms  ...  [semantic, web, IOS, Press, large, scale, semantic, Exploration, Scientific, Literature, Topic, base, Hashing, Algorithms, Editor(s, Tomi, Kauppinen, Aalto, University, Finland, Daniel, Garijo, Un...\n",
              "5     An initial Analysis of Topic-based Similarity among Scientific Documents based on their Rhetorical Discourse Parts  ...  [initial, Analysis, Topic, base, Similarity, scientific, document, base, Rhetorical, Discourse, Parts, Carlos, Badenes, Olmedo1, Jos´e, Luis, Redondo, Garc´ıa2, Oscar, Corcho1, Universidad, Polit´...\n",
              "6                                                                    Efficient Clustering from Distributions over Topics  ...  [efficient, clustering, distribution, Topics, Carlos, Badenes, Olmedo, cbadenes@￿.upm.es, Ontology, Engineering, Group, Universidad, Polit´ecnica, de, Madrid, Boadilla, del, Monte, Spain, jos´e, L...\n",
              "7                                         Legal Documents Retrieval Across Languages: Topic Hierarchies based on synsets  ...  [cross, lingual, annotation, legislative, text, enable, explore, major, theme, cover, multi-, lingual, legal, datum, key, facilitator, semantic, similarity, search, similar, document, multilingual...\n",
              "8                               Scalable Cross-lingual Document Similarity through Language-specific Concept Hierarchies  ...  [Scalable, Cross, lingual, document, Similarity, language, specific, Concept, Hierarchies, Carlos, Badenes, Olmedo, cbadenes@fi.upm.es, Ontology, Engineering, Group, Universidad, Politécnica, de, ...\n",
              "9                                                  Potentially inappropriate medications in older adults living with HIV  ...  [potentially, inappropriate, medication, old, adult, live, HIV, opez, Centeno,1, Badenes, Olmedo,2, Mataix, Sanjuan,1, JM, Bell, on,3, erez, Latorre,3, JC, opez,3, Bened, ı,4, khoo,5, Marzolini,6,...\n",
              "10                                                       Semantic Saturation in Retrospective Text Document  Collections  ...  [semantic, Saturation, Retrospective, Text, document, Collections,      , Victoria, Kosa​1​, Eugene, Yuschenko​2​, Carlos, Badenes​3​, Vadim, Ermolayev​1​,   , Aliaksandr, Birukou​4,    , 1​, Depa...\n",
              "\n",
              "[11 rows x 4 columns]"
            ]
          },
          "metadata": {
            "tags": []
          },
          "execution_count": 4
        }
      ]
    },
    {
      "cell_type": "markdown",
      "metadata": {
        "id": "P4qWo8kujLZo"
      },
      "source": [
        "### 2.2.4. Count tokens"
      ]
    },
    {
      "cell_type": "code",
      "metadata": {
        "colab": {
          "base_uri": "https://localhost:8080/",
          "height": 915
        },
        "id": "yd0QX-rCjOZs",
        "outputId": "7f669e66-4c12-43fd-df7f-a15eb4c4e574"
      },
      "source": [
        "def count_tokens(tokens):\n",
        "  return len(tokens)\n",
        "\n",
        "corpus_df['#tokens'] = corpus_df['tokens'].apply(count_tokens)\n",
        "\n",
        "corpus_df"
      ],
      "execution_count": 5,
      "outputs": [
        {
          "output_type": "execute_result",
          "data": {
            "text/html": [
              "<div>\n",
              "<style scoped>\n",
              "    .dataframe tbody tr th:only-of-type {\n",
              "        vertical-align: middle;\n",
              "    }\n",
              "\n",
              "    .dataframe tbody tr th {\n",
              "        vertical-align: top;\n",
              "    }\n",
              "\n",
              "    .dataframe thead th {\n",
              "        text-align: right;\n",
              "    }\n",
              "</style>\n",
              "<table border=\"1\" class=\"dataframe\">\n",
              "  <thead>\n",
              "    <tr style=\"text-align: right;\">\n",
              "      <th></th>\n",
              "      <th>title</th>\n",
              "      <th>text</th>\n",
              "      <th>#words</th>\n",
              "      <th>tokens</th>\n",
              "      <th>#tokens</th>\n",
              "    </tr>\n",
              "  </thead>\n",
              "  <tbody>\n",
              "    <tr>\n",
              "      <th>0</th>\n",
              "      <td>Cross-Evaluation of Term Extraction Tools by Measuring Terminological Saturation</td>\n",
              "      <td>Synopsis of the Refinements and Extensions  Compared to the Publication in the Conference Proceedings  This submission is a refined and extended paper based on the ICTERI 2017 PhD  Symposium paper...</td>\n",
              "      <td>12954</td>\n",
              "      <td>[synopsis, Refinements, Extensions, compare, publication, Conference, Proceedings, submission, refined, extended, paper, base, ICTERI, 2017, phd, symposium, paper, Kosa, et, al, fact, submission, ...</td>\n",
              "      <td>6495</td>\n",
              "    </tr>\n",
              "    <tr>\n",
              "      <th>1</th>\n",
              "      <td>Enhancing Public Procurement in the European Union through Constructing and Exploiting an Integrated Knowledge Graph</td>\n",
              "      <td>Enhancing Public Procurement in the European Union through Constructing and Exploiting an Integrated Knowledge Graph Ahmet Soylu1, Oscar Corcho2, Brian Elvesæter1, Carlos Badenes-Olmedo2, Francisc...</td>\n",
              "      <td>5827</td>\n",
              "      <td>[enhance, Public, Procurement, European, Union, Constructing, exploit, Integrated, Knowledge, Graph, Ahmet, Soylu1, Oscar, Corcho2, Brian, Elvesæter1, Carlos, Badenes, Olmedo2, Francisco, Yedro2, ...</td>\n",
              "      <td>3511</td>\n",
              "    </tr>\n",
              "    <tr>\n",
              "      <th>2</th>\n",
              "      <td>Drugs4Covid: Making drug information available from scientific publications</td>\n",
              "      <td>Drugs4Covid: Making drug information available from scientific publications Carlos Badenes-Olmedo1, David Chaves-Fraga1, Mar´ıa Poveda-Villal´on1, Ana Iglesias-Molina1, Pablo Calleja1, Socorro Ber...</td>\n",
              "      <td>5417</td>\n",
              "      <td>[Drugs4Covid, make, drug, information, available, scientific, publication, Carlos, Badenes, Olmedo1, David, Chaves, Fraga1, Mar´ıa, Poveda, Villal´on1, Ana, Iglesias, Molina1, Pablo, Calleja1, Soc...</td>\n",
              "      <td>3347</td>\n",
              "    </tr>\n",
              "    <tr>\n",
              "      <th>3</th>\n",
              "      <td>Distributing Text Mining tasks with librAIry</td>\n",
              "      <td>Distributing Text Mining tasks with librAIry Carlos Badenes-Olmedo cbadenes@f.upm.es Universidad Polit´ecnica de Madrid Ontology Engineering Group Boadilla del Monte, Spain Jos´e Luis Redondo-Garc...</td>\n",
              "      <td>2448</td>\n",
              "      <td>[distribute, text, mining, task, librAIry, Carlos, Badenes, Olmedo, cbadenes@f.upm.es, Universidad, Polit´ecnica, de, Madrid, Ontology, Engineering, Group, Boadilla, del, Monte, Spain, jos´e, Luis...</td>\n",
              "      <td>1484</td>\n",
              "    </tr>\n",
              "    <tr>\n",
              "      <th>4</th>\n",
              "      <td>Large-Scale Semantic Exploration of Scientific Literature using Topic-based Hashing Algorithms</td>\n",
              "      <td>Semantic Web 0 (0) 1 1 IOS Press Large-Scale Semantic Exploration of Scientific Literature using Topic-based Hashing Algorithms Editor(s): Tomi Kauppinen, Aalto University, Finland; Daniel Garijo,...</td>\n",
              "      <td>9041</td>\n",
              "      <td>[semantic, web, IOS, Press, large, scale, semantic, Exploration, Scientific, Literature, Topic, base, Hashing, Algorithms, Editor(s, Tomi, Kauppinen, Aalto, University, Finland, Daniel, Garijo, Un...</td>\n",
              "      <td>5825</td>\n",
              "    </tr>\n",
              "    <tr>\n",
              "      <th>5</th>\n",
              "      <td>An initial Analysis of Topic-based Similarity among Scientific Documents based on their Rhetorical Discourse Parts</td>\n",
              "      <td>An initial Analysis of Topic-based Similarity among Scientific Documents based on their Rhetorical Discourse Parts Carlos Badenes-Olmedo1, Jos´e Luis Redondo-Garc´ıa2, and Oscar Corcho1 1 Universi...</td>\n",
              "      <td>2641</td>\n",
              "      <td>[initial, Analysis, Topic, base, Similarity, scientific, document, base, Rhetorical, Discourse, Parts, Carlos, Badenes, Olmedo1, Jos´e, Luis, Redondo, Garc´ıa2, Oscar, Corcho1, Universidad, Polit´...</td>\n",
              "      <td>1438</td>\n",
              "    </tr>\n",
              "    <tr>\n",
              "      <th>6</th>\n",
              "      <td>Efficient Clustering from Distributions over Topics</td>\n",
              "      <td>Efficient Clustering from Distributions over Topics Carlos Badenes-Olmedo cbadenes@￿.upm.es Ontology Engineering Group Universidad Polit´ecnica de Madrid Boadilla del Monte, Spain Jos´e Luis Redon...</td>\n",
              "      <td>5346</td>\n",
              "      <td>[efficient, clustering, distribution, Topics, Carlos, Badenes, Olmedo, cbadenes@￿.upm.es, Ontology, Engineering, Group, Universidad, Polit´ecnica, de, Madrid, Boadilla, del, Monte, Spain, jos´e, L...</td>\n",
              "      <td>3083</td>\n",
              "    </tr>\n",
              "    <tr>\n",
              "      <th>7</th>\n",
              "      <td>Legal Documents Retrieval Across Languages: Topic Hierarchies based on synsets</td>\n",
              "      <td>Cross-lingual annotations of legislative texts enable us to explore major themes covered in multi- lingual legal data and are a key facilitator of semantic similarity when searching for similar do...</td>\n",
              "      <td>1445</td>\n",
              "      <td>[cross, lingual, annotation, legislative, text, enable, explore, major, theme, cover, multi-, lingual, legal, datum, key, facilitator, semantic, similarity, search, similar, document, multilingual...</td>\n",
              "      <td>790</td>\n",
              "    </tr>\n",
              "    <tr>\n",
              "      <th>8</th>\n",
              "      <td>Scalable Cross-lingual Document Similarity through Language-specific Concept Hierarchies</td>\n",
              "      <td>Scalable Cross-lingual Document Similarity through Language-specific Concept Hierarchies Carlos Badenes-Olmedo cbadenes@fi.upm.es Ontology Engineering Group, Universidad Politécnica de Madrid Boad...</td>\n",
              "      <td>4602</td>\n",
              "      <td>[Scalable, Cross, lingual, document, Similarity, language, specific, Concept, Hierarchies, Carlos, Badenes, Olmedo, cbadenes@fi.upm.es, Ontology, Engineering, Group, Universidad, Politécnica, de, ...</td>\n",
              "      <td>3027</td>\n",
              "    </tr>\n",
              "    <tr>\n",
              "      <th>9</th>\n",
              "      <td>Potentially inappropriate medications in older adults living with HIV</td>\n",
              "      <td>Potentially inappropriate medications in older adults living with HIV B L�opez-Centeno,1,* C Badenes-Olmedo,2 A Mataix-Sanjuan,1 JM Bell�on,3 L P�erez-Latorre,3 JC L�opez,3 J Bened�ı,4,* S Khoo,5 ...</td>\n",
              "      <td>3087</td>\n",
              "      <td>[potentially, inappropriate, medication, old, adult, live, HIV, opez, Centeno,1, Badenes, Olmedo,2, Mataix, Sanjuan,1, JM, Bell, on,3, erez, Latorre,3, JC, opez,3, Bened, ı,4, khoo,5, Marzolini,6,...</td>\n",
              "      <td>2163</td>\n",
              "    </tr>\n",
              "    <tr>\n",
              "      <th>10</th>\n",
              "      <td>Semantic Saturation in Retrospective Text Document  Collections</td>\n",
              "      <td>Semantic Saturation in Retrospective Text Document  Collections      Victoria Kosa​1​, Eugene Yuschenko​2​, Carlos Badenes​3​, Vadim Ermolayev​1​,   and Aliaksandr Birukou​4    1​ Department of Co...</td>\n",
              "      <td>7700</td>\n",
              "      <td>[semantic, Saturation, Retrospective, Text, document, Collections,      , Victoria, Kosa​1​, Eugene, Yuschenko​2​, Carlos, Badenes​3​, Vadim, Ermolayev​1​,   , Aliaksandr, Birukou​4,    , 1​, Depa...</td>\n",
              "      <td>1761</td>\n",
              "    </tr>\n",
              "  </tbody>\n",
              "</table>\n",
              "</div>"
            ],
            "text/plain": [
              "                                                                                                                   title  ... #tokens\n",
              "0                                       Cross-Evaluation of Term Extraction Tools by Measuring Terminological Saturation  ...    6495\n",
              "1   Enhancing Public Procurement in the European Union through Constructing and Exploiting an Integrated Knowledge Graph  ...    3511\n",
              "2                                            Drugs4Covid: Making drug information available from scientific publications  ...    3347\n",
              "3                                                                           Distributing Text Mining tasks with librAIry  ...    1484\n",
              "4                         Large-Scale Semantic Exploration of Scientific Literature using Topic-based Hashing Algorithms  ...    5825\n",
              "5     An initial Analysis of Topic-based Similarity among Scientific Documents based on their Rhetorical Discourse Parts  ...    1438\n",
              "6                                                                    Efficient Clustering from Distributions over Topics  ...    3083\n",
              "7                                         Legal Documents Retrieval Across Languages: Topic Hierarchies based on synsets  ...     790\n",
              "8                               Scalable Cross-lingual Document Similarity through Language-specific Concept Hierarchies  ...    3027\n",
              "9                                                  Potentially inappropriate medications in older adults living with HIV  ...    2163\n",
              "10                                                       Semantic Saturation in Retrospective Text Document  Collections  ...    1761\n",
              "\n",
              "[11 rows x 5 columns]"
            ]
          },
          "metadata": {
            "tags": []
          },
          "execution_count": 5
        }
      ]
    },
    {
      "cell_type": "markdown",
      "metadata": {
        "id": "YL1zTSPXktuE"
      },
      "source": [
        "### 2.2.5 Some statistics"
      ]
    },
    {
      "cell_type": "code",
      "metadata": {
        "colab": {
          "base_uri": "https://localhost:8080/",
          "height": 1000
        },
        "id": "k8ddmT6Gkzvr",
        "outputId": "1d10082c-d9fd-4c92-8b07-279ebddb4fcc"
      },
      "source": [
        "reduction_by_tokens = []\n",
        "unique_tokens = []\n",
        "unique_tokens_ratio = []\n",
        "\n",
        "for pos in range(len(corpus_df.index)):\n",
        "  num_words = corpus_df['#words'][pos]\n",
        "  num_tokens = corpus_df['#tokens'][pos]\n",
        "  num_unique_tokens = len(set(corpus_df['tokens'][pos]))\n",
        "  \n",
        "  reduction_ratio = 100-((num_tokens * 100)/num_words)\n",
        "  unique_ratio= 100-((num_unique_tokens * 100)/num_tokens)\n",
        "\n",
        "  reduction_by_tokens.append(reduction_ratio)\n",
        "  unique_tokens.append(num_unique_tokens)\n",
        "  unique_tokens_ratio.append(unique_ratio)\n",
        "\n",
        "corpus_df['%red_tokens']=reduction_by_tokens\n",
        "corpus_df['#uni_tokens']=unique_tokens\n",
        "corpus_df['%red_uni_tokens']=unique_tokens_ratio\n",
        "corpus_df"
      ],
      "execution_count": 6,
      "outputs": [
        {
          "output_type": "execute_result",
          "data": {
            "text/html": [
              "<div>\n",
              "<style scoped>\n",
              "    .dataframe tbody tr th:only-of-type {\n",
              "        vertical-align: middle;\n",
              "    }\n",
              "\n",
              "    .dataframe tbody tr th {\n",
              "        vertical-align: top;\n",
              "    }\n",
              "\n",
              "    .dataframe thead th {\n",
              "        text-align: right;\n",
              "    }\n",
              "</style>\n",
              "<table border=\"1\" class=\"dataframe\">\n",
              "  <thead>\n",
              "    <tr style=\"text-align: right;\">\n",
              "      <th></th>\n",
              "      <th>title</th>\n",
              "      <th>text</th>\n",
              "      <th>#words</th>\n",
              "      <th>tokens</th>\n",
              "      <th>#tokens</th>\n",
              "      <th>%reduction</th>\n",
              "      <th>#unique</th>\n",
              "      <th>%unique</th>\n",
              "    </tr>\n",
              "  </thead>\n",
              "  <tbody>\n",
              "    <tr>\n",
              "      <th>0</th>\n",
              "      <td>Cross-Evaluation of Term Extraction Tools by Measuring Terminological Saturation</td>\n",
              "      <td>Synopsis of the Refinements and Extensions  Compared to the Publication in the Conference Proceedings  This submission is a refined and extended paper based on the ICTERI 2017 PhD  Symposium paper...</td>\n",
              "      <td>12954</td>\n",
              "      <td>[synopsis, Refinements, Extensions, compare, publication, Conference, Proceedings, submission, refined, extended, paper, base, ICTERI, 2017, phd, symposium, paper, Kosa, et, al, fact, submission, ...</td>\n",
              "      <td>6495</td>\n",
              "      <td>49.861047</td>\n",
              "      <td>1688</td>\n",
              "      <td>74.010778</td>\n",
              "    </tr>\n",
              "    <tr>\n",
              "      <th>1</th>\n",
              "      <td>Enhancing Public Procurement in the European Union through Constructing and Exploiting an Integrated Knowledge Graph</td>\n",
              "      <td>Enhancing Public Procurement in the European Union through Constructing and Exploiting an Integrated Knowledge Graph Ahmet Soylu1, Oscar Corcho2, Brian Elvesæter1, Carlos Badenes-Olmedo2, Francisc...</td>\n",
              "      <td>5827</td>\n",
              "      <td>[enhance, Public, Procurement, European, Union, Constructing, exploit, Integrated, Knowledge, Graph, Ahmet, Soylu1, Oscar, Corcho2, Brian, Elvesæter1, Carlos, Badenes, Olmedo2, Francisco, Yedro2, ...</td>\n",
              "      <td>3511</td>\n",
              "      <td>39.746010</td>\n",
              "      <td>1355</td>\n",
              "      <td>61.407007</td>\n",
              "    </tr>\n",
              "    <tr>\n",
              "      <th>2</th>\n",
              "      <td>Drugs4Covid: Making drug information available from scientific publications</td>\n",
              "      <td>Drugs4Covid: Making drug information available from scientific publications Carlos Badenes-Olmedo1, David Chaves-Fraga1, Mar´ıa Poveda-Villal´on1, Ana Iglesias-Molina1, Pablo Calleja1, Socorro Ber...</td>\n",
              "      <td>5417</td>\n",
              "      <td>[Drugs4Covid, make, drug, information, available, scientific, publication, Carlos, Badenes, Olmedo1, David, Chaves, Fraga1, Mar´ıa, Poveda, Villal´on1, Ana, Iglesias, Molina1, Pablo, Calleja1, Soc...</td>\n",
              "      <td>3347</td>\n",
              "      <td>38.213033</td>\n",
              "      <td>1413</td>\n",
              "      <td>57.783089</td>\n",
              "    </tr>\n",
              "    <tr>\n",
              "      <th>3</th>\n",
              "      <td>Distributing Text Mining tasks with librAIry</td>\n",
              "      <td>Distributing Text Mining tasks with librAIry Carlos Badenes-Olmedo cbadenes@f.upm.es Universidad Polit´ecnica de Madrid Ontology Engineering Group Boadilla del Monte, Spain Jos´e Luis Redondo-Garc...</td>\n",
              "      <td>2448</td>\n",
              "      <td>[distribute, text, mining, task, librAIry, Carlos, Badenes, Olmedo, cbadenes@f.upm.es, Universidad, Polit´ecnica, de, Madrid, Ontology, Engineering, Group, Boadilla, del, Monte, Spain, jos´e, Luis...</td>\n",
              "      <td>1484</td>\n",
              "      <td>39.379085</td>\n",
              "      <td>742</td>\n",
              "      <td>50.000000</td>\n",
              "    </tr>\n",
              "    <tr>\n",
              "      <th>4</th>\n",
              "      <td>Large-Scale Semantic Exploration of Scientific Literature using Topic-based Hashing Algorithms</td>\n",
              "      <td>Semantic Web 0 (0) 1 1 IOS Press Large-Scale Semantic Exploration of Scientific Literature using Topic-based Hashing Algorithms Editor(s): Tomi Kauppinen, Aalto University, Finland; Daniel Garijo,...</td>\n",
              "      <td>9041</td>\n",
              "      <td>[semantic, web, IOS, Press, large, scale, semantic, Exploration, Scientific, Literature, Topic, base, Hashing, Algorithms, Editor(s, Tomi, Kauppinen, Aalto, University, Finland, Daniel, Garijo, Un...</td>\n",
              "      <td>5825</td>\n",
              "      <td>35.571286</td>\n",
              "      <td>1839</td>\n",
              "      <td>68.429185</td>\n",
              "    </tr>\n",
              "    <tr>\n",
              "      <th>5</th>\n",
              "      <td>An initial Analysis of Topic-based Similarity among Scientific Documents based on their Rhetorical Discourse Parts</td>\n",
              "      <td>An initial Analysis of Topic-based Similarity among Scientific Documents based on their Rhetorical Discourse Parts Carlos Badenes-Olmedo1, Jos´e Luis Redondo-Garc´ıa2, and Oscar Corcho1 1 Universi...</td>\n",
              "      <td>2641</td>\n",
              "      <td>[initial, Analysis, Topic, base, Similarity, scientific, document, base, Rhetorical, Discourse, Parts, Carlos, Badenes, Olmedo1, Jos´e, Luis, Redondo, Garc´ıa2, Oscar, Corcho1, Universidad, Polit´...</td>\n",
              "      <td>1438</td>\n",
              "      <td>45.550928</td>\n",
              "      <td>590</td>\n",
              "      <td>58.970793</td>\n",
              "    </tr>\n",
              "    <tr>\n",
              "      <th>6</th>\n",
              "      <td>Efficient Clustering from Distributions over Topics</td>\n",
              "      <td>Efficient Clustering from Distributions over Topics Carlos Badenes-Olmedo cbadenes@￿.upm.es Ontology Engineering Group Universidad Polit´ecnica de Madrid Boadilla del Monte, Spain Jos´e Luis Redon...</td>\n",
              "      <td>5346</td>\n",
              "      <td>[efficient, clustering, distribution, Topics, Carlos, Badenes, Olmedo, cbadenes@￿.upm.es, Ontology, Engineering, Group, Universidad, Polit´ecnica, de, Madrid, Boadilla, del, Monte, Spain, jos´e, L...</td>\n",
              "      <td>3083</td>\n",
              "      <td>42.330715</td>\n",
              "      <td>1013</td>\n",
              "      <td>67.142394</td>\n",
              "    </tr>\n",
              "    <tr>\n",
              "      <th>7</th>\n",
              "      <td>Legal Documents Retrieval Across Languages: Topic Hierarchies based on synsets</td>\n",
              "      <td>Cross-lingual annotations of legislative texts enable us to explore major themes covered in multi- lingual legal data and are a key facilitator of semantic similarity when searching for similar do...</td>\n",
              "      <td>1445</td>\n",
              "      <td>[cross, lingual, annotation, legislative, text, enable, explore, major, theme, cover, multi-, lingual, legal, datum, key, facilitator, semantic, similarity, search, similar, document, multilingual...</td>\n",
              "      <td>790</td>\n",
              "      <td>45.328720</td>\n",
              "      <td>364</td>\n",
              "      <td>53.924051</td>\n",
              "    </tr>\n",
              "    <tr>\n",
              "      <th>8</th>\n",
              "      <td>Scalable Cross-lingual Document Similarity through Language-specific Concept Hierarchies</td>\n",
              "      <td>Scalable Cross-lingual Document Similarity through Language-specific Concept Hierarchies Carlos Badenes-Olmedo cbadenes@fi.upm.es Ontology Engineering Group, Universidad Politécnica de Madrid Boad...</td>\n",
              "      <td>4602</td>\n",
              "      <td>[Scalable, Cross, lingual, document, Similarity, language, specific, Concept, Hierarchies, Carlos, Badenes, Olmedo, cbadenes@fi.upm.es, Ontology, Engineering, Group, Universidad, Politécnica, de, ...</td>\n",
              "      <td>3027</td>\n",
              "      <td>34.224250</td>\n",
              "      <td>1100</td>\n",
              "      <td>63.660390</td>\n",
              "    </tr>\n",
              "    <tr>\n",
              "      <th>9</th>\n",
              "      <td>Potentially inappropriate medications in older adults living with HIV</td>\n",
              "      <td>Potentially inappropriate medications in older adults living with HIV B L�opez-Centeno,1,* C Badenes-Olmedo,2 A Mataix-Sanjuan,1 JM Bell�on,3 L P�erez-Latorre,3 JC L�opez,3 J Bened�ı,4,* S Khoo,5 ...</td>\n",
              "      <td>3087</td>\n",
              "      <td>[potentially, inappropriate, medication, old, adult, live, HIV, opez, Centeno,1, Badenes, Olmedo,2, Mataix, Sanjuan,1, JM, Bell, on,3, erez, Latorre,3, JC, opez,3, Bened, ı,4, khoo,5, Marzolini,6,...</td>\n",
              "      <td>2163</td>\n",
              "      <td>29.931973</td>\n",
              "      <td>1056</td>\n",
              "      <td>51.178918</td>\n",
              "    </tr>\n",
              "    <tr>\n",
              "      <th>10</th>\n",
              "      <td>Semantic Saturation in Retrospective Text Document  Collections</td>\n",
              "      <td>Semantic Saturation in Retrospective Text Document  Collections      Victoria Kosa​1​, Eugene Yuschenko​2​, Carlos Badenes​3​, Vadim Ermolayev​1​,   and Aliaksandr Birukou​4    1​ Department of Co...</td>\n",
              "      <td>7700</td>\n",
              "      <td>[semantic, Saturation, Retrospective, Text, document, Collections,      , Victoria, Kosa​1​, Eugene, Yuschenko​2​, Carlos, Badenes​3​, Vadim, Ermolayev​1​,   , Aliaksandr, Birukou​4,    , 1​, Depa...</td>\n",
              "      <td>1761</td>\n",
              "      <td>77.129870</td>\n",
              "      <td>620</td>\n",
              "      <td>64.792731</td>\n",
              "    </tr>\n",
              "  </tbody>\n",
              "</table>\n",
              "</div>"
            ],
            "text/plain": [
              "                                                                                                                   title  ...    %unique\n",
              "0                                       Cross-Evaluation of Term Extraction Tools by Measuring Terminological Saturation  ...  74.010778\n",
              "1   Enhancing Public Procurement in the European Union through Constructing and Exploiting an Integrated Knowledge Graph  ...  61.407007\n",
              "2                                            Drugs4Covid: Making drug information available from scientific publications  ...  57.783089\n",
              "3                                                                           Distributing Text Mining tasks with librAIry  ...  50.000000\n",
              "4                         Large-Scale Semantic Exploration of Scientific Literature using Topic-based Hashing Algorithms  ...  68.429185\n",
              "5     An initial Analysis of Topic-based Similarity among Scientific Documents based on their Rhetorical Discourse Parts  ...  58.970793\n",
              "6                                                                    Efficient Clustering from Distributions over Topics  ...  67.142394\n",
              "7                                         Legal Documents Retrieval Across Languages: Topic Hierarchies based on synsets  ...  53.924051\n",
              "8                               Scalable Cross-lingual Document Similarity through Language-specific Concept Hierarchies  ...  63.660390\n",
              "9                                                  Potentially inappropriate medications in older adults living with HIV  ...  51.178918\n",
              "10                                                       Semantic Saturation in Retrospective Text Document  Collections  ...  64.792731\n",
              "\n",
              "[11 rows x 8 columns]"
            ]
          },
          "metadata": {
            "tags": []
          },
          "execution_count": 6
        }
      ]
    },
    {
      "cell_type": "markdown",
      "metadata": {
        "id": "SjqffNPFmnyJ"
      },
      "source": [
        "## 2.3. Text Vectorization"
      ]
    },
    {
      "cell_type": "markdown",
      "metadata": {
        "id": "ajYqcsxZs2_E"
      },
      "source": [
        "Once all terms have been pre-processed, numerical weights are assigned to each them. The same term may have a different weight in each distinct document in which it occurs. The weight is usually a measure of how effective the given term is likely to be in distinguishing the given document from other documents in the given collection, and is often normalized to be a fraction between zero and one. Statistical approaches fall into the following categories: boolean, vector space and probabilistic."
      ]
    },
    {
      "cell_type": "code",
      "metadata": {
        "colab": {
          "base_uri": "https://localhost:8080/"
        },
        "id": "-lPx4akLzb3a",
        "outputId": "928965ab-6516-4e0f-de1c-efa11382473e"
      },
      "source": [
        "all_tokens = []\n",
        "for tokens in corpus_df['tokens']:\n",
        "  all_tokens.extend(tokens)\n",
        "\n",
        "vocabulary = list(set(all_tokens))\n",
        "print(\"Vocabulary size:\",len(vocabulary),\" unique words(tokens)\")\n",
        "print(\"Vocabulary words:\",vocabulary[1:10],\"...\")"
      ],
      "execution_count": 17,
      "outputs": [
        {
          "output_type": "stream",
          "text": [
            "Vocabulary size: 6400  unique words(tokens)\n",
            "Vocabulary words: ['Model', 'Exploration', 'topic3@en', 'Covid', 'R.R.V.', 'negligible', 't335', 'exactly', 'helpful'] ...\n"
          ],
          "name": "stdout"
        }
      ]
    },
    {
      "cell_type": "markdown",
      "metadata": {
        "id": "5DYxmE0Zx93U"
      },
      "source": [
        "To encode our documents, we’ll create a vectorize function that creates a dictionary whose keys are the tokens in the document and whose values will depend on the approach we use.\n"
      ]
    },
    {
      "cell_type": "markdown",
      "metadata": {
        "id": "EObcQrTJlMvl"
      },
      "source": [
        "\n",
        "The `defaultdic` object allows us to specify what the dictionary will return for a key that hasn’t been assigned to it yet. By setting `defaultdict(int)` we are specifying that a 0 should be returned, thus creating a simple counting dictionary. We can map this function to every item in the corpus creating an iterable of vectorized documents."
      ]
    },
    {
      "cell_type": "markdown",
      "metadata": {
        "id": "p397ElSvkItE"
      },
      "source": [
        "### 2.3.1. Boolean Approach"
      ]
    },
    {
      "cell_type": "markdown",
      "metadata": {
        "id": "rEmOhEO_0Ahv"
      },
      "source": [
        "The Boolean representation sets true or false for each vocabulary word depending on whether or not it appears in the document."
      ]
    },
    {
      "cell_type": "code",
      "metadata": {
        "colab": {
          "base_uri": "https://localhost:8080/",
          "height": 1000
        },
        "id": "G9EkhRpqy8Yr",
        "outputId": "12a02512-be42-4131-f6c7-78e4baba3f4c"
      },
      "source": [
        "from collections import defaultdict\n",
        "\n",
        "def boolean_vectorize(tokens):\n",
        "    features = defaultdict(bool)\n",
        "    for token in tokens:\n",
        "        features[token] = True\n",
        "    return features\n",
        "\n",
        "corpus_df['boolean'] = corpus_df['tokens'].apply(boolean_vectorize)\n",
        "corpus_df"
      ],
      "execution_count": 8,
      "outputs": [
        {
          "output_type": "execute_result",
          "data": {
            "text/html": [
              "<div>\n",
              "<style scoped>\n",
              "    .dataframe tbody tr th:only-of-type {\n",
              "        vertical-align: middle;\n",
              "    }\n",
              "\n",
              "    .dataframe tbody tr th {\n",
              "        vertical-align: top;\n",
              "    }\n",
              "\n",
              "    .dataframe thead th {\n",
              "        text-align: right;\n",
              "    }\n",
              "</style>\n",
              "<table border=\"1\" class=\"dataframe\">\n",
              "  <thead>\n",
              "    <tr style=\"text-align: right;\">\n",
              "      <th></th>\n",
              "      <th>title</th>\n",
              "      <th>text</th>\n",
              "      <th>#words</th>\n",
              "      <th>tokens</th>\n",
              "      <th>#tokens</th>\n",
              "      <th>%reduction</th>\n",
              "      <th>#unique</th>\n",
              "      <th>%unique</th>\n",
              "      <th>boolean</th>\n",
              "    </tr>\n",
              "  </thead>\n",
              "  <tbody>\n",
              "    <tr>\n",
              "      <th>0</th>\n",
              "      <td>Cross-Evaluation of Term Extraction Tools by Measuring Terminological Saturation</td>\n",
              "      <td>Synopsis of the Refinements and Extensions  Compared to the Publication in the Conference Proceedings  This submission is a refined and extended paper based on the ICTERI 2017 PhD  Symposium paper...</td>\n",
              "      <td>12954</td>\n",
              "      <td>[synopsis, Refinements, Extensions, compare, publication, Conference, Proceedings, submission, refined, extended, paper, base, ICTERI, 2017, phd, symposium, paper, Kosa, et, al, fact, submission, ...</td>\n",
              "      <td>6495</td>\n",
              "      <td>49.861047</td>\n",
              "      <td>1688</td>\n",
              "      <td>74.010778</td>\n",
              "      <td>{'synopsis': True, 'Refinements': True, 'Extensions': True, 'compare': True, 'publication': True, 'Conference': True, 'Proceedings': True, 'submission': True, 'refined': True, 'extended': True, 'p...</td>\n",
              "    </tr>\n",
              "    <tr>\n",
              "      <th>1</th>\n",
              "      <td>Enhancing Public Procurement in the European Union through Constructing and Exploiting an Integrated Knowledge Graph</td>\n",
              "      <td>Enhancing Public Procurement in the European Union through Constructing and Exploiting an Integrated Knowledge Graph Ahmet Soylu1, Oscar Corcho2, Brian Elvesæter1, Carlos Badenes-Olmedo2, Francisc...</td>\n",
              "      <td>5827</td>\n",
              "      <td>[enhance, Public, Procurement, European, Union, Constructing, exploit, Integrated, Knowledge, Graph, Ahmet, Soylu1, Oscar, Corcho2, Brian, Elvesæter1, Carlos, Badenes, Olmedo2, Francisco, Yedro2, ...</td>\n",
              "      <td>3511</td>\n",
              "      <td>39.746010</td>\n",
              "      <td>1355</td>\n",
              "      <td>61.407007</td>\n",
              "      <td>{'enhance': True, 'Public': True, 'Procurement': True, 'European': True, 'Union': True, 'Constructing': True, 'exploit': True, 'Integrated': True, 'Knowledge': True, 'Graph': True, 'Ahmet': True, ...</td>\n",
              "    </tr>\n",
              "    <tr>\n",
              "      <th>2</th>\n",
              "      <td>Drugs4Covid: Making drug information available from scientific publications</td>\n",
              "      <td>Drugs4Covid: Making drug information available from scientific publications Carlos Badenes-Olmedo1, David Chaves-Fraga1, Mar´ıa Poveda-Villal´on1, Ana Iglesias-Molina1, Pablo Calleja1, Socorro Ber...</td>\n",
              "      <td>5417</td>\n",
              "      <td>[Drugs4Covid, make, drug, information, available, scientific, publication, Carlos, Badenes, Olmedo1, David, Chaves, Fraga1, Mar´ıa, Poveda, Villal´on1, Ana, Iglesias, Molina1, Pablo, Calleja1, Soc...</td>\n",
              "      <td>3347</td>\n",
              "      <td>38.213033</td>\n",
              "      <td>1413</td>\n",
              "      <td>57.783089</td>\n",
              "      <td>{'Drugs4Covid': True, 'make': True, 'drug': True, 'information': True, 'available': True, 'scientific': True, 'publication': True, 'Carlos': True, 'Badenes': True, 'Olmedo1': True, 'David': True, ...</td>\n",
              "    </tr>\n",
              "    <tr>\n",
              "      <th>3</th>\n",
              "      <td>Distributing Text Mining tasks with librAIry</td>\n",
              "      <td>Distributing Text Mining tasks with librAIry Carlos Badenes-Olmedo cbadenes@f.upm.es Universidad Polit´ecnica de Madrid Ontology Engineering Group Boadilla del Monte, Spain Jos´e Luis Redondo-Garc...</td>\n",
              "      <td>2448</td>\n",
              "      <td>[distribute, text, mining, task, librAIry, Carlos, Badenes, Olmedo, cbadenes@f.upm.es, Universidad, Polit´ecnica, de, Madrid, Ontology, Engineering, Group, Boadilla, del, Monte, Spain, jos´e, Luis...</td>\n",
              "      <td>1484</td>\n",
              "      <td>39.379085</td>\n",
              "      <td>742</td>\n",
              "      <td>50.000000</td>\n",
              "      <td>{'distribute': True, 'text': True, 'mining': True, 'task': True, 'librAIry': True, 'Carlos': True, 'Badenes': True, 'Olmedo': True, 'cbadenes@f.upm.es': True, 'Universidad': True, 'Polit´ecnica': ...</td>\n",
              "    </tr>\n",
              "    <tr>\n",
              "      <th>4</th>\n",
              "      <td>Large-Scale Semantic Exploration of Scientific Literature using Topic-based Hashing Algorithms</td>\n",
              "      <td>Semantic Web 0 (0) 1 1 IOS Press Large-Scale Semantic Exploration of Scientific Literature using Topic-based Hashing Algorithms Editor(s): Tomi Kauppinen, Aalto University, Finland; Daniel Garijo,...</td>\n",
              "      <td>9041</td>\n",
              "      <td>[semantic, web, IOS, Press, large, scale, semantic, Exploration, Scientific, Literature, Topic, base, Hashing, Algorithms, Editor(s, Tomi, Kauppinen, Aalto, University, Finland, Daniel, Garijo, Un...</td>\n",
              "      <td>5825</td>\n",
              "      <td>35.571286</td>\n",
              "      <td>1839</td>\n",
              "      <td>68.429185</td>\n",
              "      <td>{'semantic': True, 'web': True, 'IOS': True, 'Press': True, 'large': True, 'scale': True, 'Exploration': True, 'Scientific': True, 'Literature': True, 'Topic': True, 'base': True, 'Hashing': True,...</td>\n",
              "    </tr>\n",
              "    <tr>\n",
              "      <th>5</th>\n",
              "      <td>An initial Analysis of Topic-based Similarity among Scientific Documents based on their Rhetorical Discourse Parts</td>\n",
              "      <td>An initial Analysis of Topic-based Similarity among Scientific Documents based on their Rhetorical Discourse Parts Carlos Badenes-Olmedo1, Jos´e Luis Redondo-Garc´ıa2, and Oscar Corcho1 1 Universi...</td>\n",
              "      <td>2641</td>\n",
              "      <td>[initial, Analysis, Topic, base, Similarity, scientific, document, base, Rhetorical, Discourse, Parts, Carlos, Badenes, Olmedo1, Jos´e, Luis, Redondo, Garc´ıa2, Oscar, Corcho1, Universidad, Polit´...</td>\n",
              "      <td>1438</td>\n",
              "      <td>45.550928</td>\n",
              "      <td>590</td>\n",
              "      <td>58.970793</td>\n",
              "      <td>{'initial': True, 'Analysis': True, 'Topic': True, 'base': True, 'Similarity': True, 'scientific': True, 'document': True, 'Rhetorical': True, 'Discourse': True, 'Parts': True, 'Carlos': True, 'Ba...</td>\n",
              "    </tr>\n",
              "    <tr>\n",
              "      <th>6</th>\n",
              "      <td>Efficient Clustering from Distributions over Topics</td>\n",
              "      <td>Efficient Clustering from Distributions over Topics Carlos Badenes-Olmedo cbadenes@￿.upm.es Ontology Engineering Group Universidad Polit´ecnica de Madrid Boadilla del Monte, Spain Jos´e Luis Redon...</td>\n",
              "      <td>5346</td>\n",
              "      <td>[efficient, clustering, distribution, Topics, Carlos, Badenes, Olmedo, cbadenes@￿.upm.es, Ontology, Engineering, Group, Universidad, Polit´ecnica, de, Madrid, Boadilla, del, Monte, Spain, jos´e, L...</td>\n",
              "      <td>3083</td>\n",
              "      <td>42.330715</td>\n",
              "      <td>1013</td>\n",
              "      <td>67.142394</td>\n",
              "      <td>{'efficient': True, 'clustering': True, 'distribution': True, 'Topics': True, 'Carlos': True, 'Badenes': True, 'Olmedo': True, 'cbadenes@￿.upm.es': True, 'Ontology': True, 'Engineering': True, 'Gr...</td>\n",
              "    </tr>\n",
              "    <tr>\n",
              "      <th>7</th>\n",
              "      <td>Legal Documents Retrieval Across Languages: Topic Hierarchies based on synsets</td>\n",
              "      <td>Cross-lingual annotations of legislative texts enable us to explore major themes covered in multi- lingual legal data and are a key facilitator of semantic similarity when searching for similar do...</td>\n",
              "      <td>1445</td>\n",
              "      <td>[cross, lingual, annotation, legislative, text, enable, explore, major, theme, cover, multi-, lingual, legal, datum, key, facilitator, semantic, similarity, search, similar, document, multilingual...</td>\n",
              "      <td>790</td>\n",
              "      <td>45.328720</td>\n",
              "      <td>364</td>\n",
              "      <td>53.924051</td>\n",
              "      <td>{'cross': True, 'lingual': True, 'annotation': True, 'legislative': True, 'text': True, 'enable': True, 'explore': True, 'major': True, 'theme': True, 'cover': True, 'multi-': True, 'legal': True,...</td>\n",
              "    </tr>\n",
              "    <tr>\n",
              "      <th>8</th>\n",
              "      <td>Scalable Cross-lingual Document Similarity through Language-specific Concept Hierarchies</td>\n",
              "      <td>Scalable Cross-lingual Document Similarity through Language-specific Concept Hierarchies Carlos Badenes-Olmedo cbadenes@fi.upm.es Ontology Engineering Group, Universidad Politécnica de Madrid Boad...</td>\n",
              "      <td>4602</td>\n",
              "      <td>[Scalable, Cross, lingual, document, Similarity, language, specific, Concept, Hierarchies, Carlos, Badenes, Olmedo, cbadenes@fi.upm.es, Ontology, Engineering, Group, Universidad, Politécnica, de, ...</td>\n",
              "      <td>3027</td>\n",
              "      <td>34.224250</td>\n",
              "      <td>1100</td>\n",
              "      <td>63.660390</td>\n",
              "      <td>{'Scalable': True, 'Cross': True, 'lingual': True, 'document': True, 'Similarity': True, 'language': True, 'specific': True, 'Concept': True, 'Hierarchies': True, 'Carlos': True, 'Badenes': True, ...</td>\n",
              "    </tr>\n",
              "    <tr>\n",
              "      <th>9</th>\n",
              "      <td>Potentially inappropriate medications in older adults living with HIV</td>\n",
              "      <td>Potentially inappropriate medications in older adults living with HIV B L�opez-Centeno,1,* C Badenes-Olmedo,2 A Mataix-Sanjuan,1 JM Bell�on,3 L P�erez-Latorre,3 JC L�opez,3 J Bened�ı,4,* S Khoo,5 ...</td>\n",
              "      <td>3087</td>\n",
              "      <td>[potentially, inappropriate, medication, old, adult, live, HIV, opez, Centeno,1, Badenes, Olmedo,2, Mataix, Sanjuan,1, JM, Bell, on,3, erez, Latorre,3, JC, opez,3, Bened, ı,4, khoo,5, Marzolini,6,...</td>\n",
              "      <td>2163</td>\n",
              "      <td>29.931973</td>\n",
              "      <td>1056</td>\n",
              "      <td>51.178918</td>\n",
              "      <td>{'potentially': True, 'inappropriate': True, 'medication': True, 'old': True, 'adult': True, 'live': True, 'HIV': True, 'opez': True, 'Centeno,1': True, 'Badenes': True, 'Olmedo,2': True, 'Mataix'...</td>\n",
              "    </tr>\n",
              "    <tr>\n",
              "      <th>10</th>\n",
              "      <td>Semantic Saturation in Retrospective Text Document  Collections</td>\n",
              "      <td>Semantic Saturation in Retrospective Text Document  Collections      Victoria Kosa​1​, Eugene Yuschenko​2​, Carlos Badenes​3​, Vadim Ermolayev​1​,   and Aliaksandr Birukou​4    1​ Department of Co...</td>\n",
              "      <td>7700</td>\n",
              "      <td>[semantic, Saturation, Retrospective, Text, document, Collections,      , Victoria, Kosa​1​, Eugene, Yuschenko​2​, Carlos, Badenes​3​, Vadim, Ermolayev​1​,   , Aliaksandr, Birukou​4,    , 1​, Depa...</td>\n",
              "      <td>1761</td>\n",
              "      <td>77.129870</td>\n",
              "      <td>620</td>\n",
              "      <td>64.792731</td>\n",
              "      <td>{'semantic': True, 'Saturation': True, 'Retrospective': True, 'Text': True, 'document': True, 'Collections': True, '     ': True, 'Victoria': True, 'Kosa​1​': True, 'Eugene': True, 'Yuschenko​2​':...</td>\n",
              "    </tr>\n",
              "  </tbody>\n",
              "</table>\n",
              "</div>"
            ],
            "text/plain": [
              "                                                                                                                   title  ...                                                                                                                                                                                                  boolean\n",
              "0                                       Cross-Evaluation of Term Extraction Tools by Measuring Terminological Saturation  ...  {'synopsis': True, 'Refinements': True, 'Extensions': True, 'compare': True, 'publication': True, 'Conference': True, 'Proceedings': True, 'submission': True, 'refined': True, 'extended': True, 'p...\n",
              "1   Enhancing Public Procurement in the European Union through Constructing and Exploiting an Integrated Knowledge Graph  ...  {'enhance': True, 'Public': True, 'Procurement': True, 'European': True, 'Union': True, 'Constructing': True, 'exploit': True, 'Integrated': True, 'Knowledge': True, 'Graph': True, 'Ahmet': True, ...\n",
              "2                                            Drugs4Covid: Making drug information available from scientific publications  ...  {'Drugs4Covid': True, 'make': True, 'drug': True, 'information': True, 'available': True, 'scientific': True, 'publication': True, 'Carlos': True, 'Badenes': True, 'Olmedo1': True, 'David': True, ...\n",
              "3                                                                           Distributing Text Mining tasks with librAIry  ...  {'distribute': True, 'text': True, 'mining': True, 'task': True, 'librAIry': True, 'Carlos': True, 'Badenes': True, 'Olmedo': True, 'cbadenes@f.upm.es': True, 'Universidad': True, 'Polit´ecnica': ...\n",
              "4                         Large-Scale Semantic Exploration of Scientific Literature using Topic-based Hashing Algorithms  ...  {'semantic': True, 'web': True, 'IOS': True, 'Press': True, 'large': True, 'scale': True, 'Exploration': True, 'Scientific': True, 'Literature': True, 'Topic': True, 'base': True, 'Hashing': True,...\n",
              "5     An initial Analysis of Topic-based Similarity among Scientific Documents based on their Rhetorical Discourse Parts  ...  {'initial': True, 'Analysis': True, 'Topic': True, 'base': True, 'Similarity': True, 'scientific': True, 'document': True, 'Rhetorical': True, 'Discourse': True, 'Parts': True, 'Carlos': True, 'Ba...\n",
              "6                                                                    Efficient Clustering from Distributions over Topics  ...  {'efficient': True, 'clustering': True, 'distribution': True, 'Topics': True, 'Carlos': True, 'Badenes': True, 'Olmedo': True, 'cbadenes@￿.upm.es': True, 'Ontology': True, 'Engineering': True, 'Gr...\n",
              "7                                         Legal Documents Retrieval Across Languages: Topic Hierarchies based on synsets  ...  {'cross': True, 'lingual': True, 'annotation': True, 'legislative': True, 'text': True, 'enable': True, 'explore': True, 'major': True, 'theme': True, 'cover': True, 'multi-': True, 'legal': True,...\n",
              "8                               Scalable Cross-lingual Document Similarity through Language-specific Concept Hierarchies  ...  {'Scalable': True, 'Cross': True, 'lingual': True, 'document': True, 'Similarity': True, 'language': True, 'specific': True, 'Concept': True, 'Hierarchies': True, 'Carlos': True, 'Badenes': True, ...\n",
              "9                                                  Potentially inappropriate medications in older adults living with HIV  ...  {'potentially': True, 'inappropriate': True, 'medication': True, 'old': True, 'adult': True, 'live': True, 'HIV': True, 'opez': True, 'Centeno,1': True, 'Badenes': True, 'Olmedo,2': True, 'Mataix'...\n",
              "10                                                       Semantic Saturation in Retrospective Text Document  Collections  ...  {'semantic': True, 'Saturation': True, 'Retrospective': True, 'Text': True, 'document': True, 'Collections': True, '     ': True, 'Victoria': True, 'Kosa​1​': True, 'Eugene': True, 'Yuschenko​2​':...\n",
              "\n",
              "[11 rows x 9 columns]"
            ]
          },
          "metadata": {
            "tags": []
          },
          "execution_count": 8
        }
      ]
    },
    {
      "cell_type": "markdown",
      "metadata": {
        "id": "cacVm6aF0POJ"
      },
      "source": [
        "In the boolean approach, the query is formulated as a boolean combination of terms. A conventional boolean query uses the classical operators AND, OR, and NOT. The query ”t1 AND t2” is satisfied by a given document D1 if and only if D1 contains both terms t1 and t2. Similarly, the query ”t1 OR t2” is satisfied by D1 if and only if it contains t1 or t2 or both. The query ”t1 AND NOT t2” satisfies D1 if and only if it contains t1 and does not contain t2. More complex boolean queries can be built up out of these operators and evaluated according to the classical rules of boolean algebra. Such a boolean query is either true or false. Correspondingly, a document either satisfies such a query, i.e. is relevant, or does not satisfy it, i.e. is non-relevant. **No ranking is possible**, which is a significant limitation for this approach (Harmon, 1996)."
      ]
    },
    {
      "cell_type": "markdown",
      "metadata": {
        "id": "zrUgr3a53PLt"
      },
      "source": [
        "For example, we can filter documents about public procurement data and multilinguality."
      ]
    },
    {
      "cell_type": "code",
      "metadata": {
        "colab": {
          "base_uri": "https://localhost:8080/"
        },
        "id": "nhpXox-o0zaM",
        "outputId": "4ffaf49d-d622-4611-d8ee-b9a929b3c540"
      },
      "source": [
        "def is_relevant(doc):\n",
        "  #return doc['HIV']\n",
        "  #return doc['multilingual']\n",
        "  return doc['multilingual'] and doc['procurement']\n",
        "\n",
        "pos = 0\n",
        "for vector in corpus_df['boolean']:\n",
        "  if is_relevant(vector):\n",
        "    print(\"-\",corpus_df['title'][pos])\n",
        "  pos+=1 "
      ],
      "execution_count": 9,
      "outputs": [
        {
          "output_type": "stream",
          "text": [
            "- Enhancing Public Procurement in the European Union through Constructing and Exploiting an Integrated Knowledge Graph\n"
          ],
          "name": "stdout"
        }
      ]
    },
    {
      "cell_type": "markdown",
      "metadata": {
        "id": "FYdnZkrr45D1"
      },
      "source": [
        "### 2.3.2 Vector space models"
      ]
    },
    {
      "cell_type": "markdown",
      "metadata": {
        "id": "Y9FsGqw847uK"
      },
      "source": [
        "Vector space models (VSM) (Salton and McGill, 1983) were proposed to represent texts as vectors where each entry corresponds to a different term and the number at that entry corresponds to how many times that term is present in the text. The objective was twofold: on the one hand, making document collections manageable since we move from having lots of terms for each text to only one vector per document with a defined dimension; on the other hand, having representations based on metric spaces where calculations can be made, for example comparisons by measuring vector distances."
      ]
    },
    {
      "cell_type": "markdown",
      "metadata": {
        "id": "UUisxAH65FrB"
      },
      "source": [
        "The definition and number of dimensions for each vector are key aspects in a VSM. Based on the use of this type of model, traditional document retrieval tasks over collections of textual documents highly rely on individual features like term fre- quencies (TF) (Hearst and Hall, 1999). A representational space is created where each term in the vocabulary is projected by a separate and orthogonal dimension. All terms in a document are treated as equally descriptive."
      ]
    },
    {
      "cell_type": "code",
      "metadata": {
        "colab": {
          "base_uri": "https://localhost:8080/",
          "height": 1000
        },
        "id": "BGMOd8vgkM6Y",
        "outputId": "987e8267-2db2-45f7-ac16-0794bdf71f2e"
      },
      "source": [
        "from collections import defaultdict\n",
        "\n",
        "def tf_vectorize(tokens):\n",
        "    features = defaultdict(int)\n",
        "    for token in tokens:\n",
        "        features[token] += 1\n",
        "    return features\n",
        "\n",
        "corpus_df['tf'] = corpus_df['tokens'].apply(tf_vectorize)\n",
        "corpus_df"
      ],
      "execution_count": 10,
      "outputs": [
        {
          "output_type": "execute_result",
          "data": {
            "text/html": [
              "<div>\n",
              "<style scoped>\n",
              "    .dataframe tbody tr th:only-of-type {\n",
              "        vertical-align: middle;\n",
              "    }\n",
              "\n",
              "    .dataframe tbody tr th {\n",
              "        vertical-align: top;\n",
              "    }\n",
              "\n",
              "    .dataframe thead th {\n",
              "        text-align: right;\n",
              "    }\n",
              "</style>\n",
              "<table border=\"1\" class=\"dataframe\">\n",
              "  <thead>\n",
              "    <tr style=\"text-align: right;\">\n",
              "      <th></th>\n",
              "      <th>title</th>\n",
              "      <th>text</th>\n",
              "      <th>#words</th>\n",
              "      <th>tokens</th>\n",
              "      <th>#tokens</th>\n",
              "      <th>%reduction</th>\n",
              "      <th>#unique</th>\n",
              "      <th>%unique</th>\n",
              "      <th>boolean</th>\n",
              "      <th>tf</th>\n",
              "    </tr>\n",
              "  </thead>\n",
              "  <tbody>\n",
              "    <tr>\n",
              "      <th>0</th>\n",
              "      <td>Cross-Evaluation of Term Extraction Tools by Measuring Terminological Saturation</td>\n",
              "      <td>Synopsis of the Refinements and Extensions  Compared to the Publication in the Conference Proceedings  This submission is a refined and extended paper based on the ICTERI 2017 PhD  Symposium paper...</td>\n",
              "      <td>12954</td>\n",
              "      <td>[synopsis, Refinements, Extensions, compare, publication, Conference, Proceedings, submission, refined, extended, paper, base, ICTERI, 2017, phd, symposium, paper, Kosa, et, al, fact, submission, ...</td>\n",
              "      <td>6495</td>\n",
              "      <td>49.861047</td>\n",
              "      <td>1688</td>\n",
              "      <td>74.010778</td>\n",
              "      <td>{'synopsis': True, 'Refinements': True, 'Extensions': True, 'compare': True, 'publication': True, 'Conference': True, 'Proceedings': True, 'submission': True, 'refined': True, 'extended': True, 'p...</td>\n",
              "      <td>{'synopsis': 1, 'Refinements': 1, 'Extensions': 1, 'compare': 21, 'publication': 3, 'Conference': 1, 'Proceedings': 1, 'submission': 2, 'refined': 2, 'extended': 1, 'paper': 44, 'base': 43, 'ICTER...</td>\n",
              "    </tr>\n",
              "    <tr>\n",
              "      <th>1</th>\n",
              "      <td>Enhancing Public Procurement in the European Union through Constructing and Exploiting an Integrated Knowledge Graph</td>\n",
              "      <td>Enhancing Public Procurement in the European Union through Constructing and Exploiting an Integrated Knowledge Graph Ahmet Soylu1, Oscar Corcho2, Brian Elvesæter1, Carlos Badenes-Olmedo2, Francisc...</td>\n",
              "      <td>5827</td>\n",
              "      <td>[enhance, Public, Procurement, European, Union, Constructing, exploit, Integrated, Knowledge, Graph, Ahmet, Soylu1, Oscar, Corcho2, Brian, Elvesæter1, Carlos, Badenes, Olmedo2, Francisco, Yedro2, ...</td>\n",
              "      <td>3511</td>\n",
              "      <td>39.746010</td>\n",
              "      <td>1355</td>\n",
              "      <td>61.407007</td>\n",
              "      <td>{'enhance': True, 'Public': True, 'Procurement': True, 'European': True, 'Union': True, 'Constructing': True, 'exploit': True, 'Integrated': True, 'Knowledge': True, 'Graph': True, 'Ahmet': True, ...</td>\n",
              "      <td>{'enhance': 9, 'Public': 9, 'Procurement': 9, 'European': 5, 'Union': 3, 'Constructing': 1, 'exploit': 1, 'Integrated': 8, 'Knowledge': 11, 'Graph': 11, 'Ahmet': 1, 'Soylu1': 1, 'Oscar': 1, 'Corch...</td>\n",
              "    </tr>\n",
              "    <tr>\n",
              "      <th>2</th>\n",
              "      <td>Drugs4Covid: Making drug information available from scientific publications</td>\n",
              "      <td>Drugs4Covid: Making drug information available from scientific publications Carlos Badenes-Olmedo1, David Chaves-Fraga1, Mar´ıa Poveda-Villal´on1, Ana Iglesias-Molina1, Pablo Calleja1, Socorro Ber...</td>\n",
              "      <td>5417</td>\n",
              "      <td>[Drugs4Covid, make, drug, information, available, scientific, publication, Carlos, Badenes, Olmedo1, David, Chaves, Fraga1, Mar´ıa, Poveda, Villal´on1, Ana, Iglesias, Molina1, Pablo, Calleja1, Soc...</td>\n",
              "      <td>3347</td>\n",
              "      <td>38.213033</td>\n",
              "      <td>1413</td>\n",
              "      <td>57.783089</td>\n",
              "      <td>{'Drugs4Covid': True, 'make': True, 'drug': True, 'information': True, 'available': True, 'scientific': True, 'publication': True, 'Carlos': True, 'Badenes': True, 'Olmedo1': True, 'David': True, ...</td>\n",
              "      <td>{'Drugs4Covid': 24, 'make': 2, 'drug': 71, 'information': 11, 'available': 12, 'scientific': 14, 'publication': 9, 'Carlos': 1, 'Badenes': 10, 'Olmedo1': 1, 'David': 1, 'Chaves': 1, 'Fraga1': 1, '...</td>\n",
              "    </tr>\n",
              "    <tr>\n",
              "      <th>3</th>\n",
              "      <td>Distributing Text Mining tasks with librAIry</td>\n",
              "      <td>Distributing Text Mining tasks with librAIry Carlos Badenes-Olmedo cbadenes@f.upm.es Universidad Polit´ecnica de Madrid Ontology Engineering Group Boadilla del Monte, Spain Jos´e Luis Redondo-Garc...</td>\n",
              "      <td>2448</td>\n",
              "      <td>[distribute, text, mining, task, librAIry, Carlos, Badenes, Olmedo, cbadenes@f.upm.es, Universidad, Polit´ecnica, de, Madrid, Ontology, Engineering, Group, Boadilla, del, Monte, Spain, jos´e, Luis...</td>\n",
              "      <td>1484</td>\n",
              "      <td>39.379085</td>\n",
              "      <td>742</td>\n",
              "      <td>50.000000</td>\n",
              "      <td>{'distribute': True, 'text': True, 'mining': True, 'task': True, 'librAIry': True, 'Carlos': True, 'Badenes': True, 'Olmedo': True, 'cbadenes@f.upm.es': True, 'Universidad': True, 'Polit´ecnica': ...</td>\n",
              "      <td>{'distribute': 8, 'text': 13, 'mining': 4, 'task': 6, 'librAIry': 6, 'Carlos': 1, 'Badenes': 2, 'Olmedo': 2, 'cbadenes@f.upm.es': 1, 'Universidad': 4, 'Polit´ecnica': 4, 'de': 4, 'Madrid': 4, 'Ont...</td>\n",
              "    </tr>\n",
              "    <tr>\n",
              "      <th>4</th>\n",
              "      <td>Large-Scale Semantic Exploration of Scientific Literature using Topic-based Hashing Algorithms</td>\n",
              "      <td>Semantic Web 0 (0) 1 1 IOS Press Large-Scale Semantic Exploration of Scientific Literature using Topic-based Hashing Algorithms Editor(s): Tomi Kauppinen, Aalto University, Finland; Daniel Garijo,...</td>\n",
              "      <td>9041</td>\n",
              "      <td>[semantic, web, IOS, Press, large, scale, semantic, Exploration, Scientific, Literature, Topic, base, Hashing, Algorithms, Editor(s, Tomi, Kauppinen, Aalto, University, Finland, Daniel, Garijo, Un...</td>\n",
              "      <td>5825</td>\n",
              "      <td>35.571286</td>\n",
              "      <td>1839</td>\n",
              "      <td>68.429185</td>\n",
              "      <td>{'semantic': True, 'web': True, 'IOS': True, 'Press': True, 'large': True, 'scale': True, 'Exploration': True, 'Scientific': True, 'Literature': True, 'Topic': True, 'base': True, 'Hashing': True,...</td>\n",
              "      <td>{'semantic': 13, 'web': 4, 'IOS': 2, 'Press': 8, 'large': 12, 'scale': 7, 'Exploration': 1, 'Scientific': 1, 'Literature': 1, 'Topic': 26, 'base': 130, 'Hashing': 26, 'Algorithms': 6, 'Editor(s': ...</td>\n",
              "    </tr>\n",
              "    <tr>\n",
              "      <th>5</th>\n",
              "      <td>An initial Analysis of Topic-based Similarity among Scientific Documents based on their Rhetorical Discourse Parts</td>\n",
              "      <td>An initial Analysis of Topic-based Similarity among Scientific Documents based on their Rhetorical Discourse Parts Carlos Badenes-Olmedo1, Jos´e Luis Redondo-Garc´ıa2, and Oscar Corcho1 1 Universi...</td>\n",
              "      <td>2641</td>\n",
              "      <td>[initial, Analysis, Topic, base, Similarity, scientific, document, base, Rhetorical, Discourse, Parts, Carlos, Badenes, Olmedo1, Jos´e, Luis, Redondo, Garc´ıa2, Oscar, Corcho1, Universidad, Polit´...</td>\n",
              "      <td>1438</td>\n",
              "      <td>45.550928</td>\n",
              "      <td>590</td>\n",
              "      <td>58.970793</td>\n",
              "      <td>{'initial': True, 'Analysis': True, 'Topic': True, 'base': True, 'Similarity': True, 'scientific': True, 'document': True, 'Rhetorical': True, 'Discourse': True, 'Parts': True, 'Carlos': True, 'Ba...</td>\n",
              "      <td>{'initial': 2, 'Analysis': 2, 'Topic': 4, 'base': 22, 'Similarity': 1, 'scientific': 10, 'document': 14, 'Rhetorical': 2, 'Discourse': 2, 'Parts': 2, 'Carlos': 1, 'Badenes': 1, 'Olmedo1': 1, 'Jos´...</td>\n",
              "    </tr>\n",
              "    <tr>\n",
              "      <th>6</th>\n",
              "      <td>Efficient Clustering from Distributions over Topics</td>\n",
              "      <td>Efficient Clustering from Distributions over Topics Carlos Badenes-Olmedo cbadenes@￿.upm.es Ontology Engineering Group Universidad Polit´ecnica de Madrid Boadilla del Monte, Spain Jos´e Luis Redon...</td>\n",
              "      <td>5346</td>\n",
              "      <td>[efficient, clustering, distribution, Topics, Carlos, Badenes, Olmedo, cbadenes@￿.upm.es, Ontology, Engineering, Group, Universidad, Polit´ecnica, de, Madrid, Boadilla, del, Monte, Spain, jos´e, L...</td>\n",
              "      <td>3083</td>\n",
              "      <td>42.330715</td>\n",
              "      <td>1013</td>\n",
              "      <td>67.142394</td>\n",
              "      <td>{'efficient': True, 'clustering': True, 'distribution': True, 'Topics': True, 'Carlos': True, 'Badenes': True, 'Olmedo': True, 'cbadenes@￿.upm.es': True, 'Ontology': True, 'Engineering': True, 'Gr...</td>\n",
              "      <td>{'efficient': 1, 'clustering': 6, 'distribution': 61, 'Topics': 4, 'Carlos': 1, 'Badenes': 4, 'Olmedo': 4, 'cbadenes@￿.upm.es': 1, 'Ontology': 2, 'Engineering': 2, 'Group': 2, 'Universidad': 2, 'P...</td>\n",
              "    </tr>\n",
              "    <tr>\n",
              "      <th>7</th>\n",
              "      <td>Legal Documents Retrieval Across Languages: Topic Hierarchies based on synsets</td>\n",
              "      <td>Cross-lingual annotations of legislative texts enable us to explore major themes covered in multi- lingual legal data and are a key facilitator of semantic similarity when searching for similar do...</td>\n",
              "      <td>1445</td>\n",
              "      <td>[cross, lingual, annotation, legislative, text, enable, explore, major, theme, cover, multi-, lingual, legal, datum, key, facilitator, semantic, similarity, search, similar, document, multilingual...</td>\n",
              "      <td>790</td>\n",
              "      <td>45.328720</td>\n",
              "      <td>364</td>\n",
              "      <td>53.924051</td>\n",
              "      <td>{'cross': True, 'lingual': True, 'annotation': True, 'legislative': True, 'text': True, 'enable': True, 'explore': True, 'major': True, 'theme': True, 'cover': True, 'multi-': True, 'legal': True,...</td>\n",
              "      <td>{'cross': 6, 'lingual': 16, 'annotation': 6, 'legislative': 2, 'text': 6, 'enable': 1, 'explore': 1, 'major': 1, 'theme': 5, 'cover': 1, 'multi-': 2, 'legal': 2, 'datum': 5, 'key': 1, 'facilitator...</td>\n",
              "    </tr>\n",
              "    <tr>\n",
              "      <th>8</th>\n",
              "      <td>Scalable Cross-lingual Document Similarity through Language-specific Concept Hierarchies</td>\n",
              "      <td>Scalable Cross-lingual Document Similarity through Language-specific Concept Hierarchies Carlos Badenes-Olmedo cbadenes@fi.upm.es Ontology Engineering Group, Universidad Politécnica de Madrid Boad...</td>\n",
              "      <td>4602</td>\n",
              "      <td>[Scalable, Cross, lingual, document, Similarity, language, specific, Concept, Hierarchies, Carlos, Badenes, Olmedo, cbadenes@fi.upm.es, Ontology, Engineering, Group, Universidad, Politécnica, de, ...</td>\n",
              "      <td>3027</td>\n",
              "      <td>34.224250</td>\n",
              "      <td>1100</td>\n",
              "      <td>63.660390</td>\n",
              "      <td>{'Scalable': True, 'Cross': True, 'lingual': True, 'document': True, 'Similarity': True, 'language': True, 'specific': True, 'Concept': True, 'Hierarchies': True, 'Carlos': True, 'Badenes': True, ...</td>\n",
              "      <td>{'Scalable': 4, 'Cross': 7, 'lingual': 50, 'document': 86, 'Similarity': 4, 'language': 43, 'specific': 9, 'Concept': 3, 'Hierarchies': 3, 'Carlos': 2, 'Badenes': 5, 'Olmedo': 5, 'cbadenes@fi.upm....</td>\n",
              "    </tr>\n",
              "    <tr>\n",
              "      <th>9</th>\n",
              "      <td>Potentially inappropriate medications in older adults living with HIV</td>\n",
              "      <td>Potentially inappropriate medications in older adults living with HIV B L�opez-Centeno,1,* C Badenes-Olmedo,2 A Mataix-Sanjuan,1 JM Bell�on,3 L P�erez-Latorre,3 JC L�opez,3 J Bened�ı,4,* S Khoo,5 ...</td>\n",
              "      <td>3087</td>\n",
              "      <td>[potentially, inappropriate, medication, old, adult, live, HIV, opez, Centeno,1, Badenes, Olmedo,2, Mataix, Sanjuan,1, JM, Bell, on,3, erez, Latorre,3, JC, opez,3, Bened, ı,4, khoo,5, Marzolini,6,...</td>\n",
              "      <td>2163</td>\n",
              "      <td>29.931973</td>\n",
              "      <td>1056</td>\n",
              "      <td>51.178918</td>\n",
              "      <td>{'potentially': True, 'inappropriate': True, 'medication': True, 'old': True, 'adult': True, 'live': True, 'HIV': True, 'opez': True, 'Centeno,1': True, 'Badenes': True, 'Olmedo,2': True, 'Mataix'...</td>\n",
              "      <td>{'potentially': 10, 'inappropriate': 20, 'medication': 35, 'old': 42, 'adult': 10, 'live': 5, 'HIV': 23, 'opez': 2, 'Centeno,1': 1, 'Badenes': 2, 'Olmedo,2': 1, 'Mataix': 2, 'Sanjuan,1': 1, 'JM': ...</td>\n",
              "    </tr>\n",
              "    <tr>\n",
              "      <th>10</th>\n",
              "      <td>Semantic Saturation in Retrospective Text Document  Collections</td>\n",
              "      <td>Semantic Saturation in Retrospective Text Document  Collections      Victoria Kosa​1​, Eugene Yuschenko​2​, Carlos Badenes​3​, Vadim Ermolayev​1​,   and Aliaksandr Birukou​4    1​ Department of Co...</td>\n",
              "      <td>7700</td>\n",
              "      <td>[semantic, Saturation, Retrospective, Text, document, Collections,      , Victoria, Kosa​1​, Eugene, Yuschenko​2​, Carlos, Badenes​3​, Vadim, Ermolayev​1​,   , Aliaksandr, Birukou​4,    , 1​, Depa...</td>\n",
              "      <td>1761</td>\n",
              "      <td>77.129870</td>\n",
              "      <td>620</td>\n",
              "      <td>64.792731</td>\n",
              "      <td>{'semantic': True, 'Saturation': True, 'Retrospective': True, 'Text': True, 'document': True, 'Collections': True, '     ': True, 'Victoria': True, 'Kosa​1​': True, 'Eugene': True, 'Yuschenko​2​':...</td>\n",
              "      <td>{'semantic': 6, 'Saturation': 2, 'Retrospective': 1, 'Text': 1, 'document': 37, 'Collections': 1, '     ': 2, 'Victoria': 1, 'Kosa​1​': 1, 'Eugene': 1, 'Yuschenko​2​': 1, 'Carlos': 1, 'Badenes​3​'...</td>\n",
              "    </tr>\n",
              "  </tbody>\n",
              "</table>\n",
              "</div>"
            ],
            "text/plain": [
              "                                                                                                                   title  ...                                                                                                                                                                                                       tf\n",
              "0                                       Cross-Evaluation of Term Extraction Tools by Measuring Terminological Saturation  ...  {'synopsis': 1, 'Refinements': 1, 'Extensions': 1, 'compare': 21, 'publication': 3, 'Conference': 1, 'Proceedings': 1, 'submission': 2, 'refined': 2, 'extended': 1, 'paper': 44, 'base': 43, 'ICTER...\n",
              "1   Enhancing Public Procurement in the European Union through Constructing and Exploiting an Integrated Knowledge Graph  ...  {'enhance': 9, 'Public': 9, 'Procurement': 9, 'European': 5, 'Union': 3, 'Constructing': 1, 'exploit': 1, 'Integrated': 8, 'Knowledge': 11, 'Graph': 11, 'Ahmet': 1, 'Soylu1': 1, 'Oscar': 1, 'Corch...\n",
              "2                                            Drugs4Covid: Making drug information available from scientific publications  ...  {'Drugs4Covid': 24, 'make': 2, 'drug': 71, 'information': 11, 'available': 12, 'scientific': 14, 'publication': 9, 'Carlos': 1, 'Badenes': 10, 'Olmedo1': 1, 'David': 1, 'Chaves': 1, 'Fraga1': 1, '...\n",
              "3                                                                           Distributing Text Mining tasks with librAIry  ...  {'distribute': 8, 'text': 13, 'mining': 4, 'task': 6, 'librAIry': 6, 'Carlos': 1, 'Badenes': 2, 'Olmedo': 2, 'cbadenes@f.upm.es': 1, 'Universidad': 4, 'Polit´ecnica': 4, 'de': 4, 'Madrid': 4, 'Ont...\n",
              "4                         Large-Scale Semantic Exploration of Scientific Literature using Topic-based Hashing Algorithms  ...  {'semantic': 13, 'web': 4, 'IOS': 2, 'Press': 8, 'large': 12, 'scale': 7, 'Exploration': 1, 'Scientific': 1, 'Literature': 1, 'Topic': 26, 'base': 130, 'Hashing': 26, 'Algorithms': 6, 'Editor(s': ...\n",
              "5     An initial Analysis of Topic-based Similarity among Scientific Documents based on their Rhetorical Discourse Parts  ...  {'initial': 2, 'Analysis': 2, 'Topic': 4, 'base': 22, 'Similarity': 1, 'scientific': 10, 'document': 14, 'Rhetorical': 2, 'Discourse': 2, 'Parts': 2, 'Carlos': 1, 'Badenes': 1, 'Olmedo1': 1, 'Jos´...\n",
              "6                                                                    Efficient Clustering from Distributions over Topics  ...  {'efficient': 1, 'clustering': 6, 'distribution': 61, 'Topics': 4, 'Carlos': 1, 'Badenes': 4, 'Olmedo': 4, 'cbadenes@￿.upm.es': 1, 'Ontology': 2, 'Engineering': 2, 'Group': 2, 'Universidad': 2, 'P...\n",
              "7                                         Legal Documents Retrieval Across Languages: Topic Hierarchies based on synsets  ...  {'cross': 6, 'lingual': 16, 'annotation': 6, 'legislative': 2, 'text': 6, 'enable': 1, 'explore': 1, 'major': 1, 'theme': 5, 'cover': 1, 'multi-': 2, 'legal': 2, 'datum': 5, 'key': 1, 'facilitator...\n",
              "8                               Scalable Cross-lingual Document Similarity through Language-specific Concept Hierarchies  ...  {'Scalable': 4, 'Cross': 7, 'lingual': 50, 'document': 86, 'Similarity': 4, 'language': 43, 'specific': 9, 'Concept': 3, 'Hierarchies': 3, 'Carlos': 2, 'Badenes': 5, 'Olmedo': 5, 'cbadenes@fi.upm....\n",
              "9                                                  Potentially inappropriate medications in older adults living with HIV  ...  {'potentially': 10, 'inappropriate': 20, 'medication': 35, 'old': 42, 'adult': 10, 'live': 5, 'HIV': 23, 'opez': 2, 'Centeno,1': 1, 'Badenes': 2, 'Olmedo,2': 1, 'Mataix': 2, 'Sanjuan,1': 1, 'JM': ...\n",
              "10                                                       Semantic Saturation in Retrospective Text Document  Collections  ...  {'semantic': 6, 'Saturation': 2, 'Retrospective': 1, 'Text': 1, 'document': 37, 'Collections': 1, '     ': 2, 'Victoria': 1, 'Kosa​1​': 1, 'Eugene': 1, 'Yuschenko​2​': 1, 'Carlos': 1, 'Badenes​3​'...\n",
              "\n",
              "[11 rows x 10 columns]"
            ]
          },
          "metadata": {
            "tags": []
          },
          "execution_count": 10
        }
      ]
    },
    {
      "cell_type": "code",
      "metadata": {
        "colab": {
          "base_uri": "https://localhost:8080/"
        },
        "id": "hiwx62ZSm_iN",
        "outputId": "50bef2a9-10b9-4c67-d5a5-29b5cc60c900"
      },
      "source": [
        "import gensim\n",
        "\n",
        "id2word = gensim.corpora.Dictionary(corpus_df['tokens'])\n",
        "vectors = [\n",
        "    id2word.doc2bow(doc) for doc in corpus_df['tokens']\n",
        "]\n",
        "print(vectors[0])"
      ],
      "execution_count": 11,
      "outputs": [
        {
          "output_type": "stream",
          "text": [
            "[(0, 101), (1, 19), (2, 8), (3, 10), (4, 5), (5, 3), (6, 3), (7, 4), (8, 1), (9, 1), (10, 1), (11, 1), (12, 1), (13, 3), (14, 2), (15, 1), (16, 1), (17, 1), (18, 1), (19, 1), (20, 1), (21, 1), (22, 1), (23, 1), (24, 1), (25, 3), (26, 1), (27, 2), (28, 1), (29, 1), (30, 3), (31, 2), (32, 2), (33, 1), (34, 1), (35, 1), (36, 1), (37, 1), (38, 1), (39, 1), (40, 2), (41, 1), (42, 1), (43, 2), (44, 2), (45, 1), (46, 1), (47, 2), (48, 1), (49, 1), (50, 2), (51, 1), (52, 2), (53, 2), (54, 1), (55, 3), (56, 2), (57, 1), (58, 1), (59, 1), (60, 7), (61, 1), (62, 1), (63, 1), (64, 1), (65, 1), (66, 1), (67, 6), (68, 2), (69, 1), (70, 1), (71, 6), (72, 2), (73, 2), (74, 1), (75, 5), (76, 2), (77, 1), (78, 1), (79, 3), (80, 1), (81, 4), (82, 4), (83, 1), (84, 4), (85, 3), (86, 1), (87, 1), (88, 1), (89, 1), (90, 1), (91, 1), (92, 1), (93, 4), (94, 5), (95, 1), (96, 1), (97, 3), (98, 2), (99, 3), (100, 2), (101, 1), (102, 1), (103, 2), (104, 4), (105, 21), (106, 1), (107, 2), (108, 2), (109, 1), (110, 1), (111, 2), (112, 3), (113, 2), (114, 1), (115, 4), (116, 2), (117, 1), (118, 1), (119, 3), (120, 1), (121, 1), (122, 3), (123, 1), (124, 1), (125, 3), (126, 1), (127, 3), (128, 1), (129, 1), (130, 1), (131, 1), (132, 2), (133, 1), (134, 2), (135, 1), (136, 1), (137, 2), (138, 1), (139, 2), (140, 2), (141, 1), (142, 1), (143, 1), (144, 2), (145, 1), (146, 1), (147, 1), (148, 1), (149, 1), (150, 1), (151, 1), (152, 1), (153, 1), (154, 2), (155, 1), (156, 1), (157, 4), (158, 3), (159, 2), (160, 1), (161, 1), (162, 1), (163, 1), (164, 1), (165, 1), (166, 1), (167, 1), (168, 1), (169, 1), (170, 1), (171, 3), (172, 1), (173, 1), (174, 1), (175, 1), (176, 1), (177, 1), (178, 2), (179, 4), (180, 2), (181, 1), (182, 1), (183, 20), (184, 1), (185, 3), (186, 4), (187, 1), (188, 1), (189, 1), (190, 1), (191, 1), (192, 1), (193, 1), (194, 1), (195, 1), (196, 1), (197, 1), (198, 1), (199, 1), (200, 1), (201, 1), (202, 1), (203, 1), (204, 2), (205, 2), (206, 1), (207, 2), (208, 3), (209, 7), (210, 4), (211, 4), (212, 1), (213, 2), (214, 2), (215, 1), (216, 1), (217, 1), (218, 2), (219, 1), (220, 1), (221, 1), (222, 1), (223, 1), (224, 3), (225, 2), (226, 1), (227, 1), (228, 4), (229, 1), (230, 1), (231, 1), (232, 1), (233, 1), (234, 1), (235, 1), (236, 1), (237, 1), (238, 1), (239, 1), (240, 1), (241, 1), (242, 1), (243, 1), (244, 1), (245, 1), (246, 1), (247, 1), (248, 1), (249, 1), (250, 1), (251, 1), (252, 1), (253, 1), (254, 1), (255, 1), (256, 5), (257, 1), (258, 1), (259, 2), (260, 1), (261, 1), (262, 3), (263, 1), (264, 1), (265, 1), (266, 1), (267, 1), (268, 1), (269, 5), (270, 4), (271, 1), (272, 1), (273, 1), (274, 1), (275, 1), (276, 1), (277, 1), (278, 1), (279, 1), (280, 6), (281, 5), (282, 1), (283, 3), (284, 1), (285, 1), (286, 1), (287, 1), (288, 1), (289, 1), (290, 2), (291, 16), (292, 26), (293, 1), (294, 4), (295, 1), (296, 1), (297, 1), (298, 1), (299, 2), (300, 1), (301, 2), (302, 1), (303, 1), (304, 2), (305, 1), (306, 1), (307, 1), (308, 1), (309, 1), (310, 2), (311, 2), (312, 2), (313, 3), (314, 2), (315, 1), (316, 2), (317, 1), (318, 3), (319, 2), (320, 3), (321, 1), (322, 1), (323, 3), (324, 1), (325, 2), (326, 2), (327, 1), (328, 1), (329, 1), (330, 5), (331, 53), (332, 1), (333, 2), (334, 3), (335, 1), (336, 1), (337, 47), (338, 1), (339, 2), (340, 1), (341, 1), (342, 1), (343, 1), (344, 2), (345, 1), (346, 4), (347, 1), (348, 5), (349, 2), (350, 1), (351, 1), (352, 1), (353, 1), (354, 1), (355, 4), (356, 1), (357, 1), (358, 1), (359, 1), (360, 2), (361, 4), (362, 4), (363, 6), (364, 1), (365, 1), (366, 1), (367, 1), (368, 2), (369, 1), (370, 1), (371, 2), (372, 1), (373, 2), (374, 1), (375, 4), (376, 4), (377, 1), (378, 1), (379, 2), (380, 2), (381, 3), (382, 2), (383, 1), (384, 1), (385, 1), (386, 1), (387, 1), (388, 6), (389, 2), (390, 1), (391, 1), (392, 4), (393, 1), (394, 1), (395, 1), (396, 1), (397, 4), (398, 1), (399, 1), (400, 1), (401, 1), (402, 1), (403, 1), (404, 1), (405, 2), (406, 1), (407, 1), (408, 3), (409, 1), (410, 2), (411, 1), (412, 1), (413, 1), (414, 1), (415, 1), (416, 1), (417, 1), (418, 1), (419, 1), (420, 1), (421, 1), (422, 1), (423, 1), (424, 2), (425, 1), (426, 2), (427, 3), (428, 1), (429, 1), (430, 1), (431, 1), (432, 1), (433, 1), (434, 21), (435, 2), (436, 2), (437, 1), (438, 1), (439, 1), (440, 1), (441, 2), (442, 1), (443, 1), (444, 2), (445, 15), (446, 3), (447, 1), (448, 2), (449, 1), (450, 1), (451, 1), (452, 2), (453, 1), (454, 1), (455, 1), (456, 1), (457, 2), (458, 1), (459, 1), (460, 1), (461, 2), (462, 1), (463, 2), (464, 1), (465, 5), (466, 1), (467, 1), (468, 5), (469, 1), (470, 1), (471, 4), (472, 1), (473, 1), (474, 2), (475, 2), (476, 1), (477, 1), (478, 2), (479, 1), (480, 1), (481, 1), (482, 1), (483, 1), (484, 1), (485, 1), (486, 1), (487, 1), (488, 1), (489, 1), (490, 1), (491, 1), (492, 1), (493, 1), (494, 1), (495, 2), (496, 2), (497, 1), (498, 6), (499, 1), (500, 7), (501, 1), (502, 2), (503, 1), (504, 1), (505, 3), (506, 1), (507, 2), (508, 1), (509, 1), (510, 1), (511, 1), (512, 1), (513, 1), (514, 3), (515, 1), (516, 6), (517, 1), (518, 1), (519, 1), (520, 1), (521, 1), (522, 1), (523, 1), (524, 2), (525, 1), (526, 1), (527, 1), (528, 13), (529, 13), (530, 1), (531, 5), (532, 2), (533, 1), (534, 1), (535, 2), (536, 68), (537, 41), (538, 1), (539, 5), (540, 5), (541, 1), (542, 6), (543, 7), (544, 1), (545, 3), (546, 1), (547, 2), (548, 1), (549, 1), (550, 1), (551, 1), (552, 1), (553, 1), (554, 2), (555, 73), (556, 1), (557, 4), (558, 1), (559, 2), (560, 3), (561, 4), (562, 1), (563, 2), (564, 1), (565, 1), (566, 1), (567, 1), (568, 1), (569, 1), (570, 5), (571, 1), (572, 2), (573, 1), (574, 1), (575, 1), (576, 1), (577, 4), (578, 1), (579, 1), (580, 1), (581, 1), (582, 2), (583, 6), (584, 1), (585, 1), (586, 1), (587, 1), (588, 1), (589, 1), (590, 1), (591, 1), (592, 1), (593, 1), (594, 4), (595, 3), (596, 1), (597, 1), (598, 3), (599, 1), (600, 4), (601, 8), (602, 3), (603, 1), (604, 2), (605, 2), (606, 1), (607, 1), (608, 1), (609, 1), (610, 1), (611, 1), (612, 3), (613, 1), (614, 13), (615, 4), (616, 3), (617, 6), (618, 9), (619, 8), (620, 3), (621, 2), (622, 9), (623, 16), (624, 2), (625, 2), (626, 1), (627, 1), (628, 2), (629, 1), (630, 4), (631, 6), (632, 9), (633, 2), (634, 1), (635, 1), (636, 1), (637, 1), (638, 1), (639, 1), (640, 4), (641, 8), (642, 1), (643, 5), (644, 4), (645, 1), (646, 15), (647, 3), (648, 2), (649, 5), (650, 2), (651, 83), (652, 43), (653, 2), (654, 3), (655, 2), (656, 4), (657, 3), (658, 1), (659, 2), (660, 1), (661, 5), (662, 1), (663, 7), (664, 1), (665, 1), (666, 4), (667, 1), (668, 1), (669, 1), (670, 2), (671, 2), (672, 2), (673, 1), (674, 2), (675, 3), (676, 2), (677, 2), (678, 7), (679, 2), (680, 1), (681, 43), (682, 3), (683, 1), (684, 1), (685, 1), (686, 1), (687, 1), (688, 12), (689, 6), (690, 12), (691, 3), (692, 1), (693, 1), (694, 7), (695, 1), (696, 1), (697, 1), (698, 1), (699, 13), (700, 1), (701, 4), (702, 2), (703, 4), (704, 1), (705, 1), (706, 2), (707, 3), (708, 3), (709, 104), (710, 1), (711, 1), (712, 2), (713, 1), (714, 3), (715, 2), (716, 3), (717, 1), (718, 6), (719, 1), (720, 1), (721, 1), (722, 1), (723, 7), (724, 1), (725, 2), (726, 21), (727, 12), (728, 1), (729, 1), (730, 1), (731, 2), (732, 1), (733, 1), (734, 1), (735, 2), (736, 5), (737, 4), (738, 1), (739, 1), (740, 2), (741, 7), (742, 1), (743, 3), (744, 2), (745, 3), (746, 2), (747, 2), (748, 1), (749, 7), (750, 1), (751, 1), (752, 1), (753, 9), (754, 4), (755, 2), (756, 1), (757, 1), (758, 5), (759, 1), (760, 1), (761, 2), (762, 2), (763, 3), (764, 2), (765, 1), (766, 3), (767, 1), (768, 2), (769, 3), (770, 4), (771, 2), (772, 1), (773, 2), (774, 1), (775, 5), (776, 1), (777, 2), (778, 1), (779, 1), (780, 15), (781, 2), (782, 2), (783, 1), (784, 1), (785, 1), (786, 4), (787, 18), (788, 5), (789, 1), (790, 3), (791, 2), (792, 3), (793, 1), (794, 1), (795, 64), (796, 2), (797, 2), (798, 10), (799, 1), (800, 7), (801, 4), (802, 1), (803, 1), (804, 1), (805, 1), (806, 1), (807, 2), (808, 1), (809, 1), (810, 1), (811, 1), (812, 2), (813, 1), (814, 1), (815, 2), (816, 1), (817, 7), (818, 2), (819, 3), (820, 4), (821, 5), (822, 1), (823, 10), (824, 2), (825, 2), (826, 12), (827, 1), (828, 6), (829, 1), (830, 2), (831, 7), (832, 1), (833, 28), (834, 18), (835, 1), (836, 1), (837, 2), (838, 1), (839, 3), (840, 1), (841, 1), (842, 1), (843, 1), (844, 4), (845, 1), (846, 2), (847, 73), (848, 5), (849, 35), (850, 4), (851, 1), (852, 1), (853, 1), (854, 1), (855, 1), (856, 4), (857, 1), (858, 1), (859, 3), (860, 10), (861, 2), (862, 1), (863, 1), (864, 6), (865, 1), (866, 1), (867, 1), (868, 2), (869, 1), (870, 4), (871, 3), (872, 2), (873, 3), (874, 1), (875, 3), (876, 1), (877, 5), (878, 1), (879, 21), (880, 1), (881, 1), (882, 26), (883, 7), (884, 1), (885, 1), (886, 1), (887, 2), (888, 1), (889, 1), (890, 2), (891, 1), (892, 1), (893, 3), (894, 17), (895, 1), (896, 12), (897, 1), (898, 1), (899, 10), (900, 2), (901, 1), (902, 4), (903, 4), (904, 1), (905, 1), (906, 8), (907, 1), (908, 1), (909, 1), (910, 29), (911, 15), (912, 2), (913, 7), (914, 1), (915, 1), (916, 1), (917, 1), (918, 1), (919, 83), (920, 1), (921, 35), (922, 2), (923, 15), (924, 1), (925, 1), (926, 7), (927, 1), (928, 2), (929, 2), (930, 4), (931, 1), (932, 1), (933, 1), (934, 1), (935, 3), (936, 1), (937, 1), (938, 1), (939, 1), (940, 1), (941, 2), (942, 2), (943, 3), (944, 3), (945, 1), (946, 1), (947, 3), (948, 6), (949, 2), (950, 1), (951, 1), (952, 1), (953, 1), (954, 1), (955, 1), (956, 8), (957, 12), (958, 3), (959, 1), (960, 6), (961, 9), (962, 1), (963, 1), (964, 3), (965, 3), (966, 4), (967, 7), (968, 1), (969, 3), (970, 1), (971, 3), (972, 1), (973, 19), (974, 3), (975, 4), (976, 1), (977, 2), (978, 1), (979, 10), (980, 3), (981, 2), (982, 4), (983, 1), (984, 2), (985, 2), (986, 5), (987, 2), (988, 1), (989, 1), (990, 4), (991, 7), (992, 2), (993, 4), (994, 1), (995, 1), (996, 3), (997, 28), (998, 1), (999, 1), (1000, 4), (1001, 5), (1002, 1), (1003, 1), (1004, 1), (1005, 1), (1006, 1), (1007, 1), (1008, 1), (1009, 2), (1010, 1), (1011, 1), (1012, 1), (1013, 1), (1014, 1), (1015, 1), (1016, 1), (1017, 1), (1018, 1), (1019, 1), (1020, 2), (1021, 1), (1022, 3), (1023, 1), (1024, 3), (1025, 2), (1026, 1), (1027, 1), (1028, 8), (1029, 6), (1030, 1), (1031, 1), (1032, 2), (1033, 8), (1034, 4), (1035, 1), (1036, 1), (1037, 1), (1038, 8), (1039, 3), (1040, 1), (1041, 2), (1042, 2), (1043, 11), (1044, 12), (1045, 1), (1046, 15), (1047, 2), (1048, 4), (1049, 1), (1050, 3), (1051, 1), (1052, 7), (1053, 1), (1054, 3), (1055, 1), (1056, 1), (1057, 3), (1058, 1), (1059, 6), (1060, 1), (1061, 23), (1062, 1), (1063, 1), (1064, 7), (1065, 1), (1066, 4), (1067, 6), (1068, 1), (1069, 1), (1070, 1), (1071, 4), (1072, 1), (1073, 1), (1074, 1), (1075, 1), (1076, 1), (1077, 1), (1078, 3), (1079, 6), (1080, 1), (1081, 2), (1082, 1), (1083, 4), (1084, 1), (1085, 1), (1086, 2), (1087, 1), (1088, 1), (1089, 5), (1090, 1), (1091, 1), (1092, 5), (1093, 2), (1094, 1), (1095, 1), (1096, 7), (1097, 5), (1098, 2), (1099, 3), (1100, 1), (1101, 2), (1102, 1), (1103, 1), (1104, 1), (1105, 3), (1106, 1), (1107, 2), (1108, 1), (1109, 2), (1110, 2), (1111, 2), (1112, 3), (1113, 2), (1114, 2), (1115, 4), (1116, 3), (1117, 8), (1118, 1), (1119, 1), (1120, 4), (1121, 4), (1122, 1), (1123, 2), (1124, 10), (1125, 1), (1126, 1), (1127, 2), (1128, 20), (1129, 1), (1130, 6), (1131, 1), (1132, 2), (1133, 6), (1134, 1), (1135, 5), (1136, 1), (1137, 7), (1138, 12), (1139, 2), (1140, 1), (1141, 1), (1142, 2), (1143, 1), (1144, 1), (1145, 1), (1146, 2), (1147, 2), (1148, 47), (1149, 1), (1150, 42), (1151, 1), (1152, 2), (1153, 6), (1154, 1), (1155, 3), (1156, 1), (1157, 34), (1158, 1), (1159, 4), (1160, 12), (1161, 4), (1162, 2), (1163, 1), (1164, 1), (1165, 1), (1166, 2), (1167, 1), (1168, 1), (1169, 2), (1170, 1), (1171, 1), (1172, 15), (1173, 1), (1174, 1), (1175, 1), (1176, 1), (1177, 1), (1178, 1), (1179, 1), (1180, 1), (1181, 1), (1182, 1), (1183, 5), (1184, 1), (1185, 1), (1186, 11), (1187, 1), (1188, 1), (1189, 2), (1190, 1), (1191, 9), (1192, 1), (1193, 1), (1194, 1), (1195, 1), (1196, 18), (1197, 2), (1198, 1), (1199, 11), (1200, 1), (1201, 2), (1202, 2), (1203, 2), (1204, 3), (1205, 2), (1206, 1), (1207, 4), (1208, 1), (1209, 5), (1210, 1), (1211, 4), (1212, 1), (1213, 1), (1214, 26), (1215, 2), (1216, 2), (1217, 3), (1218, 14), (1219, 4), (1220, 1), (1221, 3), (1222, 2), (1223, 7), (1224, 2), (1225, 1), (1226, 1), (1227, 2), (1228, 1), (1229, 10), (1230, 1), (1231, 1), (1232, 1), (1233, 1), (1234, 1), (1235, 8), (1236, 1), (1237, 1), (1238, 1), (1239, 1), (1240, 1), (1241, 3), (1242, 1), (1243, 1), (1244, 7), (1245, 1), (1246, 8), (1247, 1), (1248, 2), (1249, 9), (1250, 44), (1251, 1), (1252, 1), (1253, 1), (1254, 1), (1255, 4), (1256, 2), (1257, 1), (1258, 1), (1259, 1), (1260, 5), (1261, 1), (1262, 1), (1263, 7), (1264, 15), (1265, 2), (1266, 1), (1267, 1), (1268, 8), (1269, 3), (1270, 1), (1271, 1), (1272, 2), (1273, 1), (1274, 15), (1275, 4), (1276, 2), (1277, 2), (1278, 14), (1279, 1), (1280, 3), (1281, 15), (1282, 3), (1283, 1), (1284, 1), (1285, 2), (1286, 18), (1287, 1), (1288, 1), (1289, 1), (1290, 1), (1291, 6), (1292, 3), (1293, 7), (1294, 1), (1295, 2), (1296, 2), (1297, 4), (1298, 6), (1299, 3), (1300, 2), (1301, 1), (1302, 1), (1303, 1), (1304, 1), (1305, 1), (1306, 1), (1307, 18), (1308, 1), (1309, 1), (1310, 6), (1311, 1), (1312, 1), (1313, 1), (1314, 2), (1315, 2), (1316, 1), (1317, 2), (1318, 1), (1319, 3), (1320, 10), (1321, 1), (1322, 9), (1323, 2), (1324, 9), (1325, 1), (1326, 2), (1327, 13), (1328, 1), (1329, 3), (1330, 1), (1331, 3), (1332, 5), (1333, 4), (1334, 3), (1335, 3), (1336, 1), (1337, 1), (1338, 1), (1339, 1), (1340, 6), (1341, 1), (1342, 1), (1343, 1), (1344, 4), (1345, 5), (1346, 6), (1347, 1), (1348, 2), (1349, 2), (1350, 1), (1351, 1), (1352, 10), (1353, 8), (1354, 10), (1355, 1), (1356, 1), (1357, 15), (1358, 2), (1359, 4), (1360, 1), (1361, 1), (1362, 3), (1363, 3), (1364, 1), (1365, 1), (1366, 1), (1367, 1), (1368, 3), (1369, 1), (1370, 1), (1371, 1), (1372, 4), (1373, 2), (1374, 2), (1375, 1), (1376, 1), (1377, 3), (1378, 1), (1379, 2), (1380, 2), (1381, 4), (1382, 2), (1383, 1), (1384, 1), (1385, 2), (1386, 17), (1387, 4), (1388, 14), (1389, 1), (1390, 4), (1391, 7), (1392, 5), (1393, 3), (1394, 3), (1395, 4), (1396, 12), (1397, 3), (1398, 1), (1399, 1), (1400, 3), (1401, 1), (1402, 71), (1403, 5), (1404, 23), (1405, 2), (1406, 2), (1407, 8), (1408, 7), (1409, 1), (1410, 5), (1411, 1), (1412, 2), (1413, 1), (1414, 1), (1415, 1), (1416, 2), (1417, 1), (1418, 1), (1419, 2), (1420, 1), (1421, 9), (1422, 11), (1423, 1), (1424, 107), (1425, 3), (1426, 1), (1427, 2), (1428, 1), (1429, 24), (1430, 1), (1431, 1), (1432, 5), (1433, 22), (1434, 1), (1435, 2), (1436, 1), (1437, 8), (1438, 4), (1439, 2), (1440, 1), (1441, 2), (1442, 1), (1443, 1), (1444, 3), (1445, 1), (1446, 1), (1447, 2), (1448, 1), (1449, 1), (1450, 1), (1451, 9), (1452, 1), (1453, 2), (1454, 6), (1455, 26), (1456, 4), (1457, 1), (1458, 1), (1459, 1), (1460, 1), (1461, 6), (1462, 2), (1463, 4), (1464, 2), (1465, 27), (1466, 17), (1467, 8), (1468, 1), (1469, 1), (1470, 22), (1471, 1), (1472, 1), (1473, 7), (1474, 1), (1475, 4), (1476, 1), (1477, 1), (1478, 2), (1479, 1), (1480, 10), (1481, 1), (1482, 2), (1483, 3), (1484, 3), (1485, 1), (1486, 3), (1487, 1), (1488, 3), (1489, 28), (1490, 1), (1491, 1), (1492, 1), (1493, 8), (1494, 1), (1495, 1), (1496, 3), (1497, 1), (1498, 3), (1499, 1), (1500, 1), (1501, 2), (1502, 6), (1503, 1), (1504, 6), (1505, 1), (1506, 5), (1507, 2), (1508, 1), (1509, 11), (1510, 10), (1511, 1), (1512, 6), (1513, 11), (1514, 26), (1515, 2), (1516, 1), (1517, 1), (1518, 1), (1519, 1), (1520, 2), (1521, 1), (1522, 1), (1523, 1), (1524, 1), (1525, 3), (1526, 10), (1527, 1), (1528, 1), (1529, 2), (1530, 4), (1531, 8), (1532, 2), (1533, 4), (1534, 6), (1535, 1), (1536, 1), (1537, 1), (1538, 3), (1539, 1), (1540, 8), (1541, 3), (1542, 1), (1543, 2), (1544, 1), (1545, 11), (1546, 1), (1547, 1), (1548, 1), (1549, 1), (1550, 1), (1551, 8), (1552, 8), (1553, 1), (1554, 1), (1555, 1), (1556, 1), (1557, 1), (1558, 11), (1559, 2), (1560, 1), (1561, 1), (1562, 1), (1563, 1), (1564, 1), (1565, 1), (1566, 1), (1567, 1), (1568, 1), (1569, 1), (1570, 2), (1571, 1), (1572, 249), (1573, 1), (1574, 3), (1575, 1), (1576, 1), (1577, 1), (1578, 2), (1579, 40), (1580, 5), (1581, 7), (1582, 1), (1583, 1), (1584, 52), (1585, 1), (1586, 3), (1587, 57), (1588, 32), (1589, 3), (1590, 1), (1591, 1), (1592, 1), (1593, 22), (1594, 1), (1595, 1), (1596, 1), (1597, 1), (1598, 34), (1599, 1), (1600, 2), (1601, 22), (1602, 1), (1603, 49), (1604, 1), (1605, 4), (1606, 1), (1607, 3), (1608, 1), (1609, 1), (1610, 2), (1611, 1), (1612, 3), (1613, 1), (1614, 1), (1615, 2), (1616, 1), (1617, 1), (1618, 1), (1619, 1), (1620, 1), (1621, 1), (1622, 1), (1623, 1), (1624, 1), (1625, 1), (1626, 1), (1627, 2), (1628, 6), (1629, 1), (1630, 1), (1631, 2), (1632, 15), (1633, 2), (1634, 1), (1635, 1), (1636, 2), (1637, 93), (1638, 1), (1639, 1), (1640, 1), (1641, 1), (1642, 1), (1643, 1), (1644, 11), (1645, 1), (1646, 5), (1647, 1), (1648, 2), (1649, 1), (1650, 1), (1651, 1), (1652, 3), (1653, 7), (1654, 1), (1655, 3), (1656, 10), (1657, 1), (1658, 3), (1659, 3), (1660, 6), (1661, 1), (1662, 1), (1663, 3), (1664, 2), (1665, 2), (1666, 1), (1667, 1), (1668, 1), (1669, 1), (1670, 1), (1671, 9), (1672, 8), (1673, 13), (1674, 1), (1675, 1), (1676, 3), (1677, 8), (1678, 1), (1679, 2), (1680, 2), (1681, 1), (1682, 1), (1683, 1), (1684, 1), (1685, 1), (1686, 1), (1687, 1)]\n"
          ],
          "name": "stdout"
        }
      ]
    },
    {
      "cell_type": "markdown",
      "metadata": {
        "id": "bIPr9j43m2Pw"
      },
      "source": [
        "# References\n",
        "\n",
        "\n",
        "\n",
        "* [Text Vectorization and Transformation Pipelines](https://www.oreilly.com/library/view/applied-text-analysis/9781491963036/ch04.html)\n",
        "*   List item\n",
        "\n"
      ]
    }
  ]
}